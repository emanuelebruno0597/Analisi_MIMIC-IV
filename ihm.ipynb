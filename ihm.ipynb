{
 "cells": [
  {
   "cell_type": "code",
   "execution_count": 167,
   "id": "1cfebcf6",
   "metadata": {},
   "outputs": [],
   "source": [
    "import numpy as np\n",
    "import matplotlib.pyplot as plt\n",
    "import pandas as pd\n",
    "import os\n",
    "import seaborn as sns\n",
    "import random\n",
    "\n",
    "import warnings\n",
    "warnings.filterwarnings('ignore')\n"
   ]
  },
  {
   "cell_type": "code",
   "execution_count": 168,
   "id": "907f6c07",
   "metadata": {},
   "outputs": [],
   "source": [
    "df_admpat = pd.read_csv(\"admpat.csv\")\n",
    "df_diag = pd.read_csv(\"diag.csv\")"
   ]
  },
  {
   "cell_type": "code",
   "execution_count": 169,
   "id": "3bbdcce7",
   "metadata": {},
   "outputs": [
    {
     "data": {
      "text/html": [
       "<div>\n",
       "<style scoped>\n",
       "    .dataframe tbody tr th:only-of-type {\n",
       "        vertical-align: middle;\n",
       "    }\n",
       "\n",
       "    .dataframe tbody tr th {\n",
       "        vertical-align: top;\n",
       "    }\n",
       "\n",
       "    .dataframe thead th {\n",
       "        text-align: right;\n",
       "    }\n",
       "</style>\n",
       "<table border=\"1\" class=\"dataframe\">\n",
       "  <thead>\n",
       "    <tr style=\"text-align: right;\">\n",
       "      <th></th>\n",
       "      <th>subject_id</th>\n",
       "      <th>hadm_id</th>\n",
       "      <th>admittime</th>\n",
       "      <th>dischtime</th>\n",
       "      <th>admission_type</th>\n",
       "      <th>admission_location</th>\n",
       "      <th>discharge_location</th>\n",
       "      <th>insurance</th>\n",
       "      <th>language</th>\n",
       "      <th>marital_status</th>\n",
       "      <th>ethnicity</th>\n",
       "      <th>hospital_expire_flag</th>\n",
       "      <th>gender</th>\n",
       "      <th>age</th>\n",
       "      <th>riad 30d</th>\n",
       "      <th>riad 90d</th>\n",
       "      <th>riad 365d</th>\n",
       "      <th>riad +365d</th>\n",
       "    </tr>\n",
       "  </thead>\n",
       "  <tbody>\n",
       "    <tr>\n",
       "      <th>0</th>\n",
       "      <td>10000019</td>\n",
       "      <td>25058216</td>\n",
       "      <td>2129-05-21 19:16:00</td>\n",
       "      <td>2129-05-23 18:30:00</td>\n",
       "      <td>ELECTIVE</td>\n",
       "      <td>NaN</td>\n",
       "      <td>HOME</td>\n",
       "      <td>Other</td>\n",
       "      <td>ENGLISH</td>\n",
       "      <td>NaN</td>\n",
       "      <td>WHITE</td>\n",
       "      <td>0</td>\n",
       "      <td>1</td>\n",
       "      <td>0</td>\n",
       "      <td>0</td>\n",
       "      <td>0</td>\n",
       "      <td>0</td>\n",
       "      <td>0</td>\n",
       "    </tr>\n",
       "    <tr>\n",
       "      <th>1</th>\n",
       "      <td>10000032</td>\n",
       "      <td>22595853</td>\n",
       "      <td>2180-05-06 22:23:00</td>\n",
       "      <td>2180-05-07 17:15:00</td>\n",
       "      <td>URGENT</td>\n",
       "      <td>TRANSFER FROM HOSPITAL</td>\n",
       "      <td>HOME</td>\n",
       "      <td>Other</td>\n",
       "      <td>ENGLISH</td>\n",
       "      <td>WIDOWED</td>\n",
       "      <td>WHITE</td>\n",
       "      <td>0</td>\n",
       "      <td>0</td>\n",
       "      <td>52</td>\n",
       "      <td>0</td>\n",
       "      <td>1</td>\n",
       "      <td>0</td>\n",
       "      <td>0</td>\n",
       "    </tr>\n",
       "    <tr>\n",
       "      <th>2</th>\n",
       "      <td>10000032</td>\n",
       "      <td>22841357</td>\n",
       "      <td>2180-06-26 18:27:00</td>\n",
       "      <td>2180-06-27 18:49:00</td>\n",
       "      <td>EW EMER.</td>\n",
       "      <td>EMERGENCY ROOM</td>\n",
       "      <td>HOME</td>\n",
       "      <td>Medicaid</td>\n",
       "      <td>ENGLISH</td>\n",
       "      <td>WIDOWED</td>\n",
       "      <td>WHITE</td>\n",
       "      <td>0</td>\n",
       "      <td>0</td>\n",
       "      <td>52</td>\n",
       "      <td>1</td>\n",
       "      <td>0</td>\n",
       "      <td>0</td>\n",
       "      <td>0</td>\n",
       "    </tr>\n",
       "    <tr>\n",
       "      <th>3</th>\n",
       "      <td>10000032</td>\n",
       "      <td>29079034</td>\n",
       "      <td>2180-07-23 12:35:00</td>\n",
       "      <td>2180-07-25 17:55:00</td>\n",
       "      <td>EW EMER.</td>\n",
       "      <td>EMERGENCY ROOM</td>\n",
       "      <td>HOME</td>\n",
       "      <td>Medicaid</td>\n",
       "      <td>ENGLISH</td>\n",
       "      <td>WIDOWED</td>\n",
       "      <td>WHITE</td>\n",
       "      <td>0</td>\n",
       "      <td>0</td>\n",
       "      <td>52</td>\n",
       "      <td>1</td>\n",
       "      <td>0</td>\n",
       "      <td>0</td>\n",
       "      <td>0</td>\n",
       "    </tr>\n",
       "    <tr>\n",
       "      <th>4</th>\n",
       "      <td>10000032</td>\n",
       "      <td>25742920</td>\n",
       "      <td>2180-08-05 23:44:00</td>\n",
       "      <td>2180-08-07 17:50:00</td>\n",
       "      <td>EW EMER.</td>\n",
       "      <td>EMERGENCY ROOM</td>\n",
       "      <td>HOSPICE</td>\n",
       "      <td>Medicaid</td>\n",
       "      <td>ENGLISH</td>\n",
       "      <td>WIDOWED</td>\n",
       "      <td>WHITE</td>\n",
       "      <td>0</td>\n",
       "      <td>0</td>\n",
       "      <td>52</td>\n",
       "      <td>0</td>\n",
       "      <td>0</td>\n",
       "      <td>0</td>\n",
       "      <td>0</td>\n",
       "    </tr>\n",
       "    <tr>\n",
       "      <th>...</th>\n",
       "      <td>...</td>\n",
       "      <td>...</td>\n",
       "      <td>...</td>\n",
       "      <td>...</td>\n",
       "      <td>...</td>\n",
       "      <td>...</td>\n",
       "      <td>...</td>\n",
       "      <td>...</td>\n",
       "      <td>...</td>\n",
       "      <td>...</td>\n",
       "      <td>...</td>\n",
       "      <td>...</td>\n",
       "      <td>...</td>\n",
       "      <td>...</td>\n",
       "      <td>...</td>\n",
       "      <td>...</td>\n",
       "      <td>...</td>\n",
       "      <td>...</td>\n",
       "    </tr>\n",
       "    <tr>\n",
       "      <th>523735</th>\n",
       "      <td>19999828</td>\n",
       "      <td>29734428</td>\n",
       "      <td>2147-07-18 16:23:00</td>\n",
       "      <td>2147-08-04 18:10:00</td>\n",
       "      <td>EW EMER.</td>\n",
       "      <td>PHYSICIAN REFERRAL</td>\n",
       "      <td>HOME HEALTH CARE</td>\n",
       "      <td>Other</td>\n",
       "      <td>ENGLISH</td>\n",
       "      <td>SINGLE</td>\n",
       "      <td>WHITE</td>\n",
       "      <td>0</td>\n",
       "      <td>0</td>\n",
       "      <td>46</td>\n",
       "      <td>0</td>\n",
       "      <td>0</td>\n",
       "      <td>0</td>\n",
       "      <td>1</td>\n",
       "    </tr>\n",
       "    <tr>\n",
       "      <th>523736</th>\n",
       "      <td>19999828</td>\n",
       "      <td>25744818</td>\n",
       "      <td>2149-01-08 16:44:00</td>\n",
       "      <td>2149-01-18 17:00:00</td>\n",
       "      <td>EW EMER.</td>\n",
       "      <td>TRANSFER FROM HOSPITAL</td>\n",
       "      <td>HOME HEALTH CARE</td>\n",
       "      <td>Other</td>\n",
       "      <td>ENGLISH</td>\n",
       "      <td>SINGLE</td>\n",
       "      <td>WHITE</td>\n",
       "      <td>0</td>\n",
       "      <td>0</td>\n",
       "      <td>48</td>\n",
       "      <td>0</td>\n",
       "      <td>0</td>\n",
       "      <td>0</td>\n",
       "      <td>0</td>\n",
       "    </tr>\n",
       "    <tr>\n",
       "      <th>523737</th>\n",
       "      <td>19999840</td>\n",
       "      <td>26071774</td>\n",
       "      <td>2164-07-25 00:27:00</td>\n",
       "      <td>2164-07-28 12:15:00</td>\n",
       "      <td>EW EMER.</td>\n",
       "      <td>EMERGENCY ROOM</td>\n",
       "      <td>HOME</td>\n",
       "      <td>Other</td>\n",
       "      <td>ENGLISH</td>\n",
       "      <td>WIDOWED</td>\n",
       "      <td>WHITE</td>\n",
       "      <td>0</td>\n",
       "      <td>1</td>\n",
       "      <td>58</td>\n",
       "      <td>0</td>\n",
       "      <td>1</td>\n",
       "      <td>0</td>\n",
       "      <td>0</td>\n",
       "    </tr>\n",
       "    <tr>\n",
       "      <th>523738</th>\n",
       "      <td>19999840</td>\n",
       "      <td>21033226</td>\n",
       "      <td>2164-09-10 13:47:00</td>\n",
       "      <td>2164-09-17 13:42:00</td>\n",
       "      <td>EW EMER.</td>\n",
       "      <td>EMERGENCY ROOM</td>\n",
       "      <td>DIED</td>\n",
       "      <td>Other</td>\n",
       "      <td>ENGLISH</td>\n",
       "      <td>WIDOWED</td>\n",
       "      <td>WHITE</td>\n",
       "      <td>1</td>\n",
       "      <td>1</td>\n",
       "      <td>58</td>\n",
       "      <td>0</td>\n",
       "      <td>0</td>\n",
       "      <td>0</td>\n",
       "      <td>0</td>\n",
       "    </tr>\n",
       "    <tr>\n",
       "      <th>523739</th>\n",
       "      <td>19999987</td>\n",
       "      <td>23865745</td>\n",
       "      <td>2145-11-02 21:38:00</td>\n",
       "      <td>2145-11-11 12:57:00</td>\n",
       "      <td>EW EMER.</td>\n",
       "      <td>EMERGENCY ROOM</td>\n",
       "      <td>REHAB</td>\n",
       "      <td>Other</td>\n",
       "      <td>ENGLISH</td>\n",
       "      <td>NaN</td>\n",
       "      <td>UNKNOWN</td>\n",
       "      <td>0</td>\n",
       "      <td>0</td>\n",
       "      <td>57</td>\n",
       "      <td>0</td>\n",
       "      <td>0</td>\n",
       "      <td>0</td>\n",
       "      <td>0</td>\n",
       "    </tr>\n",
       "  </tbody>\n",
       "</table>\n",
       "<p>523740 rows × 18 columns</p>\n",
       "</div>"
      ],
      "text/plain": [
       "        subject_id   hadm_id            admittime            dischtime  \\\n",
       "0         10000019  25058216  2129-05-21 19:16:00  2129-05-23 18:30:00   \n",
       "1         10000032  22595853  2180-05-06 22:23:00  2180-05-07 17:15:00   \n",
       "2         10000032  22841357  2180-06-26 18:27:00  2180-06-27 18:49:00   \n",
       "3         10000032  29079034  2180-07-23 12:35:00  2180-07-25 17:55:00   \n",
       "4         10000032  25742920  2180-08-05 23:44:00  2180-08-07 17:50:00   \n",
       "...            ...       ...                  ...                  ...   \n",
       "523735    19999828  29734428  2147-07-18 16:23:00  2147-08-04 18:10:00   \n",
       "523736    19999828  25744818  2149-01-08 16:44:00  2149-01-18 17:00:00   \n",
       "523737    19999840  26071774  2164-07-25 00:27:00  2164-07-28 12:15:00   \n",
       "523738    19999840  21033226  2164-09-10 13:47:00  2164-09-17 13:42:00   \n",
       "523739    19999987  23865745  2145-11-02 21:38:00  2145-11-11 12:57:00   \n",
       "\n",
       "       admission_type      admission_location discharge_location insurance  \\\n",
       "0            ELECTIVE                     NaN               HOME     Other   \n",
       "1              URGENT  TRANSFER FROM HOSPITAL               HOME     Other   \n",
       "2            EW EMER.          EMERGENCY ROOM               HOME  Medicaid   \n",
       "3            EW EMER.          EMERGENCY ROOM               HOME  Medicaid   \n",
       "4            EW EMER.          EMERGENCY ROOM            HOSPICE  Medicaid   \n",
       "...               ...                     ...                ...       ...   \n",
       "523735       EW EMER.      PHYSICIAN REFERRAL   HOME HEALTH CARE     Other   \n",
       "523736       EW EMER.  TRANSFER FROM HOSPITAL   HOME HEALTH CARE     Other   \n",
       "523737       EW EMER.          EMERGENCY ROOM               HOME     Other   \n",
       "523738       EW EMER.          EMERGENCY ROOM               DIED     Other   \n",
       "523739       EW EMER.          EMERGENCY ROOM              REHAB     Other   \n",
       "\n",
       "       language marital_status ethnicity  hospital_expire_flag  gender  age  \\\n",
       "0       ENGLISH            NaN     WHITE                     0       1    0   \n",
       "1       ENGLISH        WIDOWED     WHITE                     0       0   52   \n",
       "2       ENGLISH        WIDOWED     WHITE                     0       0   52   \n",
       "3       ENGLISH        WIDOWED     WHITE                     0       0   52   \n",
       "4       ENGLISH        WIDOWED     WHITE                     0       0   52   \n",
       "...         ...            ...       ...                   ...     ...  ...   \n",
       "523735  ENGLISH         SINGLE     WHITE                     0       0   46   \n",
       "523736  ENGLISH         SINGLE     WHITE                     0       0   48   \n",
       "523737  ENGLISH        WIDOWED     WHITE                     0       1   58   \n",
       "523738  ENGLISH        WIDOWED     WHITE                     1       1   58   \n",
       "523739  ENGLISH            NaN   UNKNOWN                     0       0   57   \n",
       "\n",
       "        riad 30d  riad 90d  riad 365d  riad +365d  \n",
       "0              0         0          0           0  \n",
       "1              0         1          0           0  \n",
       "2              1         0          0           0  \n",
       "3              1         0          0           0  \n",
       "4              0         0          0           0  \n",
       "...          ...       ...        ...         ...  \n",
       "523735         0         0          0           1  \n",
       "523736         0         0          0           0  \n",
       "523737         0         1          0           0  \n",
       "523738         0         0          0           0  \n",
       "523739         0         0          0           0  \n",
       "\n",
       "[523740 rows x 18 columns]"
      ]
     },
     "execution_count": 169,
     "metadata": {},
     "output_type": "execute_result"
    }
   ],
   "source": [
    "df_admpat"
   ]
  },
  {
   "cell_type": "code",
   "execution_count": 170,
   "id": "a513d097",
   "metadata": {},
   "outputs": [
    {
     "data": {
      "text/html": [
       "<div>\n",
       "<style scoped>\n",
       "    .dataframe tbody tr th:only-of-type {\n",
       "        vertical-align: middle;\n",
       "    }\n",
       "\n",
       "    .dataframe tbody tr th {\n",
       "        vertical-align: top;\n",
       "    }\n",
       "\n",
       "    .dataframe thead th {\n",
       "        text-align: right;\n",
       "    }\n",
       "</style>\n",
       "<table border=\"1\" class=\"dataframe\">\n",
       "  <thead>\n",
       "    <tr style=\"text-align: right;\">\n",
       "      <th></th>\n",
       "      <th>hadm_id</th>\n",
       "      <th>icd_D_blood</th>\n",
       "      <th>icd_D_health_status</th>\n",
       "      <th>icd_D_pregnancy</th>\n",
       "      <th>icd_D_abnormal</th>\n",
       "      <th>icd_D_chromosomal</th>\n",
       "      <th>icd_D_infectious_parasitic</th>\n",
       "      <th>icd_D_musculoskeletal</th>\n",
       "      <th>icd_D_nervous_system</th>\n",
       "      <th>icd_D_neoplasms</th>\n",
       "      <th>...</th>\n",
       "      <th>icd_D_circulatory</th>\n",
       "      <th>icd_D_skin</th>\n",
       "      <th>icd_D_mental</th>\n",
       "      <th>icd_D_morbidity_mortality_external</th>\n",
       "      <th>icd_D_ear</th>\n",
       "      <th>icd_D_eye</th>\n",
       "      <th>icd_D_injury_poisoning_external</th>\n",
       "      <th>icd_D_perinatal</th>\n",
       "      <th>seq_max</th>\n",
       "      <th>seq_mean</th>\n",
       "    </tr>\n",
       "  </thead>\n",
       "  <tbody>\n",
       "    <tr>\n",
       "      <th>0</th>\n",
       "      <td>20000019</td>\n",
       "      <td>1</td>\n",
       "      <td>1</td>\n",
       "      <td>0</td>\n",
       "      <td>0</td>\n",
       "      <td>1</td>\n",
       "      <td>2</td>\n",
       "      <td>0</td>\n",
       "      <td>0</td>\n",
       "      <td>0</td>\n",
       "      <td>...</td>\n",
       "      <td>1</td>\n",
       "      <td>0</td>\n",
       "      <td>0</td>\n",
       "      <td>0</td>\n",
       "      <td>0</td>\n",
       "      <td>0</td>\n",
       "      <td>0</td>\n",
       "      <td>0</td>\n",
       "      <td>12</td>\n",
       "      <td>6.5</td>\n",
       "    </tr>\n",
       "    <tr>\n",
       "      <th>1</th>\n",
       "      <td>20000024</td>\n",
       "      <td>1</td>\n",
       "      <td>1</td>\n",
       "      <td>0</td>\n",
       "      <td>1</td>\n",
       "      <td>0</td>\n",
       "      <td>0</td>\n",
       "      <td>1</td>\n",
       "      <td>0</td>\n",
       "      <td>0</td>\n",
       "      <td>...</td>\n",
       "      <td>1</td>\n",
       "      <td>0</td>\n",
       "      <td>0</td>\n",
       "      <td>1</td>\n",
       "      <td>0</td>\n",
       "      <td>1</td>\n",
       "      <td>1</td>\n",
       "      <td>0</td>\n",
       "      <td>10</td>\n",
       "      <td>5.5</td>\n",
       "    </tr>\n",
       "    <tr>\n",
       "      <th>2</th>\n",
       "      <td>20000034</td>\n",
       "      <td>1</td>\n",
       "      <td>6</td>\n",
       "      <td>0</td>\n",
       "      <td>5</td>\n",
       "      <td>0</td>\n",
       "      <td>0</td>\n",
       "      <td>1</td>\n",
       "      <td>1</td>\n",
       "      <td>0</td>\n",
       "      <td>...</td>\n",
       "      <td>1</td>\n",
       "      <td>0</td>\n",
       "      <td>1</td>\n",
       "      <td>0</td>\n",
       "      <td>0</td>\n",
       "      <td>0</td>\n",
       "      <td>0</td>\n",
       "      <td>0</td>\n",
       "      <td>28</td>\n",
       "      <td>14.5</td>\n",
       "    </tr>\n",
       "    <tr>\n",
       "      <th>3</th>\n",
       "      <td>20000041</td>\n",
       "      <td>0</td>\n",
       "      <td>4</td>\n",
       "      <td>0</td>\n",
       "      <td>0</td>\n",
       "      <td>0</td>\n",
       "      <td>0</td>\n",
       "      <td>1</td>\n",
       "      <td>0</td>\n",
       "      <td>0</td>\n",
       "      <td>...</td>\n",
       "      <td>1</td>\n",
       "      <td>0</td>\n",
       "      <td>0</td>\n",
       "      <td>0</td>\n",
       "      <td>0</td>\n",
       "      <td>0</td>\n",
       "      <td>0</td>\n",
       "      <td>0</td>\n",
       "      <td>10</td>\n",
       "      <td>5.5</td>\n",
       "    </tr>\n",
       "    <tr>\n",
       "      <th>4</th>\n",
       "      <td>20000055</td>\n",
       "      <td>0</td>\n",
       "      <td>2</td>\n",
       "      <td>0</td>\n",
       "      <td>0</td>\n",
       "      <td>0</td>\n",
       "      <td>0</td>\n",
       "      <td>0</td>\n",
       "      <td>0</td>\n",
       "      <td>0</td>\n",
       "      <td>...</td>\n",
       "      <td>0</td>\n",
       "      <td>0</td>\n",
       "      <td>0</td>\n",
       "      <td>0</td>\n",
       "      <td>0</td>\n",
       "      <td>0</td>\n",
       "      <td>0</td>\n",
       "      <td>0</td>\n",
       "      <td>2</td>\n",
       "      <td>1.5</td>\n",
       "    </tr>\n",
       "    <tr>\n",
       "      <th>...</th>\n",
       "      <td>...</td>\n",
       "      <td>...</td>\n",
       "      <td>...</td>\n",
       "      <td>...</td>\n",
       "      <td>...</td>\n",
       "      <td>...</td>\n",
       "      <td>...</td>\n",
       "      <td>...</td>\n",
       "      <td>...</td>\n",
       "      <td>...</td>\n",
       "      <td>...</td>\n",
       "      <td>...</td>\n",
       "      <td>...</td>\n",
       "      <td>...</td>\n",
       "      <td>...</td>\n",
       "      <td>...</td>\n",
       "      <td>...</td>\n",
       "      <td>...</td>\n",
       "      <td>...</td>\n",
       "      <td>...</td>\n",
       "      <td>...</td>\n",
       "    </tr>\n",
       "    <tr>\n",
       "      <th>521106</th>\n",
       "      <td>29999745</td>\n",
       "      <td>0</td>\n",
       "      <td>2</td>\n",
       "      <td>0</td>\n",
       "      <td>0</td>\n",
       "      <td>0</td>\n",
       "      <td>0</td>\n",
       "      <td>0</td>\n",
       "      <td>0</td>\n",
       "      <td>0</td>\n",
       "      <td>...</td>\n",
       "      <td>0</td>\n",
       "      <td>0</td>\n",
       "      <td>4</td>\n",
       "      <td>0</td>\n",
       "      <td>0</td>\n",
       "      <td>0</td>\n",
       "      <td>0</td>\n",
       "      <td>0</td>\n",
       "      <td>7</td>\n",
       "      <td>4.0</td>\n",
       "    </tr>\n",
       "    <tr>\n",
       "      <th>521107</th>\n",
       "      <td>29999785</td>\n",
       "      <td>0</td>\n",
       "      <td>4</td>\n",
       "      <td>0</td>\n",
       "      <td>0</td>\n",
       "      <td>0</td>\n",
       "      <td>0</td>\n",
       "      <td>0</td>\n",
       "      <td>0</td>\n",
       "      <td>0</td>\n",
       "      <td>...</td>\n",
       "      <td>0</td>\n",
       "      <td>1</td>\n",
       "      <td>0</td>\n",
       "      <td>0</td>\n",
       "      <td>0</td>\n",
       "      <td>0</td>\n",
       "      <td>0</td>\n",
       "      <td>0</td>\n",
       "      <td>5</td>\n",
       "      <td>3.0</td>\n",
       "    </tr>\n",
       "    <tr>\n",
       "      <th>521108</th>\n",
       "      <td>29999809</td>\n",
       "      <td>0</td>\n",
       "      <td>2</td>\n",
       "      <td>0</td>\n",
       "      <td>0</td>\n",
       "      <td>0</td>\n",
       "      <td>2</td>\n",
       "      <td>0</td>\n",
       "      <td>0</td>\n",
       "      <td>0</td>\n",
       "      <td>...</td>\n",
       "      <td>3</td>\n",
       "      <td>0</td>\n",
       "      <td>1</td>\n",
       "      <td>0</td>\n",
       "      <td>0</td>\n",
       "      <td>0</td>\n",
       "      <td>0</td>\n",
       "      <td>0</td>\n",
       "      <td>15</td>\n",
       "      <td>8.0</td>\n",
       "    </tr>\n",
       "    <tr>\n",
       "      <th>521109</th>\n",
       "      <td>29999828</td>\n",
       "      <td>0</td>\n",
       "      <td>1</td>\n",
       "      <td>0</td>\n",
       "      <td>1</td>\n",
       "      <td>0</td>\n",
       "      <td>0</td>\n",
       "      <td>0</td>\n",
       "      <td>0</td>\n",
       "      <td>0</td>\n",
       "      <td>...</td>\n",
       "      <td>1</td>\n",
       "      <td>0</td>\n",
       "      <td>0</td>\n",
       "      <td>0</td>\n",
       "      <td>0</td>\n",
       "      <td>0</td>\n",
       "      <td>0</td>\n",
       "      <td>0</td>\n",
       "      <td>8</td>\n",
       "      <td>4.5</td>\n",
       "    </tr>\n",
       "    <tr>\n",
       "      <th>521110</th>\n",
       "      <td>29999928</td>\n",
       "      <td>1</td>\n",
       "      <td>2</td>\n",
       "      <td>0</td>\n",
       "      <td>0</td>\n",
       "      <td>0</td>\n",
       "      <td>0</td>\n",
       "      <td>0</td>\n",
       "      <td>0</td>\n",
       "      <td>0</td>\n",
       "      <td>...</td>\n",
       "      <td>6</td>\n",
       "      <td>0</td>\n",
       "      <td>0</td>\n",
       "      <td>0</td>\n",
       "      <td>0</td>\n",
       "      <td>0</td>\n",
       "      <td>0</td>\n",
       "      <td>0</td>\n",
       "      <td>11</td>\n",
       "      <td>6.0</td>\n",
       "    </tr>\n",
       "  </tbody>\n",
       "</table>\n",
       "<p>521111 rows × 25 columns</p>\n",
       "</div>"
      ],
      "text/plain": [
       "         hadm_id  icd_D_blood  icd_D_health_status  icd_D_pregnancy  \\\n",
       "0       20000019            1                    1                0   \n",
       "1       20000024            1                    1                0   \n",
       "2       20000034            1                    6                0   \n",
       "3       20000041            0                    4                0   \n",
       "4       20000055            0                    2                0   \n",
       "...          ...          ...                  ...              ...   \n",
       "521106  29999745            0                    2                0   \n",
       "521107  29999785            0                    4                0   \n",
       "521108  29999809            0                    2                0   \n",
       "521109  29999828            0                    1                0   \n",
       "521110  29999928            1                    2                0   \n",
       "\n",
       "        icd_D_abnormal  icd_D_chromosomal  icd_D_infectious_parasitic  \\\n",
       "0                    0                  1                           2   \n",
       "1                    1                  0                           0   \n",
       "2                    5                  0                           0   \n",
       "3                    0                  0                           0   \n",
       "4                    0                  0                           0   \n",
       "...                ...                ...                         ...   \n",
       "521106               0                  0                           0   \n",
       "521107               0                  0                           0   \n",
       "521108               0                  0                           2   \n",
       "521109               1                  0                           0   \n",
       "521110               0                  0                           0   \n",
       "\n",
       "        icd_D_musculoskeletal  icd_D_nervous_system  icd_D_neoplasms  ...  \\\n",
       "0                           0                     0                0  ...   \n",
       "1                           1                     0                0  ...   \n",
       "2                           1                     1                0  ...   \n",
       "3                           1                     0                0  ...   \n",
       "4                           0                     0                0  ...   \n",
       "...                       ...                   ...              ...  ...   \n",
       "521106                      0                     0                0  ...   \n",
       "521107                      0                     0                0  ...   \n",
       "521108                      0                     0                0  ...   \n",
       "521109                      0                     0                0  ...   \n",
       "521110                      0                     0                0  ...   \n",
       "\n",
       "        icd_D_circulatory  icd_D_skin  icd_D_mental  \\\n",
       "0                       1           0             0   \n",
       "1                       1           0             0   \n",
       "2                       1           0             1   \n",
       "3                       1           0             0   \n",
       "4                       0           0             0   \n",
       "...                   ...         ...           ...   \n",
       "521106                  0           0             4   \n",
       "521107                  0           1             0   \n",
       "521108                  3           0             1   \n",
       "521109                  1           0             0   \n",
       "521110                  6           0             0   \n",
       "\n",
       "        icd_D_morbidity_mortality_external  icd_D_ear  icd_D_eye  \\\n",
       "0                                        0          0          0   \n",
       "1                                        1          0          1   \n",
       "2                                        0          0          0   \n",
       "3                                        0          0          0   \n",
       "4                                        0          0          0   \n",
       "...                                    ...        ...        ...   \n",
       "521106                                   0          0          0   \n",
       "521107                                   0          0          0   \n",
       "521108                                   0          0          0   \n",
       "521109                                   0          0          0   \n",
       "521110                                   0          0          0   \n",
       "\n",
       "        icd_D_injury_poisoning_external  icd_D_perinatal  seq_max  seq_mean  \n",
       "0                                     0                0       12       6.5  \n",
       "1                                     1                0       10       5.5  \n",
       "2                                     0                0       28      14.5  \n",
       "3                                     0                0       10       5.5  \n",
       "4                                     0                0        2       1.5  \n",
       "...                                 ...              ...      ...       ...  \n",
       "521106                                0                0        7       4.0  \n",
       "521107                                0                0        5       3.0  \n",
       "521108                                0                0       15       8.0  \n",
       "521109                                0                0        8       4.5  \n",
       "521110                                0                0       11       6.0  \n",
       "\n",
       "[521111 rows x 25 columns]"
      ]
     },
     "execution_count": 170,
     "metadata": {},
     "output_type": "execute_result"
    }
   ],
   "source": [
    "df_diag"
   ]
  },
  {
   "cell_type": "markdown",
   "id": "d48fb495",
   "metadata": {},
   "source": [
    "# DATA CLEANING\n",
    "ispezione delle feature categoriche con riduzione categorie ed eliminazione delle feature non utili"
   ]
  },
  {
   "cell_type": "code",
   "execution_count": 171,
   "id": "0932e24b",
   "metadata": {},
   "outputs": [],
   "source": [
    "df = df_admpat.copy()"
   ]
  },
  {
   "cell_type": "code",
   "execution_count": 172,
   "id": "8671d88a",
   "metadata": {},
   "outputs": [
    {
     "data": {
      "text/plain": [
       "subject_id                   0\n",
       "hadm_id                      0\n",
       "admittime                    0\n",
       "dischtime                    0\n",
       "admission_type               0\n",
       "admission_location       60435\n",
       "discharge_location      126657\n",
       "insurance                    0\n",
       "language                     0\n",
       "marital_status           66107\n",
       "ethnicity                    0\n",
       "hospital_expire_flag         0\n",
       "gender                       0\n",
       "age                          0\n",
       "riad 30d                     0\n",
       "riad 90d                     0\n",
       "riad 365d                    0\n",
       "riad +365d                   0\n",
       "dtype: int64"
      ]
     },
     "execution_count": 172,
     "metadata": {},
     "output_type": "execute_result"
    }
   ],
   "source": [
    "df.isnull().sum()"
   ]
  },
  {
   "cell_type": "code",
   "execution_count": 173,
   "id": "72b2fa17",
   "metadata": {},
   "outputs": [],
   "source": [
    "df = df.rename(columns={\"hospital_expire_flag\": \"death\"})  # in hospital mortality feature renamed"
   ]
  },
  {
   "cell_type": "code",
   "execution_count": 174,
   "id": "40879f75",
   "metadata": {},
   "outputs": [],
   "source": [
    "df['admission_location'].fillna('NO DATA', inplace=True)"
   ]
  },
  {
   "cell_type": "code",
   "execution_count": 175,
   "id": "7b037702",
   "metadata": {},
   "outputs": [],
   "source": [
    "df['discharge_location'].fillna('NO DATA', inplace=True)"
   ]
  },
  {
   "cell_type": "code",
   "execution_count": 176,
   "id": "2139d37a",
   "metadata": {},
   "outputs": [
    {
     "data": {
      "text/plain": [
       "MARRIED     195126\n",
       "SINGLE      179992\n",
       "WIDOWED      48806\n",
       "DIVORCED     33709\n",
       "Name: marital_status, dtype: int64"
      ]
     },
     "execution_count": 176,
     "metadata": {},
     "output_type": "execute_result"
    }
   ],
   "source": [
    "df.marital_status.value_counts()"
   ]
  },
  {
   "cell_type": "markdown",
   "id": "6a34e230",
   "metadata": {},
   "source": [
    "replacing the missing values for the feature *marital_status* with random choices between MARRIED and SINGLE"
   ]
  },
  {
   "cell_type": "code",
   "execution_count": 177,
   "id": "5802dfdb",
   "metadata": {},
   "outputs": [],
   "source": [
    "def replace_random_marital(x):\n",
    "    return random.choice([\"MARRIED\", \"SINGLE\"])"
   ]
  },
  {
   "cell_type": "code",
   "execution_count": 178,
   "id": "034ffe30",
   "metadata": {},
   "outputs": [],
   "source": [
    "df[\"marital_status\"] = df[\"marital_status\"].fillna(df[\"marital_status\"].apply(replace_random_marital))"
   ]
  },
  {
   "cell_type": "code",
   "execution_count": 179,
   "id": "33aaac17",
   "metadata": {},
   "outputs": [
    {
     "data": {
      "text/plain": [
       "subject_id            0\n",
       "hadm_id               0\n",
       "admittime             0\n",
       "dischtime             0\n",
       "admission_type        0\n",
       "admission_location    0\n",
       "discharge_location    0\n",
       "insurance             0\n",
       "language              0\n",
       "marital_status        0\n",
       "ethnicity             0\n",
       "death                 0\n",
       "gender                0\n",
       "age                   0\n",
       "riad 30d              0\n",
       "riad 90d              0\n",
       "riad 365d             0\n",
       "riad +365d            0\n",
       "dtype: int64"
      ]
     },
     "execution_count": 179,
     "metadata": {},
     "output_type": "execute_result"
    }
   ],
   "source": [
    "df.isnull().sum()"
   ]
  },
  {
   "cell_type": "code",
   "execution_count": 180,
   "id": "721bb1be",
   "metadata": {},
   "outputs": [
    {
     "data": {
      "text/plain": [
       "WHITE                            337630\n",
       "BLACK/AFRICAN AMERICAN            80293\n",
       "HISPANIC/LATINO                   29823\n",
       "OTHER                             26813\n",
       "ASIAN                             24506\n",
       "UNKNOWN                           19400\n",
       "UNABLE TO OBTAIN                   3740\n",
       "AMERICAN INDIAN/ALASKA NATIVE      1535\n",
       "Name: ethnicity, dtype: int64"
      ]
     },
     "execution_count": 180,
     "metadata": {},
     "output_type": "execute_result"
    }
   ],
   "source": [
    "df.ethnicity.value_counts()"
   ]
  },
  {
   "cell_type": "code",
   "execution_count": 181,
   "id": "88076f5c",
   "metadata": {},
   "outputs": [],
   "source": [
    "df[\"ethnicity\"].replace({\"UNABLE TO OBTAIN\": \"UNKNOWN\"}, inplace=True)"
   ]
  },
  {
   "cell_type": "code",
   "execution_count": 182,
   "id": "73d4bebe",
   "metadata": {},
   "outputs": [
    {
     "data": {
      "text/plain": [
       "WHITE                            337630\n",
       "BLACK/AFRICAN AMERICAN            80293\n",
       "HISPANIC/LATINO                   29823\n",
       "OTHER                             26813\n",
       "ASIAN                             24506\n",
       "UNKNOWN                           23140\n",
       "AMERICAN INDIAN/ALASKA NATIVE      1535\n",
       "Name: ethnicity, dtype: int64"
      ]
     },
     "execution_count": 182,
     "metadata": {},
     "output_type": "execute_result"
    }
   ],
   "source": [
    "df.ethnicity.value_counts()"
   ]
  },
  {
   "cell_type": "code",
   "execution_count": 183,
   "id": "ef4823e4",
   "metadata": {},
   "outputs": [
    {
     "data": {
      "text/plain": [
       "ENGLISH    477556\n",
       "?           46184\n",
       "Name: language, dtype: int64"
      ]
     },
     "execution_count": 183,
     "metadata": {},
     "output_type": "execute_result"
    }
   ],
   "source": [
    "df.language.value_counts()                "
   ]
  },
  {
   "cell_type": "code",
   "execution_count": 184,
   "id": "33d96290",
   "metadata": {},
   "outputs": [],
   "source": [
    "df.drop([\"language\"], axis=1, inplace=True)"
   ]
  },
  {
   "cell_type": "code",
   "execution_count": 185,
   "id": "74549e81",
   "metadata": {},
   "outputs": [],
   "source": [
    "df.drop([\"subject_id\"], axis=1, inplace=True)"
   ]
  },
  {
   "cell_type": "code",
   "execution_count": 186,
   "id": "3fbee2f0",
   "metadata": {},
   "outputs": [],
   "source": [
    "df.drop([\"admittime\", \"dischtime\"], axis=1, inplace=True)"
   ]
  },
  {
   "cell_type": "code",
   "execution_count": 187,
   "id": "bb7426f6",
   "metadata": {},
   "outputs": [],
   "source": [
    "admpat_to_merge = df.copy()"
   ]
  },
  {
   "cell_type": "markdown",
   "id": "60016f77",
   "metadata": {},
   "source": [
    "# EXPLORATORY DATA ANALYSIS\n",
    "(condotta sul dataset relativo alle ammissioni)"
   ]
  },
  {
   "cell_type": "code",
   "execution_count": 188,
   "id": "eab01604",
   "metadata": {},
   "outputs": [],
   "source": [
    "draft = df.copy()"
   ]
  },
  {
   "cell_type": "code",
   "execution_count": 189,
   "id": "8bf7e260",
   "metadata": {},
   "outputs": [
    {
     "name": "stdout",
     "output_type": "stream",
     "text": [
      "<class 'pandas.core.frame.DataFrame'>\n",
      "RangeIndex: 523740 entries, 0 to 523739\n",
      "Data columns (total 14 columns):\n",
      " #   Column              Non-Null Count   Dtype \n",
      "---  ------              --------------   ----- \n",
      " 0   hadm_id             523740 non-null  int64 \n",
      " 1   admission_type      523740 non-null  object\n",
      " 2   admission_location  523740 non-null  object\n",
      " 3   discharge_location  523740 non-null  object\n",
      " 4   insurance           523740 non-null  object\n",
      " 5   marital_status      523740 non-null  object\n",
      " 6   ethnicity           523740 non-null  object\n",
      " 7   death               523740 non-null  int64 \n",
      " 8   gender              523740 non-null  int64 \n",
      " 9   age                 523740 non-null  int64 \n",
      " 10  riad 30d            523740 non-null  int64 \n",
      " 11  riad 90d            523740 non-null  int64 \n",
      " 12  riad 365d           523740 non-null  int64 \n",
      " 13  riad +365d          523740 non-null  int64 \n",
      "dtypes: int64(8), object(6)\n",
      "memory usage: 55.9+ MB\n"
     ]
    }
   ],
   "source": [
    "draft.info()"
   ]
  },
  {
   "cell_type": "markdown",
   "id": "d3b878bd",
   "metadata": {},
   "source": [
    "prime osservazioni:\n",
    "- 523740 righe\n",
    "- presenza di variabili categoriche e numeriche"
   ]
  },
  {
   "cell_type": "code",
   "execution_count": 190,
   "id": "0125e403",
   "metadata": {},
   "outputs": [],
   "source": [
    "draft.drop(\"hadm_id\", axis=1, inplace=True)  # questa feature non serve a fini esplorativi"
   ]
  },
  {
   "cell_type": "code",
   "execution_count": 191,
   "id": "1bb5ca06",
   "metadata": {},
   "outputs": [
    {
     "data": {
      "text/html": [
       "<div>\n",
       "<style scoped>\n",
       "    .dataframe tbody tr th:only-of-type {\n",
       "        vertical-align: middle;\n",
       "    }\n",
       "\n",
       "    .dataframe tbody tr th {\n",
       "        vertical-align: top;\n",
       "    }\n",
       "\n",
       "    .dataframe thead th {\n",
       "        text-align: right;\n",
       "    }\n",
       "</style>\n",
       "<table border=\"1\" class=\"dataframe\">\n",
       "  <thead>\n",
       "    <tr style=\"text-align: right;\">\n",
       "      <th></th>\n",
       "      <th>admission_type</th>\n",
       "      <th>admission_location</th>\n",
       "      <th>discharge_location</th>\n",
       "      <th>insurance</th>\n",
       "      <th>marital_status</th>\n",
       "      <th>ethnicity</th>\n",
       "      <th>death</th>\n",
       "      <th>gender</th>\n",
       "      <th>age</th>\n",
       "      <th>riad 30d</th>\n",
       "      <th>riad 90d</th>\n",
       "      <th>riad 365d</th>\n",
       "      <th>riad +365d</th>\n",
       "    </tr>\n",
       "  </thead>\n",
       "  <tbody>\n",
       "    <tr>\n",
       "      <th>0</th>\n",
       "      <td>ELECTIVE</td>\n",
       "      <td>NO DATA</td>\n",
       "      <td>HOME</td>\n",
       "      <td>Other</td>\n",
       "      <td>MARRIED</td>\n",
       "      <td>WHITE</td>\n",
       "      <td>0</td>\n",
       "      <td>1</td>\n",
       "      <td>0</td>\n",
       "      <td>0</td>\n",
       "      <td>0</td>\n",
       "      <td>0</td>\n",
       "      <td>0</td>\n",
       "    </tr>\n",
       "    <tr>\n",
       "      <th>1</th>\n",
       "      <td>URGENT</td>\n",
       "      <td>TRANSFER FROM HOSPITAL</td>\n",
       "      <td>HOME</td>\n",
       "      <td>Other</td>\n",
       "      <td>WIDOWED</td>\n",
       "      <td>WHITE</td>\n",
       "      <td>0</td>\n",
       "      <td>0</td>\n",
       "      <td>52</td>\n",
       "      <td>0</td>\n",
       "      <td>1</td>\n",
       "      <td>0</td>\n",
       "      <td>0</td>\n",
       "    </tr>\n",
       "    <tr>\n",
       "      <th>2</th>\n",
       "      <td>EW EMER.</td>\n",
       "      <td>EMERGENCY ROOM</td>\n",
       "      <td>HOME</td>\n",
       "      <td>Medicaid</td>\n",
       "      <td>WIDOWED</td>\n",
       "      <td>WHITE</td>\n",
       "      <td>0</td>\n",
       "      <td>0</td>\n",
       "      <td>52</td>\n",
       "      <td>1</td>\n",
       "      <td>0</td>\n",
       "      <td>0</td>\n",
       "      <td>0</td>\n",
       "    </tr>\n",
       "    <tr>\n",
       "      <th>3</th>\n",
       "      <td>EW EMER.</td>\n",
       "      <td>EMERGENCY ROOM</td>\n",
       "      <td>HOME</td>\n",
       "      <td>Medicaid</td>\n",
       "      <td>WIDOWED</td>\n",
       "      <td>WHITE</td>\n",
       "      <td>0</td>\n",
       "      <td>0</td>\n",
       "      <td>52</td>\n",
       "      <td>1</td>\n",
       "      <td>0</td>\n",
       "      <td>0</td>\n",
       "      <td>0</td>\n",
       "    </tr>\n",
       "    <tr>\n",
       "      <th>4</th>\n",
       "      <td>EW EMER.</td>\n",
       "      <td>EMERGENCY ROOM</td>\n",
       "      <td>HOSPICE</td>\n",
       "      <td>Medicaid</td>\n",
       "      <td>WIDOWED</td>\n",
       "      <td>WHITE</td>\n",
       "      <td>0</td>\n",
       "      <td>0</td>\n",
       "      <td>52</td>\n",
       "      <td>0</td>\n",
       "      <td>0</td>\n",
       "      <td>0</td>\n",
       "      <td>0</td>\n",
       "    </tr>\n",
       "    <tr>\n",
       "      <th>...</th>\n",
       "      <td>...</td>\n",
       "      <td>...</td>\n",
       "      <td>...</td>\n",
       "      <td>...</td>\n",
       "      <td>...</td>\n",
       "      <td>...</td>\n",
       "      <td>...</td>\n",
       "      <td>...</td>\n",
       "      <td>...</td>\n",
       "      <td>...</td>\n",
       "      <td>...</td>\n",
       "      <td>...</td>\n",
       "      <td>...</td>\n",
       "    </tr>\n",
       "    <tr>\n",
       "      <th>523735</th>\n",
       "      <td>EW EMER.</td>\n",
       "      <td>PHYSICIAN REFERRAL</td>\n",
       "      <td>HOME HEALTH CARE</td>\n",
       "      <td>Other</td>\n",
       "      <td>SINGLE</td>\n",
       "      <td>WHITE</td>\n",
       "      <td>0</td>\n",
       "      <td>0</td>\n",
       "      <td>46</td>\n",
       "      <td>0</td>\n",
       "      <td>0</td>\n",
       "      <td>0</td>\n",
       "      <td>1</td>\n",
       "    </tr>\n",
       "    <tr>\n",
       "      <th>523736</th>\n",
       "      <td>EW EMER.</td>\n",
       "      <td>TRANSFER FROM HOSPITAL</td>\n",
       "      <td>HOME HEALTH CARE</td>\n",
       "      <td>Other</td>\n",
       "      <td>SINGLE</td>\n",
       "      <td>WHITE</td>\n",
       "      <td>0</td>\n",
       "      <td>0</td>\n",
       "      <td>48</td>\n",
       "      <td>0</td>\n",
       "      <td>0</td>\n",
       "      <td>0</td>\n",
       "      <td>0</td>\n",
       "    </tr>\n",
       "    <tr>\n",
       "      <th>523737</th>\n",
       "      <td>EW EMER.</td>\n",
       "      <td>EMERGENCY ROOM</td>\n",
       "      <td>HOME</td>\n",
       "      <td>Other</td>\n",
       "      <td>WIDOWED</td>\n",
       "      <td>WHITE</td>\n",
       "      <td>0</td>\n",
       "      <td>1</td>\n",
       "      <td>58</td>\n",
       "      <td>0</td>\n",
       "      <td>1</td>\n",
       "      <td>0</td>\n",
       "      <td>0</td>\n",
       "    </tr>\n",
       "    <tr>\n",
       "      <th>523738</th>\n",
       "      <td>EW EMER.</td>\n",
       "      <td>EMERGENCY ROOM</td>\n",
       "      <td>DIED</td>\n",
       "      <td>Other</td>\n",
       "      <td>WIDOWED</td>\n",
       "      <td>WHITE</td>\n",
       "      <td>1</td>\n",
       "      <td>1</td>\n",
       "      <td>58</td>\n",
       "      <td>0</td>\n",
       "      <td>0</td>\n",
       "      <td>0</td>\n",
       "      <td>0</td>\n",
       "    </tr>\n",
       "    <tr>\n",
       "      <th>523739</th>\n",
       "      <td>EW EMER.</td>\n",
       "      <td>EMERGENCY ROOM</td>\n",
       "      <td>REHAB</td>\n",
       "      <td>Other</td>\n",
       "      <td>SINGLE</td>\n",
       "      <td>UNKNOWN</td>\n",
       "      <td>0</td>\n",
       "      <td>0</td>\n",
       "      <td>57</td>\n",
       "      <td>0</td>\n",
       "      <td>0</td>\n",
       "      <td>0</td>\n",
       "      <td>0</td>\n",
       "    </tr>\n",
       "  </tbody>\n",
       "</table>\n",
       "<p>523740 rows × 13 columns</p>\n",
       "</div>"
      ],
      "text/plain": [
       "       admission_type      admission_location discharge_location insurance  \\\n",
       "0            ELECTIVE                 NO DATA               HOME     Other   \n",
       "1              URGENT  TRANSFER FROM HOSPITAL               HOME     Other   \n",
       "2            EW EMER.          EMERGENCY ROOM               HOME  Medicaid   \n",
       "3            EW EMER.          EMERGENCY ROOM               HOME  Medicaid   \n",
       "4            EW EMER.          EMERGENCY ROOM            HOSPICE  Medicaid   \n",
       "...               ...                     ...                ...       ...   \n",
       "523735       EW EMER.      PHYSICIAN REFERRAL   HOME HEALTH CARE     Other   \n",
       "523736       EW EMER.  TRANSFER FROM HOSPITAL   HOME HEALTH CARE     Other   \n",
       "523737       EW EMER.          EMERGENCY ROOM               HOME     Other   \n",
       "523738       EW EMER.          EMERGENCY ROOM               DIED     Other   \n",
       "523739       EW EMER.          EMERGENCY ROOM              REHAB     Other   \n",
       "\n",
       "       marital_status ethnicity  death  gender  age  riad 30d  riad 90d  \\\n",
       "0             MARRIED     WHITE      0       1    0         0         0   \n",
       "1             WIDOWED     WHITE      0       0   52         0         1   \n",
       "2             WIDOWED     WHITE      0       0   52         1         0   \n",
       "3             WIDOWED     WHITE      0       0   52         1         0   \n",
       "4             WIDOWED     WHITE      0       0   52         0         0   \n",
       "...               ...       ...    ...     ...  ...       ...       ...   \n",
       "523735         SINGLE     WHITE      0       0   46         0         0   \n",
       "523736         SINGLE     WHITE      0       0   48         0         0   \n",
       "523737        WIDOWED     WHITE      0       1   58         0         1   \n",
       "523738        WIDOWED     WHITE      1       1   58         0         0   \n",
       "523739         SINGLE   UNKNOWN      0       0   57         0         0   \n",
       "\n",
       "        riad 365d  riad +365d  \n",
       "0               0           0  \n",
       "1               0           0  \n",
       "2               0           0  \n",
       "3               0           0  \n",
       "4               0           0  \n",
       "...           ...         ...  \n",
       "523735          0           1  \n",
       "523736          0           0  \n",
       "523737          0           0  \n",
       "523738          0           0  \n",
       "523739          0           0  \n",
       "\n",
       "[523740 rows x 13 columns]"
      ]
     },
     "execution_count": 191,
     "metadata": {},
     "output_type": "execute_result"
    }
   ],
   "source": [
    "draft"
   ]
  },
  {
   "cell_type": "code",
   "execution_count": 192,
   "id": "aa803409",
   "metadata": {},
   "outputs": [
    {
     "data": {
      "text/plain": [
       "count    523740.0\n",
       "mean         52.0\n",
       "std          26.0\n",
       "min           0.0\n",
       "25%          35.0\n",
       "50%          57.0\n",
       "75%          71.0\n",
       "max         103.0\n",
       "Name: age, dtype: float64"
      ]
     },
     "execution_count": 192,
     "metadata": {},
     "output_type": "execute_result"
    }
   ],
   "source": [
    "round(draft.age.describe())  # statistiche relative alla variabile age"
   ]
  },
  {
   "cell_type": "markdown",
   "id": "ca5777d9",
   "metadata": {},
   "source": [
    "l'età media al momento dell'ammissione è di 52 anni"
   ]
  },
  {
   "cell_type": "code",
   "execution_count": 193,
   "id": "8b6f104c",
   "metadata": {},
   "outputs": [
    {
     "data": {
      "image/png": "[encoded data removed]",
      "text/plain": [
       "<Figure size 1440x1080 with 9 Axes>"
      ]
     },
     "metadata": {
      "needs_background": "light"
     },
     "output_type": "display_data"
    }
   ],
   "source": [
    "%matplotlib inline\n",
    "draft.hist(bins=30, figsize=(20,15))\n",
    "plt.show()"
   ]
  },
  {
   "cell_type": "markdown",
   "id": "d4ae60e1",
   "metadata": {},
   "source": [
    "osservazioni:\n",
    "- il dato riguardante le morti ospedaliere è decisamente sbilanciato\n",
    "- il numero di osservazioni di genere femminile è leggermente superiore\n",
    "- l'età media è influenzata dal grande numero di osservazioni di neonati (età 0)\n",
    "- le riammissioni più frequenti sono quelle entro i 30 giorni"
   ]
  },
  {
   "cell_type": "markdown",
   "id": "4740159f",
   "metadata": {},
   "source": [
    "di seguito mostro come l'età media cambia una volta ignorate tutte le osservazioni di neonati"
   ]
  },
  {
   "cell_type": "code",
   "execution_count": 194,
   "id": "4044a32b",
   "metadata": {},
   "outputs": [],
   "source": [
    "df_without_0age = draft[draft.age != 0]"
   ]
  },
  {
   "cell_type": "code",
   "execution_count": 195,
   "id": "8c8c9674",
   "metadata": {},
   "outputs": [
    {
     "name": "stdout",
     "output_type": "stream",
     "text": [
      "l'età media delle ammissioni una volta ignorati i neonati è di 58 anni\n"
     ]
    }
   ],
   "source": [
    "età_media_nuova = df_without_0age.age.mean()\n",
    "print(\"l'età media delle ammissioni una volta ignorati i neonati è di %d anni\" % età_media_nuova)"
   ]
  },
  {
   "cell_type": "code",
   "execution_count": 196,
   "id": "295c13fe",
   "metadata": {},
   "outputs": [
    {
     "name": "stdout",
     "output_type": "stream",
     "text": [
      "includendo i neonati l'età media del dataset scende a 51\n"
     ]
    }
   ],
   "source": [
    "print(\"includendo i neonati l'età media del dataset scende a %d\" % draft.age.mean())"
   ]
  },
  {
   "cell_type": "markdown",
   "id": "7c902062",
   "metadata": {},
   "source": [
    "## matrice di correlazione"
   ]
  },
  {
   "cell_type": "code",
   "execution_count": 197,
   "id": "07c7b6c6",
   "metadata": {},
   "outputs": [
    {
     "data": {
      "image/png": "[encoded data removed]",
      "text/plain": [
       "<Figure size 1440x720 with 2 Axes>"
      ]
     },
     "metadata": {
      "needs_background": "light"
     },
     "output_type": "display_data"
    }
   ],
   "source": [
    "corr_matrix = draft.corr()\n",
    "plt.figure(figsize=(20,10))\n",
    "sns.heatmap(corr_matrix, annot=True, cmap='Dark2_r', vmin=-1, linewidths=2)\n",
    "plt.show()"
   ]
  },
  {
   "cell_type": "markdown",
   "id": "69a7275f",
   "metadata": {},
   "source": [
    "dalla matrice di correlazione non risulta nessuna correlazione significativa tra le varie features che giustifichi\n",
    "l'eliminazione di features fortemente correlate tra loro."
   ]
  },
  {
   "cell_type": "markdown",
   "id": "bc85ebe4",
   "metadata": {},
   "source": [
    "## focus sulle correlazioni con le possibili label\n",
    "le label sono le features su cui si effettuerà una classificazione, ovvero *death*, *riad 30d*, *riad 90d*, *riad 365d*,\n",
    "*riad +365d*"
   ]
  },
  {
   "cell_type": "code",
   "execution_count": 198,
   "id": "cd8afc00",
   "metadata": {},
   "outputs": [
    {
     "data": {
      "text/plain": [
       "death         1.000000\n",
       "age           0.092558\n",
       "gender        0.014741\n",
       "riad 90d     -0.042113\n",
       "riad 365d    -0.048445\n",
       "riad +365d   -0.051120\n",
       "riad 30d     -0.059127\n",
       "Name: death, dtype: float64"
      ]
     },
     "execution_count": 198,
     "metadata": {},
     "output_type": "execute_result"
    }
   ],
   "source": [
    "corr_matrix[\"death\"].sort_values(ascending=False)"
   ]
  },
  {
   "cell_type": "code",
   "execution_count": 199,
   "id": "8344c52a",
   "metadata": {},
   "outputs": [
    {
     "data": {
      "text/plain": [
       "riad 30d      1.000000\n",
       "age           0.115684\n",
       "gender        0.032705\n",
       "death        -0.059127\n",
       "riad 90d     -0.146546\n",
       "riad 365d    -0.168737\n",
       "riad +365d   -0.177886\n",
       "Name: riad 30d, dtype: float64"
      ]
     },
     "execution_count": 199,
     "metadata": {},
     "output_type": "execute_result"
    }
   ],
   "source": [
    "corr_matrix[\"riad 30d\"].sort_values(ascending=False)"
   ]
  },
  {
   "cell_type": "code",
   "execution_count": 200,
   "id": "89175922",
   "metadata": {},
   "outputs": [
    {
     "data": {
      "text/plain": [
       "riad 90d      1.000000\n",
       "age           0.116521\n",
       "gender        0.012478\n",
       "death        -0.042113\n",
       "riad 365d    -0.112346\n",
       "riad +365d   -0.118438\n",
       "riad 30d     -0.146546\n",
       "Name: riad 90d, dtype: float64"
      ]
     },
     "execution_count": 200,
     "metadata": {},
     "output_type": "execute_result"
    }
   ],
   "source": [
    "corr_matrix[\"riad 90d\"].sort_values(ascending=False)"
   ]
  },
  {
   "cell_type": "code",
   "execution_count": 201,
   "id": "7c040d7a",
   "metadata": {},
   "outputs": [
    {
     "data": {
      "text/plain": [
       "riad 365d     1.000000\n",
       "age           0.140308\n",
       "gender       -0.001893\n",
       "death        -0.048445\n",
       "riad 90d     -0.112346\n",
       "riad +365d   -0.136373\n",
       "riad 30d     -0.168737\n",
       "Name: riad 365d, dtype: float64"
      ]
     },
     "execution_count": 201,
     "metadata": {},
     "output_type": "execute_result"
    }
   ],
   "source": [
    "corr_matrix[\"riad 365d\"].sort_values(ascending=False)"
   ]
  },
  {
   "cell_type": "code",
   "execution_count": 202,
   "id": "10b6626a",
   "metadata": {},
   "outputs": [
    {
     "data": {
      "text/plain": [
       "riad +365d    1.000000\n",
       "age           0.104708\n",
       "gender       -0.040761\n",
       "death        -0.051120\n",
       "riad 90d     -0.118438\n",
       "riad 365d    -0.136373\n",
       "riad 30d     -0.177886\n",
       "Name: riad +365d, dtype: float64"
      ]
     },
     "execution_count": 202,
     "metadata": {},
     "output_type": "execute_result"
    }
   ],
   "source": [
    "corr_matrix[\"riad +365d\"].sort_values(ascending=False)"
   ]
  },
  {
   "cell_type": "markdown",
   "id": "736d7283",
   "metadata": {},
   "source": [
    "osserviamo che per tutte le label la variabile più positivamente correlata risulta essere l'età,\n",
    "e il dato non sorprende considerando che tendenzialmente all'aumentare dell'età aumenta la probabilità\n",
    "di morte ospedaliera. Tuttavia non si tratta di un dato molto significativo in quanto la correlazione sebbene posititva resta bassa.\\\n",
    "Per quanto riguarda le riammissioni, esse sono negativamente correlate con le altre label di ammissione, ad esempio:\n",
    "le riammissioni entro 30 giorni sono negativamente correlate con le riammissioni entro 365 giorni, questo equivale a dire\n",
    "che tendenzialmente è più probabile che le persone riammesse entro 30 giorni in ospedale non vengano poi riammesse entro i successivi 365 giorni. Anche in questo caso, non si tratta di una correlazione significativa."
   ]
  },
  {
   "cell_type": "markdown",
   "id": "554e7d9e",
   "metadata": {},
   "source": [
    "## analisi sul gender vs death"
   ]
  },
  {
   "cell_type": "code",
   "execution_count": 203,
   "id": "6861e11b",
   "metadata": {},
   "outputs": [
    {
     "data": {
      "image/png": "[encoded data removed]",
      "text/plain": [
       "<Figure size 1152x720 with 1 Axes>"
      ]
     },
     "metadata": {
      "needs_background": "light"
     },
     "output_type": "display_data"
    }
   ],
   "source": [
    "prof_fig = plt.gcf()\n",
    "prof_fig.set_size_inches( 16, 10)\n",
    "sns.countplot(data=draft, x='gender', hue='death');"
   ]
  },
  {
   "cell_type": "markdown",
   "id": "0dc40aa6",
   "metadata": {},
   "source": [
    "gender 0 è donna mentre gender 1 è uomo\\\n",
    "si nota che le osservazioni femminili sono in maggioranza ma il numero di\n",
    "morti è praticamente lo stesso"
   ]
  },
  {
   "cell_type": "markdown",
   "id": "1fa58d55",
   "metadata": {},
   "source": [
    "## spaccato del numero di morti ospedaliere per feature categorica"
   ]
  },
  {
   "cell_type": "markdown",
   "id": "2a468973",
   "metadata": {},
   "source": [
    "### admission type vs death"
   ]
  },
  {
   "cell_type": "code",
   "execution_count": 204,
   "id": "bd29bc26",
   "metadata": {},
   "outputs": [
    {
     "data": {
      "text/html": [
       "<div>\n",
       "<style scoped>\n",
       "    .dataframe tbody tr th:only-of-type {\n",
       "        vertical-align: middle;\n",
       "    }\n",
       "\n",
       "    .dataframe tbody tr th {\n",
       "        vertical-align: top;\n",
       "    }\n",
       "\n",
       "    .dataframe thead th {\n",
       "        text-align: right;\n",
       "    }\n",
       "</style>\n",
       "<table border=\"1\" class=\"dataframe\">\n",
       "  <thead>\n",
       "    <tr style=\"text-align: right;\">\n",
       "      <th></th>\n",
       "      <th>admission_type</th>\n",
       "      <th>death</th>\n",
       "    </tr>\n",
       "  </thead>\n",
       "  <tbody>\n",
       "    <tr>\n",
       "      <th>5</th>\n",
       "      <td>EW EMER.</td>\n",
       "      <td>5499</td>\n",
       "    </tr>\n",
       "    <tr>\n",
       "      <th>8</th>\n",
       "      <td>URGENT</td>\n",
       "      <td>1754</td>\n",
       "    </tr>\n",
       "    <tr>\n",
       "      <th>6</th>\n",
       "      <td>OBSERVATION ADMIT</td>\n",
       "      <td>1131</td>\n",
       "    </tr>\n",
       "    <tr>\n",
       "      <th>1</th>\n",
       "      <td>DIRECT EMER.</td>\n",
       "      <td>438</td>\n",
       "    </tr>\n",
       "    <tr>\n",
       "      <th>3</th>\n",
       "      <td>ELECTIVE</td>\n",
       "      <td>293</td>\n",
       "    </tr>\n",
       "    <tr>\n",
       "      <th>7</th>\n",
       "      <td>SURGICAL SAME DAY ADMISSION</td>\n",
       "      <td>127</td>\n",
       "    </tr>\n",
       "    <tr>\n",
       "      <th>4</th>\n",
       "      <td>EU OBSERVATION</td>\n",
       "      <td>81</td>\n",
       "    </tr>\n",
       "    <tr>\n",
       "      <th>2</th>\n",
       "      <td>DIRECT OBSERVATION</td>\n",
       "      <td>26</td>\n",
       "    </tr>\n",
       "    <tr>\n",
       "      <th>0</th>\n",
       "      <td>AMBULATORY OBSERVATION</td>\n",
       "      <td>1</td>\n",
       "    </tr>\n",
       "  </tbody>\n",
       "</table>\n",
       "</div>"
      ],
      "text/plain": [
       "                admission_type  death\n",
       "5                     EW EMER.   5499\n",
       "8                       URGENT   1754\n",
       "6            OBSERVATION ADMIT   1131\n",
       "1                 DIRECT EMER.    438\n",
       "3                     ELECTIVE    293\n",
       "7  SURGICAL SAME DAY ADMISSION    127\n",
       "4               EU OBSERVATION     81\n",
       "2           DIRECT OBSERVATION     26\n",
       "0       AMBULATORY OBSERVATION      1"
      ]
     },
     "execution_count": 204,
     "metadata": {},
     "output_type": "execute_result"
    }
   ],
   "source": [
    "admtype_death = draft.groupby('admission_type').agg('sum')['death'].to_frame() \n",
    "admtype_death.reset_index(level=0, inplace=True)\n",
    "admtype_death = admtype_death.sort_values('death', ascending=False)\n",
    "admtype_death"
   ]
  },
  {
   "cell_type": "code",
   "execution_count": 205,
   "id": "2c42e30c",
   "metadata": {},
   "outputs": [
    {
     "data": {
      "image/png": "[encoded data removed]",
      "text/plain": [
       "<Figure size 1152x720 with 1 Axes>"
      ]
     },
     "metadata": {
      "needs_background": "light"
     },
     "output_type": "display_data"
    }
   ],
   "source": [
    "size_fig = plt.gcf()\n",
    "size_fig.set_size_inches(16,10)\n",
    "plt.xticks(rotation=90)\n",
    "sns.barplot(x='admission_type', y='death', data=admtype_death);"
   ]
  },
  {
   "cell_type": "code",
   "execution_count": 206,
   "id": "7731b175",
   "metadata": {},
   "outputs": [
    {
     "data": {
      "text/plain": [
       "EW EMER.                       157896\n",
       "EU OBSERVATION                 100445\n",
       "ELECTIVE                        72072\n",
       "OBSERVATION ADMIT               55497\n",
       "URGENT                          47930\n",
       "SURGICAL SAME DAY ADMISSION     41074\n",
       "DIRECT EMER.                    21581\n",
       "DIRECT OBSERVATION              19991\n",
       "AMBULATORY OBSERVATION           7254\n",
       "Name: admission_type, dtype: int64"
      ]
     },
     "execution_count": 206,
     "metadata": {},
     "output_type": "execute_result"
    }
   ],
   "source": [
    "draft.admission_type.value_counts()"
   ]
  },
  {
   "cell_type": "markdown",
   "id": "8335bea1",
   "metadata": {},
   "source": [
    "Le categorie più rappresentate sono EW EMER. e EU OBSERVATION ma il numero di morti è significativamente \n",
    "maggiore per la prima categoria\\\n",
    "Il numero di morti per la categoria URGENT è piuttosto alto se relazionato alla bassa rappresentazione di questa categoria"
   ]
  },
  {
   "cell_type": "markdown",
   "id": "ebe200fa",
   "metadata": {},
   "source": [
    "### admission location vs death"
   ]
  },
  {
   "cell_type": "code",
   "execution_count": 207,
   "id": "107f1b16",
   "metadata": {},
   "outputs": [
    {
     "data": {
      "text/html": [
       "<div>\n",
       "<style scoped>\n",
       "    .dataframe tbody tr th:only-of-type {\n",
       "        vertical-align: middle;\n",
       "    }\n",
       "\n",
       "    .dataframe tbody tr th {\n",
       "        vertical-align: top;\n",
       "    }\n",
       "\n",
       "    .dataframe thead th {\n",
       "        text-align: right;\n",
       "    }\n",
       "</style>\n",
       "<table border=\"1\" class=\"dataframe\">\n",
       "  <thead>\n",
       "    <tr style=\"text-align: right;\">\n",
       "      <th></th>\n",
       "      <th>admission_location</th>\n",
       "      <th>death</th>\n",
       "    </tr>\n",
       "  </thead>\n",
       "  <tbody>\n",
       "    <tr>\n",
       "      <th>11</th>\n",
       "      <td>WALK-IN/SELF REFERRAL</td>\n",
       "      <td>182</td>\n",
       "    </tr>\n",
       "    <tr>\n",
       "      <th>10</th>\n",
       "      <td>TRANSFER FROM SKILLED NURSING FACILITY</td>\n",
       "      <td>277</td>\n",
       "    </tr>\n",
       "    <tr>\n",
       "      <th>9</th>\n",
       "      <td>TRANSFER FROM HOSPITAL</td>\n",
       "      <td>2181</td>\n",
       "    </tr>\n",
       "    <tr>\n",
       "      <th>8</th>\n",
       "      <td>PROCEDURE SITE</td>\n",
       "      <td>50</td>\n",
       "    </tr>\n",
       "    <tr>\n",
       "      <th>7</th>\n",
       "      <td>PHYSICIAN REFERRAL</td>\n",
       "      <td>988</td>\n",
       "    </tr>\n",
       "    <tr>\n",
       "      <th>6</th>\n",
       "      <td>PACU</td>\n",
       "      <td>38</td>\n",
       "    </tr>\n",
       "    <tr>\n",
       "      <th>5</th>\n",
       "      <td>NO DATA</td>\n",
       "      <td>211</td>\n",
       "    </tr>\n",
       "    <tr>\n",
       "      <th>4</th>\n",
       "      <td>INTERNAL TRANSFER TO OR FROM PSYCH</td>\n",
       "      <td>2</td>\n",
       "    </tr>\n",
       "    <tr>\n",
       "      <th>3</th>\n",
       "      <td>INFORMATION NOT AVAILABLE</td>\n",
       "      <td>37</td>\n",
       "    </tr>\n",
       "    <tr>\n",
       "      <th>2</th>\n",
       "      <td>EMERGENCY ROOM</td>\n",
       "      <td>5146</td>\n",
       "    </tr>\n",
       "    <tr>\n",
       "      <th>1</th>\n",
       "      <td>CLINIC REFERRAL</td>\n",
       "      <td>233</td>\n",
       "    </tr>\n",
       "    <tr>\n",
       "      <th>0</th>\n",
       "      <td>AMBULATORY SURGERY TRANSFER</td>\n",
       "      <td>5</td>\n",
       "    </tr>\n",
       "  </tbody>\n",
       "</table>\n",
       "</div>"
      ],
      "text/plain": [
       "                        admission_location  death\n",
       "11                   WALK-IN/SELF REFERRAL    182\n",
       "10  TRANSFER FROM SKILLED NURSING FACILITY    277\n",
       "9                   TRANSFER FROM HOSPITAL   2181\n",
       "8                           PROCEDURE SITE     50\n",
       "7                       PHYSICIAN REFERRAL    988\n",
       "6                                     PACU     38\n",
       "5                                  NO DATA    211\n",
       "4       INTERNAL TRANSFER TO OR FROM PSYCH      2\n",
       "3                INFORMATION NOT AVAILABLE     37\n",
       "2                           EMERGENCY ROOM   5146\n",
       "1                          CLINIC REFERRAL    233\n",
       "0              AMBULATORY SURGERY TRANSFER      5"
      ]
     },
     "execution_count": 207,
     "metadata": {},
     "output_type": "execute_result"
    }
   ],
   "source": [
    "admloc_death = draft.groupby('admission_location').agg('sum')['death'].to_frame() \n",
    "admloc_death.reset_index(level=0, inplace=True)\n",
    "admloc_death = admloc_death.sort_values('admission_location', ascending=False)\n",
    "admloc_death"
   ]
  },
  {
   "cell_type": "code",
   "execution_count": 208,
   "id": "0d4d1b53",
   "metadata": {},
   "outputs": [
    {
     "data": {
      "image/png": "[encoded data removed]",
      "text/plain": [
       "<Figure size 1152x720 with 1 Axes>"
      ]
     },
     "metadata": {
      "needs_background": "light"
     },
     "output_type": "display_data"
    }
   ],
   "source": [
    "size_fig = plt.gcf()\n",
    "size_fig.set_size_inches(16,10)\n",
    "plt.xticks(rotation=90)\n",
    "sns.barplot(x='admission_location', y='death', data=admloc_death);"
   ]
  },
  {
   "cell_type": "markdown",
   "id": "ffc0aad2",
   "metadata": {},
   "source": [
    "### insurance vs death"
   ]
  },
  {
   "cell_type": "code",
   "execution_count": 209,
   "id": "be7af76b",
   "metadata": {},
   "outputs": [
    {
     "data": {
      "text/html": [
       "<div>\n",
       "<style scoped>\n",
       "    .dataframe tbody tr th:only-of-type {\n",
       "        vertical-align: middle;\n",
       "    }\n",
       "\n",
       "    .dataframe tbody tr th {\n",
       "        vertical-align: top;\n",
       "    }\n",
       "\n",
       "    .dataframe thead th {\n",
       "        text-align: right;\n",
       "    }\n",
       "</style>\n",
       "<table border=\"1\" class=\"dataframe\">\n",
       "  <thead>\n",
       "    <tr style=\"text-align: right;\">\n",
       "      <th></th>\n",
       "      <th>insurance</th>\n",
       "      <th>death</th>\n",
       "    </tr>\n",
       "  </thead>\n",
       "  <tbody>\n",
       "    <tr>\n",
       "      <th>2</th>\n",
       "      <td>Other</td>\n",
       "      <td>3811</td>\n",
       "    </tr>\n",
       "    <tr>\n",
       "      <th>1</th>\n",
       "      <td>Medicare</td>\n",
       "      <td>4995</td>\n",
       "    </tr>\n",
       "    <tr>\n",
       "      <th>0</th>\n",
       "      <td>Medicaid</td>\n",
       "      <td>544</td>\n",
       "    </tr>\n",
       "  </tbody>\n",
       "</table>\n",
       "</div>"
      ],
      "text/plain": [
       "  insurance  death\n",
       "2     Other   3811\n",
       "1  Medicare   4995\n",
       "0  Medicaid    544"
      ]
     },
     "execution_count": 209,
     "metadata": {},
     "output_type": "execute_result"
    }
   ],
   "source": [
    "ins_death = draft.groupby('insurance').agg('sum')['death'].to_frame() \n",
    "ins_death.reset_index(level=0, inplace=True)\n",
    "ins_death = ins_death.sort_values('insurance', ascending=False)\n",
    "ins_death"
   ]
  },
  {
   "cell_type": "code",
   "execution_count": 210,
   "id": "5a315d3b",
   "metadata": {},
   "outputs": [
    {
     "data": {
      "image/png": "[encoded data removed]",
      "text/plain": [
       "<Figure size 1152x720 with 1 Axes>"
      ]
     },
     "metadata": {
      "needs_background": "light"
     },
     "output_type": "display_data"
    }
   ],
   "source": [
    "size_fig = plt.gcf()\n",
    "size_fig.set_size_inches(16,10)\n",
    "sns.barplot(x='insurance', y='death', data=ins_death);"
   ]
  },
  {
   "cell_type": "code",
   "execution_count": 211,
   "id": "5a68e800",
   "metadata": {},
   "outputs": [
    {
     "data": {
      "text/plain": [
       "Other       301530\n",
       "Medicare    171360\n",
       "Medicaid     50850\n",
       "Name: insurance, dtype: int64"
      ]
     },
     "execution_count": 211,
     "metadata": {},
     "output_type": "execute_result"
    }
   ],
   "source": [
    "draft.insurance.value_counts()"
   ]
  },
  {
   "cell_type": "markdown",
   "id": "f2d6ed10",
   "metadata": {},
   "source": [
    "nonostante Medicare non sia il tipo di assicurazione più rappresentato, è correlato\n",
    "a un numero di morti maggiore rispetto a quello più rappresenteto (il generico Other)"
   ]
  },
  {
   "cell_type": "markdown",
   "id": "e25a87d4",
   "metadata": {},
   "source": [
    "### marital status vs death"
   ]
  },
  {
   "cell_type": "code",
   "execution_count": 212,
   "id": "bde95425",
   "metadata": {},
   "outputs": [
    {
     "data": {
      "text/html": [
       "<div>\n",
       "<style scoped>\n",
       "    .dataframe tbody tr th:only-of-type {\n",
       "        vertical-align: middle;\n",
       "    }\n",
       "\n",
       "    .dataframe tbody tr th {\n",
       "        vertical-align: top;\n",
       "    }\n",
       "\n",
       "    .dataframe thead th {\n",
       "        text-align: right;\n",
       "    }\n",
       "</style>\n",
       "<table border=\"1\" class=\"dataframe\">\n",
       "  <thead>\n",
       "    <tr style=\"text-align: right;\">\n",
       "      <th></th>\n",
       "      <th>marital_status</th>\n",
       "      <th>death</th>\n",
       "    </tr>\n",
       "  </thead>\n",
       "  <tbody>\n",
       "    <tr>\n",
       "      <th>3</th>\n",
       "      <td>WIDOWED</td>\n",
       "      <td>1615</td>\n",
       "    </tr>\n",
       "    <tr>\n",
       "      <th>2</th>\n",
       "      <td>SINGLE</td>\n",
       "      <td>2649</td>\n",
       "    </tr>\n",
       "    <tr>\n",
       "      <th>1</th>\n",
       "      <td>MARRIED</td>\n",
       "      <td>4517</td>\n",
       "    </tr>\n",
       "    <tr>\n",
       "      <th>0</th>\n",
       "      <td>DIVORCED</td>\n",
       "      <td>569</td>\n",
       "    </tr>\n",
       "  </tbody>\n",
       "</table>\n",
       "</div>"
      ],
      "text/plain": [
       "  marital_status  death\n",
       "3        WIDOWED   1615\n",
       "2         SINGLE   2649\n",
       "1        MARRIED   4517\n",
       "0       DIVORCED    569"
      ]
     },
     "execution_count": 212,
     "metadata": {},
     "output_type": "execute_result"
    }
   ],
   "source": [
    "marstatus_death = draft.groupby('marital_status').agg('sum')['death'].to_frame() \n",
    "marstatus_death.reset_index(level=0, inplace=True)\n",
    "marstatus_death = marstatus_death.sort_values('marital_status', ascending=False)\n",
    "marstatus_death"
   ]
  },
  {
   "cell_type": "code",
   "execution_count": 213,
   "id": "3e8dcfad",
   "metadata": {},
   "outputs": [
    {
     "data": {
      "image/png": "[encoded data removed]",
      "text/plain": [
       "<Figure size 1152x720 with 1 Axes>"
      ]
     },
     "metadata": {
      "needs_background": "light"
     },
     "output_type": "display_data"
    }
   ],
   "source": [
    "size_fig = plt.gcf()\n",
    "size_fig.set_size_inches(16,10)\n",
    "plt.xticks(rotation=90)\n",
    "sns.barplot(x='marital_status', y='death', data=marstatus_death);"
   ]
  },
  {
   "cell_type": "code",
   "execution_count": 214,
   "id": "eb5d761e",
   "metadata": {},
   "outputs": [
    {
     "data": {
      "text/plain": [
       "MARRIED     228277\n",
       "SINGLE      212948\n",
       "WIDOWED      48806\n",
       "DIVORCED     33709\n",
       "Name: marital_status, dtype: int64"
      ]
     },
     "execution_count": 214,
     "metadata": {},
     "output_type": "execute_result"
    }
   ],
   "source": [
    "draft.marital_status.value_counts()"
   ]
  },
  {
   "cell_type": "markdown",
   "id": "ed7063eb",
   "metadata": {},
   "source": [
    "il numero di morti è significamente maggiore tra individui sposati rispetto ad invididui single,\n",
    "nonostante entrambe le categorie siano ugualmente rappresentate.\\\n",
    "Per quanto riguarda vedovi e divorziati, il numero di morti è significativamente maggiore tra i vedovi"
   ]
  },
  {
   "cell_type": "markdown",
   "id": "d36d8b4f",
   "metadata": {},
   "source": [
    "### ethnicity vs death"
   ]
  },
  {
   "cell_type": "code",
   "execution_count": 215,
   "id": "7593e971",
   "metadata": {},
   "outputs": [
    {
     "data": {
      "text/html": [
       "<div>\n",
       "<style scoped>\n",
       "    .dataframe tbody tr th:only-of-type {\n",
       "        vertical-align: middle;\n",
       "    }\n",
       "\n",
       "    .dataframe tbody tr th {\n",
       "        vertical-align: top;\n",
       "    }\n",
       "\n",
       "    .dataframe thead th {\n",
       "        text-align: right;\n",
       "    }\n",
       "</style>\n",
       "<table border=\"1\" class=\"dataframe\">\n",
       "  <thead>\n",
       "    <tr style=\"text-align: right;\">\n",
       "      <th></th>\n",
       "      <th>ethnicity</th>\n",
       "      <th>death</th>\n",
       "    </tr>\n",
       "  </thead>\n",
       "  <tbody>\n",
       "    <tr>\n",
       "      <th>6</th>\n",
       "      <td>WHITE</td>\n",
       "      <td>5976</td>\n",
       "    </tr>\n",
       "    <tr>\n",
       "      <th>5</th>\n",
       "      <td>UNKNOWN</td>\n",
       "      <td>1469</td>\n",
       "    </tr>\n",
       "    <tr>\n",
       "      <th>4</th>\n",
       "      <td>OTHER</td>\n",
       "      <td>382</td>\n",
       "    </tr>\n",
       "    <tr>\n",
       "      <th>3</th>\n",
       "      <td>HISPANIC/LATINO</td>\n",
       "      <td>262</td>\n",
       "    </tr>\n",
       "    <tr>\n",
       "      <th>2</th>\n",
       "      <td>BLACK/AFRICAN AMERICAN</td>\n",
       "      <td>901</td>\n",
       "    </tr>\n",
       "    <tr>\n",
       "      <th>1</th>\n",
       "      <td>ASIAN</td>\n",
       "      <td>343</td>\n",
       "    </tr>\n",
       "    <tr>\n",
       "      <th>0</th>\n",
       "      <td>AMERICAN INDIAN/ALASKA NATIVE</td>\n",
       "      <td>17</td>\n",
       "    </tr>\n",
       "  </tbody>\n",
       "</table>\n",
       "</div>"
      ],
      "text/plain": [
       "                       ethnicity  death\n",
       "6                          WHITE   5976\n",
       "5                        UNKNOWN   1469\n",
       "4                          OTHER    382\n",
       "3                HISPANIC/LATINO    262\n",
       "2         BLACK/AFRICAN AMERICAN    901\n",
       "1                          ASIAN    343\n",
       "0  AMERICAN INDIAN/ALASKA NATIVE     17"
      ]
     },
     "execution_count": 215,
     "metadata": {},
     "output_type": "execute_result"
    }
   ],
   "source": [
    "etn_death = draft.groupby('ethnicity').agg('sum')['death'].to_frame() \n",
    "etn_death.reset_index(level=0, inplace=True)\n",
    "etn_death = etn_death.sort_values('ethnicity', ascending=False)\n",
    "etn_death"
   ]
  },
  {
   "cell_type": "code",
   "execution_count": 216,
   "id": "c124511f",
   "metadata": {},
   "outputs": [
    {
     "data": {
      "image/png": "[encoded data removed]",
      "text/plain": [
       "<Figure size 1152x720 with 1 Axes>"
      ]
     },
     "metadata": {
      "needs_background": "light"
     },
     "output_type": "display_data"
    }
   ],
   "source": [
    "size_fig = plt.gcf()\n",
    "size_fig.set_size_inches(16,10)\n",
    "plt.xticks(rotation=90)\n",
    "sns.barplot(x='ethnicity', y='death', data=etn_death);"
   ]
  },
  {
   "cell_type": "code",
   "execution_count": 217,
   "id": "4e807c2d",
   "metadata": {},
   "outputs": [
    {
     "data": {
      "text/plain": [
       "WHITE                            337630\n",
       "BLACK/AFRICAN AMERICAN            80293\n",
       "HISPANIC/LATINO                   29823\n",
       "OTHER                             26813\n",
       "ASIAN                             24506\n",
       "UNKNOWN                           23140\n",
       "AMERICAN INDIAN/ALASKA NATIVE      1535\n",
       "Name: ethnicity, dtype: int64"
      ]
     },
     "execution_count": 217,
     "metadata": {},
     "output_type": "execute_result"
    }
   ],
   "source": [
    "draft.ethnicity.value_counts()"
   ]
  },
  {
   "cell_type": "markdown",
   "id": "85293622",
   "metadata": {},
   "source": [
    "quello che si può notare è un numero consistente di morti tra le osservazioni la cui etnia è sconosciuta.\\\n",
    "Infatti per queste osservazioni il numero di morti è più alto rispetto ad altre categorie più rappresentate\n",
    "come ASIAN, OTHER, HISPANIC/LATINO E BLACK/AFRICAN AMERICAN."
   ]
  },
  {
   "cell_type": "markdown",
   "id": "b355cf93",
   "metadata": {},
   "source": [
    "## analisi più specifica su correlazione età-morte "
   ]
  },
  {
   "cell_type": "code",
   "execution_count": 218,
   "id": "25f8821a",
   "metadata": {},
   "outputs": [
    {
     "data": {
      "image/png": "[encoded data removed]",
      "text/plain": [
       "<Figure size 1008x504 with 1 Axes>"
      ]
     },
     "metadata": {},
     "output_type": "display_data"
    }
   ],
   "source": [
    "sns.set_style('whitegrid')\n",
    "plt.figure(figsize=(14,7))\n",
    "plt.xlabel('death', size=20)\n",
    "plt.ylabel('age', size=20)\n",
    "sns.violinplot(x='death', y='age', data=draft);"
   ]
  },
  {
   "cell_type": "markdown",
   "id": "19f39cf8",
   "metadata": {},
   "source": [
    "si può notare come l'età delle morti ospedaliere sia più concentrata intorno a valori tra 60 e 90 anni\\\n",
    "al di fuori di quel range di età le morti sono molto meno presenti. Ad esempio le morti sono quasi\n",
    "inesistenti per osservazioni tra 1 e 20 anni, mentre piuttosto rare per osservazioni tra 20 e 40 anni.\n",
    "\n",
    "Altro dato interessante è la presenza di morti ospedaliere di neonati"
   ]
  },
  {
   "cell_type": "code",
   "execution_count": 219,
   "id": "32a1ce74",
   "metadata": {},
   "outputs": [
    {
     "name": "stdout",
     "output_type": "stream",
     "text": [
      "213 morti di neonati\n"
     ]
    }
   ],
   "source": [
    "number_of_0age_deaths = len(draft.loc[(draft.age == 0) & (draft.death == 1)])\n",
    "print(\"%d morti di neonati\" % number_of_0age_deaths)"
   ]
  },
  {
   "cell_type": "markdown",
   "id": "a12814f0",
   "metadata": {},
   "source": [
    "## analisi età-riammissioni(30 giorni)"
   ]
  },
  {
   "cell_type": "code",
   "execution_count": 220,
   "id": "a94aa4ff",
   "metadata": {},
   "outputs": [
    {
     "data": {
      "image/png": "[encoded data removed]",
      "text/plain": [
       "<Figure size 1008x504 with 1 Axes>"
      ]
     },
     "metadata": {},
     "output_type": "display_data"
    }
   ],
   "source": [
    "sns.set_style('whitegrid')\n",
    "plt.figure(figsize=(14,7))\n",
    "plt.xlabel('riad 30d', size=20)\n",
    "plt.ylabel('age', size=20)\n",
    "sns.violinplot(x='riad 30d', y='age', data=draft);"
   ]
  },
  {
   "cell_type": "markdown",
   "id": "ee717b86",
   "metadata": {},
   "source": [
    "possiamo subito notare che rispetto all'analisi sul numero di morti, questa volta il range\n",
    "di età che va tra i 20 e i 40 anni è ben rappresentato nelle riammissioni\\\n",
    "questo vuol dire che non è raro che persone tra 20 e 40 anni vengano riammesse entro 30 giorni in ospedale,\n",
    "è raro invece che individui tra i 20 e i 40 anni muoiano in ospedale (grafico precedente)."
   ]
  },
  {
   "cell_type": "markdown",
   "id": "5db86c96",
   "metadata": {},
   "source": [
    "## analisi età-riammissioni(90 giorni)"
   ]
  },
  {
   "cell_type": "code",
   "execution_count": 221,
   "id": "7e903f0b",
   "metadata": {},
   "outputs": [
    {
     "data": {
      "image/png": "[encoded data removed]",
      "text/plain": [
       "<Figure size 1008x504 with 1 Axes>"
      ]
     },
     "metadata": {},
     "output_type": "display_data"
    }
   ],
   "source": [
    "sns.set_style('whitegrid')\n",
    "plt.figure(figsize=(14,7))\n",
    "plt.xlabel('riad 90d', size=20)\n",
    "plt.ylabel('age', size=20)\n",
    "sns.violinplot(x='riad 90d', y='age', data=draft);"
   ]
  },
  {
   "cell_type": "markdown",
   "id": "3029109d",
   "metadata": {},
   "source": [
    "vediamo come la categoria di neonati già scompare per le riammissioni a 90 giorni.\\\n",
    "Questo ci fa capire che probabilmente le \"riammissioni\" di neonati in ospedale possano riferirsi\n",
    "a trasferimenti da un reparto all'altro in concomitanza con problematiche legate al parto, quindi\n",
    "ovviamente sicuramente entro 30 giorni.\n",
    "Per il resto non si notano grandi differenze in termini di età."
   ]
  },
  {
   "cell_type": "markdown",
   "id": "b6df2780",
   "metadata": {},
   "source": [
    "## analisi più specifica tra età e possibili labels"
   ]
  },
  {
   "cell_type": "code",
   "execution_count": 222,
   "id": "e8b86962",
   "metadata": {},
   "outputs": [
    {
     "data": {
      "image/png": "[encoded data removed]",
      "text/plain": [
       "<Figure size 440x216 with 2 Axes>"
      ]
     },
     "metadata": {
      "needs_background": "light"
     },
     "output_type": "display_data"
    },
    {
     "data": {
      "image/png": "[encoded data removed]",
      "text/plain": [
       "<Figure size 440x216 with 2 Axes>"
      ]
     },
     "metadata": {
      "needs_background": "light"
     },
     "output_type": "display_data"
    },
    {
     "data": {
      "image/png": "[encoded data removed]",
      "text/plain": [
       "<Figure size 440x216 with 2 Axes>"
      ]
     },
     "metadata": {
      "needs_background": "light"
     },
     "output_type": "display_data"
    },
    {
     "data": {
      "image/png": "[encoded data removed]",
      "text/plain": [
       "<Figure size 440x216 with 2 Axes>"
      ]
     },
     "metadata": {
      "needs_background": "light"
     },
     "output_type": "display_data"
    },
    {
     "data": {
      "image/png": "[encoded data removed]",
      "text/plain": [
       "<Figure size 440x216 with 2 Axes>"
      ]
     },
     "metadata": {
      "needs_background": "light"
     },
     "output_type": "display_data"
    }
   ],
   "source": [
    "lookinto = ['death', 'riad 30d', 'riad 90d', 'riad 365d', 'riad +365d']\n",
    "\n",
    "%matplotlib inline\n",
    "for feature in lookinto:\n",
    "    g = sns.FacetGrid(draft, col=feature, height=3)\n",
    "    g.map(sns.kdeplot, \"age\", shade=True).add_legend()"
   ]
  },
  {
   "cell_type": "markdown",
   "id": "b9293ea7",
   "metadata": {},
   "source": [
    "I grafici precedenti confermano le osservazioni fatte finora.\n",
    "\n",
    "Si può notare come nel primo grafico che riguarda le morti ospedaliere, la curva\n",
    "relativa alle morti sia spostata verso destra, ovvero verso età comprese tra 60 e 90 anni.\\\n",
    "Nei grafici riguardanti le riammissioni, la curva si schiaccia e sposta verso sinistra, includendo\n",
    "quindi più osservazioni con età più basse.\n",
    "\n",
    "Anche il dato relativo alle riammissioni di neonati è confermato dai precedenti grafici: le riammissioni\n",
    "di neonati sono più frequenti a breve distanza di tempo dal parto, per poi scomparire del tutto all'aumentare\n",
    "dell'intervallo di tempo (es. neonati assenti nell'ultimo grafico delle riammissioni oltre 365 giorni)"
   ]
  },
  {
   "cell_type": "markdown",
   "id": "61bf19ae",
   "metadata": {},
   "source": [
    "L'analisi esplorativa mostra dati interessanti, tuttavia non c'è nessuna feature da cui la predizione\n",
    "possa dipendere fortemente, è più probabile invece che la predizione dipenda da una combinazione delle diverse\n",
    "features, per esempio *età* e *genere*\n",
    "\n",
    "Per questo motivo aggiungeremo dati relativi alle diagnosi per ammissione, i quali possono dare informazioni\n",
    "aggiuntive circa la situazione esistente al tempo dell'ammissione ospedaliera, andando a rafforzare quindi\n",
    "la capacità dei modelli predittivi."
   ]
  },
  {
   "cell_type": "markdown",
   "id": "0687f0fc",
   "metadata": {},
   "source": [
    "# MERGING admissions and diagnoses data"
   ]
  },
  {
   "cell_type": "code",
   "execution_count": 223,
   "id": "e8af946c",
   "metadata": {},
   "outputs": [],
   "source": [
    "merged = pd.merge(admpat_to_merge, df_diag, how='left', left_on='hadm_id', right_on='hadm_id')"
   ]
  },
  {
   "cell_type": "code",
   "execution_count": 224,
   "id": "7911b030",
   "metadata": {},
   "outputs": [
    {
     "data": {
      "text/html": [
       "<div>\n",
       "<style scoped>\n",
       "    .dataframe tbody tr th:only-of-type {\n",
       "        vertical-align: middle;\n",
       "    }\n",
       "\n",
       "    .dataframe tbody tr th {\n",
       "        vertical-align: top;\n",
       "    }\n",
       "\n",
       "    .dataframe thead th {\n",
       "        text-align: right;\n",
       "    }\n",
       "</style>\n",
       "<table border=\"1\" class=\"dataframe\">\n",
       "  <thead>\n",
       "    <tr style=\"text-align: right;\">\n",
       "      <th></th>\n",
       "      <th>hadm_id</th>\n",
       "      <th>admission_type</th>\n",
       "      <th>admission_location</th>\n",
       "      <th>discharge_location</th>\n",
       "      <th>insurance</th>\n",
       "      <th>marital_status</th>\n",
       "      <th>ethnicity</th>\n",
       "      <th>death</th>\n",
       "      <th>gender</th>\n",
       "      <th>age</th>\n",
       "      <th>...</th>\n",
       "      <th>icd_D_circulatory</th>\n",
       "      <th>icd_D_skin</th>\n",
       "      <th>icd_D_mental</th>\n",
       "      <th>icd_D_morbidity_mortality_external</th>\n",
       "      <th>icd_D_ear</th>\n",
       "      <th>icd_D_eye</th>\n",
       "      <th>icd_D_injury_poisoning_external</th>\n",
       "      <th>icd_D_perinatal</th>\n",
       "      <th>seq_max</th>\n",
       "      <th>seq_mean</th>\n",
       "    </tr>\n",
       "  </thead>\n",
       "  <tbody>\n",
       "    <tr>\n",
       "      <th>0</th>\n",
       "      <td>25058216</td>\n",
       "      <td>ELECTIVE</td>\n",
       "      <td>NO DATA</td>\n",
       "      <td>HOME</td>\n",
       "      <td>Other</td>\n",
       "      <td>MARRIED</td>\n",
       "      <td>WHITE</td>\n",
       "      <td>0</td>\n",
       "      <td>1</td>\n",
       "      <td>0</td>\n",
       "      <td>...</td>\n",
       "      <td>0.0</td>\n",
       "      <td>0.0</td>\n",
       "      <td>0.0</td>\n",
       "      <td>0.0</td>\n",
       "      <td>0.0</td>\n",
       "      <td>0.0</td>\n",
       "      <td>0.0</td>\n",
       "      <td>1.0</td>\n",
       "      <td>4.0</td>\n",
       "      <td>2.5</td>\n",
       "    </tr>\n",
       "    <tr>\n",
       "      <th>1</th>\n",
       "      <td>22595853</td>\n",
       "      <td>URGENT</td>\n",
       "      <td>TRANSFER FROM HOSPITAL</td>\n",
       "      <td>HOME</td>\n",
       "      <td>Other</td>\n",
       "      <td>WIDOWED</td>\n",
       "      <td>WHITE</td>\n",
       "      <td>0</td>\n",
       "      <td>0</td>\n",
       "      <td>52</td>\n",
       "      <td>...</td>\n",
       "      <td>0.0</td>\n",
       "      <td>0.0</td>\n",
       "      <td>2.0</td>\n",
       "      <td>0.0</td>\n",
       "      <td>0.0</td>\n",
       "      <td>0.0</td>\n",
       "      <td>0.0</td>\n",
       "      <td>0.0</td>\n",
       "      <td>8.0</td>\n",
       "      <td>4.5</td>\n",
       "    </tr>\n",
       "    <tr>\n",
       "      <th>2</th>\n",
       "      <td>22841357</td>\n",
       "      <td>EW EMER.</td>\n",
       "      <td>EMERGENCY ROOM</td>\n",
       "      <td>HOME</td>\n",
       "      <td>Medicaid</td>\n",
       "      <td>WIDOWED</td>\n",
       "      <td>WHITE</td>\n",
       "      <td>0</td>\n",
       "      <td>0</td>\n",
       "      <td>52</td>\n",
       "      <td>...</td>\n",
       "      <td>0.0</td>\n",
       "      <td>0.0</td>\n",
       "      <td>1.0</td>\n",
       "      <td>0.0</td>\n",
       "      <td>0.0</td>\n",
       "      <td>0.0</td>\n",
       "      <td>0.0</td>\n",
       "      <td>0.0</td>\n",
       "      <td>8.0</td>\n",
       "      <td>4.5</td>\n",
       "    </tr>\n",
       "    <tr>\n",
       "      <th>3</th>\n",
       "      <td>29079034</td>\n",
       "      <td>EW EMER.</td>\n",
       "      <td>EMERGENCY ROOM</td>\n",
       "      <td>HOME</td>\n",
       "      <td>Medicaid</td>\n",
       "      <td>WIDOWED</td>\n",
       "      <td>WHITE</td>\n",
       "      <td>0</td>\n",
       "      <td>0</td>\n",
       "      <td>52</td>\n",
       "      <td>...</td>\n",
       "      <td>1.0</td>\n",
       "      <td>0.0</td>\n",
       "      <td>2.0</td>\n",
       "      <td>0.0</td>\n",
       "      <td>0.0</td>\n",
       "      <td>0.0</td>\n",
       "      <td>0.0</td>\n",
       "      <td>0.0</td>\n",
       "      <td>13.0</td>\n",
       "      <td>7.0</td>\n",
       "    </tr>\n",
       "    <tr>\n",
       "      <th>4</th>\n",
       "      <td>25742920</td>\n",
       "      <td>EW EMER.</td>\n",
       "      <td>EMERGENCY ROOM</td>\n",
       "      <td>HOSPICE</td>\n",
       "      <td>Medicaid</td>\n",
       "      <td>WIDOWED</td>\n",
       "      <td>WHITE</td>\n",
       "      <td>0</td>\n",
       "      <td>0</td>\n",
       "      <td>52</td>\n",
       "      <td>...</td>\n",
       "      <td>0.0</td>\n",
       "      <td>0.0</td>\n",
       "      <td>1.0</td>\n",
       "      <td>0.0</td>\n",
       "      <td>0.0</td>\n",
       "      <td>0.0</td>\n",
       "      <td>0.0</td>\n",
       "      <td>0.0</td>\n",
       "      <td>10.0</td>\n",
       "      <td>5.5</td>\n",
       "    </tr>\n",
       "    <tr>\n",
       "      <th>...</th>\n",
       "      <td>...</td>\n",
       "      <td>...</td>\n",
       "      <td>...</td>\n",
       "      <td>...</td>\n",
       "      <td>...</td>\n",
       "      <td>...</td>\n",
       "      <td>...</td>\n",
       "      <td>...</td>\n",
       "      <td>...</td>\n",
       "      <td>...</td>\n",
       "      <td>...</td>\n",
       "      <td>...</td>\n",
       "      <td>...</td>\n",
       "      <td>...</td>\n",
       "      <td>...</td>\n",
       "      <td>...</td>\n",
       "      <td>...</td>\n",
       "      <td>...</td>\n",
       "      <td>...</td>\n",
       "      <td>...</td>\n",
       "      <td>...</td>\n",
       "    </tr>\n",
       "    <tr>\n",
       "      <th>523735</th>\n",
       "      <td>29734428</td>\n",
       "      <td>EW EMER.</td>\n",
       "      <td>PHYSICIAN REFERRAL</td>\n",
       "      <td>HOME HEALTH CARE</td>\n",
       "      <td>Other</td>\n",
       "      <td>SINGLE</td>\n",
       "      <td>WHITE</td>\n",
       "      <td>0</td>\n",
       "      <td>0</td>\n",
       "      <td>46</td>\n",
       "      <td>...</td>\n",
       "      <td>4.0</td>\n",
       "      <td>0.0</td>\n",
       "      <td>2.0</td>\n",
       "      <td>2.0</td>\n",
       "      <td>0.0</td>\n",
       "      <td>0.0</td>\n",
       "      <td>2.0</td>\n",
       "      <td>0.0</td>\n",
       "      <td>22.0</td>\n",
       "      <td>11.5</td>\n",
       "    </tr>\n",
       "    <tr>\n",
       "      <th>523736</th>\n",
       "      <td>25744818</td>\n",
       "      <td>EW EMER.</td>\n",
       "      <td>TRANSFER FROM HOSPITAL</td>\n",
       "      <td>HOME HEALTH CARE</td>\n",
       "      <td>Other</td>\n",
       "      <td>SINGLE</td>\n",
       "      <td>WHITE</td>\n",
       "      <td>0</td>\n",
       "      <td>0</td>\n",
       "      <td>48</td>\n",
       "      <td>...</td>\n",
       "      <td>2.0</td>\n",
       "      <td>1.0</td>\n",
       "      <td>1.0</td>\n",
       "      <td>2.0</td>\n",
       "      <td>0.0</td>\n",
       "      <td>0.0</td>\n",
       "      <td>2.0</td>\n",
       "      <td>0.0</td>\n",
       "      <td>19.0</td>\n",
       "      <td>10.0</td>\n",
       "    </tr>\n",
       "    <tr>\n",
       "      <th>523737</th>\n",
       "      <td>26071774</td>\n",
       "      <td>EW EMER.</td>\n",
       "      <td>EMERGENCY ROOM</td>\n",
       "      <td>HOME</td>\n",
       "      <td>Other</td>\n",
       "      <td>WIDOWED</td>\n",
       "      <td>WHITE</td>\n",
       "      <td>0</td>\n",
       "      <td>1</td>\n",
       "      <td>58</td>\n",
       "      <td>...</td>\n",
       "      <td>4.0</td>\n",
       "      <td>0.0</td>\n",
       "      <td>1.0</td>\n",
       "      <td>0.0</td>\n",
       "      <td>0.0</td>\n",
       "      <td>0.0</td>\n",
       "      <td>0.0</td>\n",
       "      <td>0.0</td>\n",
       "      <td>7.0</td>\n",
       "      <td>4.0</td>\n",
       "    </tr>\n",
       "    <tr>\n",
       "      <th>523738</th>\n",
       "      <td>21033226</td>\n",
       "      <td>EW EMER.</td>\n",
       "      <td>EMERGENCY ROOM</td>\n",
       "      <td>DIED</td>\n",
       "      <td>Other</td>\n",
       "      <td>WIDOWED</td>\n",
       "      <td>WHITE</td>\n",
       "      <td>1</td>\n",
       "      <td>1</td>\n",
       "      <td>58</td>\n",
       "      <td>...</td>\n",
       "      <td>5.0</td>\n",
       "      <td>0.0</td>\n",
       "      <td>0.0</td>\n",
       "      <td>0.0</td>\n",
       "      <td>0.0</td>\n",
       "      <td>0.0</td>\n",
       "      <td>1.0</td>\n",
       "      <td>0.0</td>\n",
       "      <td>12.0</td>\n",
       "      <td>6.5</td>\n",
       "    </tr>\n",
       "    <tr>\n",
       "      <th>523739</th>\n",
       "      <td>23865745</td>\n",
       "      <td>EW EMER.</td>\n",
       "      <td>EMERGENCY ROOM</td>\n",
       "      <td>REHAB</td>\n",
       "      <td>Other</td>\n",
       "      <td>SINGLE</td>\n",
       "      <td>UNKNOWN</td>\n",
       "      <td>0</td>\n",
       "      <td>0</td>\n",
       "      <td>57</td>\n",
       "      <td>...</td>\n",
       "      <td>2.0</td>\n",
       "      <td>0.0</td>\n",
       "      <td>0.0</td>\n",
       "      <td>0.0</td>\n",
       "      <td>0.0</td>\n",
       "      <td>1.0</td>\n",
       "      <td>0.0</td>\n",
       "      <td>0.0</td>\n",
       "      <td>11.0</td>\n",
       "      <td>6.0</td>\n",
       "    </tr>\n",
       "  </tbody>\n",
       "</table>\n",
       "<p>523740 rows × 38 columns</p>\n",
       "</div>"
      ],
      "text/plain": [
       "         hadm_id admission_type      admission_location discharge_location  \\\n",
       "0       25058216       ELECTIVE                 NO DATA               HOME   \n",
       "1       22595853         URGENT  TRANSFER FROM HOSPITAL               HOME   \n",
       "2       22841357       EW EMER.          EMERGENCY ROOM               HOME   \n",
       "3       29079034       EW EMER.          EMERGENCY ROOM               HOME   \n",
       "4       25742920       EW EMER.          EMERGENCY ROOM            HOSPICE   \n",
       "...          ...            ...                     ...                ...   \n",
       "523735  29734428       EW EMER.      PHYSICIAN REFERRAL   HOME HEALTH CARE   \n",
       "523736  25744818       EW EMER.  TRANSFER FROM HOSPITAL   HOME HEALTH CARE   \n",
       "523737  26071774       EW EMER.          EMERGENCY ROOM               HOME   \n",
       "523738  21033226       EW EMER.          EMERGENCY ROOM               DIED   \n",
       "523739  23865745       EW EMER.          EMERGENCY ROOM              REHAB   \n",
       "\n",
       "       insurance marital_status ethnicity  death  gender  age  ...  \\\n",
       "0          Other        MARRIED     WHITE      0       1    0  ...   \n",
       "1          Other        WIDOWED     WHITE      0       0   52  ...   \n",
       "2       Medicaid        WIDOWED     WHITE      0       0   52  ...   \n",
       "3       Medicaid        WIDOWED     WHITE      0       0   52  ...   \n",
       "4       Medicaid        WIDOWED     WHITE      0       0   52  ...   \n",
       "...          ...            ...       ...    ...     ...  ...  ...   \n",
       "523735     Other         SINGLE     WHITE      0       0   46  ...   \n",
       "523736     Other         SINGLE     WHITE      0       0   48  ...   \n",
       "523737     Other        WIDOWED     WHITE      0       1   58  ...   \n",
       "523738     Other        WIDOWED     WHITE      1       1   58  ...   \n",
       "523739     Other         SINGLE   UNKNOWN      0       0   57  ...   \n",
       "\n",
       "        icd_D_circulatory  icd_D_skin  icd_D_mental  \\\n",
       "0                     0.0         0.0           0.0   \n",
       "1                     0.0         0.0           2.0   \n",
       "2                     0.0         0.0           1.0   \n",
       "3                     1.0         0.0           2.0   \n",
       "4                     0.0         0.0           1.0   \n",
       "...                   ...         ...           ...   \n",
       "523735                4.0         0.0           2.0   \n",
       "523736                2.0         1.0           1.0   \n",
       "523737                4.0         0.0           1.0   \n",
       "523738                5.0         0.0           0.0   \n",
       "523739                2.0         0.0           0.0   \n",
       "\n",
       "        icd_D_morbidity_mortality_external  icd_D_ear  icd_D_eye  \\\n",
       "0                                      0.0        0.0        0.0   \n",
       "1                                      0.0        0.0        0.0   \n",
       "2                                      0.0        0.0        0.0   \n",
       "3                                      0.0        0.0        0.0   \n",
       "4                                      0.0        0.0        0.0   \n",
       "...                                    ...        ...        ...   \n",
       "523735                                 2.0        0.0        0.0   \n",
       "523736                                 2.0        0.0        0.0   \n",
       "523737                                 0.0        0.0        0.0   \n",
       "523738                                 0.0        0.0        0.0   \n",
       "523739                                 0.0        0.0        1.0   \n",
       "\n",
       "        icd_D_injury_poisoning_external  icd_D_perinatal  seq_max  seq_mean  \n",
       "0                                   0.0              1.0      4.0       2.5  \n",
       "1                                   0.0              0.0      8.0       4.5  \n",
       "2                                   0.0              0.0      8.0       4.5  \n",
       "3                                   0.0              0.0     13.0       7.0  \n",
       "4                                   0.0              0.0     10.0       5.5  \n",
       "...                                 ...              ...      ...       ...  \n",
       "523735                              2.0              0.0     22.0      11.5  \n",
       "523736                              2.0              0.0     19.0      10.0  \n",
       "523737                              0.0              0.0      7.0       4.0  \n",
       "523738                              1.0              0.0     12.0       6.5  \n",
       "523739                              0.0              0.0     11.0       6.0  \n",
       "\n",
       "[523740 rows x 38 columns]"
      ]
     },
     "execution_count": 224,
     "metadata": {},
     "output_type": "execute_result"
    }
   ],
   "source": [
    "merged"
   ]
  },
  {
   "cell_type": "markdown",
   "id": "4c56b3d7",
   "metadata": {},
   "source": [
    "Dopo il merge ci saranno osservazioni che non hanno dati per le features relative alle diagnosi\n",
    "in quanto quel dataset contiene meno osservazioni rispetto al dataset delle ammissioni.\\\n",
    "Elimino quindi le osservazioni che non hanno dati per quelle features."
   ]
  },
  {
   "cell_type": "code",
   "execution_count": 225,
   "id": "8548919e",
   "metadata": {},
   "outputs": [],
   "source": [
    "merged.dropna(inplace=True)"
   ]
  },
  {
   "cell_type": "code",
   "execution_count": 226,
   "id": "c3111c1c",
   "metadata": {},
   "outputs": [
    {
     "data": {
      "text/html": [
       "<div>\n",
       "<style scoped>\n",
       "    .dataframe tbody tr th:only-of-type {\n",
       "        vertical-align: middle;\n",
       "    }\n",
       "\n",
       "    .dataframe tbody tr th {\n",
       "        vertical-align: top;\n",
       "    }\n",
       "\n",
       "    .dataframe thead th {\n",
       "        text-align: right;\n",
       "    }\n",
       "</style>\n",
       "<table border=\"1\" class=\"dataframe\">\n",
       "  <thead>\n",
       "    <tr style=\"text-align: right;\">\n",
       "      <th></th>\n",
       "      <th>hadm_id</th>\n",
       "      <th>admission_type</th>\n",
       "      <th>admission_location</th>\n",
       "      <th>discharge_location</th>\n",
       "      <th>insurance</th>\n",
       "      <th>marital_status</th>\n",
       "      <th>ethnicity</th>\n",
       "      <th>death</th>\n",
       "      <th>gender</th>\n",
       "      <th>age</th>\n",
       "      <th>...</th>\n",
       "      <th>icd_D_circulatory</th>\n",
       "      <th>icd_D_skin</th>\n",
       "      <th>icd_D_mental</th>\n",
       "      <th>icd_D_morbidity_mortality_external</th>\n",
       "      <th>icd_D_ear</th>\n",
       "      <th>icd_D_eye</th>\n",
       "      <th>icd_D_injury_poisoning_external</th>\n",
       "      <th>icd_D_perinatal</th>\n",
       "      <th>seq_max</th>\n",
       "      <th>seq_mean</th>\n",
       "    </tr>\n",
       "  </thead>\n",
       "  <tbody>\n",
       "    <tr>\n",
       "      <th>0</th>\n",
       "      <td>25058216</td>\n",
       "      <td>ELECTIVE</td>\n",
       "      <td>NO DATA</td>\n",
       "      <td>HOME</td>\n",
       "      <td>Other</td>\n",
       "      <td>MARRIED</td>\n",
       "      <td>WHITE</td>\n",
       "      <td>0</td>\n",
       "      <td>1</td>\n",
       "      <td>0</td>\n",
       "      <td>...</td>\n",
       "      <td>0.0</td>\n",
       "      <td>0.0</td>\n",
       "      <td>0.0</td>\n",
       "      <td>0.0</td>\n",
       "      <td>0.0</td>\n",
       "      <td>0.0</td>\n",
       "      <td>0.0</td>\n",
       "      <td>1.0</td>\n",
       "      <td>4.0</td>\n",
       "      <td>2.5</td>\n",
       "    </tr>\n",
       "    <tr>\n",
       "      <th>1</th>\n",
       "      <td>22595853</td>\n",
       "      <td>URGENT</td>\n",
       "      <td>TRANSFER FROM HOSPITAL</td>\n",
       "      <td>HOME</td>\n",
       "      <td>Other</td>\n",
       "      <td>WIDOWED</td>\n",
       "      <td>WHITE</td>\n",
       "      <td>0</td>\n",
       "      <td>0</td>\n",
       "      <td>52</td>\n",
       "      <td>...</td>\n",
       "      <td>0.0</td>\n",
       "      <td>0.0</td>\n",
       "      <td>2.0</td>\n",
       "      <td>0.0</td>\n",
       "      <td>0.0</td>\n",
       "      <td>0.0</td>\n",
       "      <td>0.0</td>\n",
       "      <td>0.0</td>\n",
       "      <td>8.0</td>\n",
       "      <td>4.5</td>\n",
       "    </tr>\n",
       "    <tr>\n",
       "      <th>2</th>\n",
       "      <td>22841357</td>\n",
       "      <td>EW EMER.</td>\n",
       "      <td>EMERGENCY ROOM</td>\n",
       "      <td>HOME</td>\n",
       "      <td>Medicaid</td>\n",
       "      <td>WIDOWED</td>\n",
       "      <td>WHITE</td>\n",
       "      <td>0</td>\n",
       "      <td>0</td>\n",
       "      <td>52</td>\n",
       "      <td>...</td>\n",
       "      <td>0.0</td>\n",
       "      <td>0.0</td>\n",
       "      <td>1.0</td>\n",
       "      <td>0.0</td>\n",
       "      <td>0.0</td>\n",
       "      <td>0.0</td>\n",
       "      <td>0.0</td>\n",
       "      <td>0.0</td>\n",
       "      <td>8.0</td>\n",
       "      <td>4.5</td>\n",
       "    </tr>\n",
       "    <tr>\n",
       "      <th>3</th>\n",
       "      <td>29079034</td>\n",
       "      <td>EW EMER.</td>\n",
       "      <td>EMERGENCY ROOM</td>\n",
       "      <td>HOME</td>\n",
       "      <td>Medicaid</td>\n",
       "      <td>WIDOWED</td>\n",
       "      <td>WHITE</td>\n",
       "      <td>0</td>\n",
       "      <td>0</td>\n",
       "      <td>52</td>\n",
       "      <td>...</td>\n",
       "      <td>1.0</td>\n",
       "      <td>0.0</td>\n",
       "      <td>2.0</td>\n",
       "      <td>0.0</td>\n",
       "      <td>0.0</td>\n",
       "      <td>0.0</td>\n",
       "      <td>0.0</td>\n",
       "      <td>0.0</td>\n",
       "      <td>13.0</td>\n",
       "      <td>7.0</td>\n",
       "    </tr>\n",
       "    <tr>\n",
       "      <th>4</th>\n",
       "      <td>25742920</td>\n",
       "      <td>EW EMER.</td>\n",
       "      <td>EMERGENCY ROOM</td>\n",
       "      <td>HOSPICE</td>\n",
       "      <td>Medicaid</td>\n",
       "      <td>WIDOWED</td>\n",
       "      <td>WHITE</td>\n",
       "      <td>0</td>\n",
       "      <td>0</td>\n",
       "      <td>52</td>\n",
       "      <td>...</td>\n",
       "      <td>0.0</td>\n",
       "      <td>0.0</td>\n",
       "      <td>1.0</td>\n",
       "      <td>0.0</td>\n",
       "      <td>0.0</td>\n",
       "      <td>0.0</td>\n",
       "      <td>0.0</td>\n",
       "      <td>0.0</td>\n",
       "      <td>10.0</td>\n",
       "      <td>5.5</td>\n",
       "    </tr>\n",
       "    <tr>\n",
       "      <th>...</th>\n",
       "      <td>...</td>\n",
       "      <td>...</td>\n",
       "      <td>...</td>\n",
       "      <td>...</td>\n",
       "      <td>...</td>\n",
       "      <td>...</td>\n",
       "      <td>...</td>\n",
       "      <td>...</td>\n",
       "      <td>...</td>\n",
       "      <td>...</td>\n",
       "      <td>...</td>\n",
       "      <td>...</td>\n",
       "      <td>...</td>\n",
       "      <td>...</td>\n",
       "      <td>...</td>\n",
       "      <td>...</td>\n",
       "      <td>...</td>\n",
       "      <td>...</td>\n",
       "      <td>...</td>\n",
       "      <td>...</td>\n",
       "      <td>...</td>\n",
       "    </tr>\n",
       "    <tr>\n",
       "      <th>523735</th>\n",
       "      <td>29734428</td>\n",
       "      <td>EW EMER.</td>\n",
       "      <td>PHYSICIAN REFERRAL</td>\n",
       "      <td>HOME HEALTH CARE</td>\n",
       "      <td>Other</td>\n",
       "      <td>SINGLE</td>\n",
       "      <td>WHITE</td>\n",
       "      <td>0</td>\n",
       "      <td>0</td>\n",
       "      <td>46</td>\n",
       "      <td>...</td>\n",
       "      <td>4.0</td>\n",
       "      <td>0.0</td>\n",
       "      <td>2.0</td>\n",
       "      <td>2.0</td>\n",
       "      <td>0.0</td>\n",
       "      <td>0.0</td>\n",
       "      <td>2.0</td>\n",
       "      <td>0.0</td>\n",
       "      <td>22.0</td>\n",
       "      <td>11.5</td>\n",
       "    </tr>\n",
       "    <tr>\n",
       "      <th>523736</th>\n",
       "      <td>25744818</td>\n",
       "      <td>EW EMER.</td>\n",
       "      <td>TRANSFER FROM HOSPITAL</td>\n",
       "      <td>HOME HEALTH CARE</td>\n",
       "      <td>Other</td>\n",
       "      <td>SINGLE</td>\n",
       "      <td>WHITE</td>\n",
       "      <td>0</td>\n",
       "      <td>0</td>\n",
       "      <td>48</td>\n",
       "      <td>...</td>\n",
       "      <td>2.0</td>\n",
       "      <td>1.0</td>\n",
       "      <td>1.0</td>\n",
       "      <td>2.0</td>\n",
       "      <td>0.0</td>\n",
       "      <td>0.0</td>\n",
       "      <td>2.0</td>\n",
       "      <td>0.0</td>\n",
       "      <td>19.0</td>\n",
       "      <td>10.0</td>\n",
       "    </tr>\n",
       "    <tr>\n",
       "      <th>523737</th>\n",
       "      <td>26071774</td>\n",
       "      <td>EW EMER.</td>\n",
       "      <td>EMERGENCY ROOM</td>\n",
       "      <td>HOME</td>\n",
       "      <td>Other</td>\n",
       "      <td>WIDOWED</td>\n",
       "      <td>WHITE</td>\n",
       "      <td>0</td>\n",
       "      <td>1</td>\n",
       "      <td>58</td>\n",
       "      <td>...</td>\n",
       "      <td>4.0</td>\n",
       "      <td>0.0</td>\n",
       "      <td>1.0</td>\n",
       "      <td>0.0</td>\n",
       "      <td>0.0</td>\n",
       "      <td>0.0</td>\n",
       "      <td>0.0</td>\n",
       "      <td>0.0</td>\n",
       "      <td>7.0</td>\n",
       "      <td>4.0</td>\n",
       "    </tr>\n",
       "    <tr>\n",
       "      <th>523738</th>\n",
       "      <td>21033226</td>\n",
       "      <td>EW EMER.</td>\n",
       "      <td>EMERGENCY ROOM</td>\n",
       "      <td>DIED</td>\n",
       "      <td>Other</td>\n",
       "      <td>WIDOWED</td>\n",
       "      <td>WHITE</td>\n",
       "      <td>1</td>\n",
       "      <td>1</td>\n",
       "      <td>58</td>\n",
       "      <td>...</td>\n",
       "      <td>5.0</td>\n",
       "      <td>0.0</td>\n",
       "      <td>0.0</td>\n",
       "      <td>0.0</td>\n",
       "      <td>0.0</td>\n",
       "      <td>0.0</td>\n",
       "      <td>1.0</td>\n",
       "      <td>0.0</td>\n",
       "      <td>12.0</td>\n",
       "      <td>6.5</td>\n",
       "    </tr>\n",
       "    <tr>\n",
       "      <th>523739</th>\n",
       "      <td>23865745</td>\n",
       "      <td>EW EMER.</td>\n",
       "      <td>EMERGENCY ROOM</td>\n",
       "      <td>REHAB</td>\n",
       "      <td>Other</td>\n",
       "      <td>SINGLE</td>\n",
       "      <td>UNKNOWN</td>\n",
       "      <td>0</td>\n",
       "      <td>0</td>\n",
       "      <td>57</td>\n",
       "      <td>...</td>\n",
       "      <td>2.0</td>\n",
       "      <td>0.0</td>\n",
       "      <td>0.0</td>\n",
       "      <td>0.0</td>\n",
       "      <td>0.0</td>\n",
       "      <td>1.0</td>\n",
       "      <td>0.0</td>\n",
       "      <td>0.0</td>\n",
       "      <td>11.0</td>\n",
       "      <td>6.0</td>\n",
       "    </tr>\n",
       "  </tbody>\n",
       "</table>\n",
       "<p>521110 rows × 38 columns</p>\n",
       "</div>"
      ],
      "text/plain": [
       "         hadm_id admission_type      admission_location discharge_location  \\\n",
       "0       25058216       ELECTIVE                 NO DATA               HOME   \n",
       "1       22595853         URGENT  TRANSFER FROM HOSPITAL               HOME   \n",
       "2       22841357       EW EMER.          EMERGENCY ROOM               HOME   \n",
       "3       29079034       EW EMER.          EMERGENCY ROOM               HOME   \n",
       "4       25742920       EW EMER.          EMERGENCY ROOM            HOSPICE   \n",
       "...          ...            ...                     ...                ...   \n",
       "523735  29734428       EW EMER.      PHYSICIAN REFERRAL   HOME HEALTH CARE   \n",
       "523736  25744818       EW EMER.  TRANSFER FROM HOSPITAL   HOME HEALTH CARE   \n",
       "523737  26071774       EW EMER.          EMERGENCY ROOM               HOME   \n",
       "523738  21033226       EW EMER.          EMERGENCY ROOM               DIED   \n",
       "523739  23865745       EW EMER.          EMERGENCY ROOM              REHAB   \n",
       "\n",
       "       insurance marital_status ethnicity  death  gender  age  ...  \\\n",
       "0          Other        MARRIED     WHITE      0       1    0  ...   \n",
       "1          Other        WIDOWED     WHITE      0       0   52  ...   \n",
       "2       Medicaid        WIDOWED     WHITE      0       0   52  ...   \n",
       "3       Medicaid        WIDOWED     WHITE      0       0   52  ...   \n",
       "4       Medicaid        WIDOWED     WHITE      0       0   52  ...   \n",
       "...          ...            ...       ...    ...     ...  ...  ...   \n",
       "523735     Other         SINGLE     WHITE      0       0   46  ...   \n",
       "523736     Other         SINGLE     WHITE      0       0   48  ...   \n",
       "523737     Other        WIDOWED     WHITE      0       1   58  ...   \n",
       "523738     Other        WIDOWED     WHITE      1       1   58  ...   \n",
       "523739     Other         SINGLE   UNKNOWN      0       0   57  ...   \n",
       "\n",
       "        icd_D_circulatory  icd_D_skin  icd_D_mental  \\\n",
       "0                     0.0         0.0           0.0   \n",
       "1                     0.0         0.0           2.0   \n",
       "2                     0.0         0.0           1.0   \n",
       "3                     1.0         0.0           2.0   \n",
       "4                     0.0         0.0           1.0   \n",
       "...                   ...         ...           ...   \n",
       "523735                4.0         0.0           2.0   \n",
       "523736                2.0         1.0           1.0   \n",
       "523737                4.0         0.0           1.0   \n",
       "523738                5.0         0.0           0.0   \n",
       "523739                2.0         0.0           0.0   \n",
       "\n",
       "        icd_D_morbidity_mortality_external  icd_D_ear  icd_D_eye  \\\n",
       "0                                      0.0        0.0        0.0   \n",
       "1                                      0.0        0.0        0.0   \n",
       "2                                      0.0        0.0        0.0   \n",
       "3                                      0.0        0.0        0.0   \n",
       "4                                      0.0        0.0        0.0   \n",
       "...                                    ...        ...        ...   \n",
       "523735                                 2.0        0.0        0.0   \n",
       "523736                                 2.0        0.0        0.0   \n",
       "523737                                 0.0        0.0        0.0   \n",
       "523738                                 0.0        0.0        0.0   \n",
       "523739                                 0.0        0.0        1.0   \n",
       "\n",
       "        icd_D_injury_poisoning_external  icd_D_perinatal  seq_max  seq_mean  \n",
       "0                                   0.0              1.0      4.0       2.5  \n",
       "1                                   0.0              0.0      8.0       4.5  \n",
       "2                                   0.0              0.0      8.0       4.5  \n",
       "3                                   0.0              0.0     13.0       7.0  \n",
       "4                                   0.0              0.0     10.0       5.5  \n",
       "...                                 ...              ...      ...       ...  \n",
       "523735                              2.0              0.0     22.0      11.5  \n",
       "523736                              2.0              0.0     19.0      10.0  \n",
       "523737                              0.0              0.0      7.0       4.0  \n",
       "523738                              1.0              0.0     12.0       6.5  \n",
       "523739                              0.0              0.0     11.0       6.0  \n",
       "\n",
       "[521110 rows x 38 columns]"
      ]
     },
     "execution_count": 226,
     "metadata": {},
     "output_type": "execute_result"
    }
   ],
   "source": [
    "merged"
   ]
  },
  {
   "cell_type": "markdown",
   "id": "374194fc",
   "metadata": {},
   "source": [
    "controllo se ci siano ancora missing values"
   ]
  },
  {
   "cell_type": "code",
   "execution_count": 227,
   "id": "afb1509a",
   "metadata": {},
   "outputs": [
    {
     "data": {
      "text/html": [
       "<div>\n",
       "<style scoped>\n",
       "    .dataframe tbody tr th:only-of-type {\n",
       "        vertical-align: middle;\n",
       "    }\n",
       "\n",
       "    .dataframe tbody tr th {\n",
       "        vertical-align: top;\n",
       "    }\n",
       "\n",
       "    .dataframe thead th {\n",
       "        text-align: right;\n",
       "    }\n",
       "</style>\n",
       "<table border=\"1\" class=\"dataframe\">\n",
       "  <thead>\n",
       "    <tr style=\"text-align: right;\">\n",
       "      <th></th>\n",
       "      <th>0</th>\n",
       "    </tr>\n",
       "  </thead>\n",
       "  <tbody>\n",
       "    <tr>\n",
       "      <th>hadm_id</th>\n",
       "      <td>False</td>\n",
       "    </tr>\n",
       "    <tr>\n",
       "      <th>admission_type</th>\n",
       "      <td>False</td>\n",
       "    </tr>\n",
       "    <tr>\n",
       "      <th>admission_location</th>\n",
       "      <td>False</td>\n",
       "    </tr>\n",
       "    <tr>\n",
       "      <th>discharge_location</th>\n",
       "      <td>False</td>\n",
       "    </tr>\n",
       "    <tr>\n",
       "      <th>insurance</th>\n",
       "      <td>False</td>\n",
       "    </tr>\n",
       "    <tr>\n",
       "      <th>marital_status</th>\n",
       "      <td>False</td>\n",
       "    </tr>\n",
       "    <tr>\n",
       "      <th>ethnicity</th>\n",
       "      <td>False</td>\n",
       "    </tr>\n",
       "    <tr>\n",
       "      <th>death</th>\n",
       "      <td>False</td>\n",
       "    </tr>\n",
       "    <tr>\n",
       "      <th>gender</th>\n",
       "      <td>False</td>\n",
       "    </tr>\n",
       "    <tr>\n",
       "      <th>age</th>\n",
       "      <td>False</td>\n",
       "    </tr>\n",
       "    <tr>\n",
       "      <th>riad 30d</th>\n",
       "      <td>False</td>\n",
       "    </tr>\n",
       "    <tr>\n",
       "      <th>riad 90d</th>\n",
       "      <td>False</td>\n",
       "    </tr>\n",
       "    <tr>\n",
       "      <th>riad 365d</th>\n",
       "      <td>False</td>\n",
       "    </tr>\n",
       "    <tr>\n",
       "      <th>riad +365d</th>\n",
       "      <td>False</td>\n",
       "    </tr>\n",
       "    <tr>\n",
       "      <th>icd_D_blood</th>\n",
       "      <td>False</td>\n",
       "    </tr>\n",
       "    <tr>\n",
       "      <th>icd_D_health_status</th>\n",
       "      <td>False</td>\n",
       "    </tr>\n",
       "    <tr>\n",
       "      <th>icd_D_pregnancy</th>\n",
       "      <td>False</td>\n",
       "    </tr>\n",
       "    <tr>\n",
       "      <th>icd_D_abnormal</th>\n",
       "      <td>False</td>\n",
       "    </tr>\n",
       "    <tr>\n",
       "      <th>icd_D_chromosomal</th>\n",
       "      <td>False</td>\n",
       "    </tr>\n",
       "    <tr>\n",
       "      <th>icd_D_infectious_parasitic</th>\n",
       "      <td>False</td>\n",
       "    </tr>\n",
       "    <tr>\n",
       "      <th>icd_D_musculoskeletal</th>\n",
       "      <td>False</td>\n",
       "    </tr>\n",
       "    <tr>\n",
       "      <th>icd_D_nervous_system</th>\n",
       "      <td>False</td>\n",
       "    </tr>\n",
       "    <tr>\n",
       "      <th>icd_D_neoplasms</th>\n",
       "      <td>False</td>\n",
       "    </tr>\n",
       "    <tr>\n",
       "      <th>icd_D_digestive</th>\n",
       "      <td>False</td>\n",
       "    </tr>\n",
       "    <tr>\n",
       "      <th>icd_D_unknown</th>\n",
       "      <td>False</td>\n",
       "    </tr>\n",
       "    <tr>\n",
       "      <th>icd_D_genitourinary</th>\n",
       "      <td>False</td>\n",
       "    </tr>\n",
       "    <tr>\n",
       "      <th>icd_D_endocrine_nutritional</th>\n",
       "      <td>False</td>\n",
       "    </tr>\n",
       "    <tr>\n",
       "      <th>icd_D_respiratory</th>\n",
       "      <td>False</td>\n",
       "    </tr>\n",
       "    <tr>\n",
       "      <th>icd_D_circulatory</th>\n",
       "      <td>False</td>\n",
       "    </tr>\n",
       "    <tr>\n",
       "      <th>icd_D_skin</th>\n",
       "      <td>False</td>\n",
       "    </tr>\n",
       "    <tr>\n",
       "      <th>icd_D_mental</th>\n",
       "      <td>False</td>\n",
       "    </tr>\n",
       "    <tr>\n",
       "      <th>icd_D_morbidity_mortality_external</th>\n",
       "      <td>False</td>\n",
       "    </tr>\n",
       "    <tr>\n",
       "      <th>icd_D_ear</th>\n",
       "      <td>False</td>\n",
       "    </tr>\n",
       "    <tr>\n",
       "      <th>icd_D_eye</th>\n",
       "      <td>False</td>\n",
       "    </tr>\n",
       "    <tr>\n",
       "      <th>icd_D_injury_poisoning_external</th>\n",
       "      <td>False</td>\n",
       "    </tr>\n",
       "    <tr>\n",
       "      <th>icd_D_perinatal</th>\n",
       "      <td>False</td>\n",
       "    </tr>\n",
       "    <tr>\n",
       "      <th>seq_max</th>\n",
       "      <td>False</td>\n",
       "    </tr>\n",
       "    <tr>\n",
       "      <th>seq_mean</th>\n",
       "      <td>False</td>\n",
       "    </tr>\n",
       "  </tbody>\n",
       "</table>\n",
       "</div>"
      ],
      "text/plain": [
       "                                        0\n",
       "hadm_id                             False\n",
       "admission_type                      False\n",
       "admission_location                  False\n",
       "discharge_location                  False\n",
       "insurance                           False\n",
       "marital_status                      False\n",
       "ethnicity                           False\n",
       "death                               False\n",
       "gender                              False\n",
       "age                                 False\n",
       "riad 30d                            False\n",
       "riad 90d                            False\n",
       "riad 365d                           False\n",
       "riad +365d                          False\n",
       "icd_D_blood                         False\n",
       "icd_D_health_status                 False\n",
       "icd_D_pregnancy                     False\n",
       "icd_D_abnormal                      False\n",
       "icd_D_chromosomal                   False\n",
       "icd_D_infectious_parasitic          False\n",
       "icd_D_musculoskeletal               False\n",
       "icd_D_nervous_system                False\n",
       "icd_D_neoplasms                     False\n",
       "icd_D_digestive                     False\n",
       "icd_D_unknown                       False\n",
       "icd_D_genitourinary                 False\n",
       "icd_D_endocrine_nutritional         False\n",
       "icd_D_respiratory                   False\n",
       "icd_D_circulatory                   False\n",
       "icd_D_skin                          False\n",
       "icd_D_mental                        False\n",
       "icd_D_morbidity_mortality_external  False\n",
       "icd_D_ear                           False\n",
       "icd_D_eye                           False\n",
       "icd_D_injury_poisoning_external     False\n",
       "icd_D_perinatal                     False\n",
       "seq_max                             False\n",
       "seq_mean                            False"
      ]
     },
     "execution_count": 227,
     "metadata": {},
     "output_type": "execute_result"
    }
   ],
   "source": [
    "merged.isna().any().to_frame()"
   ]
  },
  {
   "cell_type": "markdown",
   "id": "a78fd7ec",
   "metadata": {},
   "source": [
    "non ci sono missing data.\n",
    "\n",
    "posso a questo punto eliminare l'hadm_id su cui ho effettuato il merge"
   ]
  },
  {
   "cell_type": "code",
   "execution_count": 228,
   "id": "b7706432",
   "metadata": {},
   "outputs": [],
   "source": [
    "merged.drop([\"hadm_id\"], axis=1, inplace=True)"
   ]
  },
  {
   "cell_type": "code",
   "execution_count": 229,
   "id": "1771f639",
   "metadata": {},
   "outputs": [
    {
     "data": {
      "text/html": [
       "<div>\n",
       "<style scoped>\n",
       "    .dataframe tbody tr th:only-of-type {\n",
       "        vertical-align: middle;\n",
       "    }\n",
       "\n",
       "    .dataframe tbody tr th {\n",
       "        vertical-align: top;\n",
       "    }\n",
       "\n",
       "    .dataframe thead th {\n",
       "        text-align: right;\n",
       "    }\n",
       "</style>\n",
       "<table border=\"1\" class=\"dataframe\">\n",
       "  <thead>\n",
       "    <tr style=\"text-align: right;\">\n",
       "      <th></th>\n",
       "      <th>admission_type</th>\n",
       "      <th>admission_location</th>\n",
       "      <th>discharge_location</th>\n",
       "      <th>insurance</th>\n",
       "      <th>marital_status</th>\n",
       "      <th>ethnicity</th>\n",
       "      <th>death</th>\n",
       "      <th>gender</th>\n",
       "      <th>age</th>\n",
       "      <th>riad 30d</th>\n",
       "      <th>...</th>\n",
       "      <th>icd_D_circulatory</th>\n",
       "      <th>icd_D_skin</th>\n",
       "      <th>icd_D_mental</th>\n",
       "      <th>icd_D_morbidity_mortality_external</th>\n",
       "      <th>icd_D_ear</th>\n",
       "      <th>icd_D_eye</th>\n",
       "      <th>icd_D_injury_poisoning_external</th>\n",
       "      <th>icd_D_perinatal</th>\n",
       "      <th>seq_max</th>\n",
       "      <th>seq_mean</th>\n",
       "    </tr>\n",
       "  </thead>\n",
       "  <tbody>\n",
       "    <tr>\n",
       "      <th>0</th>\n",
       "      <td>ELECTIVE</td>\n",
       "      <td>NO DATA</td>\n",
       "      <td>HOME</td>\n",
       "      <td>Other</td>\n",
       "      <td>MARRIED</td>\n",
       "      <td>WHITE</td>\n",
       "      <td>0</td>\n",
       "      <td>1</td>\n",
       "      <td>0</td>\n",
       "      <td>0</td>\n",
       "      <td>...</td>\n",
       "      <td>0.0</td>\n",
       "      <td>0.0</td>\n",
       "      <td>0.0</td>\n",
       "      <td>0.0</td>\n",
       "      <td>0.0</td>\n",
       "      <td>0.0</td>\n",
       "      <td>0.0</td>\n",
       "      <td>1.0</td>\n",
       "      <td>4.0</td>\n",
       "      <td>2.5</td>\n",
       "    </tr>\n",
       "    <tr>\n",
       "      <th>1</th>\n",
       "      <td>URGENT</td>\n",
       "      <td>TRANSFER FROM HOSPITAL</td>\n",
       "      <td>HOME</td>\n",
       "      <td>Other</td>\n",
       "      <td>WIDOWED</td>\n",
       "      <td>WHITE</td>\n",
       "      <td>0</td>\n",
       "      <td>0</td>\n",
       "      <td>52</td>\n",
       "      <td>0</td>\n",
       "      <td>...</td>\n",
       "      <td>0.0</td>\n",
       "      <td>0.0</td>\n",
       "      <td>2.0</td>\n",
       "      <td>0.0</td>\n",
       "      <td>0.0</td>\n",
       "      <td>0.0</td>\n",
       "      <td>0.0</td>\n",
       "      <td>0.0</td>\n",
       "      <td>8.0</td>\n",
       "      <td>4.5</td>\n",
       "    </tr>\n",
       "    <tr>\n",
       "      <th>2</th>\n",
       "      <td>EW EMER.</td>\n",
       "      <td>EMERGENCY ROOM</td>\n",
       "      <td>HOME</td>\n",
       "      <td>Medicaid</td>\n",
       "      <td>WIDOWED</td>\n",
       "      <td>WHITE</td>\n",
       "      <td>0</td>\n",
       "      <td>0</td>\n",
       "      <td>52</td>\n",
       "      <td>1</td>\n",
       "      <td>...</td>\n",
       "      <td>0.0</td>\n",
       "      <td>0.0</td>\n",
       "      <td>1.0</td>\n",
       "      <td>0.0</td>\n",
       "      <td>0.0</td>\n",
       "      <td>0.0</td>\n",
       "      <td>0.0</td>\n",
       "      <td>0.0</td>\n",
       "      <td>8.0</td>\n",
       "      <td>4.5</td>\n",
       "    </tr>\n",
       "    <tr>\n",
       "      <th>3</th>\n",
       "      <td>EW EMER.</td>\n",
       "      <td>EMERGENCY ROOM</td>\n",
       "      <td>HOME</td>\n",
       "      <td>Medicaid</td>\n",
       "      <td>WIDOWED</td>\n",
       "      <td>WHITE</td>\n",
       "      <td>0</td>\n",
       "      <td>0</td>\n",
       "      <td>52</td>\n",
       "      <td>1</td>\n",
       "      <td>...</td>\n",
       "      <td>1.0</td>\n",
       "      <td>0.0</td>\n",
       "      <td>2.0</td>\n",
       "      <td>0.0</td>\n",
       "      <td>0.0</td>\n",
       "      <td>0.0</td>\n",
       "      <td>0.0</td>\n",
       "      <td>0.0</td>\n",
       "      <td>13.0</td>\n",
       "      <td>7.0</td>\n",
       "    </tr>\n",
       "    <tr>\n",
       "      <th>4</th>\n",
       "      <td>EW EMER.</td>\n",
       "      <td>EMERGENCY ROOM</td>\n",
       "      <td>HOSPICE</td>\n",
       "      <td>Medicaid</td>\n",
       "      <td>WIDOWED</td>\n",
       "      <td>WHITE</td>\n",
       "      <td>0</td>\n",
       "      <td>0</td>\n",
       "      <td>52</td>\n",
       "      <td>0</td>\n",
       "      <td>...</td>\n",
       "      <td>0.0</td>\n",
       "      <td>0.0</td>\n",
       "      <td>1.0</td>\n",
       "      <td>0.0</td>\n",
       "      <td>0.0</td>\n",
       "      <td>0.0</td>\n",
       "      <td>0.0</td>\n",
       "      <td>0.0</td>\n",
       "      <td>10.0</td>\n",
       "      <td>5.5</td>\n",
       "    </tr>\n",
       "    <tr>\n",
       "      <th>...</th>\n",
       "      <td>...</td>\n",
       "      <td>...</td>\n",
       "      <td>...</td>\n",
       "      <td>...</td>\n",
       "      <td>...</td>\n",
       "      <td>...</td>\n",
       "      <td>...</td>\n",
       "      <td>...</td>\n",
       "      <td>...</td>\n",
       "      <td>...</td>\n",
       "      <td>...</td>\n",
       "      <td>...</td>\n",
       "      <td>...</td>\n",
       "      <td>...</td>\n",
       "      <td>...</td>\n",
       "      <td>...</td>\n",
       "      <td>...</td>\n",
       "      <td>...</td>\n",
       "      <td>...</td>\n",
       "      <td>...</td>\n",
       "      <td>...</td>\n",
       "    </tr>\n",
       "    <tr>\n",
       "      <th>523735</th>\n",
       "      <td>EW EMER.</td>\n",
       "      <td>PHYSICIAN REFERRAL</td>\n",
       "      <td>HOME HEALTH CARE</td>\n",
       "      <td>Other</td>\n",
       "      <td>SINGLE</td>\n",
       "      <td>WHITE</td>\n",
       "      <td>0</td>\n",
       "      <td>0</td>\n",
       "      <td>46</td>\n",
       "      <td>0</td>\n",
       "      <td>...</td>\n",
       "      <td>4.0</td>\n",
       "      <td>0.0</td>\n",
       "      <td>2.0</td>\n",
       "      <td>2.0</td>\n",
       "      <td>0.0</td>\n",
       "      <td>0.0</td>\n",
       "      <td>2.0</td>\n",
       "      <td>0.0</td>\n",
       "      <td>22.0</td>\n",
       "      <td>11.5</td>\n",
       "    </tr>\n",
       "    <tr>\n",
       "      <th>523736</th>\n",
       "      <td>EW EMER.</td>\n",
       "      <td>TRANSFER FROM HOSPITAL</td>\n",
       "      <td>HOME HEALTH CARE</td>\n",
       "      <td>Other</td>\n",
       "      <td>SINGLE</td>\n",
       "      <td>WHITE</td>\n",
       "      <td>0</td>\n",
       "      <td>0</td>\n",
       "      <td>48</td>\n",
       "      <td>0</td>\n",
       "      <td>...</td>\n",
       "      <td>2.0</td>\n",
       "      <td>1.0</td>\n",
       "      <td>1.0</td>\n",
       "      <td>2.0</td>\n",
       "      <td>0.0</td>\n",
       "      <td>0.0</td>\n",
       "      <td>2.0</td>\n",
       "      <td>0.0</td>\n",
       "      <td>19.0</td>\n",
       "      <td>10.0</td>\n",
       "    </tr>\n",
       "    <tr>\n",
       "      <th>523737</th>\n",
       "      <td>EW EMER.</td>\n",
       "      <td>EMERGENCY ROOM</td>\n",
       "      <td>HOME</td>\n",
       "      <td>Other</td>\n",
       "      <td>WIDOWED</td>\n",
       "      <td>WHITE</td>\n",
       "      <td>0</td>\n",
       "      <td>1</td>\n",
       "      <td>58</td>\n",
       "      <td>0</td>\n",
       "      <td>...</td>\n",
       "      <td>4.0</td>\n",
       "      <td>0.0</td>\n",
       "      <td>1.0</td>\n",
       "      <td>0.0</td>\n",
       "      <td>0.0</td>\n",
       "      <td>0.0</td>\n",
       "      <td>0.0</td>\n",
       "      <td>0.0</td>\n",
       "      <td>7.0</td>\n",
       "      <td>4.0</td>\n",
       "    </tr>\n",
       "    <tr>\n",
       "      <th>523738</th>\n",
       "      <td>EW EMER.</td>\n",
       "      <td>EMERGENCY ROOM</td>\n",
       "      <td>DIED</td>\n",
       "      <td>Other</td>\n",
       "      <td>WIDOWED</td>\n",
       "      <td>WHITE</td>\n",
       "      <td>1</td>\n",
       "      <td>1</td>\n",
       "      <td>58</td>\n",
       "      <td>0</td>\n",
       "      <td>...</td>\n",
       "      <td>5.0</td>\n",
       "      <td>0.0</td>\n",
       "      <td>0.0</td>\n",
       "      <td>0.0</td>\n",
       "      <td>0.0</td>\n",
       "      <td>0.0</td>\n",
       "      <td>1.0</td>\n",
       "      <td>0.0</td>\n",
       "      <td>12.0</td>\n",
       "      <td>6.5</td>\n",
       "    </tr>\n",
       "    <tr>\n",
       "      <th>523739</th>\n",
       "      <td>EW EMER.</td>\n",
       "      <td>EMERGENCY ROOM</td>\n",
       "      <td>REHAB</td>\n",
       "      <td>Other</td>\n",
       "      <td>SINGLE</td>\n",
       "      <td>UNKNOWN</td>\n",
       "      <td>0</td>\n",
       "      <td>0</td>\n",
       "      <td>57</td>\n",
       "      <td>0</td>\n",
       "      <td>...</td>\n",
       "      <td>2.0</td>\n",
       "      <td>0.0</td>\n",
       "      <td>0.0</td>\n",
       "      <td>0.0</td>\n",
       "      <td>0.0</td>\n",
       "      <td>1.0</td>\n",
       "      <td>0.0</td>\n",
       "      <td>0.0</td>\n",
       "      <td>11.0</td>\n",
       "      <td>6.0</td>\n",
       "    </tr>\n",
       "  </tbody>\n",
       "</table>\n",
       "<p>521110 rows × 37 columns</p>\n",
       "</div>"
      ],
      "text/plain": [
       "       admission_type      admission_location discharge_location insurance  \\\n",
       "0            ELECTIVE                 NO DATA               HOME     Other   \n",
       "1              URGENT  TRANSFER FROM HOSPITAL               HOME     Other   \n",
       "2            EW EMER.          EMERGENCY ROOM               HOME  Medicaid   \n",
       "3            EW EMER.          EMERGENCY ROOM               HOME  Medicaid   \n",
       "4            EW EMER.          EMERGENCY ROOM            HOSPICE  Medicaid   \n",
       "...               ...                     ...                ...       ...   \n",
       "523735       EW EMER.      PHYSICIAN REFERRAL   HOME HEALTH CARE     Other   \n",
       "523736       EW EMER.  TRANSFER FROM HOSPITAL   HOME HEALTH CARE     Other   \n",
       "523737       EW EMER.          EMERGENCY ROOM               HOME     Other   \n",
       "523738       EW EMER.          EMERGENCY ROOM               DIED     Other   \n",
       "523739       EW EMER.          EMERGENCY ROOM              REHAB     Other   \n",
       "\n",
       "       marital_status ethnicity  death  gender  age  riad 30d  ...  \\\n",
       "0             MARRIED     WHITE      0       1    0         0  ...   \n",
       "1             WIDOWED     WHITE      0       0   52         0  ...   \n",
       "2             WIDOWED     WHITE      0       0   52         1  ...   \n",
       "3             WIDOWED     WHITE      0       0   52         1  ...   \n",
       "4             WIDOWED     WHITE      0       0   52         0  ...   \n",
       "...               ...       ...    ...     ...  ...       ...  ...   \n",
       "523735         SINGLE     WHITE      0       0   46         0  ...   \n",
       "523736         SINGLE     WHITE      0       0   48         0  ...   \n",
       "523737        WIDOWED     WHITE      0       1   58         0  ...   \n",
       "523738        WIDOWED     WHITE      1       1   58         0  ...   \n",
       "523739         SINGLE   UNKNOWN      0       0   57         0  ...   \n",
       "\n",
       "        icd_D_circulatory  icd_D_skin  icd_D_mental  \\\n",
       "0                     0.0         0.0           0.0   \n",
       "1                     0.0         0.0           2.0   \n",
       "2                     0.0         0.0           1.0   \n",
       "3                     1.0         0.0           2.0   \n",
       "4                     0.0         0.0           1.0   \n",
       "...                   ...         ...           ...   \n",
       "523735                4.0         0.0           2.0   \n",
       "523736                2.0         1.0           1.0   \n",
       "523737                4.0         0.0           1.0   \n",
       "523738                5.0         0.0           0.0   \n",
       "523739                2.0         0.0           0.0   \n",
       "\n",
       "        icd_D_morbidity_mortality_external  icd_D_ear  icd_D_eye  \\\n",
       "0                                      0.0        0.0        0.0   \n",
       "1                                      0.0        0.0        0.0   \n",
       "2                                      0.0        0.0        0.0   \n",
       "3                                      0.0        0.0        0.0   \n",
       "4                                      0.0        0.0        0.0   \n",
       "...                                    ...        ...        ...   \n",
       "523735                                 2.0        0.0        0.0   \n",
       "523736                                 2.0        0.0        0.0   \n",
       "523737                                 0.0        0.0        0.0   \n",
       "523738                                 0.0        0.0        0.0   \n",
       "523739                                 0.0        0.0        1.0   \n",
       "\n",
       "        icd_D_injury_poisoning_external  icd_D_perinatal  seq_max  seq_mean  \n",
       "0                                   0.0              1.0      4.0       2.5  \n",
       "1                                   0.0              0.0      8.0       4.5  \n",
       "2                                   0.0              0.0      8.0       4.5  \n",
       "3                                   0.0              0.0     13.0       7.0  \n",
       "4                                   0.0              0.0     10.0       5.5  \n",
       "...                                 ...              ...      ...       ...  \n",
       "523735                              2.0              0.0     22.0      11.5  \n",
       "523736                              2.0              0.0     19.0      10.0  \n",
       "523737                              0.0              0.0      7.0       4.0  \n",
       "523738                              1.0              0.0     12.0       6.5  \n",
       "523739                              0.0              0.0     11.0       6.0  \n",
       "\n",
       "[521110 rows x 37 columns]"
      ]
     },
     "execution_count": 229,
     "metadata": {},
     "output_type": "execute_result"
    }
   ],
   "source": [
    "merged"
   ]
  },
  {
   "cell_type": "markdown",
   "id": "2a304884",
   "metadata": {},
   "source": [
    "# ONE-HOT ENCODING"
   ]
  },
  {
   "cell_type": "markdown",
   "id": "3572ea64",
   "metadata": {},
   "source": [
    "utilizzo l'encoding con creazione di dummy variables per ridurre il numero di nuove dummy variables create "
   ]
  },
  {
   "cell_type": "code",
   "execution_count": 230,
   "id": "513540bf",
   "metadata": {},
   "outputs": [],
   "source": [
    "merged_prepared = merged.copy()"
   ]
  },
  {
   "cell_type": "code",
   "execution_count": 231,
   "id": "c77dab8a",
   "metadata": {},
   "outputs": [],
   "source": [
    "merged_prepared = pd.get_dummies(merged_prepared, columns=['admission_type'], prefix='admT_', drop_first=True)\n",
    "merged_prepared = pd.get_dummies(merged_prepared, columns=['admission_location'], prefix='admL_', drop_first=True)\n",
    "merged_prepared = pd.get_dummies(merged_prepared, columns=['discharge_location'], prefix='disL_', drop_first=True)\n",
    "merged_prepared = pd.get_dummies(merged_prepared, columns=['ethnicity'], prefix='ethn_', drop_first=True)\n",
    "merged_prepared = pd.get_dummies(merged_prepared, columns=['insurance'], prefix='ins_', drop_first=True)\n",
    "merged_prepared = pd.get_dummies(merged_prepared, columns=['marital_status'], prefix='maritalS_', drop_first=True)"
   ]
  },
  {
   "cell_type": "code",
   "execution_count": 232,
   "id": "f57dcefa",
   "metadata": {},
   "outputs": [
    {
     "data": {
      "text/html": [
       "<div>\n",
       "<style scoped>\n",
       "    .dataframe tbody tr th:only-of-type {\n",
       "        vertical-align: middle;\n",
       "    }\n",
       "\n",
       "    .dataframe tbody tr th {\n",
       "        vertical-align: top;\n",
       "    }\n",
       "\n",
       "    .dataframe thead th {\n",
       "        text-align: right;\n",
       "    }\n",
       "</style>\n",
       "<table border=\"1\" class=\"dataframe\">\n",
       "  <thead>\n",
       "    <tr style=\"text-align: right;\">\n",
       "      <th></th>\n",
       "      <th>death</th>\n",
       "      <th>gender</th>\n",
       "      <th>age</th>\n",
       "      <th>riad 30d</th>\n",
       "      <th>riad 90d</th>\n",
       "      <th>riad 365d</th>\n",
       "      <th>riad +365d</th>\n",
       "      <th>icd_D_blood</th>\n",
       "      <th>icd_D_health_status</th>\n",
       "      <th>icd_D_pregnancy</th>\n",
       "      <th>...</th>\n",
       "      <th>ethn__BLACK/AFRICAN AMERICAN</th>\n",
       "      <th>ethn__HISPANIC/LATINO</th>\n",
       "      <th>ethn__OTHER</th>\n",
       "      <th>ethn__UNKNOWN</th>\n",
       "      <th>ethn__WHITE</th>\n",
       "      <th>ins__Medicare</th>\n",
       "      <th>ins__Other</th>\n",
       "      <th>maritalS__MARRIED</th>\n",
       "      <th>maritalS__SINGLE</th>\n",
       "      <th>maritalS__WIDOWED</th>\n",
       "    </tr>\n",
       "  </thead>\n",
       "  <tbody>\n",
       "    <tr>\n",
       "      <th>0</th>\n",
       "      <td>0</td>\n",
       "      <td>1</td>\n",
       "      <td>0</td>\n",
       "      <td>0</td>\n",
       "      <td>0</td>\n",
       "      <td>0</td>\n",
       "      <td>0</td>\n",
       "      <td>0.0</td>\n",
       "      <td>3.0</td>\n",
       "      <td>0.0</td>\n",
       "      <td>...</td>\n",
       "      <td>0</td>\n",
       "      <td>0</td>\n",
       "      <td>0</td>\n",
       "      <td>0</td>\n",
       "      <td>1</td>\n",
       "      <td>0</td>\n",
       "      <td>1</td>\n",
       "      <td>1</td>\n",
       "      <td>0</td>\n",
       "      <td>0</td>\n",
       "    </tr>\n",
       "    <tr>\n",
       "      <th>1</th>\n",
       "      <td>0</td>\n",
       "      <td>0</td>\n",
       "      <td>52</td>\n",
       "      <td>0</td>\n",
       "      <td>1</td>\n",
       "      <td>0</td>\n",
       "      <td>0</td>\n",
       "      <td>0.0</td>\n",
       "      <td>1.0</td>\n",
       "      <td>0.0</td>\n",
       "      <td>...</td>\n",
       "      <td>0</td>\n",
       "      <td>0</td>\n",
       "      <td>0</td>\n",
       "      <td>0</td>\n",
       "      <td>1</td>\n",
       "      <td>0</td>\n",
       "      <td>1</td>\n",
       "      <td>0</td>\n",
       "      <td>0</td>\n",
       "      <td>1</td>\n",
       "    </tr>\n",
       "    <tr>\n",
       "      <th>2</th>\n",
       "      <td>0</td>\n",
       "      <td>0</td>\n",
       "      <td>52</td>\n",
       "      <td>1</td>\n",
       "      <td>0</td>\n",
       "      <td>0</td>\n",
       "      <td>0</td>\n",
       "      <td>1.0</td>\n",
       "      <td>1.0</td>\n",
       "      <td>0.0</td>\n",
       "      <td>...</td>\n",
       "      <td>0</td>\n",
       "      <td>0</td>\n",
       "      <td>0</td>\n",
       "      <td>0</td>\n",
       "      <td>1</td>\n",
       "      <td>0</td>\n",
       "      <td>0</td>\n",
       "      <td>0</td>\n",
       "      <td>0</td>\n",
       "      <td>1</td>\n",
       "    </tr>\n",
       "    <tr>\n",
       "      <th>3</th>\n",
       "      <td>0</td>\n",
       "      <td>0</td>\n",
       "      <td>52</td>\n",
       "      <td>1</td>\n",
       "      <td>0</td>\n",
       "      <td>0</td>\n",
       "      <td>0</td>\n",
       "      <td>0.0</td>\n",
       "      <td>3.0</td>\n",
       "      <td>0.0</td>\n",
       "      <td>...</td>\n",
       "      <td>0</td>\n",
       "      <td>0</td>\n",
       "      <td>0</td>\n",
       "      <td>0</td>\n",
       "      <td>1</td>\n",
       "      <td>0</td>\n",
       "      <td>0</td>\n",
       "      <td>0</td>\n",
       "      <td>0</td>\n",
       "      <td>1</td>\n",
       "    </tr>\n",
       "    <tr>\n",
       "      <th>4</th>\n",
       "      <td>0</td>\n",
       "      <td>0</td>\n",
       "      <td>52</td>\n",
       "      <td>0</td>\n",
       "      <td>0</td>\n",
       "      <td>0</td>\n",
       "      <td>0</td>\n",
       "      <td>0.0</td>\n",
       "      <td>2.0</td>\n",
       "      <td>0.0</td>\n",
       "      <td>...</td>\n",
       "      <td>0</td>\n",
       "      <td>0</td>\n",
       "      <td>0</td>\n",
       "      <td>0</td>\n",
       "      <td>1</td>\n",
       "      <td>0</td>\n",
       "      <td>0</td>\n",
       "      <td>0</td>\n",
       "      <td>0</td>\n",
       "      <td>1</td>\n",
       "    </tr>\n",
       "    <tr>\n",
       "      <th>...</th>\n",
       "      <td>...</td>\n",
       "      <td>...</td>\n",
       "      <td>...</td>\n",
       "      <td>...</td>\n",
       "      <td>...</td>\n",
       "      <td>...</td>\n",
       "      <td>...</td>\n",
       "      <td>...</td>\n",
       "      <td>...</td>\n",
       "      <td>...</td>\n",
       "      <td>...</td>\n",
       "      <td>...</td>\n",
       "      <td>...</td>\n",
       "      <td>...</td>\n",
       "      <td>...</td>\n",
       "      <td>...</td>\n",
       "      <td>...</td>\n",
       "      <td>...</td>\n",
       "      <td>...</td>\n",
       "      <td>...</td>\n",
       "      <td>...</td>\n",
       "    </tr>\n",
       "    <tr>\n",
       "      <th>523735</th>\n",
       "      <td>0</td>\n",
       "      <td>0</td>\n",
       "      <td>46</td>\n",
       "      <td>0</td>\n",
       "      <td>0</td>\n",
       "      <td>0</td>\n",
       "      <td>1</td>\n",
       "      <td>1.0</td>\n",
       "      <td>4.0</td>\n",
       "      <td>0.0</td>\n",
       "      <td>...</td>\n",
       "      <td>0</td>\n",
       "      <td>0</td>\n",
       "      <td>0</td>\n",
       "      <td>0</td>\n",
       "      <td>1</td>\n",
       "      <td>0</td>\n",
       "      <td>1</td>\n",
       "      <td>0</td>\n",
       "      <td>1</td>\n",
       "      <td>0</td>\n",
       "    </tr>\n",
       "    <tr>\n",
       "      <th>523736</th>\n",
       "      <td>0</td>\n",
       "      <td>0</td>\n",
       "      <td>48</td>\n",
       "      <td>0</td>\n",
       "      <td>0</td>\n",
       "      <td>0</td>\n",
       "      <td>0</td>\n",
       "      <td>1.0</td>\n",
       "      <td>3.0</td>\n",
       "      <td>0.0</td>\n",
       "      <td>...</td>\n",
       "      <td>0</td>\n",
       "      <td>0</td>\n",
       "      <td>0</td>\n",
       "      <td>0</td>\n",
       "      <td>1</td>\n",
       "      <td>0</td>\n",
       "      <td>1</td>\n",
       "      <td>0</td>\n",
       "      <td>1</td>\n",
       "      <td>0</td>\n",
       "    </tr>\n",
       "    <tr>\n",
       "      <th>523737</th>\n",
       "      <td>0</td>\n",
       "      <td>1</td>\n",
       "      <td>58</td>\n",
       "      <td>0</td>\n",
       "      <td>1</td>\n",
       "      <td>0</td>\n",
       "      <td>0</td>\n",
       "      <td>0.0</td>\n",
       "      <td>0.0</td>\n",
       "      <td>0.0</td>\n",
       "      <td>...</td>\n",
       "      <td>0</td>\n",
       "      <td>0</td>\n",
       "      <td>0</td>\n",
       "      <td>0</td>\n",
       "      <td>1</td>\n",
       "      <td>0</td>\n",
       "      <td>1</td>\n",
       "      <td>0</td>\n",
       "      <td>0</td>\n",
       "      <td>1</td>\n",
       "    </tr>\n",
       "    <tr>\n",
       "      <th>523738</th>\n",
       "      <td>1</td>\n",
       "      <td>1</td>\n",
       "      <td>58</td>\n",
       "      <td>0</td>\n",
       "      <td>0</td>\n",
       "      <td>0</td>\n",
       "      <td>0</td>\n",
       "      <td>0.0</td>\n",
       "      <td>0.0</td>\n",
       "      <td>0.0</td>\n",
       "      <td>...</td>\n",
       "      <td>0</td>\n",
       "      <td>0</td>\n",
       "      <td>0</td>\n",
       "      <td>0</td>\n",
       "      <td>1</td>\n",
       "      <td>0</td>\n",
       "      <td>1</td>\n",
       "      <td>0</td>\n",
       "      <td>0</td>\n",
       "      <td>1</td>\n",
       "    </tr>\n",
       "    <tr>\n",
       "      <th>523739</th>\n",
       "      <td>0</td>\n",
       "      <td>0</td>\n",
       "      <td>57</td>\n",
       "      <td>0</td>\n",
       "      <td>0</td>\n",
       "      <td>0</td>\n",
       "      <td>0</td>\n",
       "      <td>0.0</td>\n",
       "      <td>0.0</td>\n",
       "      <td>0.0</td>\n",
       "      <td>...</td>\n",
       "      <td>0</td>\n",
       "      <td>0</td>\n",
       "      <td>0</td>\n",
       "      <td>1</td>\n",
       "      <td>0</td>\n",
       "      <td>0</td>\n",
       "      <td>1</td>\n",
       "      <td>0</td>\n",
       "      <td>1</td>\n",
       "      <td>0</td>\n",
       "    </tr>\n",
       "  </tbody>\n",
       "</table>\n",
       "<p>521110 rows × 74 columns</p>\n",
       "</div>"
      ],
      "text/plain": [
       "        death  gender  age  riad 30d  riad 90d  riad 365d  riad +365d  \\\n",
       "0           0       1    0         0         0          0           0   \n",
       "1           0       0   52         0         1          0           0   \n",
       "2           0       0   52         1         0          0           0   \n",
       "3           0       0   52         1         0          0           0   \n",
       "4           0       0   52         0         0          0           0   \n",
       "...       ...     ...  ...       ...       ...        ...         ...   \n",
       "523735      0       0   46         0         0          0           1   \n",
       "523736      0       0   48         0         0          0           0   \n",
       "523737      0       1   58         0         1          0           0   \n",
       "523738      1       1   58         0         0          0           0   \n",
       "523739      0       0   57         0         0          0           0   \n",
       "\n",
       "        icd_D_blood  icd_D_health_status  icd_D_pregnancy  ...  \\\n",
       "0               0.0                  3.0              0.0  ...   \n",
       "1               0.0                  1.0              0.0  ...   \n",
       "2               1.0                  1.0              0.0  ...   \n",
       "3               0.0                  3.0              0.0  ...   \n",
       "4               0.0                  2.0              0.0  ...   \n",
       "...             ...                  ...              ...  ...   \n",
       "523735          1.0                  4.0              0.0  ...   \n",
       "523736          1.0                  3.0              0.0  ...   \n",
       "523737          0.0                  0.0              0.0  ...   \n",
       "523738          0.0                  0.0              0.0  ...   \n",
       "523739          0.0                  0.0              0.0  ...   \n",
       "\n",
       "        ethn__BLACK/AFRICAN AMERICAN  ethn__HISPANIC/LATINO  ethn__OTHER  \\\n",
       "0                                  0                      0            0   \n",
       "1                                  0                      0            0   \n",
       "2                                  0                      0            0   \n",
       "3                                  0                      0            0   \n",
       "4                                  0                      0            0   \n",
       "...                              ...                    ...          ...   \n",
       "523735                             0                      0            0   \n",
       "523736                             0                      0            0   \n",
       "523737                             0                      0            0   \n",
       "523738                             0                      0            0   \n",
       "523739                             0                      0            0   \n",
       "\n",
       "        ethn__UNKNOWN  ethn__WHITE  ins__Medicare  ins__Other  \\\n",
       "0                   0            1              0           1   \n",
       "1                   0            1              0           1   \n",
       "2                   0            1              0           0   \n",
       "3                   0            1              0           0   \n",
       "4                   0            1              0           0   \n",
       "...               ...          ...            ...         ...   \n",
       "523735              0            1              0           1   \n",
       "523736              0            1              0           1   \n",
       "523737              0            1              0           1   \n",
       "523738              0            1              0           1   \n",
       "523739              1            0              0           1   \n",
       "\n",
       "        maritalS__MARRIED  maritalS__SINGLE  maritalS__WIDOWED  \n",
       "0                       1                 0                  0  \n",
       "1                       0                 0                  1  \n",
       "2                       0                 0                  1  \n",
       "3                       0                 0                  1  \n",
       "4                       0                 0                  1  \n",
       "...                   ...               ...                ...  \n",
       "523735                  0                 1                  0  \n",
       "523736                  0                 1                  0  \n",
       "523737                  0                 0                  1  \n",
       "523738                  0                 0                  1  \n",
       "523739                  0                 1                  0  \n",
       "\n",
       "[521110 rows x 74 columns]"
      ]
     },
     "execution_count": 232,
     "metadata": {},
     "output_type": "execute_result"
    }
   ],
   "source": [
    "merged_prepared"
   ]
  },
  {
   "cell_type": "markdown",
   "id": "aa291b7b",
   "metadata": {},
   "source": [
    "da questo punto, ogni sezione sarà relativa a un tipo di classificazione, nello specifico:\n",
    "- predizione dell'in-hospital mortality\n",
    "- predizione delle riammissioni entro 30 giorni\n",
    "- predizione delle riammissioni entro 90 giorni\n",
    "- predizione delle riammissioni entro 365 giorni\n",
    "\n",
    "I dati da utilizzare per un tipo di classificazione non saranno necessariamente gli stessi per l'altro tipo\n",
    "di classificazione. Ad esempio, per classificare le morti ospedaliere, non utilizzeremo ovviamente i dati relativi alle\n",
    "riammissioni nè quelli relativi al luogo di rilascio."
   ]
  },
  {
   "cell_type": "markdown",
   "id": "011add8f",
   "metadata": {},
   "source": [
    "# CLASSIFICAZIONE *IN HOSPITAL MORTALITY*"
   ]
  },
  {
   "cell_type": "markdown",
   "id": "576aa460",
   "metadata": {},
   "source": [
    "nota: la dicitura *ihm* sta per in-hospital-mortality"
   ]
  },
  {
   "cell_type": "code",
   "execution_count": 233,
   "id": "040eac12",
   "metadata": {},
   "outputs": [],
   "source": [
    "df1 = merged_prepared.copy()"
   ]
  },
  {
   "cell_type": "code",
   "execution_count": 234,
   "id": "e5d11775",
   "metadata": {},
   "outputs": [],
   "source": [
    "df1.to_csv('df1.csv', index=False)"
   ]
  },
  {
   "cell_type": "markdown",
   "id": "8da41310",
   "metadata": {},
   "source": [
    "dato che bisogna predire le morti ospedaliere, vado ad eliminare tutte le feature riguardanti\n",
    "riammissioni e luoghi di rilascio, altrimenti non sarebbe necessaria una predizione per capire\n",
    "se ci sia stata morte ospedaliera o meno"
   ]
  },
  {
   "cell_type": "code",
   "execution_count": 235,
   "id": "902ea594",
   "metadata": {},
   "outputs": [],
   "source": [
    "remove_for_ihm = [\n",
    "'riad 30d', 'riad 90d',\n",
    "'riad 365d', 'riad +365d','disL__AGAINST ADVICE',\n",
    "'disL__ASSISTED LIVING',\n",
    "'disL__CHRONIC/LONG TERM ACUTE CARE',\n",
    "'disL__DIED',\n",
    "'disL__HEALTHCARE FACILITY',\n",
    "'disL__HOME',\n",
    "'disL__HOME HEALTH CARE',\n",
    "'disL__HOSPICE',\n",
    "'disL__NO DATA',\n",
    "'disL__OTHER FACILITY',\n",
    "'disL__PSYCH FACILITY',\n",
    "'disL__REHAB',\n",
    "'disL__SKILLED NURSING FACILITY',\n",
    "]"
   ]
  },
  {
   "cell_type": "code",
   "execution_count": 236,
   "id": "d97de463",
   "metadata": {},
   "outputs": [
    {
     "data": {
      "text/plain": [
       "['riad 30d',\n",
       " 'riad 90d',\n",
       " 'riad 365d',\n",
       " 'riad +365d',\n",
       " 'disL__AGAINST ADVICE',\n",
       " 'disL__ASSISTED LIVING',\n",
       " 'disL__CHRONIC/LONG TERM ACUTE CARE',\n",
       " 'disL__DIED',\n",
       " 'disL__HEALTHCARE FACILITY',\n",
       " 'disL__HOME',\n",
       " 'disL__HOME HEALTH CARE',\n",
       " 'disL__HOSPICE',\n",
       " 'disL__NO DATA',\n",
       " 'disL__OTHER FACILITY',\n",
       " 'disL__PSYCH FACILITY',\n",
       " 'disL__REHAB',\n",
       " 'disL__SKILLED NURSING FACILITY']"
      ]
     },
     "execution_count": 236,
     "metadata": {},
     "output_type": "execute_result"
    }
   ],
   "source": [
    "remove_for_ihm"
   ]
  },
  {
   "cell_type": "code",
   "execution_count": 237,
   "id": "08505fb2",
   "metadata": {},
   "outputs": [],
   "source": [
    "df1.drop(remove_for_ihm, axis=1, inplace=True)"
   ]
  },
  {
   "cell_type": "code",
   "execution_count": 238,
   "id": "c75772a9",
   "metadata": {},
   "outputs": [
    {
     "data": {
      "text/html": [
       "<div>\n",
       "<style scoped>\n",
       "    .dataframe tbody tr th:only-of-type {\n",
       "        vertical-align: middle;\n",
       "    }\n",
       "\n",
       "    .dataframe tbody tr th {\n",
       "        vertical-align: top;\n",
       "    }\n",
       "\n",
       "    .dataframe thead th {\n",
       "        text-align: right;\n",
       "    }\n",
       "</style>\n",
       "<table border=\"1\" class=\"dataframe\">\n",
       "  <thead>\n",
       "    <tr style=\"text-align: right;\">\n",
       "      <th></th>\n",
       "      <th>death</th>\n",
       "      <th>gender</th>\n",
       "      <th>age</th>\n",
       "      <th>icd_D_blood</th>\n",
       "      <th>icd_D_health_status</th>\n",
       "      <th>icd_D_pregnancy</th>\n",
       "      <th>icd_D_abnormal</th>\n",
       "      <th>icd_D_chromosomal</th>\n",
       "      <th>icd_D_infectious_parasitic</th>\n",
       "      <th>icd_D_musculoskeletal</th>\n",
       "      <th>...</th>\n",
       "      <th>ethn__BLACK/AFRICAN AMERICAN</th>\n",
       "      <th>ethn__HISPANIC/LATINO</th>\n",
       "      <th>ethn__OTHER</th>\n",
       "      <th>ethn__UNKNOWN</th>\n",
       "      <th>ethn__WHITE</th>\n",
       "      <th>ins__Medicare</th>\n",
       "      <th>ins__Other</th>\n",
       "      <th>maritalS__MARRIED</th>\n",
       "      <th>maritalS__SINGLE</th>\n",
       "      <th>maritalS__WIDOWED</th>\n",
       "    </tr>\n",
       "  </thead>\n",
       "  <tbody>\n",
       "    <tr>\n",
       "      <th>0</th>\n",
       "      <td>0</td>\n",
       "      <td>1</td>\n",
       "      <td>0</td>\n",
       "      <td>0.0</td>\n",
       "      <td>3.0</td>\n",
       "      <td>0.0</td>\n",
       "      <td>0.0</td>\n",
       "      <td>0.0</td>\n",
       "      <td>0.0</td>\n",
       "      <td>0.0</td>\n",
       "      <td>...</td>\n",
       "      <td>0</td>\n",
       "      <td>0</td>\n",
       "      <td>0</td>\n",
       "      <td>0</td>\n",
       "      <td>1</td>\n",
       "      <td>0</td>\n",
       "      <td>1</td>\n",
       "      <td>1</td>\n",
       "      <td>0</td>\n",
       "      <td>0</td>\n",
       "    </tr>\n",
       "    <tr>\n",
       "      <th>1</th>\n",
       "      <td>0</td>\n",
       "      <td>0</td>\n",
       "      <td>52</td>\n",
       "      <td>0.0</td>\n",
       "      <td>1.0</td>\n",
       "      <td>0.0</td>\n",
       "      <td>1.0</td>\n",
       "      <td>0.0</td>\n",
       "      <td>1.0</td>\n",
       "      <td>0.0</td>\n",
       "      <td>...</td>\n",
       "      <td>0</td>\n",
       "      <td>0</td>\n",
       "      <td>0</td>\n",
       "      <td>0</td>\n",
       "      <td>1</td>\n",
       "      <td>0</td>\n",
       "      <td>1</td>\n",
       "      <td>0</td>\n",
       "      <td>0</td>\n",
       "      <td>1</td>\n",
       "    </tr>\n",
       "    <tr>\n",
       "      <th>2</th>\n",
       "      <td>0</td>\n",
       "      <td>0</td>\n",
       "      <td>52</td>\n",
       "      <td>1.0</td>\n",
       "      <td>1.0</td>\n",
       "      <td>0.0</td>\n",
       "      <td>1.0</td>\n",
       "      <td>0.0</td>\n",
       "      <td>1.0</td>\n",
       "      <td>0.0</td>\n",
       "      <td>...</td>\n",
       "      <td>0</td>\n",
       "      <td>0</td>\n",
       "      <td>0</td>\n",
       "      <td>0</td>\n",
       "      <td>1</td>\n",
       "      <td>0</td>\n",
       "      <td>0</td>\n",
       "      <td>0</td>\n",
       "      <td>0</td>\n",
       "      <td>1</td>\n",
       "    </tr>\n",
       "    <tr>\n",
       "      <th>3</th>\n",
       "      <td>0</td>\n",
       "      <td>0</td>\n",
       "      <td>52</td>\n",
       "      <td>0.0</td>\n",
       "      <td>3.0</td>\n",
       "      <td>0.0</td>\n",
       "      <td>2.0</td>\n",
       "      <td>0.0</td>\n",
       "      <td>1.0</td>\n",
       "      <td>0.0</td>\n",
       "      <td>...</td>\n",
       "      <td>0</td>\n",
       "      <td>0</td>\n",
       "      <td>0</td>\n",
       "      <td>0</td>\n",
       "      <td>1</td>\n",
       "      <td>0</td>\n",
       "      <td>0</td>\n",
       "      <td>0</td>\n",
       "      <td>0</td>\n",
       "      <td>1</td>\n",
       "    </tr>\n",
       "    <tr>\n",
       "      <th>4</th>\n",
       "      <td>0</td>\n",
       "      <td>0</td>\n",
       "      <td>52</td>\n",
       "      <td>0.0</td>\n",
       "      <td>2.0</td>\n",
       "      <td>0.0</td>\n",
       "      <td>2.0</td>\n",
       "      <td>0.0</td>\n",
       "      <td>1.0</td>\n",
       "      <td>0.0</td>\n",
       "      <td>...</td>\n",
       "      <td>0</td>\n",
       "      <td>0</td>\n",
       "      <td>0</td>\n",
       "      <td>0</td>\n",
       "      <td>1</td>\n",
       "      <td>0</td>\n",
       "      <td>0</td>\n",
       "      <td>0</td>\n",
       "      <td>0</td>\n",
       "      <td>1</td>\n",
       "    </tr>\n",
       "    <tr>\n",
       "      <th>...</th>\n",
       "      <td>...</td>\n",
       "      <td>...</td>\n",
       "      <td>...</td>\n",
       "      <td>...</td>\n",
       "      <td>...</td>\n",
       "      <td>...</td>\n",
       "      <td>...</td>\n",
       "      <td>...</td>\n",
       "      <td>...</td>\n",
       "      <td>...</td>\n",
       "      <td>...</td>\n",
       "      <td>...</td>\n",
       "      <td>...</td>\n",
       "      <td>...</td>\n",
       "      <td>...</td>\n",
       "      <td>...</td>\n",
       "      <td>...</td>\n",
       "      <td>...</td>\n",
       "      <td>...</td>\n",
       "      <td>...</td>\n",
       "      <td>...</td>\n",
       "    </tr>\n",
       "    <tr>\n",
       "      <th>523735</th>\n",
       "      <td>0</td>\n",
       "      <td>0</td>\n",
       "      <td>46</td>\n",
       "      <td>1.0</td>\n",
       "      <td>4.0</td>\n",
       "      <td>0.0</td>\n",
       "      <td>0.0</td>\n",
       "      <td>0.0</td>\n",
       "      <td>1.0</td>\n",
       "      <td>2.0</td>\n",
       "      <td>...</td>\n",
       "      <td>0</td>\n",
       "      <td>0</td>\n",
       "      <td>0</td>\n",
       "      <td>0</td>\n",
       "      <td>1</td>\n",
       "      <td>0</td>\n",
       "      <td>1</td>\n",
       "      <td>0</td>\n",
       "      <td>1</td>\n",
       "      <td>0</td>\n",
       "    </tr>\n",
       "    <tr>\n",
       "      <th>523736</th>\n",
       "      <td>0</td>\n",
       "      <td>0</td>\n",
       "      <td>48</td>\n",
       "      <td>1.0</td>\n",
       "      <td>3.0</td>\n",
       "      <td>0.0</td>\n",
       "      <td>1.0</td>\n",
       "      <td>0.0</td>\n",
       "      <td>1.0</td>\n",
       "      <td>0.0</td>\n",
       "      <td>...</td>\n",
       "      <td>0</td>\n",
       "      <td>0</td>\n",
       "      <td>0</td>\n",
       "      <td>0</td>\n",
       "      <td>1</td>\n",
       "      <td>0</td>\n",
       "      <td>1</td>\n",
       "      <td>0</td>\n",
       "      <td>1</td>\n",
       "      <td>0</td>\n",
       "    </tr>\n",
       "    <tr>\n",
       "      <th>523737</th>\n",
       "      <td>0</td>\n",
       "      <td>1</td>\n",
       "      <td>58</td>\n",
       "      <td>0.0</td>\n",
       "      <td>0.0</td>\n",
       "      <td>0.0</td>\n",
       "      <td>0.0</td>\n",
       "      <td>0.0</td>\n",
       "      <td>0.0</td>\n",
       "      <td>0.0</td>\n",
       "      <td>...</td>\n",
       "      <td>0</td>\n",
       "      <td>0</td>\n",
       "      <td>0</td>\n",
       "      <td>0</td>\n",
       "      <td>1</td>\n",
       "      <td>0</td>\n",
       "      <td>1</td>\n",
       "      <td>0</td>\n",
       "      <td>0</td>\n",
       "      <td>1</td>\n",
       "    </tr>\n",
       "    <tr>\n",
       "      <th>523738</th>\n",
       "      <td>1</td>\n",
       "      <td>1</td>\n",
       "      <td>58</td>\n",
       "      <td>0.0</td>\n",
       "      <td>0.0</td>\n",
       "      <td>0.0</td>\n",
       "      <td>0.0</td>\n",
       "      <td>0.0</td>\n",
       "      <td>0.0</td>\n",
       "      <td>0.0</td>\n",
       "      <td>...</td>\n",
       "      <td>0</td>\n",
       "      <td>0</td>\n",
       "      <td>0</td>\n",
       "      <td>0</td>\n",
       "      <td>1</td>\n",
       "      <td>0</td>\n",
       "      <td>1</td>\n",
       "      <td>0</td>\n",
       "      <td>0</td>\n",
       "      <td>1</td>\n",
       "    </tr>\n",
       "    <tr>\n",
       "      <th>523739</th>\n",
       "      <td>0</td>\n",
       "      <td>0</td>\n",
       "      <td>57</td>\n",
       "      <td>0.0</td>\n",
       "      <td>0.0</td>\n",
       "      <td>0.0</td>\n",
       "      <td>2.0</td>\n",
       "      <td>0.0</td>\n",
       "      <td>1.0</td>\n",
       "      <td>0.0</td>\n",
       "      <td>...</td>\n",
       "      <td>0</td>\n",
       "      <td>0</td>\n",
       "      <td>0</td>\n",
       "      <td>1</td>\n",
       "      <td>0</td>\n",
       "      <td>0</td>\n",
       "      <td>1</td>\n",
       "      <td>0</td>\n",
       "      <td>1</td>\n",
       "      <td>0</td>\n",
       "    </tr>\n",
       "  </tbody>\n",
       "</table>\n",
       "<p>521110 rows × 57 columns</p>\n",
       "</div>"
      ],
      "text/plain": [
       "        death  gender  age  icd_D_blood  icd_D_health_status  icd_D_pregnancy  \\\n",
       "0           0       1    0          0.0                  3.0              0.0   \n",
       "1           0       0   52          0.0                  1.0              0.0   \n",
       "2           0       0   52          1.0                  1.0              0.0   \n",
       "3           0       0   52          0.0                  3.0              0.0   \n",
       "4           0       0   52          0.0                  2.0              0.0   \n",
       "...       ...     ...  ...          ...                  ...              ...   \n",
       "523735      0       0   46          1.0                  4.0              0.0   \n",
       "523736      0       0   48          1.0                  3.0              0.0   \n",
       "523737      0       1   58          0.0                  0.0              0.0   \n",
       "523738      1       1   58          0.0                  0.0              0.0   \n",
       "523739      0       0   57          0.0                  0.0              0.0   \n",
       "\n",
       "        icd_D_abnormal  icd_D_chromosomal  icd_D_infectious_parasitic  \\\n",
       "0                  0.0                0.0                         0.0   \n",
       "1                  1.0                0.0                         1.0   \n",
       "2                  1.0                0.0                         1.0   \n",
       "3                  2.0                0.0                         1.0   \n",
       "4                  2.0                0.0                         1.0   \n",
       "...                ...                ...                         ...   \n",
       "523735             0.0                0.0                         1.0   \n",
       "523736             1.0                0.0                         1.0   \n",
       "523737             0.0                0.0                         0.0   \n",
       "523738             0.0                0.0                         0.0   \n",
       "523739             2.0                0.0                         1.0   \n",
       "\n",
       "        icd_D_musculoskeletal  ...  ethn__BLACK/AFRICAN AMERICAN  \\\n",
       "0                         0.0  ...                             0   \n",
       "1                         0.0  ...                             0   \n",
       "2                         0.0  ...                             0   \n",
       "3                         0.0  ...                             0   \n",
       "4                         0.0  ...                             0   \n",
       "...                       ...  ...                           ...   \n",
       "523735                    2.0  ...                             0   \n",
       "523736                    0.0  ...                             0   \n",
       "523737                    0.0  ...                             0   \n",
       "523738                    0.0  ...                             0   \n",
       "523739                    0.0  ...                             0   \n",
       "\n",
       "        ethn__HISPANIC/LATINO  ethn__OTHER  ethn__UNKNOWN  ethn__WHITE  \\\n",
       "0                           0            0              0            1   \n",
       "1                           0            0              0            1   \n",
       "2                           0            0              0            1   \n",
       "3                           0            0              0            1   \n",
       "4                           0            0              0            1   \n",
       "...                       ...          ...            ...          ...   \n",
       "523735                      0            0              0            1   \n",
       "523736                      0            0              0            1   \n",
       "523737                      0            0              0            1   \n",
       "523738                      0            0              0            1   \n",
       "523739                      0            0              1            0   \n",
       "\n",
       "        ins__Medicare  ins__Other  maritalS__MARRIED  maritalS__SINGLE  \\\n",
       "0                   0           1                  1                 0   \n",
       "1                   0           1                  0                 0   \n",
       "2                   0           0                  0                 0   \n",
       "3                   0           0                  0                 0   \n",
       "4                   0           0                  0                 0   \n",
       "...               ...         ...                ...               ...   \n",
       "523735              0           1                  0                 1   \n",
       "523736              0           1                  0                 1   \n",
       "523737              0           1                  0                 0   \n",
       "523738              0           1                  0                 0   \n",
       "523739              0           1                  0                 1   \n",
       "\n",
       "        maritalS__WIDOWED  \n",
       "0                       0  \n",
       "1                       1  \n",
       "2                       1  \n",
       "3                       1  \n",
       "4                       1  \n",
       "...                   ...  \n",
       "523735                  0  \n",
       "523736                  0  \n",
       "523737                  1  \n",
       "523738                  1  \n",
       "523739                  0  \n",
       "\n",
       "[521110 rows x 57 columns]"
      ]
     },
     "execution_count": 238,
     "metadata": {},
     "output_type": "execute_result"
    }
   ],
   "source": [
    "df1"
   ]
  },
  {
   "cell_type": "markdown",
   "id": "88c35de7",
   "metadata": {},
   "source": [
    "## creo training set, validation set, test set"
   ]
  },
  {
   "cell_type": "code",
   "execution_count": 239,
   "id": "7fa88243",
   "metadata": {},
   "outputs": [],
   "source": [
    "train, validate, test = np.split(df1.sample(frac=1, random_state=42), [int(.6*len(df1)), int(.7*len(df1))])"
   ]
  },
  {
   "cell_type": "markdown",
   "id": "86c053ba",
   "metadata": {},
   "source": [
    "## separo le label dai predittori"
   ]
  },
  {
   "cell_type": "code",
   "execution_count": 240,
   "id": "bb5e1280",
   "metadata": {},
   "outputs": [],
   "source": [
    "X_train_ihm = train.drop([\"death\"], axis=1)"
   ]
  },
  {
   "cell_type": "code",
   "execution_count": 241,
   "id": "6d74bc9e",
   "metadata": {},
   "outputs": [],
   "source": [
    "y_train_ihm = train[\"death\"]"
   ]
  },
  {
   "cell_type": "code",
   "execution_count": 242,
   "id": "acd814d2",
   "metadata": {},
   "outputs": [],
   "source": [
    "X_validate_ihm = validate.drop([\"death\"], axis=1)"
   ]
  },
  {
   "cell_type": "code",
   "execution_count": 243,
   "id": "9fed761a",
   "metadata": {},
   "outputs": [],
   "source": [
    "y_validate_ihm = validate[\"death\"]"
   ]
  },
  {
   "cell_type": "code",
   "execution_count": 244,
   "id": "9e6da671",
   "metadata": {},
   "outputs": [],
   "source": [
    "X_test_ihm = test.drop([\"death\"], axis=1)"
   ]
  },
  {
   "cell_type": "code",
   "execution_count": 245,
   "id": "4e6c51ba",
   "metadata": {},
   "outputs": [],
   "source": [
    "y_test_ihm = test[\"death\"]"
   ]
  },
  {
   "cell_type": "markdown",
   "id": "75d3fb55",
   "metadata": {},
   "source": [
    "controllo che la stratificazione in base alla label sia andata a buon fine:"
   ]
  },
  {
   "cell_type": "code",
   "execution_count": 246,
   "id": "0fd356f5",
   "metadata": {},
   "outputs": [
    {
     "name": "stdout",
     "output_type": "stream",
     "text": [
      "1.789769274561353 % di morti ospedaliere nel training set\n",
      "98.21023072543865 % di sopravvissuti nel training set\n",
      "\n",
      "1.790408934773848 % di morti ospedaliere nel validate set\n",
      "98.20959106522615 % di sopravvissuti nel validate set\n",
      "\n",
      "1.778255390736441 % di morti ospedaliere nel testing set\n",
      "98.22174460926355 % di sopravvissuti nel testing set\n"
     ]
    }
   ],
   "source": [
    "# proporzione di classi positive (death 1) nel training set\n",
    "tot_pos_train = len(y_train_ihm[y_train_ihm == 1])\n",
    "prop_pos_train = tot_pos_train / len(y_train_ihm) * 100\n",
    "\n",
    "print('{} % di morti ospedaliere nel training set'.format(prop_pos_train))\n",
    "print('{} % di sopravvissuti nel training set'.format(100 - prop_pos_train))\n",
    "\n",
    "print()\n",
    "\n",
    "# proporzione di classi negative (death 0) nel validate set\n",
    "tot_pos_validate = len(y_validate_ihm[y_validate_ihm == 1])\n",
    "prop_pos_validate = tot_pos_validate / len(y_validate_ihm) * 100\n",
    "\n",
    "print('{} % di morti ospedaliere nel validate set'.format(prop_pos_validate))\n",
    "print('{} % di sopravvissuti nel validate set'.format(100 - prop_pos_validate))\n",
    "\n",
    "print()\n",
    "\n",
    "# proporzione di classi negative (death 0) nel testing set\n",
    "tot_pos_test = len(y_test_ihm[y_test_ihm == 1])\n",
    "prop_pos_test = tot_pos_test / len(y_test_ihm) * 100\n",
    "\n",
    "print('{} % di morti ospedaliere nel testing set'.format(prop_pos_test))\n",
    "print('{} % di sopravvissuti nel testing set'.format(100 - prop_pos_test))"
   ]
  },
  {
   "cell_type": "markdown",
   "id": "7f78cd1e",
   "metadata": {},
   "source": [
    "### standardizzo le features che hanno diverse scale di valori"
   ]
  },
  {
   "cell_type": "code",
   "execution_count": 247,
   "id": "1b8e21c9",
   "metadata": {},
   "outputs": [
    {
     "data": {
      "text/plain": [
       "array([[-0.96512577, -0.75686884,  0.96630854, ..., -0.87639765,\n",
       "         1.20523447, -0.32124958],\n",
       "       [-0.96512577,  0.69621419, -0.51700569, ..., -0.87639765,\n",
       "         1.20523447, -0.32124958],\n",
       "       [ 1.03613439,  1.04036543, -0.51700569, ...,  1.14103456,\n",
       "        -0.82971407, -0.32124958],\n",
       "       ...,\n",
       "       [-0.96512577, -0.5656737 , -0.51700569, ...,  1.14103456,\n",
       "        -0.82971407, -0.32124958],\n",
       "       [ 1.03613439,  0.35206295, -0.51700569, ...,  1.14103456,\n",
       "        -0.82971407, -0.32124958],\n",
       "       [-0.96512577, -1.17749813,  2.44962278, ..., -0.87639765,\n",
       "         1.20523447, -0.32124958]])"
      ]
     },
     "execution_count": 247,
     "metadata": {},
     "output_type": "execute_result"
    }
   ],
   "source": [
    "from sklearn.preprocessing import StandardScaler\n",
    "\n",
    "scaler = StandardScaler()\n",
    "X_train_ihm_scaled = scaler.fit_transform(X_train_ihm)  # fitting and transforming training set\n",
    "X_train_ihm_scaled"
   ]
  },
  {
   "cell_type": "markdown",
   "id": "f69676c8",
   "metadata": {},
   "source": [
    "al momento ho scalato soltanto il training set.\\\n",
    "Anche il testing set dovrà essere scalato prima di fare le predizioni finali,\n",
    "tuttavia verrà scalato tramite il `transform()` anzichè `fit_transform()`"
   ]
  },
  {
   "cell_type": "markdown",
   "id": "ae82a4f9",
   "metadata": {},
   "source": [
    "## Modelli di classificazione"
   ]
  },
  {
   "cell_type": "code",
   "execution_count": 248,
   "id": "6574cf74",
   "metadata": {},
   "outputs": [],
   "source": [
    "from sklearn.linear_model import SGDClassifier\n",
    "from sklearn.ensemble import RandomForestClassifier\n",
    "from sklearn.naive_bayes import GaussianNB\n",
    "from sklearn.tree import DecisionTreeClassifier\n",
    "from sklearn.linear_model import LogisticRegression\n",
    "from sklearn.neural_network import MLPClassifier\n",
    "from sklearn.svm import SVC\n",
    "from sklearn.naive_bayes import GaussianNB"
   ]
  },
  {
   "cell_type": "code",
   "execution_count": 249,
   "id": "1ed4539d",
   "metadata": {},
   "outputs": [],
   "source": [
    "models = [SGDClassifier, DecisionTreeClassifier, RandomForestClassifier, LogisticRegression, MLPClassifier, SVC]\n",
    "names = ['SGD Classifier', 'Decision Tree Classifier', 'RandomForestClassifier', 'Logistic Regressor', 'MLP Classifier', 'Support Vector Classifier']"
   ]
  },
  {
   "cell_type": "code",
   "execution_count": 250,
   "id": "f309104f",
   "metadata": {},
   "outputs": [
    {
     "name": "stdout",
     "output_type": "stream",
     "text": [
      "accuracy of SGD Classifier:  0.9821023072543865\n",
      "accuracy of Decision Tree Classifier:  0.9998368866458137\n",
      "accuracy of RandomForestClassifier:  0.9998304900436888\n",
      "accuracy of Logistic Regressor:  0.9814914317514536\n",
      "accuracy of MLP Classifier:  0.9848592427702404\n",
      "accuracy of Support Vector Classifier:  0.9825052931882584\n"
     ]
    }
   ],
   "source": [
    "from sklearn.metrics import accuracy_score\n",
    "\n",
    "for i in range(len(models)):\n",
    "    model = models[i](random_state=42)  # inizializzo il modello qui (non ancora addestrato)\n",
    "    name = names[i] \n",
    "    model.fit(X_train_ihm_scaled, y_train_ihm) # qui addestro il modello sui dati\n",
    "    y_pred_ihm = model.predict(X_train_ihm_scaled)\n",
    "    print(f'accuracy of {name}: ',accuracy_score(y_pred_ihm, y_train_ihm))"
   ]
  },
  {
   "cell_type": "code",
   "execution_count": 251,
   "id": "c2dd7051",
   "metadata": {},
   "outputs": [],
   "source": [
    "models = [GaussianNB]\n",
    "names = ['Gaussian NB']"
   ]
  },
  {
   "cell_type": "code",
   "execution_count": 252,
   "id": "d7d7da72",
   "metadata": {},
   "outputs": [
    {
     "name": "stdout",
     "output_type": "stream",
     "text": [
      "accuracy of Gaussian NB:  0.745111396826006\n"
     ]
    }
   ],
   "source": [
    "for i in range(len(models)):\n",
    "    model = models[i]()  # inizializzo il modello qui (non ancora addestrato)\n",
    "    name = names[i] \n",
    "    model.fit(X_train_ihm_scaled, y_train_ihm) # qui addestro il modello sui dati\n",
    "    y_pred_ihm = model.predict(X_train_ihm_scaled)\n",
    "    print(f'accuracy of {name}: ',accuracy_score(y_pred_ihm, y_train_ihm))"
   ]
  },
  {
   "cell_type": "markdown",
   "id": "04fa1307",
   "metadata": {},
   "source": [
    "osservazioni:\n",
    "- per capire se ci sia stato *overfitting* sul training set, utilizzo la *cross validation* per addestrare il modello su una parte dei dati ed effettuare le predizioni su dati mai visti\n",
    "- alcuni modelli non sembra valga la pena analizzarli oltre, l'svc è estremamente lento e successivamente analizzandolo in crossvalidation impiegherà anche ore nell'addestramento, mentre il Gaussian NB produce scarsi risultati già sul set di training "
   ]
  },
  {
   "cell_type": "code",
   "execution_count": 253,
   "id": "0c0ed8a1",
   "metadata": {},
   "outputs": [],
   "source": [
    "models = [SGDClassifier, DecisionTreeClassifier, RandomForestClassifier, LogisticRegression, MLPClassifier]\n",
    "names = ['SGD Classifier', 'Decision Tree Classifier', 'RandomForestClassifier', 'Logistic Regressor', 'MLP Classifier']"
   ]
  },
  {
   "cell_type": "markdown",
   "id": "3b0f66c0",
   "metadata": {},
   "source": [
    "## cross validation"
   ]
  },
  {
   "cell_type": "code",
   "execution_count": 88,
   "id": "3f7f8571",
   "metadata": {},
   "outputs": [
    {
     "name": "stdout",
     "output_type": "stream",
     "text": [
      "accuracy of SGD Classifier:  0.9821023072543865\n",
      "accuracy of Decision Tree Classifier:  0.9674540883882482\n",
      "accuracy of RandomForestClassifier:  0.9820671259426993\n",
      "accuracy of Logistic Regressor:  0.9814850351493286\n",
      "accuracy of MLP Classifier:  0.9784114678282897\n"
     ]
    }
   ],
   "source": [
    "from sklearn.metrics import accuracy_score\n",
    "from sklearn.model_selection import cross_val_score\n",
    "\n",
    "\n",
    "names_cv = ['sgd_cv', 'dt_cv', 'rf_cv', 'lr_cv', 'mlp_cv']\n",
    "\n",
    "for i in range(len(models)):\n",
    "    avg_acc_models = []\n",
    "    model = models[i](random_state=42)  # inizializzo il modello qui (non ancora addestrato)\n",
    "    name = names[i] \n",
    "    acc_model = cross_val_score(model, X_train_ihm_scaled, y_train_ihm, cv=3, scoring='accuracy')\n",
    "    avg_acc_model = acc_model.mean()\n",
    "    avg_acc_models.append(avg_acc_model)\n",
    "    print(f'accuracy of {name}: ', avg_acc_model)"
   ]
  },
  {
   "cell_type": "markdown",
   "id": "b303f8b5",
   "metadata": {},
   "source": [
    "osservazioni:\n",
    "- le performance sono elevate, ma bisogna tenere conto del fatto che il dataset è sbilanciato, quindi teoricamente se il modello predicessse sempre classe 0, raggiungerebbe performance elevate data la scarsità di osservazioni di tipo 1. Esamineremo questi aspetti per ogni modello"
   ]
  },
  {
   "cell_type": "markdown",
   "id": "e24e288e",
   "metadata": {},
   "source": [
    "## analisi sui singoli modelli\n",
    "procedo ad analizzarli uno per uno esaminando le predizioni fatte tramite cross validation\\\n",
    "questa volta utilizzo *5-fold cross validation* per ogni modello"
   ]
  },
  {
   "cell_type": "markdown",
   "id": "8f5b712d",
   "metadata": {},
   "source": [
    "**NOTA: la seguente analisi dei singoli modelli tramite cross validation ha lo scopo di mostrare\n",
    "come la scarsità delle osservazioni sulle morti ospedaliere incida negativamente sulla capacità dei modelli\n",
    "di fare predizioni corrette, portando i modelli a predire quasi esclusivamente la classe 0**\n",
    "\n",
    "Al termine di questa analisi, verranno applicate tecniche di ***UNDERSAMLING*** ed ***OVERSAMPLING*** per mostrare\n",
    "come rafforzare la capacità dei modelli predittivi"
   ]
  },
  {
   "cell_type": "code",
   "execution_count": 89,
   "id": "88bb1b1a",
   "metadata": {},
   "outputs": [],
   "source": [
    "from sklearn.model_selection import cross_val_predict\n",
    "from sklearn.metrics import accuracy_score\n",
    "from sklearn.metrics import confusion_matrix\n",
    "from sklearn.metrics import precision_score, recall_score, f1_score"
   ]
  },
  {
   "cell_type": "markdown",
   "id": "f8991d06",
   "metadata": {},
   "source": [
    "### analisi specifica su SGD Classifier"
   ]
  },
  {
   "cell_type": "code",
   "execution_count": 90,
   "id": "73cc4379",
   "metadata": {},
   "outputs": [],
   "source": [
    "sgd_cv = SGDClassifier(random_state=42)\n",
    "y_pred_sgd_cv = cross_val_predict(sgd_cv, X_train_ihm_scaled, y_train_ihm, cv=5)\n",
    "score_sgd_cv = accuracy_score(y_train_ihm, y_pred_sgd_cv)"
   ]
  },
  {
   "cell_type": "code",
   "execution_count": 91,
   "id": "ef70d363",
   "metadata": {},
   "outputs": [
    {
     "data": {
      "text/plain": [
       "0"
      ]
     },
     "execution_count": 91,
     "metadata": {},
     "output_type": "execute_result"
    }
   ],
   "source": [
    "list(y_pred_sgd_cv).count(1)  # numero di predizioni di morti ospedaliere"
   ]
  },
  {
   "cell_type": "code",
   "execution_count": 92,
   "id": "c4ca9430",
   "metadata": {},
   "outputs": [
    {
     "data": {
      "text/plain": [
       "0.9821023072543865"
      ]
     },
     "execution_count": 92,
     "metadata": {},
     "output_type": "execute_result"
    }
   ],
   "source": [
    "score_sgd_cv"
   ]
  },
  {
   "cell_type": "markdown",
   "id": "50bb88ab",
   "metadata": {},
   "source": [
    "### confusion matrix SGD"
   ]
  },
  {
   "cell_type": "code",
   "execution_count": 93,
   "id": "15848a79",
   "metadata": {},
   "outputs": [
    {
     "data": {
      "text/plain": [
       "array([[307070,      0],\n",
       "       [  5596,      0]], dtype=int64)"
      ]
     },
     "execution_count": 93,
     "metadata": {},
     "output_type": "execute_result"
    }
   ],
   "source": [
    "cm_ihm_sgd = confusion_matrix(y_train_ihm, y_pred_sgd_cv)\n",
    "cm_ihm_sgd"
   ]
  },
  {
   "cell_type": "code",
   "execution_count": 94,
   "id": "e0c1304d",
   "metadata": {},
   "outputs": [
    {
     "name": "stdout",
     "output_type": "stream",
     "text": [
      "PREDIZIONI STOCHASTIC GRADIENT DESCENT CON CROSS VALIDATION\n",
      "0 veri positivi\n",
      "307070 veri negativi\n",
      "0 falsi positivi\n",
      "5596 falsi negativi\n"
     ]
    }
   ],
   "source": [
    "print(\"PREDIZIONI STOCHASTIC GRADIENT DESCENT CON CROSS VALIDATION\")\n",
    "print(\"{} veri positivi\".format(cm_ihm_sgd[1,1]))\n",
    "print(\"{} veri negativi\".format(cm_ihm_sgd[0,0]))\n",
    "print(\"{} falsi positivi\".format(cm_ihm_sgd[0,1]))\n",
    "print(\"{} falsi negativi\".format(cm_ihm_sgd[1,0]))"
   ]
  },
  {
   "cell_type": "markdown",
   "id": "7ea35939",
   "metadata": {},
   "source": [
    "come anticipato, questo modello non predice mai morti ospedaliere, infatti i veri positivi risultano essere 0, così come i falsi positivi. In altre parole, sommando la colonna 2 della confusion matrix, quella relativa alle predizioni di morti ospedaliere,\n",
    "otteniamo 0.\n",
    "\n",
    "Detto questo, essendo le osservazioni di morti ospedaliere\n",
    "molto rare, il modello ottiene comunque uno score di oltre 98%.\\\n",
    "Questo è un problema, che verrà risolto successivamente applicando tecniche di *oversampling* oppure *undersampling*"
   ]
  },
  {
   "cell_type": "markdown",
   "id": "4ac3b9aa",
   "metadata": {},
   "source": [
    "### analisi più specifica sul Random Forest Classifier"
   ]
  },
  {
   "cell_type": "code",
   "execution_count": 95,
   "id": "b7314950",
   "metadata": {},
   "outputs": [],
   "source": [
    " rf_cv = RandomForestClassifier(random_state=42)\n",
    " y_pred_rf_cv = cross_val_predict(rf_cv, X_train_ihm_scaled, y_train_ihm, cv=5)\n",
    " score_rf_cv = accuracy_score(y_train_ihm, y_pred_rf_cv)"
   ]
  },
  {
   "cell_type": "code",
   "execution_count": 96,
   "id": "2b68f33d",
   "metadata": {},
   "outputs": [
    {
     "data": {
      "text/plain": [
       "84"
      ]
     },
     "execution_count": 96,
     "metadata": {},
     "output_type": "execute_result"
    }
   ],
   "source": [
    " list(y_pred_rf_cv).count(1)  # numero di predizioni di morti ospedaliere"
   ]
  },
  {
   "cell_type": "code",
   "execution_count": 97,
   "id": "5325fe6d",
   "metadata": {},
   "outputs": [
    {
     "data": {
      "text/plain": [
       "0.9820383412331369"
      ]
     },
     "execution_count": 97,
     "metadata": {},
     "output_type": "execute_result"
    }
   ],
   "source": [
    " score_rf_cv"
   ]
  },
  {
   "cell_type": "markdown",
   "id": "e957acbe",
   "metadata": {},
   "source": [
    "### confusion matrix RF"
   ]
  },
  {
   "cell_type": "code",
   "execution_count": 98,
   "id": "94cdcfea",
   "metadata": {},
   "outputs": [
    {
     "data": {
      "text/plain": [
       "array([[307018,     52],\n",
       "       [  5564,     32]], dtype=int64)"
      ]
     },
     "execution_count": 98,
     "metadata": {},
     "output_type": "execute_result"
    }
   ],
   "source": [
    " cm_ihm_rf = confusion_matrix(y_train_ihm, y_pred_rf_cv)\n",
    " cm_ihm_rf"
   ]
  },
  {
   "cell_type": "code",
   "execution_count": 99,
   "id": "9ee3d1d0",
   "metadata": {},
   "outputs": [
    {
     "name": "stdout",
     "output_type": "stream",
     "text": [
      "PREDIZIONI RANDOM FOREST CLASSIFIER CON CROSS VALIDATION\n",
      "32 veri positivi\n",
      "307018 veri negativi\n",
      "52 falsi positivi\n",
      "5564 falsi negativi\n"
     ]
    }
   ],
   "source": [
    " print(\"PREDIZIONI RANDOM FOREST CLASSIFIER CON CROSS VALIDATION\")\n",
    " print(\"{} veri positivi\".format(cm_ihm_rf[1,1]))\n",
    " print(\"{} veri negativi\".format(cm_ihm_rf[0,0]))\n",
    " print(\"{} falsi positivi\".format(cm_ihm_rf[0,1]))\n",
    " print(\"{} falsi negativi\".format(cm_ihm_rf[1,0]))"
   ]
  },
  {
   "cell_type": "code",
   "execution_count": 100,
   "id": "08f777e3",
   "metadata": {},
   "outputs": [],
   "source": [
    "ps_rf = precision_score(y_train_ihm, y_pred_rf_cv)\n",
    "rs_rf = recall_score(y_train_ihm, y_pred_rf_cv)\n",
    "f1_rf = f1_score(y_train_ihm, y_pred_rf_cv)"
   ]
  },
  {
   "cell_type": "markdown",
   "id": "3420841a",
   "metadata": {},
   "source": [
    "Rispetto al Stochastic gradient Descent, il Random Forest predice morti ospedaliere, ma comunque\n",
    "molto poche"
   ]
  },
  {
   "cell_type": "markdown",
   "id": "8ac29759",
   "metadata": {},
   "source": [
    "### analisi più specifica sul Logistic Regressor"
   ]
  },
  {
   "cell_type": "code",
   "execution_count": 101,
   "id": "66362c7d",
   "metadata": {},
   "outputs": [],
   "source": [
    "lr_cv = LogisticRegression(random_state=42)\n",
    "y_pred_lr_cv = cross_val_predict(lr_cv, X_train_ihm_scaled, y_train_ihm, cv=5)\n",
    "score_lr_cv = accuracy_score(y_train_ihm, y_pred_lr_cv)"
   ]
  },
  {
   "cell_type": "code",
   "execution_count": 102,
   "id": "fb0beeab",
   "metadata": {},
   "outputs": [
    {
     "data": {
      "text/plain": [
       "749"
      ]
     },
     "execution_count": 102,
     "metadata": {},
     "output_type": "execute_result"
    }
   ],
   "source": [
    "list(y_pred_lr_cv).count(1)  # numero di predizioni di morti ospedaliere"
   ]
  },
  {
   "cell_type": "code",
   "execution_count": 103,
   "id": "695929c8",
   "metadata": {},
   "outputs": [
    {
     "data": {
      "text/plain": [
       "0.9814338623323291"
      ]
     },
     "execution_count": 103,
     "metadata": {},
     "output_type": "execute_result"
    }
   ],
   "source": [
    "score_lr_cv"
   ]
  },
  {
   "cell_type": "markdown",
   "id": "42f716d7",
   "metadata": {},
   "source": [
    "### confusion matrix LR"
   ]
  },
  {
   "cell_type": "code",
   "execution_count": 104,
   "id": "3912a473",
   "metadata": {},
   "outputs": [
    {
     "data": {
      "text/plain": [
       "array([[306591,    479],\n",
       "       [  5326,    270]], dtype=int64)"
      ]
     },
     "execution_count": 104,
     "metadata": {},
     "output_type": "execute_result"
    }
   ],
   "source": [
    "cm_ihm_lr = confusion_matrix(y_train_ihm, y_pred_lr_cv)\n",
    "cm_ihm_lr"
   ]
  },
  {
   "cell_type": "code",
   "execution_count": 105,
   "id": "4e4064dc",
   "metadata": {},
   "outputs": [
    {
     "name": "stdout",
     "output_type": "stream",
     "text": [
      "PREDIZIONI LOGISTIC REGRESSOR CON CROSS VALIDATION\n",
      "270 veri positivi\n",
      "306591 veri negativi\n",
      "479 falsi positivi\n",
      "5326 falsi negativi\n"
     ]
    }
   ],
   "source": [
    "print(\"PREDIZIONI LOGISTIC REGRESSOR CON CROSS VALIDATION\")\n",
    "print(\"{} veri positivi\".format(cm_ihm_lr[1,1]))\n",
    "print(\"{} veri negativi\".format(cm_ihm_lr[0,0]))\n",
    "print(\"{} falsi positivi\".format(cm_ihm_lr[0,1]))\n",
    "print(\"{} falsi negativi\".format(cm_ihm_lr[1,0]))"
   ]
  },
  {
   "cell_type": "markdown",
   "id": "a673b0de",
   "metadata": {},
   "source": [
    "Il Logistic Regressor è il modello predice diverse morti ospedaliere (sempre un numero basso), tuttavia\n",
    "le predizioni di morti ospedaliere sbagliate sono maggiori rispetto a quelle esatte"
   ]
  },
  {
   "cell_type": "code",
   "execution_count": 106,
   "id": "6b380a0c",
   "metadata": {},
   "outputs": [
    {
     "name": "stdout",
     "output_type": "stream",
     "text": [
      "precision score is 0.3604806408544726\n",
      "recall score is 0.048248749106504646\n",
      "f1 score is 0.08510638297872339\n"
     ]
    }
   ],
   "source": [
    "ps_lr = precision_score(y_train_ihm, y_pred_lr_cv)\n",
    "rs_lr = recall_score(y_train_ihm, y_pred_lr_cv)\n",
    "f1_lr = f1_score(y_train_ihm, y_pred_lr_cv)\n",
    "print('precision score is {}'.format(ps_lr))\n",
    "print('recall score is {}'.format(rs_lr))\n",
    "print('f1 score is {}'.format(f1_lr))"
   ]
  },
  {
   "cell_type": "markdown",
   "id": "2d854620",
   "metadata": {},
   "source": [
    "dato che il modello predice un numero più elevato di morti ospedaliere, procedo a calcolare precision, recall ed f1 score\n",
    "per mostrare come le performance siano molto basse nonostante l'accuracy score possa far pensare a buone performance"
   ]
  },
  {
   "cell_type": "markdown",
   "id": "11d0da12",
   "metadata": {},
   "source": [
    "### precision, recall, f1 del Logistic Regressor"
   ]
  },
  {
   "cell_type": "code",
   "execution_count": 107,
   "id": "574b6593",
   "metadata": {},
   "outputs": [
    {
     "name": "stdout",
     "output_type": "stream",
     "text": [
      "precision score is 0.3604806408544726\n",
      "recall score is 0.048248749106504646\n",
      "f1 score is 0.08510638297872339\n"
     ]
    }
   ],
   "source": [
    "ps_lr = precision_score(y_train_ihm, y_pred_lr_cv)\n",
    "rs_lr = recall_score(y_train_ihm, y_pred_lr_cv)\n",
    "f1_lr = f1_score(y_train_ihm, y_pred_lr_cv)\n",
    "print('precision score is {}'.format(ps_lr))\n",
    "print('recall score is {}'.format(rs_lr))\n",
    "print('f1 score is {}'.format(f1_lr))"
   ]
  },
  {
   "cell_type": "markdown",
   "id": "57c44731",
   "metadata": {},
   "source": [
    "si nota come l'f1 score, che è una media tra i precision e recall, sia bassissimo"
   ]
  },
  {
   "cell_type": "markdown",
   "id": "11ec8e85",
   "metadata": {},
   "source": [
    "### analisi più specifica sul Decision Tree"
   ]
  },
  {
   "cell_type": "code",
   "execution_count": 108,
   "id": "1d527d72",
   "metadata": {},
   "outputs": [],
   "source": [
    "dt_cv = DecisionTreeClassifier(random_state=42)\n",
    "y_pred_dt_cv = cross_val_predict(dt_cv, X_train_ihm_scaled, y_train_ihm, cv=5)\n",
    "score_dt_cv = accuracy_score(y_train_ihm, y_pred_dt_cv)"
   ]
  },
  {
   "cell_type": "code",
   "execution_count": 109,
   "id": "7d0abe03",
   "metadata": {},
   "outputs": [
    {
     "data": {
      "text/plain": [
       "0.9679626182571818"
      ]
     },
     "execution_count": 109,
     "metadata": {},
     "output_type": "execute_result"
    }
   ],
   "source": [
    "score_dt_cv"
   ]
  },
  {
   "cell_type": "markdown",
   "id": "92869336",
   "metadata": {},
   "source": [
    "### confusion matrix DT"
   ]
  },
  {
   "cell_type": "code",
   "execution_count": 110,
   "id": "9a082465",
   "metadata": {},
   "outputs": [
    {
     "data": {
      "text/plain": [
       "array([[301640,   5430],\n",
       "       [  4587,   1009]], dtype=int64)"
      ]
     },
     "execution_count": 110,
     "metadata": {},
     "output_type": "execute_result"
    }
   ],
   "source": [
    "cm_ihm_dt = confusion_matrix(y_train_ihm, y_pred_dt_cv)\n",
    "cm_ihm_dt"
   ]
  },
  {
   "cell_type": "code",
   "execution_count": 111,
   "id": "de7206a4",
   "metadata": {},
   "outputs": [
    {
     "name": "stdout",
     "output_type": "stream",
     "text": [
      "PREDIZIONI DECISION TREE CON CROSS VALIDATION\n",
      "1009 veri positivi\n",
      "301640 veri negativi\n",
      "5430 falsi positivi\n",
      "4587 falsi negativi\n"
     ]
    }
   ],
   "source": [
    "print(\"PREDIZIONI DECISION TREE CON CROSS VALIDATION\")\n",
    "print(\"{} veri positivi\".format(cm_ihm_dt[1,1]))\n",
    "print(\"{} veri negativi\".format(cm_ihm_dt[0,0]))\n",
    "print(\"{} falsi positivi\".format(cm_ihm_dt[0,1]))\n",
    "print(\"{} falsi negativi\".format(cm_ihm_dt[1,0]))"
   ]
  },
  {
   "cell_type": "markdown",
   "id": "d8ab91bd",
   "metadata": {},
   "source": [
    "Il Decision Tree è il modello che predice più morti ospedaliere, tuttavia maggior parte di esse sono sbagliate. \n",
    "\n",
    "il numero di falsi positivi, ovvero di predizioni inesatte di morti ospedaliere, è piuttosto alto\\\n",
    "il modello riesce a predire correttamente una bassa percentuale morti ospedaliere\n",
    "\n",
    "per confermare la performance bassa del modello, calcolo precision, recall, f1 score"
   ]
  },
  {
   "cell_type": "markdown",
   "id": "1f0ee831",
   "metadata": {},
   "source": [
    "### precision, recall, f1 del Decision Tree"
   ]
  },
  {
   "cell_type": "code",
   "execution_count": 112,
   "id": "b70c9f06",
   "metadata": {},
   "outputs": [
    {
     "name": "stdout",
     "output_type": "stream",
     "text": [
      "precision score is 0.1567013511414816\n",
      "recall score is 0.18030736240171552\n",
      "f1 score is 0.1676776069796427\n"
     ]
    }
   ],
   "source": [
    "ps_dt = precision_score(y_train_ihm, y_pred_dt_cv)\n",
    "rs_dt = recall_score(y_train_ihm, y_pred_dt_cv)\n",
    "f1_dt = f1_score(y_train_ihm, y_pred_dt_cv)\n",
    "print('precision score is {}'.format(ps_dt))\n",
    "print('recall score is {}'.format(rs_dt))\n",
    "print('f1 score is {}'.format(f1_dt))"
   ]
  },
  {
   "cell_type": "markdown",
   "id": "88b1cbe9",
   "metadata": {},
   "source": [
    "### analisi più specifica sul Multilayer Perceptron"
   ]
  },
  {
   "cell_type": "code",
   "execution_count": 113,
   "id": "c5417922",
   "metadata": {},
   "outputs": [],
   "source": [
    "mlp_cv = MLPClassifier(random_state=42)\n",
    "y_pred_mlp_cv = cross_val_predict(mlp_cv, X_train_ihm_scaled, y_train_ihm, cv=5)\n",
    "score_mlp_cv = accuracy_score(y_train_ihm, y_pred_mlp_cv)"
   ]
  },
  {
   "cell_type": "code",
   "execution_count": 114,
   "id": "29429224",
   "metadata": {},
   "outputs": [
    {
     "data": {
      "text/plain": [
       "0.9795084850927187"
      ]
     },
     "execution_count": 114,
     "metadata": {},
     "output_type": "execute_result"
    }
   ],
   "source": [
    "score_mlp_cv"
   ]
  },
  {
   "cell_type": "markdown",
   "id": "8edb0423",
   "metadata": {},
   "source": [
    "### confusion matrix MLP"
   ]
  },
  {
   "cell_type": "code",
   "execution_count": 115,
   "id": "f4f1ae90",
   "metadata": {},
   "outputs": [
    {
     "data": {
      "text/plain": [
       "array([[305530,   1540],\n",
       "       [  4867,    729]], dtype=int64)"
      ]
     },
     "execution_count": 115,
     "metadata": {},
     "output_type": "execute_result"
    }
   ],
   "source": [
    "cm_ihm_mlp = confusion_matrix(y_train_ihm, y_pred_mlp_cv)\n",
    "cm_ihm_mlp"
   ]
  },
  {
   "cell_type": "code",
   "execution_count": 116,
   "id": "b1809ca2",
   "metadata": {},
   "outputs": [
    {
     "name": "stdout",
     "output_type": "stream",
     "text": [
      "PREDIZIONI DECISION TREE CON CROSS VALIDATION\n",
      "729 veri positivi\n",
      "305530 veri negativi\n",
      "1540 falsi positivi\n",
      "4867 falsi negativi\n"
     ]
    }
   ],
   "source": [
    "print(\"PREDIZIONI DECISION TREE CON CROSS VALIDATION\")\n",
    "print(\"{} veri positivi\".format(cm_ihm_mlp[1,1]))\n",
    "print(\"{} veri negativi\".format(cm_ihm_mlp[0,0]))\n",
    "print(\"{} falsi positivi\".format(cm_ihm_mlp[0,1]))\n",
    "print(\"{} falsi negativi\".format(cm_ihm_mlp[1,0]))"
   ]
  },
  {
   "cell_type": "markdown",
   "id": "7c5647c0",
   "metadata": {},
   "source": [
    "Il Decision Tree è il modello che predice più morti ospedaliere, tuttavia maggior parte di esse sono sbagliate. \n",
    "\n",
    "il numero di falsi positivi, ovvero di predizioni inesatte di morti ospedaliere, è piuttosto alto\\\n",
    "il modello riesce a predire correttamente una bassa percentuale morti ospedaliere\n",
    "\n",
    "per confermare la performance bassa del modello, calcolo precision, recall, f1 score"
   ]
  },
  {
   "cell_type": "markdown",
   "id": "502baa9f",
   "metadata": {},
   "source": [
    "### precision, recall, f1 del Multilayer Perceptron"
   ]
  },
  {
   "cell_type": "code",
   "execution_count": 117,
   "id": "0d02b1f8",
   "metadata": {},
   "outputs": [
    {
     "name": "stdout",
     "output_type": "stream",
     "text": [
      "precision score is 0.3212869105332746\n",
      "recall score is 0.13027162258756256\n",
      "f1 score is 0.18537825810553082\n"
     ]
    }
   ],
   "source": [
    "ps_mlp = precision_score(y_train_ihm, y_pred_mlp_cv)\n",
    "rs_mlp = recall_score(y_train_ihm, y_pred_mlp_cv)\n",
    "f1_mlp = f1_score(y_train_ihm, y_pred_mlp_cv)\n",
    "print('precision score is {}'.format(ps_mlp))\n",
    "print('recall score is {}'.format(rs_mlp))\n",
    "print('f1 score is {}'.format(f1_mlp))"
   ]
  },
  {
   "cell_type": "markdown",
   "id": "b5ba26b0",
   "metadata": {},
   "source": [
    "dopo aver effettuato l'analisi sulle performance del modello con l'attuale dataset, si traggono le seguenti conclusioni:\n",
    "\n",
    "- essendo il dataset molto sbilanciato relativamente alla feature da classificare, l'analisi non può basarsi sull'accuracy score, in quanto questo dato può essere fuorviante dal momento che i modelli tendono a ottenere apparentemente buone performance ma soltanto perchè essi predicono quasi esclusivamente la classe abbondante (sopravvissuti)\n",
    "- al contrario, la performance del modello deve essere misurata in base a **precision**, **recall** e **f1 score**\n",
    "- occorre applicare tecniche di ***undersampling*** della classe abbondante oppure di ***oversampling*** della classe rara, scegliendo tra le due quella che incerementa maggiormente le performance "
   ]
  },
  {
   "cell_type": "markdown",
   "id": "9f90fc2a",
   "metadata": {},
   "source": [
    "## problema: il dataset è sbilanciato\n",
    "i dati relativi alle morti ospedaliere sono troppo pochi (1% circa)\\\n",
    "una possibile soluzione è praticare un oversampling dei dati scarsi a disposizione attualmente oppure un undersampling dei dati abbondanti"
   ]
  },
  {
   "cell_type": "markdown",
   "id": "154c9648",
   "metadata": {},
   "source": [
    "## OVERSAMPLING\n",
    "utilizzo la tecnica SMOTE (*Synthetic Minority Oversampling TEchnique*) che va ad incrementare il numero\n",
    "di osservazioni relative alla classe sotto-rappresentata"
   ]
  },
  {
   "cell_type": "code",
   "execution_count": 118,
   "id": "d7e58755",
   "metadata": {},
   "outputs": [],
   "source": [
    "from imblearn.over_sampling import SMOTE"
   ]
  },
  {
   "cell_type": "code",
   "execution_count": 119,
   "id": "27e94fc3",
   "metadata": {},
   "outputs": [],
   "source": [
    "eq = SMOTE()\n",
    "X_train_ihm_ov, y_train_ihm_ov = eq.fit_resample(X_train_ihm_scaled, y_train_ihm.ravel())  # reshape 1D flatten"
   ]
  },
  {
   "cell_type": "markdown",
   "id": "432e391d",
   "metadata": {},
   "source": [
    "**NOTA**: l'oversampling viene applicato esclusivamente ai dati di training. Quindi ogni modello verrà ora addestrato\n",
    "sul training set a cui ho aggiunto la dicitura *_ov*"
   ]
  },
  {
   "cell_type": "markdown",
   "id": "832df412",
   "metadata": {},
   "source": [
    "### cosa succede dopo l'oversampling?"
   ]
  },
  {
   "cell_type": "code",
   "execution_count": 120,
   "id": "1666a887",
   "metadata": {},
   "outputs": [
    {
     "data": {
      "text/plain": [
       "614140"
      ]
     },
     "execution_count": 120,
     "metadata": {},
     "output_type": "execute_result"
    }
   ],
   "source": [
    "len(X_train_ihm_ov)  # nuova lunghezza del dataset"
   ]
  },
  {
   "cell_type": "code",
   "execution_count": 121,
   "id": "1ad3f013",
   "metadata": {},
   "outputs": [
    {
     "data": {
      "text/plain": [
       "5596"
      ]
     },
     "execution_count": 121,
     "metadata": {},
     "output_type": "execute_result"
    }
   ],
   "source": [
    "list(y_train_ihm).count(1) # numero di morti ospedaliere PRIMA dell'oversampling"
   ]
  },
  {
   "cell_type": "code",
   "execution_count": 122,
   "id": "12b048c7",
   "metadata": {},
   "outputs": [
    {
     "data": {
      "text/plain": [
       "307070"
      ]
     },
     "execution_count": 122,
     "metadata": {},
     "output_type": "execute_result"
    }
   ],
   "source": [
    "list(y_train_ihm_ov).count(1) # numero di morti ospedaliere DOPO l'oversampling"
   ]
  },
  {
   "cell_type": "code",
   "execution_count": 123,
   "id": "185ea456",
   "metadata": {},
   "outputs": [
    {
     "data": {
      "text/plain": [
       "307070"
      ]
     },
     "execution_count": 123,
     "metadata": {},
     "output_type": "execute_result"
    }
   ],
   "source": [
    "list(y_train_ihm).count(0) # numero di sopravvissuti PRIMA dell'oversampling"
   ]
  },
  {
   "cell_type": "code",
   "execution_count": 124,
   "id": "d1d00245",
   "metadata": {},
   "outputs": [
    {
     "data": {
      "text/plain": [
       "307070"
      ]
     },
     "execution_count": 124,
     "metadata": {},
     "output_type": "execute_result"
    }
   ],
   "source": [
    "list(y_train_ihm_ov).count(0) # numero di sopravvissuti DOPO l'oversampling"
   ]
  },
  {
   "cell_type": "markdown",
   "id": "1c3490c2",
   "metadata": {},
   "source": [
    "l'oversampling prende la classe meno rappresentata, in questo caso morti ospedaliere,\n",
    "e porta il numero di osservazioni allo stesso livello della classe più rappresentata"
   ]
  },
  {
   "cell_type": "markdown",
   "id": "ec2eaf5b",
   "metadata": {},
   "source": [
    "### note su Precision, Recall, F1 Score\n",
    "il Precision score ci dice quante predizioni di morti ospedaliere siano effettivamente morti ospedaliere (quanto è stato preciso il modello nelle sue predizioni di morti ospedaliere)\n",
    "\n",
    "il Recall score ci informa invece sull'abilità del modello di rilevare le morti ospedaliere presenti tra i dati (quante morti ospedaliere presenti è riuscito a rilevare)"
   ]
  },
  {
   "cell_type": "markdown",
   "id": "bad9b188",
   "metadata": {},
   "source": [
    "## Nuove Predizioni POST oversampling"
   ]
  },
  {
   "cell_type": "markdown",
   "id": "a96019f9",
   "metadata": {},
   "source": [
    "### Decision Tree"
   ]
  },
  {
   "cell_type": "code",
   "execution_count": 125,
   "id": "bfa728a6",
   "metadata": {},
   "outputs": [],
   "source": [
    "dt = DecisionTreeClassifier(random_state=42)"
   ]
  },
  {
   "cell_type": "code",
   "execution_count": 126,
   "id": "2b6d74f0",
   "metadata": {},
   "outputs": [],
   "source": [
    "y_pred_dt_cv_ov = cross_val_predict(dt, X_train_ihm_ov, y_train_ihm_ov, cv=3)\n",
    "score_dt_ov = accuracy_score(y_train_ihm_ov, y_pred_dt_cv_ov)"
   ]
  },
  {
   "cell_type": "code",
   "execution_count": 127,
   "id": "d00281fd",
   "metadata": {},
   "outputs": [
    {
     "data": {
      "text/plain": [
       "0.9807503175171784"
      ]
     },
     "execution_count": 127,
     "metadata": {},
     "output_type": "execute_result"
    }
   ],
   "source": [
    "score_dt_ov"
   ]
  },
  {
   "cell_type": "code",
   "execution_count": 128,
   "id": "e870b8c4",
   "metadata": {},
   "outputs": [],
   "source": [
    "cm_dt_ov = confusion_matrix(y_train_ihm_ov, y_pred_dt_cv_ov)\n",
    "ps_dt_ov = precision_score(y_train_ihm_ov, y_pred_dt_cv_ov)\n",
    "rs_dt_ov = recall_score(y_train_ihm_ov, y_pred_dt_cv_ov)\n",
    "f1_dt_ov = f1_score(y_train_ihm_ov, y_pred_dt_cv_ov)"
   ]
  },
  {
   "cell_type": "code",
   "execution_count": 129,
   "id": "f5e57c1a",
   "metadata": {},
   "outputs": [],
   "source": [
    "perf_dt = {'Metric': ['precision','recall','f1'],\n",
    "        'pre-oversampling': [ps_dt,rs_dt,f1_dt],\n",
    "        'post-oversampling': [ps_dt_ov, rs_dt_ov, f1_dt_ov]\n",
    "        }"
   ]
  },
  {
   "cell_type": "code",
   "execution_count": 130,
   "id": "31986756",
   "metadata": {},
   "outputs": [
    {
     "data": {
      "text/html": [
       "<style  type=\"text/css\" >\n",
       "</style><table id=\"T_413d5_\" style='display:inline'><caption>DECISION TREE PERFORMANCES</caption><thead>    <tr>        <th class=\"blank level0\" ></th>        <th class=\"col_heading level0 col0\" >Metric</th>        <th class=\"col_heading level0 col1\" >pre-oversampling</th>        <th class=\"col_heading level0 col2\" >post-oversampling</th>    </tr></thead><tbody>\n",
       "                <tr>\n",
       "                        <th id=\"T_413d5_level0_row0\" class=\"row_heading level0 row0\" >0</th>\n",
       "                        <td id=\"T_413d5_row0_col0\" class=\"data row0 col0\" >precision</td>\n",
       "                        <td id=\"T_413d5_row0_col1\" class=\"data row0 col1\" >0.156701</td>\n",
       "                        <td id=\"T_413d5_row0_col2\" class=\"data row0 col2\" >0.979165</td>\n",
       "            </tr>\n",
       "            <tr>\n",
       "                        <th id=\"T_413d5_level0_row1\" class=\"row_heading level0 row1\" >1</th>\n",
       "                        <td id=\"T_413d5_row1_col0\" class=\"data row1 col0\" >recall</td>\n",
       "                        <td id=\"T_413d5_row1_col1\" class=\"data row1 col1\" >0.180307</td>\n",
       "                        <td id=\"T_413d5_row1_col2\" class=\"data row1 col2\" >0.982405</td>\n",
       "            </tr>\n",
       "            <tr>\n",
       "                        <th id=\"T_413d5_level0_row2\" class=\"row_heading level0 row2\" >2</th>\n",
       "                        <td id=\"T_413d5_row2_col0\" class=\"data row2 col0\" >f1</td>\n",
       "                        <td id=\"T_413d5_row2_col1\" class=\"data row2 col1\" >0.167678</td>\n",
       "                        <td id=\"T_413d5_row2_col2\" class=\"data row2 col2\" >0.980782</td>\n",
       "            </tr>\n",
       "    </tbody></table>"
      ],
      "text/plain": [
       "<pandas.io.formats.style.Styler at 0x22b24a87940>"
      ]
     },
     "execution_count": 130,
     "metadata": {},
     "output_type": "execute_result"
    }
   ],
   "source": [
    "table_dt = pd.DataFrame(perf_dt, columns = ['Metric', 'pre-oversampling', 'post-oversampling'])\n",
    "table_dt.style.set_table_attributes(\"style='display:inline'\").set_caption('DECISION TREE PERFORMANCES')"
   ]
  },
  {
   "cell_type": "markdown",
   "id": "5625e01f",
   "metadata": {},
   "source": [
    "vediamo come la performance offerta del Decision Tree Classifier sia significativamente cresciuta dopo l'oversampling, con percentuali di precisione e recall molto alte, che si riflettono in un f1 score altrettanto alto"
   ]
  },
  {
   "cell_type": "markdown",
   "id": "5689213c",
   "metadata": {},
   "source": [
    "### Logistic Regressor"
   ]
  },
  {
   "cell_type": "code",
   "execution_count": 131,
   "id": "4fcafadf",
   "metadata": {},
   "outputs": [],
   "source": [
    "lr = LogisticRegression(random_state=42)"
   ]
  },
  {
   "cell_type": "code",
   "execution_count": 132,
   "id": "e5a134fd",
   "metadata": {},
   "outputs": [],
   "source": [
    "y_pred_lr_cv_ov = cross_val_predict(lr, X_train_ihm_ov, y_train_ihm_ov, cv=3)\n",
    "score_lr_ov = accuracy_score(y_train_ihm_ov, y_pred_lr_cv_ov)"
   ]
  },
  {
   "cell_type": "code",
   "execution_count": 133,
   "id": "9e9c084c",
   "metadata": {},
   "outputs": [
    {
     "data": {
      "text/plain": [
       "0.8584573550004885"
      ]
     },
     "execution_count": 133,
     "metadata": {},
     "output_type": "execute_result"
    }
   ],
   "source": [
    "score_lr_ov"
   ]
  },
  {
   "cell_type": "code",
   "execution_count": 134,
   "id": "073d16b5",
   "metadata": {},
   "outputs": [],
   "source": [
    "cm_lr_ov = confusion_matrix(y_train_ihm_ov, y_pred_lr_cv_ov)\n",
    "ps_lr_ov = precision_score(y_train_ihm_ov, y_pred_lr_cv_ov)\n",
    "rs_lr_ov = recall_score(y_train_ihm_ov, y_pred_lr_cv_ov)\n",
    "f1_lr_ov = f1_score(y_train_ihm_ov, y_pred_lr_cv_ov)"
   ]
  },
  {
   "cell_type": "code",
   "execution_count": 135,
   "id": "82784db4",
   "metadata": {},
   "outputs": [],
   "source": [
    "perf_lr = {'Metric': ['precision','recall','f1'],\n",
    "        'pre-oversampling': [ps_lr,rs_lr,f1_lr],\n",
    "        'post-oversampling': [ps_lr_ov, rs_lr_ov, f1_lr_ov]\n",
    "        }"
   ]
  },
  {
   "cell_type": "code",
   "execution_count": 136,
   "id": "94e4b3e9",
   "metadata": {},
   "outputs": [
    {
     "data": {
      "text/html": [
       "<style  type=\"text/css\" >\n",
       "</style><table id=\"T_2571f_\" style='display:inline'><caption>LOGISTIC REGRESSION PERFORMANCES</caption><thead>    <tr>        <th class=\"blank level0\" ></th>        <th class=\"col_heading level0 col0\" >Metric</th>        <th class=\"col_heading level0 col1\" >pre-oversampling</th>        <th class=\"col_heading level0 col2\" >post-oversampling</th>    </tr></thead><tbody>\n",
       "                <tr>\n",
       "                        <th id=\"T_2571f_level0_row0\" class=\"row_heading level0 row0\" >0</th>\n",
       "                        <td id=\"T_2571f_row0_col0\" class=\"data row0 col0\" >precision</td>\n",
       "                        <td id=\"T_2571f_row0_col1\" class=\"data row0 col1\" >0.360481</td>\n",
       "                        <td id=\"T_2571f_row0_col2\" class=\"data row0 col2\" >0.843074</td>\n",
       "            </tr>\n",
       "            <tr>\n",
       "                        <th id=\"T_2571f_level0_row1\" class=\"row_heading level0 row1\" >1</th>\n",
       "                        <td id=\"T_2571f_row1_col0\" class=\"data row1 col0\" >recall</td>\n",
       "                        <td id=\"T_2571f_row1_col1\" class=\"data row1 col1\" >0.048249</td>\n",
       "                        <td id=\"T_2571f_row1_col2\" class=\"data row1 col2\" >0.880877</td>\n",
       "            </tr>\n",
       "            <tr>\n",
       "                        <th id=\"T_2571f_level0_row2\" class=\"row_heading level0 row2\" >2</th>\n",
       "                        <td id=\"T_2571f_row2_col0\" class=\"data row2 col0\" >f1</td>\n",
       "                        <td id=\"T_2571f_row2_col1\" class=\"data row2 col1\" >0.085106</td>\n",
       "                        <td id=\"T_2571f_row2_col2\" class=\"data row2 col2\" >0.861561</td>\n",
       "            </tr>\n",
       "    </tbody></table>"
      ],
      "text/plain": [
       "<pandas.io.formats.style.Styler at 0x22b25299dc0>"
      ]
     },
     "execution_count": 136,
     "metadata": {},
     "output_type": "execute_result"
    }
   ],
   "source": [
    "table_lr = pd.DataFrame(perf_lr, columns = ['Metric', 'pre-oversampling', 'post-oversampling'])\n",
    "table_lr.style.set_table_attributes(\"style='display:inline'\").set_caption('LOGISTIC REGRESSION PERFORMANCES')"
   ]
  },
  {
   "cell_type": "markdown",
   "id": "3d64f233",
   "metadata": {},
   "source": [
    "anche nel caso del Logistic Regressor le performance sono nettamente cresciute, tuttavia sono significativamente più basse rispetto al Decision Tree. Possiamo quindi escludere questo modello per le predizioni finali"
   ]
  },
  {
   "cell_type": "markdown",
   "id": "cc18874f",
   "metadata": {},
   "source": [
    "### Multilayer Perceptron"
   ]
  },
  {
   "cell_type": "code",
   "execution_count": 137,
   "id": "bb4a6a6f",
   "metadata": {},
   "outputs": [],
   "source": [
    "mlp = MLPClassifier(random_state=42)"
   ]
  },
  {
   "cell_type": "code",
   "execution_count": 138,
   "id": "4e96ceb6",
   "metadata": {},
   "outputs": [],
   "source": [
    "y_pred_mlp_cv_ov = cross_val_predict(mlp, X_train_ihm_ov, y_train_ihm_ov, cv=3)\n",
    "score_mlp_ov = accuracy_score(y_train_ihm_ov, y_pred_mlp_cv_ov)"
   ]
  },
  {
   "cell_type": "code",
   "execution_count": 139,
   "id": "e92ba6ed",
   "metadata": {},
   "outputs": [
    {
     "data": {
      "text/plain": [
       "0.9604699254241704"
      ]
     },
     "execution_count": 139,
     "metadata": {},
     "output_type": "execute_result"
    }
   ],
   "source": [
    "score_mlp_ov"
   ]
  },
  {
   "cell_type": "code",
   "execution_count": 140,
   "id": "899d8d55",
   "metadata": {},
   "outputs": [],
   "source": [
    "cm_mlp_ov = confusion_matrix(y_train_ihm_ov, y_pred_mlp_cv_ov)\n",
    "ps_mlp_ov = precision_score(y_train_ihm_ov, y_pred_mlp_cv_ov)\n",
    "rs_mlp_ov = recall_score(y_train_ihm_ov, y_pred_mlp_cv_ov)\n",
    "f1_mlp_ov = f1_score(y_train_ihm_ov, y_pred_mlp_cv_ov)"
   ]
  },
  {
   "cell_type": "code",
   "execution_count": 141,
   "id": "3b1064f9",
   "metadata": {},
   "outputs": [],
   "source": [
    "perf_mlp = {'Metric': ['precision','recall','f1'],\n",
    "        'pre-oversampling': [ps_mlp,rs_mlp,f1_mlp],\n",
    "        'post-oversampling': [ps_mlp_ov, rs_mlp_ov, f1_mlp_ov]\n",
    "        }"
   ]
  },
  {
   "cell_type": "code",
   "execution_count": 142,
   "id": "c1bf96ee",
   "metadata": {},
   "outputs": [
    {
     "data": {
      "text/html": [
       "<style  type=\"text/css\" >\n",
       "</style><table id=\"T_a708c_\" style='display:inline'><caption>MULTILAYER PERCEPTRON PERFORMANCES</caption><thead>    <tr>        <th class=\"blank level0\" ></th>        <th class=\"col_heading level0 col0\" >Metric</th>        <th class=\"col_heading level0 col1\" >pre-oversampling</th>        <th class=\"col_heading level0 col2\" >post-oversampling</th>    </tr></thead><tbody>\n",
       "                <tr>\n",
       "                        <th id=\"T_a708c_level0_row0\" class=\"row_heading level0 row0\" >0</th>\n",
       "                        <td id=\"T_a708c_row0_col0\" class=\"data row0 col0\" >precision</td>\n",
       "                        <td id=\"T_a708c_row0_col1\" class=\"data row0 col1\" >0.321287</td>\n",
       "                        <td id=\"T_a708c_row0_col2\" class=\"data row0 col2\" >0.954951</td>\n",
       "            </tr>\n",
       "            <tr>\n",
       "                        <th id=\"T_a708c_level0_row1\" class=\"row_heading level0 row1\" >1</th>\n",
       "                        <td id=\"T_a708c_row1_col0\" class=\"data row1 col0\" >recall</td>\n",
       "                        <td id=\"T_a708c_row1_col1\" class=\"data row1 col1\" >0.130272</td>\n",
       "                        <td id=\"T_a708c_row1_col2\" class=\"data row1 col2\" >0.966535</td>\n",
       "            </tr>\n",
       "            <tr>\n",
       "                        <th id=\"T_a708c_level0_row2\" class=\"row_heading level0 row2\" >2</th>\n",
       "                        <td id=\"T_a708c_row2_col0\" class=\"data row2 col0\" >f1</td>\n",
       "                        <td id=\"T_a708c_row2_col1\" class=\"data row2 col1\" >0.185378</td>\n",
       "                        <td id=\"T_a708c_row2_col2\" class=\"data row2 col2\" >0.960708</td>\n",
       "            </tr>\n",
       "    </tbody></table>"
      ],
      "text/plain": [
       "<pandas.io.formats.style.Styler at 0x22b25299f10>"
      ]
     },
     "execution_count": 142,
     "metadata": {},
     "output_type": "execute_result"
    }
   ],
   "source": [
    "table_mlp = pd.DataFrame(perf_mlp, columns = ['Metric', 'pre-oversampling', 'post-oversampling'])\n",
    "table_mlp.style.set_table_attributes(\"style='display:inline'\").set_caption('MULTILAYER PERCEPTRON PERFORMANCES')"
   ]
  },
  {
   "cell_type": "markdown",
   "id": "7ef91ec9",
   "metadata": {},
   "source": [
    "anche nel caso del Logistic Regressor le performance sono nettamente cresciute, tuttavia sono significativamente più basse rispetto al Decision Tree. Possiamo quindi escludere questo modello per le predizioni finali"
   ]
  },
  {
   "cell_type": "markdown",
   "id": "15b436d5",
   "metadata": {},
   "source": [
    "### Random Forest"
   ]
  },
  {
   "cell_type": "code",
   "execution_count": 143,
   "id": "c0619d22",
   "metadata": {},
   "outputs": [],
   "source": [
    "rf = RandomForestClassifier(random_state=42)"
   ]
  },
  {
   "cell_type": "code",
   "execution_count": 144,
   "id": "e64b2975",
   "metadata": {},
   "outputs": [],
   "source": [
    "y_pred_rf_cv_ov = cross_val_predict(rf, X_train_ihm_ov, y_train_ihm_ov, cv=3)\n",
    "score_rf_ov = accuracy_score(y_train_ihm_ov, y_pred_rf_cv_ov)"
   ]
  },
  {
   "cell_type": "code",
   "execution_count": 145,
   "id": "6ea030fd",
   "metadata": {},
   "outputs": [
    {
     "data": {
      "text/plain": [
       "0.9911762790243267"
      ]
     },
     "execution_count": 145,
     "metadata": {},
     "output_type": "execute_result"
    }
   ],
   "source": [
    "score_rf_ov"
   ]
  },
  {
   "cell_type": "code",
   "execution_count": 146,
   "id": "873eaa83",
   "metadata": {},
   "outputs": [],
   "source": [
    "cm_rf_ov = confusion_matrix(y_train_ihm_ov, y_pred_rf_cv_ov)\n",
    "ps_rf_ov = precision_score(y_train_ihm_ov, y_pred_rf_cv_ov)\n",
    "rs_rf_ov = recall_score(y_train_ihm_ov, y_pred_rf_cv_ov)\n",
    "f1_rf_ov = f1_score(y_train_ihm_ov, y_pred_rf_cv_ov)"
   ]
  },
  {
   "cell_type": "code",
   "execution_count": 147,
   "id": "b5d04858",
   "metadata": {},
   "outputs": [],
   "source": [
    "perf_rf = {'Metric': ['precision','recall','f1'],\n",
    "        'pre-oversampling': [ps_rf,rs_rf,f1_rf],\n",
    "        'post-oversampling': [ps_rf_ov, rs_rf_ov, f1_rf_ov]\n",
    "        }"
   ]
  },
  {
   "cell_type": "code",
   "execution_count": 148,
   "id": "7214cb48",
   "metadata": {
    "scrolled": true
   },
   "outputs": [
    {
     "data": {
      "text/html": [
       "<style  type=\"text/css\" >\n",
       "</style><table id=\"T_70085_\" style='display:inline'><caption>RANDOM FOREST PERFORMANCES</caption><thead>    <tr>        <th class=\"blank level0\" ></th>        <th class=\"col_heading level0 col0\" >Metric</th>        <th class=\"col_heading level0 col1\" >pre-oversampling</th>        <th class=\"col_heading level0 col2\" >post-oversampling</th>    </tr></thead><tbody>\n",
       "                <tr>\n",
       "                        <th id=\"T_70085_level0_row0\" class=\"row_heading level0 row0\" >0</th>\n",
       "                        <td id=\"T_70085_row0_col0\" class=\"data row0 col0\" >precision</td>\n",
       "                        <td id=\"T_70085_row0_col1\" class=\"data row0 col1\" >0.380952</td>\n",
       "                        <td id=\"T_70085_row0_col2\" class=\"data row0 col2\" >0.996586</td>\n",
       "            </tr>\n",
       "            <tr>\n",
       "                        <th id=\"T_70085_level0_row1\" class=\"row_heading level0 row1\" >1</th>\n",
       "                        <td id=\"T_70085_row1_col0\" class=\"data row1 col0\" >recall</td>\n",
       "                        <td id=\"T_70085_row1_col1\" class=\"data row1 col1\" >0.005718</td>\n",
       "                        <td id=\"T_70085_row1_col2\" class=\"data row1 col2\" >0.985730</td>\n",
       "            </tr>\n",
       "            <tr>\n",
       "                        <th id=\"T_70085_level0_row2\" class=\"row_heading level0 row2\" >2</th>\n",
       "                        <td id=\"T_70085_row2_col0\" class=\"data row2 col0\" >f1</td>\n",
       "                        <td id=\"T_70085_row2_col1\" class=\"data row2 col1\" >0.011268</td>\n",
       "                        <td id=\"T_70085_row2_col2\" class=\"data row2 col2\" >0.991128</td>\n",
       "            </tr>\n",
       "    </tbody></table>"
      ],
      "text/plain": [
       "<pandas.io.formats.style.Styler at 0x22b252df9a0>"
      ]
     },
     "execution_count": 148,
     "metadata": {},
     "output_type": "execute_result"
    }
   ],
   "source": [
    "table_rf = pd.DataFrame(perf_rf, columns = ['Metric', 'pre-oversampling', 'post-oversampling'])\n",
    "table_rf.style.set_table_attributes(\"style='display:inline'\").set_caption('RANDOM FOREST PERFORMANCES')"
   ]
  },
  {
   "cell_type": "markdown",
   "id": "698e5287",
   "metadata": {},
   "source": [
    "**Random Forest è il modello che apparnetemente performa meglio dopo l'oversampling** con un **f1 score di oltre 99%**"
   ]
  },
  {
   "cell_type": "markdown",
   "id": "19794c35",
   "metadata": {},
   "source": [
    "## PRECISION RECALL TRADE-OFF\n",
    "vado a focalizzarmi sui modelli più promettenti, quindi Random Forest, per approfondire l'analisi sul trade off\n",
    "tra precision e recall, così come sullla curva ROC e la performance AUC score"
   ]
  },
  {
   "cell_type": "code",
   "execution_count": 149,
   "id": "fdc6c721",
   "metadata": {},
   "outputs": [],
   "source": [
    "from sklearn.metrics import precision_recall_curve\n",
    "from sklearn.metrics import roc_curve\n",
    "from sklearn.metrics import roc_auc_score"
   ]
  },
  {
   "cell_type": "code",
   "execution_count": 150,
   "id": "e5e47e3c",
   "metadata": {},
   "outputs": [],
   "source": [
    "y_probas_rf = cross_val_predict(rf, X_train_ihm_ov, y_train_ihm_ov, cv=3, method='predict_proba')\n",
    "y_probas_rf = y_probas_rf[:,1]  # prelevo la seconda colonna che corrisponde alle probabilità di appartenenza alla classe 1"
   ]
  },
  {
   "cell_type": "markdown",
   "id": "f2bb2a8d",
   "metadata": {},
   "source": [
    "creo un grafico con le due curve di precision e recall relazionate al threshold\\\n",
    "al variare del threshold, precision e recall cambiano.\\\n",
    "Il threshold è la soglia che stabilisce il limite di probabilità dopo il quale l'osservazione viene considerata\n",
    "come appartenente alla classe 1, nel nostro caso è il limite di probabilità che sancisce quando un'osservazione\n",
    "verrà predetta come morte ospedaliera.\\\n",
    "Ad esempio, se la probabilità restituita da quella osservazione è 0.55 ma il threshold scelto è 0.6, quell'osservazione\n",
    "non verrà predetta come morte ospedaliera, se invece il threshold è 0.5, allora verrà predetta come morte ospedaliera."
   ]
  },
  {
   "cell_type": "code",
   "execution_count": 151,
   "id": "a1526e26",
   "metadata": {},
   "outputs": [
    {
     "data": {
      "image/png": "[encoded data removed]",
      "text/plain": [
       "<Figure size 1008x504 with 1 Axes>"
      ]
     },
     "metadata": {
      "needs_background": "light"
     },
     "output_type": "display_data"
    }
   ],
   "source": [
    "precisions_rf, recalls_rf, thresholds_rf = precision_recall_curve(y_train_ihm_ov, y_probas_rf)\n",
    "\n",
    "def plot_precision_and_recall(precisions, recalls, thresholds):\n",
    "    plt.plot(thresholds, precisions[:-1], 'b--', label='precision', linewidth=3)\n",
    "    plt.plot(thresholds, recalls[:-1], 'g-', label='recall', linewidth=3)\n",
    "    plt.xlabel('threshold', fontsize=19)\n",
    "    plt.legend(loc='lower left', fontsize=19)\n",
    "    plt.axis([0,1,0,1.2])\n",
    "    plt.grid()\n",
    "    \n",
    "plt.figure(figsize=(14, 7))\n",
    "plot_precision_and_recall(precisions_rf, recalls_rf, thresholds_rf)\n",
    "plt.show()"
   ]
  },
  {
   "cell_type": "markdown",
   "id": "8a1bf984",
   "metadata": {},
   "source": [
    "ad esempio, se il threshold fosse minore di 0.2, la precision inizierebbe via via a scendere, ovvero il modello\n",
    "inizierebbe a predire più frequentemente morti ospedaliere per osservazioni che in realtà si riferiscono a sopravvissuti.\\\n",
    "Se invece il threshold scelto fosse al di sopra di 0.6, la recall inizierebbe lentamente a scendere, per poi calare rapidamente\n",
    "per threshold superiori a 0.8, perchè threshold così alti porterebbero il modello a predire quasi mai morti ospedaliere.\n",
    "\n",
    "La scelta di un threshold piuttosto che un altro dipende molto dal tipo di problema affrontato:\n",
    "- è più importante avere un'alta precision oppure un'alta recall?\n",
    "\n",
    "Nel nostro caso equivarrebbe a chiedersi se sia più importante la predizione corretta delle morti ospedaliere oppure la predizione corretta dei sopravvissuti.\\\n",
    "Il modello sembra performare molto bene, per cui non andremo a modificare la scelta del threshold."
   ]
  },
  {
   "cell_type": "markdown",
   "id": "e8497b2a",
   "metadata": {},
   "source": [
    "## ROC CURVE & ROC AUC SCORE\n",
    "il seguente grafico offre informazioni molto rilevanti circa la performance del modello.\\\n",
    "La potenza del modello è data dal ROC AUC Score, che equivale all'area sottostante la curva blu.\n",
    "Quindi, più la curva mira verso l'angolo in alto a sinistra, più il modello è potente\\\n",
    "Se la curva giacesse lungo la diagonale tratteggiata, il modello avrebbe un'area di 0.5 e sarebbe\n",
    "un modello che effettua predizioni \"random\""
   ]
  },
  {
   "cell_type": "code",
   "execution_count": 152,
   "id": "d9de5c24",
   "metadata": {},
   "outputs": [
    {
     "data": {
      "image/png": "[encoded data removed]",
      "text/plain": [
       "<Figure size 864x432 with 1 Axes>"
      ]
     },
     "metadata": {
      "needs_background": "light"
     },
     "output_type": "display_data"
    }
   ],
   "source": [
    "fpr_rf, tpr_rf, thresholds_rf = roc_curve(y_train_ihm_ov, y_probas_rf)\n",
    "\n",
    "def plot_roc_curve(fpr, tpr, label=None):\n",
    "    plt.plot(fpr, tpr, linewidth=2, label=label)\n",
    "    plt.plot([0, 1], [0, 1], 'k--')  # dashed diagonal\n",
    "    plt.grid(linestyle='--')\n",
    "    plt.title(\"ROC curve\", color='red')\n",
    "    plt.xlabel(\"false positive rate\", color='blue', size=15)\n",
    "    plt.ylabel(\"true positive rate\", color='blue', size=15)\n",
    "    \n",
    "plt.figure(figsize=(12, 6))                                   \n",
    "plot_roc_curve(fpr_rf, tpr_rf)\n",
    "plt.show()"
   ]
  },
  {
   "cell_type": "code",
   "execution_count": 153,
   "id": "0274cc56",
   "metadata": {},
   "outputs": [
    {
     "data": {
      "text/plain": [
       "0.9994010838136466"
      ]
     },
     "execution_count": 153,
     "metadata": {},
     "output_type": "execute_result"
    }
   ],
   "source": [
    "roc_auc_rf = roc_auc_score(y_train_ihm_ov, y_probas_rf)\n",
    "roc_auc_rf"
   ]
  },
  {
   "cell_type": "markdown",
   "id": "8d7ae4bb",
   "metadata": {},
   "source": [
    "Dal grafico vediamo come il modello Random Forest addestrato appare molto performante, in quanto la curva è spostata verso l'angolo\n",
    "superiore sinistro, andando quasi a toccarlo.\\\n",
    "Il ROC AUC score che misura l'area sottostante è infatti di 0.999"
   ]
  },
  {
   "cell_type": "markdown",
   "id": "665fb4c3",
   "metadata": {},
   "source": [
    "## HYPERPARAMETERS TUNING\n",
    "andiamo a effettuare l'hyperparameter tuning dei due modelli più performanti"
   ]
  },
  {
   "cell_type": "markdown",
   "id": "891104f7",
   "metadata": {},
   "source": [
    "### Random Forest"
   ]
  },
  {
   "cell_type": "markdown",
   "id": "ff111b3b",
   "metadata": {},
   "source": [
    "#### tuning del n_estimators (default = 100)"
   ]
  },
  {
   "cell_type": "code",
   "execution_count": 140,
   "id": "86987329",
   "metadata": {},
   "outputs": [],
   "source": [
    "from sklearn.model_selection import validation_curve"
   ]
  },
  {
   "cell_type": "code",
   "execution_count": 141,
   "id": "7fcbc425",
   "metadata": {},
   "outputs": [],
   "source": [
    "num_est = [1, 10, 50, 100]"
   ]
  },
  {
   "cell_type": "code",
   "execution_count": 142,
   "id": "0f67383d",
   "metadata": {},
   "outputs": [],
   "source": [
    "train_scoreNum, test_scoreNum = validation_curve(\n",
    "                                RandomForestClassifier(),\n",
    "                                X = X_train_ihm_ov, y = y_train_ihm_ov, \n",
    "                                param_name = 'n_estimators', \n",
    "                                param_range = num_est, cv = 3)"
   ]
  },
  {
   "cell_type": "code",
   "execution_count": 143,
   "id": "8ac472bb",
   "metadata": {
    "scrolled": true
   },
   "outputs": [
    {
     "data": {
      "text/plain": [
       "array([[0.99300728, 0.98694761, 0.98776094],\n",
       "       [0.99985101, 0.99886427, 0.99877145],\n",
       "       [0.99988032, 0.99980705, 0.99981437],\n",
       "       [0.99988032, 0.99981437, 0.99981926]])"
      ]
     },
     "execution_count": 143,
     "metadata": {},
     "output_type": "execute_result"
    }
   ],
   "source": [
    "train_scoreNum"
   ]
  },
  {
   "cell_type": "code",
   "execution_count": 144,
   "id": "5d4dbfb1",
   "metadata": {},
   "outputs": [
    {
     "data": {
      "text/plain": [
       "array([[0.96318278, 0.97177512, 0.97429084],\n",
       "       [0.97634749, 0.99719607, 0.99702999],\n",
       "       [0.97793996, 0.99788484, 0.99777249],\n",
       "       [0.97804254, 0.99791904, 0.99775295]])"
      ]
     },
     "execution_count": 144,
     "metadata": {},
     "output_type": "execute_result"
    }
   ],
   "source": [
    "test_scoreNum"
   ]
  },
  {
   "cell_type": "code",
   "execution_count": 145,
   "id": "395aab0e",
   "metadata": {},
   "outputs": [],
   "source": [
    "avg_train_scoreNum = np.average(train_scoreNum, axis=1)"
   ]
  },
  {
   "cell_type": "code",
   "execution_count": 146,
   "id": "a5047307",
   "metadata": {},
   "outputs": [],
   "source": [
    "avg_test_scoreNum = np.average(test_scoreNum, axis=1)"
   ]
  },
  {
   "cell_type": "code",
   "execution_count": 147,
   "id": "8b2b4cab",
   "metadata": {},
   "outputs": [
    {
     "data": {
      "text/plain": [
       "<matplotlib.legend.Legend at 0x25f08bb03a0>"
      ]
     },
     "execution_count": 147,
     "metadata": {},
     "output_type": "execute_result"
    },
    {
     "data": {
      "image/png": "[encoded data removed]",
      "text/plain": [
       "<Figure size 1080x432 with 1 Axes>"
      ]
     },
     "metadata": {
      "needs_background": "light"
     },
     "output_type": "display_data"
    }
   ],
   "source": [
    "fig, ax = plt.subplots(figsize=(15,6))\n",
    "\n",
    "ax.plot(num_est,avg_train_scoreNum, 'o:', label='accuracy train')\n",
    "ax.plot(num_est,avg_test_scoreNum, 'o:', label='accuracy test')\n",
    "ax.set_ylabel('accuracy')\n",
    "ax.set_xlabel('n_estimatori')\n",
    "ax.grid()\n",
    "ax.legend()"
   ]
  },
  {
   "cell_type": "markdown",
   "id": "3ae717ee",
   "metadata": {},
   "source": [
    "#### tuning max_depth (deault none)"
   ]
  },
  {
   "cell_type": "code",
   "execution_count": 148,
   "id": "b8439f4c",
   "metadata": {},
   "outputs": [],
   "source": [
    "max_depth = [1, 25, 50, 100, 200]"
   ]
  },
  {
   "cell_type": "code",
   "execution_count": 149,
   "id": "430d71bf",
   "metadata": {},
   "outputs": [
    {
     "ename": "KeyboardInterrupt",
     "evalue": "",
     "output_type": "error",
     "traceback": [
      "\u001b[1;31m---------------------------------------------------------------------------\u001b[0m",
      "\u001b[1;31mKeyboardInterrupt\u001b[0m                         Traceback (most recent call last)",
      "\u001b[1;32m<ipython-input-149-5c46a4c2331d>\u001b[0m in \u001b[0;36m<module>\u001b[1;34m\u001b[0m\n\u001b[1;32m----> 1\u001b[1;33m train_scoreNum, test_scoreNum = validation_curve(\n\u001b[0m\u001b[0;32m      2\u001b[0m                                 \u001b[0mRandomForestClassifier\u001b[0m\u001b[1;33m(\u001b[0m\u001b[1;33m)\u001b[0m\u001b[1;33m,\u001b[0m\u001b[1;33m\u001b[0m\u001b[1;33m\u001b[0m\u001b[0m\n\u001b[0;32m      3\u001b[0m                                 \u001b[0mX\u001b[0m \u001b[1;33m=\u001b[0m \u001b[0mX_train_ihm_ov\u001b[0m\u001b[1;33m,\u001b[0m \u001b[0my\u001b[0m \u001b[1;33m=\u001b[0m \u001b[0my_train_ihm_ov\u001b[0m\u001b[1;33m,\u001b[0m\u001b[1;33m\u001b[0m\u001b[1;33m\u001b[0m\u001b[0m\n\u001b[0;32m      4\u001b[0m                                 \u001b[0mparam_name\u001b[0m \u001b[1;33m=\u001b[0m \u001b[1;34m'max_depth'\u001b[0m\u001b[1;33m,\u001b[0m\u001b[1;33m\u001b[0m\u001b[1;33m\u001b[0m\u001b[0m\n\u001b[0;32m      5\u001b[0m                                 param_range = max_depth, cv = 3)\n",
      "\u001b[1;32mD:\\Programmazione\\lib\\site-packages\\sklearn\\utils\\validation.py\u001b[0m in \u001b[0;36minner_f\u001b[1;34m(*args, **kwargs)\u001b[0m\n\u001b[0;32m     61\u001b[0m             \u001b[0mextra_args\u001b[0m \u001b[1;33m=\u001b[0m \u001b[0mlen\u001b[0m\u001b[1;33m(\u001b[0m\u001b[0margs\u001b[0m\u001b[1;33m)\u001b[0m \u001b[1;33m-\u001b[0m \u001b[0mlen\u001b[0m\u001b[1;33m(\u001b[0m\u001b[0mall_args\u001b[0m\u001b[1;33m)\u001b[0m\u001b[1;33m\u001b[0m\u001b[1;33m\u001b[0m\u001b[0m\n\u001b[0;32m     62\u001b[0m             \u001b[1;32mif\u001b[0m \u001b[0mextra_args\u001b[0m \u001b[1;33m<=\u001b[0m \u001b[1;36m0\u001b[0m\u001b[1;33m:\u001b[0m\u001b[1;33m\u001b[0m\u001b[1;33m\u001b[0m\u001b[0m\n\u001b[1;32m---> 63\u001b[1;33m                 \u001b[1;32mreturn\u001b[0m \u001b[0mf\u001b[0m\u001b[1;33m(\u001b[0m\u001b[1;33m*\u001b[0m\u001b[0margs\u001b[0m\u001b[1;33m,\u001b[0m \u001b[1;33m**\u001b[0m\u001b[0mkwargs\u001b[0m\u001b[1;33m)\u001b[0m\u001b[1;33m\u001b[0m\u001b[1;33m\u001b[0m\u001b[0m\n\u001b[0m\u001b[0;32m     64\u001b[0m \u001b[1;33m\u001b[0m\u001b[0m\n\u001b[0;32m     65\u001b[0m             \u001b[1;31m# extra_args > 0\u001b[0m\u001b[1;33m\u001b[0m\u001b[1;33m\u001b[0m\u001b[1;33m\u001b[0m\u001b[0m\n",
      "\u001b[1;32mD:\\Programmazione\\lib\\site-packages\\sklearn\\model_selection\\_validation.py\u001b[0m in \u001b[0;36mvalidation_curve\u001b[1;34m(estimator, X, y, param_name, param_range, groups, cv, scoring, n_jobs, pre_dispatch, verbose, error_score, fit_params)\u001b[0m\n\u001b[0;32m   1630\u001b[0m     parallel = Parallel(n_jobs=n_jobs, pre_dispatch=pre_dispatch,\n\u001b[0;32m   1631\u001b[0m                         verbose=verbose)\n\u001b[1;32m-> 1632\u001b[1;33m     results = parallel(delayed(_fit_and_score)(\n\u001b[0m\u001b[0;32m   1633\u001b[0m         \u001b[0mclone\u001b[0m\u001b[1;33m(\u001b[0m\u001b[0mestimator\u001b[0m\u001b[1;33m)\u001b[0m\u001b[1;33m,\u001b[0m \u001b[0mX\u001b[0m\u001b[1;33m,\u001b[0m \u001b[0my\u001b[0m\u001b[1;33m,\u001b[0m \u001b[0mscorer\u001b[0m\u001b[1;33m,\u001b[0m \u001b[0mtrain\u001b[0m\u001b[1;33m,\u001b[0m \u001b[0mtest\u001b[0m\u001b[1;33m,\u001b[0m \u001b[0mverbose\u001b[0m\u001b[1;33m,\u001b[0m\u001b[1;33m\u001b[0m\u001b[1;33m\u001b[0m\u001b[0m\n\u001b[0;32m   1634\u001b[0m         \u001b[0mparameters\u001b[0m\u001b[1;33m=\u001b[0m\u001b[1;33m{\u001b[0m\u001b[0mparam_name\u001b[0m\u001b[1;33m:\u001b[0m \u001b[0mv\u001b[0m\u001b[1;33m}\u001b[0m\u001b[1;33m,\u001b[0m \u001b[0mfit_params\u001b[0m\u001b[1;33m=\u001b[0m\u001b[0mfit_params\u001b[0m\u001b[1;33m,\u001b[0m\u001b[1;33m\u001b[0m\u001b[1;33m\u001b[0m\u001b[0m\n",
      "\u001b[1;32mD:\\Programmazione\\lib\\site-packages\\joblib\\parallel.py\u001b[0m in \u001b[0;36m__call__\u001b[1;34m(self, iterable)\u001b[0m\n\u001b[0;32m   1042\u001b[0m                 \u001b[0mself\u001b[0m\u001b[1;33m.\u001b[0m\u001b[0m_iterating\u001b[0m \u001b[1;33m=\u001b[0m \u001b[0mself\u001b[0m\u001b[1;33m.\u001b[0m\u001b[0m_original_iterator\u001b[0m \u001b[1;32mis\u001b[0m \u001b[1;32mnot\u001b[0m \u001b[1;32mNone\u001b[0m\u001b[1;33m\u001b[0m\u001b[1;33m\u001b[0m\u001b[0m\n\u001b[0;32m   1043\u001b[0m \u001b[1;33m\u001b[0m\u001b[0m\n\u001b[1;32m-> 1044\u001b[1;33m             \u001b[1;32mwhile\u001b[0m \u001b[0mself\u001b[0m\u001b[1;33m.\u001b[0m\u001b[0mdispatch_one_batch\u001b[0m\u001b[1;33m(\u001b[0m\u001b[0miterator\u001b[0m\u001b[1;33m)\u001b[0m\u001b[1;33m:\u001b[0m\u001b[1;33m\u001b[0m\u001b[1;33m\u001b[0m\u001b[0m\n\u001b[0m\u001b[0;32m   1045\u001b[0m                 \u001b[1;32mpass\u001b[0m\u001b[1;33m\u001b[0m\u001b[1;33m\u001b[0m\u001b[0m\n\u001b[0;32m   1046\u001b[0m \u001b[1;33m\u001b[0m\u001b[0m\n",
      "\u001b[1;32mD:\\Programmazione\\lib\\site-packages\\joblib\\parallel.py\u001b[0m in \u001b[0;36mdispatch_one_batch\u001b[1;34m(self, iterator)\u001b[0m\n\u001b[0;32m    857\u001b[0m                 \u001b[1;32mreturn\u001b[0m \u001b[1;32mFalse\u001b[0m\u001b[1;33m\u001b[0m\u001b[1;33m\u001b[0m\u001b[0m\n\u001b[0;32m    858\u001b[0m             \u001b[1;32melse\u001b[0m\u001b[1;33m:\u001b[0m\u001b[1;33m\u001b[0m\u001b[1;33m\u001b[0m\u001b[0m\n\u001b[1;32m--> 859\u001b[1;33m                 \u001b[0mself\u001b[0m\u001b[1;33m.\u001b[0m\u001b[0m_dispatch\u001b[0m\u001b[1;33m(\u001b[0m\u001b[0mtasks\u001b[0m\u001b[1;33m)\u001b[0m\u001b[1;33m\u001b[0m\u001b[1;33m\u001b[0m\u001b[0m\n\u001b[0m\u001b[0;32m    860\u001b[0m                 \u001b[1;32mreturn\u001b[0m \u001b[1;32mTrue\u001b[0m\u001b[1;33m\u001b[0m\u001b[1;33m\u001b[0m\u001b[0m\n\u001b[0;32m    861\u001b[0m \u001b[1;33m\u001b[0m\u001b[0m\n",
      "\u001b[1;32mD:\\Programmazione\\lib\\site-packages\\joblib\\parallel.py\u001b[0m in \u001b[0;36m_dispatch\u001b[1;34m(self, batch)\u001b[0m\n\u001b[0;32m    775\u001b[0m         \u001b[1;32mwith\u001b[0m \u001b[0mself\u001b[0m\u001b[1;33m.\u001b[0m\u001b[0m_lock\u001b[0m\u001b[1;33m:\u001b[0m\u001b[1;33m\u001b[0m\u001b[1;33m\u001b[0m\u001b[0m\n\u001b[0;32m    776\u001b[0m             \u001b[0mjob_idx\u001b[0m \u001b[1;33m=\u001b[0m \u001b[0mlen\u001b[0m\u001b[1;33m(\u001b[0m\u001b[0mself\u001b[0m\u001b[1;33m.\u001b[0m\u001b[0m_jobs\u001b[0m\u001b[1;33m)\u001b[0m\u001b[1;33m\u001b[0m\u001b[1;33m\u001b[0m\u001b[0m\n\u001b[1;32m--> 777\u001b[1;33m             \u001b[0mjob\u001b[0m \u001b[1;33m=\u001b[0m \u001b[0mself\u001b[0m\u001b[1;33m.\u001b[0m\u001b[0m_backend\u001b[0m\u001b[1;33m.\u001b[0m\u001b[0mapply_async\u001b[0m\u001b[1;33m(\u001b[0m\u001b[0mbatch\u001b[0m\u001b[1;33m,\u001b[0m \u001b[0mcallback\u001b[0m\u001b[1;33m=\u001b[0m\u001b[0mcb\u001b[0m\u001b[1;33m)\u001b[0m\u001b[1;33m\u001b[0m\u001b[1;33m\u001b[0m\u001b[0m\n\u001b[0m\u001b[0;32m    778\u001b[0m             \u001b[1;31m# A job can complete so quickly than its callback is\u001b[0m\u001b[1;33m\u001b[0m\u001b[1;33m\u001b[0m\u001b[1;33m\u001b[0m\u001b[0m\n\u001b[0;32m    779\u001b[0m             \u001b[1;31m# called before we get here, causing self._jobs to\u001b[0m\u001b[1;33m\u001b[0m\u001b[1;33m\u001b[0m\u001b[1;33m\u001b[0m\u001b[0m\n",
      "\u001b[1;32mD:\\Programmazione\\lib\\site-packages\\joblib\\_parallel_backends.py\u001b[0m in \u001b[0;36mapply_async\u001b[1;34m(self, func, callback)\u001b[0m\n\u001b[0;32m    206\u001b[0m     \u001b[1;32mdef\u001b[0m \u001b[0mapply_async\u001b[0m\u001b[1;33m(\u001b[0m\u001b[0mself\u001b[0m\u001b[1;33m,\u001b[0m \u001b[0mfunc\u001b[0m\u001b[1;33m,\u001b[0m \u001b[0mcallback\u001b[0m\u001b[1;33m=\u001b[0m\u001b[1;32mNone\u001b[0m\u001b[1;33m)\u001b[0m\u001b[1;33m:\u001b[0m\u001b[1;33m\u001b[0m\u001b[1;33m\u001b[0m\u001b[0m\n\u001b[0;32m    207\u001b[0m         \u001b[1;34m\"\"\"Schedule a func to be run\"\"\"\u001b[0m\u001b[1;33m\u001b[0m\u001b[1;33m\u001b[0m\u001b[0m\n\u001b[1;32m--> 208\u001b[1;33m         \u001b[0mresult\u001b[0m \u001b[1;33m=\u001b[0m \u001b[0mImmediateResult\u001b[0m\u001b[1;33m(\u001b[0m\u001b[0mfunc\u001b[0m\u001b[1;33m)\u001b[0m\u001b[1;33m\u001b[0m\u001b[1;33m\u001b[0m\u001b[0m\n\u001b[0m\u001b[0;32m    209\u001b[0m         \u001b[1;32mif\u001b[0m \u001b[0mcallback\u001b[0m\u001b[1;33m:\u001b[0m\u001b[1;33m\u001b[0m\u001b[1;33m\u001b[0m\u001b[0m\n\u001b[0;32m    210\u001b[0m             \u001b[0mcallback\u001b[0m\u001b[1;33m(\u001b[0m\u001b[0mresult\u001b[0m\u001b[1;33m)\u001b[0m\u001b[1;33m\u001b[0m\u001b[1;33m\u001b[0m\u001b[0m\n",
      "\u001b[1;32mD:\\Programmazione\\lib\\site-packages\\joblib\\_parallel_backends.py\u001b[0m in \u001b[0;36m__init__\u001b[1;34m(self, batch)\u001b[0m\n\u001b[0;32m    570\u001b[0m         \u001b[1;31m# Don't delay the application, to avoid keeping the input\u001b[0m\u001b[1;33m\u001b[0m\u001b[1;33m\u001b[0m\u001b[1;33m\u001b[0m\u001b[0m\n\u001b[0;32m    571\u001b[0m         \u001b[1;31m# arguments in memory\u001b[0m\u001b[1;33m\u001b[0m\u001b[1;33m\u001b[0m\u001b[1;33m\u001b[0m\u001b[0m\n\u001b[1;32m--> 572\u001b[1;33m         \u001b[0mself\u001b[0m\u001b[1;33m.\u001b[0m\u001b[0mresults\u001b[0m \u001b[1;33m=\u001b[0m \u001b[0mbatch\u001b[0m\u001b[1;33m(\u001b[0m\u001b[1;33m)\u001b[0m\u001b[1;33m\u001b[0m\u001b[1;33m\u001b[0m\u001b[0m\n\u001b[0m\u001b[0;32m    573\u001b[0m \u001b[1;33m\u001b[0m\u001b[0m\n\u001b[0;32m    574\u001b[0m     \u001b[1;32mdef\u001b[0m \u001b[0mget\u001b[0m\u001b[1;33m(\u001b[0m\u001b[0mself\u001b[0m\u001b[1;33m)\u001b[0m\u001b[1;33m:\u001b[0m\u001b[1;33m\u001b[0m\u001b[1;33m\u001b[0m\u001b[0m\n",
      "\u001b[1;32mD:\\Programmazione\\lib\\site-packages\\joblib\\parallel.py\u001b[0m in \u001b[0;36m__call__\u001b[1;34m(self)\u001b[0m\n\u001b[0;32m    260\u001b[0m         \u001b[1;31m# change the default number of processes to -1\u001b[0m\u001b[1;33m\u001b[0m\u001b[1;33m\u001b[0m\u001b[1;33m\u001b[0m\u001b[0m\n\u001b[0;32m    261\u001b[0m         \u001b[1;32mwith\u001b[0m \u001b[0mparallel_backend\u001b[0m\u001b[1;33m(\u001b[0m\u001b[0mself\u001b[0m\u001b[1;33m.\u001b[0m\u001b[0m_backend\u001b[0m\u001b[1;33m,\u001b[0m \u001b[0mn_jobs\u001b[0m\u001b[1;33m=\u001b[0m\u001b[0mself\u001b[0m\u001b[1;33m.\u001b[0m\u001b[0m_n_jobs\u001b[0m\u001b[1;33m)\u001b[0m\u001b[1;33m:\u001b[0m\u001b[1;33m\u001b[0m\u001b[1;33m\u001b[0m\u001b[0m\n\u001b[1;32m--> 262\u001b[1;33m             return [func(*args, **kwargs)\n\u001b[0m\u001b[0;32m    263\u001b[0m                     for func, args, kwargs in self.items]\n\u001b[0;32m    264\u001b[0m \u001b[1;33m\u001b[0m\u001b[0m\n",
      "\u001b[1;32mD:\\Programmazione\\lib\\site-packages\\joblib\\parallel.py\u001b[0m in \u001b[0;36m<listcomp>\u001b[1;34m(.0)\u001b[0m\n\u001b[0;32m    260\u001b[0m         \u001b[1;31m# change the default number of processes to -1\u001b[0m\u001b[1;33m\u001b[0m\u001b[1;33m\u001b[0m\u001b[1;33m\u001b[0m\u001b[0m\n\u001b[0;32m    261\u001b[0m         \u001b[1;32mwith\u001b[0m \u001b[0mparallel_backend\u001b[0m\u001b[1;33m(\u001b[0m\u001b[0mself\u001b[0m\u001b[1;33m.\u001b[0m\u001b[0m_backend\u001b[0m\u001b[1;33m,\u001b[0m \u001b[0mn_jobs\u001b[0m\u001b[1;33m=\u001b[0m\u001b[0mself\u001b[0m\u001b[1;33m.\u001b[0m\u001b[0m_n_jobs\u001b[0m\u001b[1;33m)\u001b[0m\u001b[1;33m:\u001b[0m\u001b[1;33m\u001b[0m\u001b[1;33m\u001b[0m\u001b[0m\n\u001b[1;32m--> 262\u001b[1;33m             return [func(*args, **kwargs)\n\u001b[0m\u001b[0;32m    263\u001b[0m                     for func, args, kwargs in self.items]\n\u001b[0;32m    264\u001b[0m \u001b[1;33m\u001b[0m\u001b[0m\n",
      "\u001b[1;32mD:\\Programmazione\\lib\\site-packages\\sklearn\\utils\\fixes.py\u001b[0m in \u001b[0;36m__call__\u001b[1;34m(self, *args, **kwargs)\u001b[0m\n\u001b[0;32m    220\u001b[0m     \u001b[1;32mdef\u001b[0m \u001b[0m__call__\u001b[0m\u001b[1;33m(\u001b[0m\u001b[0mself\u001b[0m\u001b[1;33m,\u001b[0m \u001b[1;33m*\u001b[0m\u001b[0margs\u001b[0m\u001b[1;33m,\u001b[0m \u001b[1;33m**\u001b[0m\u001b[0mkwargs\u001b[0m\u001b[1;33m)\u001b[0m\u001b[1;33m:\u001b[0m\u001b[1;33m\u001b[0m\u001b[1;33m\u001b[0m\u001b[0m\n\u001b[0;32m    221\u001b[0m         \u001b[1;32mwith\u001b[0m \u001b[0mconfig_context\u001b[0m\u001b[1;33m(\u001b[0m\u001b[1;33m**\u001b[0m\u001b[0mself\u001b[0m\u001b[1;33m.\u001b[0m\u001b[0mconfig\u001b[0m\u001b[1;33m)\u001b[0m\u001b[1;33m:\u001b[0m\u001b[1;33m\u001b[0m\u001b[1;33m\u001b[0m\u001b[0m\n\u001b[1;32m--> 222\u001b[1;33m             \u001b[1;32mreturn\u001b[0m \u001b[0mself\u001b[0m\u001b[1;33m.\u001b[0m\u001b[0mfunction\u001b[0m\u001b[1;33m(\u001b[0m\u001b[1;33m*\u001b[0m\u001b[0margs\u001b[0m\u001b[1;33m,\u001b[0m \u001b[1;33m**\u001b[0m\u001b[0mkwargs\u001b[0m\u001b[1;33m)\u001b[0m\u001b[1;33m\u001b[0m\u001b[1;33m\u001b[0m\u001b[0m\n\u001b[0m",
      "\u001b[1;32mD:\\Programmazione\\lib\\site-packages\\sklearn\\model_selection\\_validation.py\u001b[0m in \u001b[0;36m_fit_and_score\u001b[1;34m(estimator, X, y, scorer, train, test, verbose, parameters, fit_params, return_train_score, return_parameters, return_n_test_samples, return_times, return_estimator, split_progress, candidate_progress, error_score)\u001b[0m\n\u001b[0;32m    591\u001b[0m             \u001b[0mestimator\u001b[0m\u001b[1;33m.\u001b[0m\u001b[0mfit\u001b[0m\u001b[1;33m(\u001b[0m\u001b[0mX_train\u001b[0m\u001b[1;33m,\u001b[0m \u001b[1;33m**\u001b[0m\u001b[0mfit_params\u001b[0m\u001b[1;33m)\u001b[0m\u001b[1;33m\u001b[0m\u001b[1;33m\u001b[0m\u001b[0m\n\u001b[0;32m    592\u001b[0m         \u001b[1;32melse\u001b[0m\u001b[1;33m:\u001b[0m\u001b[1;33m\u001b[0m\u001b[1;33m\u001b[0m\u001b[0m\n\u001b[1;32m--> 593\u001b[1;33m             \u001b[0mestimator\u001b[0m\u001b[1;33m.\u001b[0m\u001b[0mfit\u001b[0m\u001b[1;33m(\u001b[0m\u001b[0mX_train\u001b[0m\u001b[1;33m,\u001b[0m \u001b[0my_train\u001b[0m\u001b[1;33m,\u001b[0m \u001b[1;33m**\u001b[0m\u001b[0mfit_params\u001b[0m\u001b[1;33m)\u001b[0m\u001b[1;33m\u001b[0m\u001b[1;33m\u001b[0m\u001b[0m\n\u001b[0m\u001b[0;32m    594\u001b[0m \u001b[1;33m\u001b[0m\u001b[0m\n\u001b[0;32m    595\u001b[0m     \u001b[1;32mexcept\u001b[0m \u001b[0mException\u001b[0m \u001b[1;32mas\u001b[0m \u001b[0me\u001b[0m\u001b[1;33m:\u001b[0m\u001b[1;33m\u001b[0m\u001b[1;33m\u001b[0m\u001b[0m\n",
      "\u001b[1;32mD:\\Programmazione\\lib\\site-packages\\sklearn\\ensemble\\_forest.py\u001b[0m in \u001b[0;36mfit\u001b[1;34m(self, X, y, sample_weight)\u001b[0m\n\u001b[0;32m    385\u001b[0m             \u001b[1;31m# parallel_backend contexts set at a higher level,\u001b[0m\u001b[1;33m\u001b[0m\u001b[1;33m\u001b[0m\u001b[1;33m\u001b[0m\u001b[0m\n\u001b[0;32m    386\u001b[0m             \u001b[1;31m# since correctness does not rely on using threads.\u001b[0m\u001b[1;33m\u001b[0m\u001b[1;33m\u001b[0m\u001b[1;33m\u001b[0m\u001b[0m\n\u001b[1;32m--> 387\u001b[1;33m             trees = Parallel(n_jobs=self.n_jobs, verbose=self.verbose,\n\u001b[0m\u001b[0;32m    388\u001b[0m                              \u001b[1;33m**\u001b[0m\u001b[0m_joblib_parallel_args\u001b[0m\u001b[1;33m(\u001b[0m\u001b[0mprefer\u001b[0m\u001b[1;33m=\u001b[0m\u001b[1;34m'threads'\u001b[0m\u001b[1;33m)\u001b[0m\u001b[1;33m)\u001b[0m\u001b[1;33m(\u001b[0m\u001b[1;33m\u001b[0m\u001b[1;33m\u001b[0m\u001b[0m\n\u001b[0;32m    389\u001b[0m                 delayed(_parallel_build_trees)(\n",
      "\u001b[1;32mD:\\Programmazione\\lib\\site-packages\\joblib\\parallel.py\u001b[0m in \u001b[0;36m__call__\u001b[1;34m(self, iterable)\u001b[0m\n\u001b[0;32m   1042\u001b[0m                 \u001b[0mself\u001b[0m\u001b[1;33m.\u001b[0m\u001b[0m_iterating\u001b[0m \u001b[1;33m=\u001b[0m \u001b[0mself\u001b[0m\u001b[1;33m.\u001b[0m\u001b[0m_original_iterator\u001b[0m \u001b[1;32mis\u001b[0m \u001b[1;32mnot\u001b[0m \u001b[1;32mNone\u001b[0m\u001b[1;33m\u001b[0m\u001b[1;33m\u001b[0m\u001b[0m\n\u001b[0;32m   1043\u001b[0m \u001b[1;33m\u001b[0m\u001b[0m\n\u001b[1;32m-> 1044\u001b[1;33m             \u001b[1;32mwhile\u001b[0m \u001b[0mself\u001b[0m\u001b[1;33m.\u001b[0m\u001b[0mdispatch_one_batch\u001b[0m\u001b[1;33m(\u001b[0m\u001b[0miterator\u001b[0m\u001b[1;33m)\u001b[0m\u001b[1;33m:\u001b[0m\u001b[1;33m\u001b[0m\u001b[1;33m\u001b[0m\u001b[0m\n\u001b[0m\u001b[0;32m   1045\u001b[0m                 \u001b[1;32mpass\u001b[0m\u001b[1;33m\u001b[0m\u001b[1;33m\u001b[0m\u001b[0m\n\u001b[0;32m   1046\u001b[0m \u001b[1;33m\u001b[0m\u001b[0m\n",
      "\u001b[1;32mD:\\Programmazione\\lib\\site-packages\\joblib\\parallel.py\u001b[0m in \u001b[0;36mdispatch_one_batch\u001b[1;34m(self, iterator)\u001b[0m\n\u001b[0;32m    857\u001b[0m                 \u001b[1;32mreturn\u001b[0m \u001b[1;32mFalse\u001b[0m\u001b[1;33m\u001b[0m\u001b[1;33m\u001b[0m\u001b[0m\n\u001b[0;32m    858\u001b[0m             \u001b[1;32melse\u001b[0m\u001b[1;33m:\u001b[0m\u001b[1;33m\u001b[0m\u001b[1;33m\u001b[0m\u001b[0m\n\u001b[1;32m--> 859\u001b[1;33m                 \u001b[0mself\u001b[0m\u001b[1;33m.\u001b[0m\u001b[0m_dispatch\u001b[0m\u001b[1;33m(\u001b[0m\u001b[0mtasks\u001b[0m\u001b[1;33m)\u001b[0m\u001b[1;33m\u001b[0m\u001b[1;33m\u001b[0m\u001b[0m\n\u001b[0m\u001b[0;32m    860\u001b[0m                 \u001b[1;32mreturn\u001b[0m \u001b[1;32mTrue\u001b[0m\u001b[1;33m\u001b[0m\u001b[1;33m\u001b[0m\u001b[0m\n\u001b[0;32m    861\u001b[0m \u001b[1;33m\u001b[0m\u001b[0m\n",
      "\u001b[1;32mD:\\Programmazione\\lib\\site-packages\\joblib\\parallel.py\u001b[0m in \u001b[0;36m_dispatch\u001b[1;34m(self, batch)\u001b[0m\n\u001b[0;32m    775\u001b[0m         \u001b[1;32mwith\u001b[0m \u001b[0mself\u001b[0m\u001b[1;33m.\u001b[0m\u001b[0m_lock\u001b[0m\u001b[1;33m:\u001b[0m\u001b[1;33m\u001b[0m\u001b[1;33m\u001b[0m\u001b[0m\n\u001b[0;32m    776\u001b[0m             \u001b[0mjob_idx\u001b[0m \u001b[1;33m=\u001b[0m \u001b[0mlen\u001b[0m\u001b[1;33m(\u001b[0m\u001b[0mself\u001b[0m\u001b[1;33m.\u001b[0m\u001b[0m_jobs\u001b[0m\u001b[1;33m)\u001b[0m\u001b[1;33m\u001b[0m\u001b[1;33m\u001b[0m\u001b[0m\n\u001b[1;32m--> 777\u001b[1;33m             \u001b[0mjob\u001b[0m \u001b[1;33m=\u001b[0m \u001b[0mself\u001b[0m\u001b[1;33m.\u001b[0m\u001b[0m_backend\u001b[0m\u001b[1;33m.\u001b[0m\u001b[0mapply_async\u001b[0m\u001b[1;33m(\u001b[0m\u001b[0mbatch\u001b[0m\u001b[1;33m,\u001b[0m \u001b[0mcallback\u001b[0m\u001b[1;33m=\u001b[0m\u001b[0mcb\u001b[0m\u001b[1;33m)\u001b[0m\u001b[1;33m\u001b[0m\u001b[1;33m\u001b[0m\u001b[0m\n\u001b[0m\u001b[0;32m    778\u001b[0m             \u001b[1;31m# A job can complete so quickly than its callback is\u001b[0m\u001b[1;33m\u001b[0m\u001b[1;33m\u001b[0m\u001b[1;33m\u001b[0m\u001b[0m\n\u001b[0;32m    779\u001b[0m             \u001b[1;31m# called before we get here, causing self._jobs to\u001b[0m\u001b[1;33m\u001b[0m\u001b[1;33m\u001b[0m\u001b[1;33m\u001b[0m\u001b[0m\n",
      "\u001b[1;32mD:\\Programmazione\\lib\\site-packages\\joblib\\_parallel_backends.py\u001b[0m in \u001b[0;36mapply_async\u001b[1;34m(self, func, callback)\u001b[0m\n\u001b[0;32m    206\u001b[0m     \u001b[1;32mdef\u001b[0m \u001b[0mapply_async\u001b[0m\u001b[1;33m(\u001b[0m\u001b[0mself\u001b[0m\u001b[1;33m,\u001b[0m \u001b[0mfunc\u001b[0m\u001b[1;33m,\u001b[0m \u001b[0mcallback\u001b[0m\u001b[1;33m=\u001b[0m\u001b[1;32mNone\u001b[0m\u001b[1;33m)\u001b[0m\u001b[1;33m:\u001b[0m\u001b[1;33m\u001b[0m\u001b[1;33m\u001b[0m\u001b[0m\n\u001b[0;32m    207\u001b[0m         \u001b[1;34m\"\"\"Schedule a func to be run\"\"\"\u001b[0m\u001b[1;33m\u001b[0m\u001b[1;33m\u001b[0m\u001b[0m\n\u001b[1;32m--> 208\u001b[1;33m         \u001b[0mresult\u001b[0m \u001b[1;33m=\u001b[0m \u001b[0mImmediateResult\u001b[0m\u001b[1;33m(\u001b[0m\u001b[0mfunc\u001b[0m\u001b[1;33m)\u001b[0m\u001b[1;33m\u001b[0m\u001b[1;33m\u001b[0m\u001b[0m\n\u001b[0m\u001b[0;32m    209\u001b[0m         \u001b[1;32mif\u001b[0m \u001b[0mcallback\u001b[0m\u001b[1;33m:\u001b[0m\u001b[1;33m\u001b[0m\u001b[1;33m\u001b[0m\u001b[0m\n\u001b[0;32m    210\u001b[0m             \u001b[0mcallback\u001b[0m\u001b[1;33m(\u001b[0m\u001b[0mresult\u001b[0m\u001b[1;33m)\u001b[0m\u001b[1;33m\u001b[0m\u001b[1;33m\u001b[0m\u001b[0m\n",
      "\u001b[1;32mD:\\Programmazione\\lib\\site-packages\\joblib\\_parallel_backends.py\u001b[0m in \u001b[0;36m__init__\u001b[1;34m(self, batch)\u001b[0m\n\u001b[0;32m    570\u001b[0m         \u001b[1;31m# Don't delay the application, to avoid keeping the input\u001b[0m\u001b[1;33m\u001b[0m\u001b[1;33m\u001b[0m\u001b[1;33m\u001b[0m\u001b[0m\n\u001b[0;32m    571\u001b[0m         \u001b[1;31m# arguments in memory\u001b[0m\u001b[1;33m\u001b[0m\u001b[1;33m\u001b[0m\u001b[1;33m\u001b[0m\u001b[0m\n\u001b[1;32m--> 572\u001b[1;33m         \u001b[0mself\u001b[0m\u001b[1;33m.\u001b[0m\u001b[0mresults\u001b[0m \u001b[1;33m=\u001b[0m \u001b[0mbatch\u001b[0m\u001b[1;33m(\u001b[0m\u001b[1;33m)\u001b[0m\u001b[1;33m\u001b[0m\u001b[1;33m\u001b[0m\u001b[0m\n\u001b[0m\u001b[0;32m    573\u001b[0m \u001b[1;33m\u001b[0m\u001b[0m\n\u001b[0;32m    574\u001b[0m     \u001b[1;32mdef\u001b[0m \u001b[0mget\u001b[0m\u001b[1;33m(\u001b[0m\u001b[0mself\u001b[0m\u001b[1;33m)\u001b[0m\u001b[1;33m:\u001b[0m\u001b[1;33m\u001b[0m\u001b[1;33m\u001b[0m\u001b[0m\n",
      "\u001b[1;32mD:\\Programmazione\\lib\\site-packages\\joblib\\parallel.py\u001b[0m in \u001b[0;36m__call__\u001b[1;34m(self)\u001b[0m\n\u001b[0;32m    260\u001b[0m         \u001b[1;31m# change the default number of processes to -1\u001b[0m\u001b[1;33m\u001b[0m\u001b[1;33m\u001b[0m\u001b[1;33m\u001b[0m\u001b[0m\n\u001b[0;32m    261\u001b[0m         \u001b[1;32mwith\u001b[0m \u001b[0mparallel_backend\u001b[0m\u001b[1;33m(\u001b[0m\u001b[0mself\u001b[0m\u001b[1;33m.\u001b[0m\u001b[0m_backend\u001b[0m\u001b[1;33m,\u001b[0m \u001b[0mn_jobs\u001b[0m\u001b[1;33m=\u001b[0m\u001b[0mself\u001b[0m\u001b[1;33m.\u001b[0m\u001b[0m_n_jobs\u001b[0m\u001b[1;33m)\u001b[0m\u001b[1;33m:\u001b[0m\u001b[1;33m\u001b[0m\u001b[1;33m\u001b[0m\u001b[0m\n\u001b[1;32m--> 262\u001b[1;33m             return [func(*args, **kwargs)\n\u001b[0m\u001b[0;32m    263\u001b[0m                     for func, args, kwargs in self.items]\n\u001b[0;32m    264\u001b[0m \u001b[1;33m\u001b[0m\u001b[0m\n",
      "\u001b[1;32mD:\\Programmazione\\lib\\site-packages\\joblib\\parallel.py\u001b[0m in \u001b[0;36m<listcomp>\u001b[1;34m(.0)\u001b[0m\n\u001b[0;32m    260\u001b[0m         \u001b[1;31m# change the default number of processes to -1\u001b[0m\u001b[1;33m\u001b[0m\u001b[1;33m\u001b[0m\u001b[1;33m\u001b[0m\u001b[0m\n\u001b[0;32m    261\u001b[0m         \u001b[1;32mwith\u001b[0m \u001b[0mparallel_backend\u001b[0m\u001b[1;33m(\u001b[0m\u001b[0mself\u001b[0m\u001b[1;33m.\u001b[0m\u001b[0m_backend\u001b[0m\u001b[1;33m,\u001b[0m \u001b[0mn_jobs\u001b[0m\u001b[1;33m=\u001b[0m\u001b[0mself\u001b[0m\u001b[1;33m.\u001b[0m\u001b[0m_n_jobs\u001b[0m\u001b[1;33m)\u001b[0m\u001b[1;33m:\u001b[0m\u001b[1;33m\u001b[0m\u001b[1;33m\u001b[0m\u001b[0m\n\u001b[1;32m--> 262\u001b[1;33m             return [func(*args, **kwargs)\n\u001b[0m\u001b[0;32m    263\u001b[0m                     for func, args, kwargs in self.items]\n\u001b[0;32m    264\u001b[0m \u001b[1;33m\u001b[0m\u001b[0m\n",
      "\u001b[1;32mD:\\Programmazione\\lib\\site-packages\\sklearn\\utils\\fixes.py\u001b[0m in \u001b[0;36m__call__\u001b[1;34m(self, *args, **kwargs)\u001b[0m\n\u001b[0;32m    220\u001b[0m     \u001b[1;32mdef\u001b[0m \u001b[0m__call__\u001b[0m\u001b[1;33m(\u001b[0m\u001b[0mself\u001b[0m\u001b[1;33m,\u001b[0m \u001b[1;33m*\u001b[0m\u001b[0margs\u001b[0m\u001b[1;33m,\u001b[0m \u001b[1;33m**\u001b[0m\u001b[0mkwargs\u001b[0m\u001b[1;33m)\u001b[0m\u001b[1;33m:\u001b[0m\u001b[1;33m\u001b[0m\u001b[1;33m\u001b[0m\u001b[0m\n\u001b[0;32m    221\u001b[0m         \u001b[1;32mwith\u001b[0m \u001b[0mconfig_context\u001b[0m\u001b[1;33m(\u001b[0m\u001b[1;33m**\u001b[0m\u001b[0mself\u001b[0m\u001b[1;33m.\u001b[0m\u001b[0mconfig\u001b[0m\u001b[1;33m)\u001b[0m\u001b[1;33m:\u001b[0m\u001b[1;33m\u001b[0m\u001b[1;33m\u001b[0m\u001b[0m\n\u001b[1;32m--> 222\u001b[1;33m             \u001b[1;32mreturn\u001b[0m \u001b[0mself\u001b[0m\u001b[1;33m.\u001b[0m\u001b[0mfunction\u001b[0m\u001b[1;33m(\u001b[0m\u001b[1;33m*\u001b[0m\u001b[0margs\u001b[0m\u001b[1;33m,\u001b[0m \u001b[1;33m**\u001b[0m\u001b[0mkwargs\u001b[0m\u001b[1;33m)\u001b[0m\u001b[1;33m\u001b[0m\u001b[1;33m\u001b[0m\u001b[0m\n\u001b[0m",
      "\u001b[1;32mD:\\Programmazione\\lib\\site-packages\\sklearn\\ensemble\\_forest.py\u001b[0m in \u001b[0;36m_parallel_build_trees\u001b[1;34m(tree, forest, X, y, sample_weight, tree_idx, n_trees, verbose, class_weight, n_samples_bootstrap)\u001b[0m\n\u001b[0;32m    167\u001b[0m                                                         indices=indices)\n\u001b[0;32m    168\u001b[0m \u001b[1;33m\u001b[0m\u001b[0m\n\u001b[1;32m--> 169\u001b[1;33m         \u001b[0mtree\u001b[0m\u001b[1;33m.\u001b[0m\u001b[0mfit\u001b[0m\u001b[1;33m(\u001b[0m\u001b[0mX\u001b[0m\u001b[1;33m,\u001b[0m \u001b[0my\u001b[0m\u001b[1;33m,\u001b[0m \u001b[0msample_weight\u001b[0m\u001b[1;33m=\u001b[0m\u001b[0mcurr_sample_weight\u001b[0m\u001b[1;33m,\u001b[0m \u001b[0mcheck_input\u001b[0m\u001b[1;33m=\u001b[0m\u001b[1;32mFalse\u001b[0m\u001b[1;33m)\u001b[0m\u001b[1;33m\u001b[0m\u001b[1;33m\u001b[0m\u001b[0m\n\u001b[0m\u001b[0;32m    170\u001b[0m     \u001b[1;32melse\u001b[0m\u001b[1;33m:\u001b[0m\u001b[1;33m\u001b[0m\u001b[1;33m\u001b[0m\u001b[0m\n\u001b[0;32m    171\u001b[0m         \u001b[0mtree\u001b[0m\u001b[1;33m.\u001b[0m\u001b[0mfit\u001b[0m\u001b[1;33m(\u001b[0m\u001b[0mX\u001b[0m\u001b[1;33m,\u001b[0m \u001b[0my\u001b[0m\u001b[1;33m,\u001b[0m \u001b[0msample_weight\u001b[0m\u001b[1;33m=\u001b[0m\u001b[0msample_weight\u001b[0m\u001b[1;33m,\u001b[0m \u001b[0mcheck_input\u001b[0m\u001b[1;33m=\u001b[0m\u001b[1;32mFalse\u001b[0m\u001b[1;33m)\u001b[0m\u001b[1;33m\u001b[0m\u001b[1;33m\u001b[0m\u001b[0m\n",
      "\u001b[1;32mD:\\Programmazione\\lib\\site-packages\\sklearn\\tree\\_classes.py\u001b[0m in \u001b[0;36mfit\u001b[1;34m(self, X, y, sample_weight, check_input, X_idx_sorted)\u001b[0m\n\u001b[0;32m    896\u001b[0m         \"\"\"\n\u001b[0;32m    897\u001b[0m \u001b[1;33m\u001b[0m\u001b[0m\n\u001b[1;32m--> 898\u001b[1;33m         super().fit(\n\u001b[0m\u001b[0;32m    899\u001b[0m             \u001b[0mX\u001b[0m\u001b[1;33m,\u001b[0m \u001b[0my\u001b[0m\u001b[1;33m,\u001b[0m\u001b[1;33m\u001b[0m\u001b[1;33m\u001b[0m\u001b[0m\n\u001b[0;32m    900\u001b[0m             \u001b[0msample_weight\u001b[0m\u001b[1;33m=\u001b[0m\u001b[0msample_weight\u001b[0m\u001b[1;33m,\u001b[0m\u001b[1;33m\u001b[0m\u001b[1;33m\u001b[0m\u001b[0m\n",
      "\u001b[1;32mD:\\Programmazione\\lib\\site-packages\\sklearn\\tree\\_classes.py\u001b[0m in \u001b[0;36mfit\u001b[1;34m(self, X, y, sample_weight, check_input, X_idx_sorted)\u001b[0m\n\u001b[0;32m    387\u001b[0m                                            min_impurity_split)\n\u001b[0;32m    388\u001b[0m \u001b[1;33m\u001b[0m\u001b[0m\n\u001b[1;32m--> 389\u001b[1;33m         \u001b[0mbuilder\u001b[0m\u001b[1;33m.\u001b[0m\u001b[0mbuild\u001b[0m\u001b[1;33m(\u001b[0m\u001b[0mself\u001b[0m\u001b[1;33m.\u001b[0m\u001b[0mtree_\u001b[0m\u001b[1;33m,\u001b[0m \u001b[0mX\u001b[0m\u001b[1;33m,\u001b[0m \u001b[0my\u001b[0m\u001b[1;33m,\u001b[0m \u001b[0msample_weight\u001b[0m\u001b[1;33m)\u001b[0m\u001b[1;33m\u001b[0m\u001b[1;33m\u001b[0m\u001b[0m\n\u001b[0m\u001b[0;32m    390\u001b[0m \u001b[1;33m\u001b[0m\u001b[0m\n\u001b[0;32m    391\u001b[0m         \u001b[1;32mif\u001b[0m \u001b[0mself\u001b[0m\u001b[1;33m.\u001b[0m\u001b[0mn_outputs_\u001b[0m \u001b[1;33m==\u001b[0m \u001b[1;36m1\u001b[0m \u001b[1;32mand\u001b[0m \u001b[0mis_classifier\u001b[0m\u001b[1;33m(\u001b[0m\u001b[0mself\u001b[0m\u001b[1;33m)\u001b[0m\u001b[1;33m:\u001b[0m\u001b[1;33m\u001b[0m\u001b[1;33m\u001b[0m\u001b[0m\n",
      "\u001b[1;31mKeyboardInterrupt\u001b[0m: "
     ]
    }
   ],
   "source": [
    "train_scoreNum, test_scoreNum = validation_curve(\n",
    "                                RandomForestClassifier(),\n",
    "                                X = X_train_ihm_ov, y = y_train_ihm_ov, \n",
    "                                param_name = 'max_depth', \n",
    "                                param_range = max_depth, cv = 3)"
   ]
  },
  {
   "cell_type": "code",
   "execution_count": null,
   "id": "9d8e0caf",
   "metadata": {},
   "outputs": [],
   "source": [
    "train_scoreNum"
   ]
  },
  {
   "cell_type": "code",
   "execution_count": null,
   "id": "5331fcca",
   "metadata": {},
   "outputs": [],
   "source": [
    "test_scoreNum"
   ]
  },
  {
   "cell_type": "code",
   "execution_count": null,
   "id": "d810a783",
   "metadata": {},
   "outputs": [],
   "source": [
    "avg_train_scoreNum = np.average(train_scoreNum, axis=1)"
   ]
  },
  {
   "cell_type": "code",
   "execution_count": null,
   "id": "7dde7de9",
   "metadata": {},
   "outputs": [],
   "source": [
    "avg_test_scoreNum = np.average(test_scoreNum, axis=1)"
   ]
  },
  {
   "cell_type": "code",
   "execution_count": null,
   "id": "01d0725f",
   "metadata": {},
   "outputs": [],
   "source": [
    "fig, ax = plt.subplots(figsize=(15,6))\n",
    "\n",
    "ax.plot(max_depth,avg_train_scoreNum, 'o:', label='accuracy train')\n",
    "ax.plot(max_depth,avg_test_scoreNum, 'o:', label='accuracy test')\n",
    "ax.set_ylabel('accuracy')\n",
    "ax.set_xlabel('max_depth')\n",
    "ax.grid()\n",
    "ax.legend()"
   ]
  },
  {
   "cell_type": "markdown",
   "id": "d5024c06",
   "metadata": {},
   "source": [
    "#### tuning min_samples_split (default = 2)"
   ]
  },
  {
   "cell_type": "code",
   "execution_count": null,
   "id": "1967fb27",
   "metadata": {},
   "outputs": [],
   "source": [
    "min_samples_split = [1, 2, 3, 4, 5]"
   ]
  },
  {
   "cell_type": "code",
   "execution_count": null,
   "id": "5a289934",
   "metadata": {},
   "outputs": [],
   "source": [
    "train_scoreNum, test_scoreNum = validation_curve(\n",
    "                                RandomForestClassifier(),\n",
    "                                X = X_train_ihm_ov, y = y_train_ihm_ov, \n",
    "                                param_name = 'min_samples_split', \n",
    "                                param_range = min_samples_split, cv = 3)"
   ]
  },
  {
   "cell_type": "code",
   "execution_count": null,
   "id": "8217e3cc",
   "metadata": {},
   "outputs": [],
   "source": [
    "train_scoreNum"
   ]
  },
  {
   "cell_type": "code",
   "execution_count": null,
   "id": "612a6084",
   "metadata": {},
   "outputs": [],
   "source": [
    "test_scoreNum"
   ]
  },
  {
   "cell_type": "code",
   "execution_count": null,
   "id": "b3c7a2dc",
   "metadata": {},
   "outputs": [],
   "source": [
    "avg_train_scoreNum = np.average(train_scoreNum, axis=1)"
   ]
  },
  {
   "cell_type": "code",
   "execution_count": null,
   "id": "dfd8f436",
   "metadata": {},
   "outputs": [],
   "source": [
    "avg_test_scoreNum = np.average(test_scoreNum, axis=1)"
   ]
  },
  {
   "cell_type": "code",
   "execution_count": null,
   "id": "47987349",
   "metadata": {},
   "outputs": [],
   "source": [
    "fig, ax = plt.subplots(figsize=(15,6))\n",
    "\n",
    "ax.plot(min_samples_split,avg_train_scoreNum, 'o:', label='accuracy train')\n",
    "ax.plot(min_samples_split,avg_test_scoreNum, 'o:', label='accuracy test')\n",
    "ax.set_ylabel('accuracy')\n",
    "ax.set_xlabel('min_samples_split')\n",
    "ax.grid()\n",
    "ax.legend()"
   ]
  },
  {
   "cell_type": "markdown",
   "id": "8db06e0d",
   "metadata": {},
   "source": [
    "#### tuning min_samples_leaf (default = 1)"
   ]
  },
  {
   "cell_type": "code",
   "execution_count": null,
   "id": "d4e82805",
   "metadata": {},
   "outputs": [],
   "source": [
    "min_samples_leaf = [1, 2, 3, 4, 5]"
   ]
  },
  {
   "cell_type": "code",
   "execution_count": null,
   "id": "3d6810c4",
   "metadata": {},
   "outputs": [],
   "source": [
    "train_scoreNum, test_scoreNum = validation_curve(\n",
    "                                RandomForestClassifier(),\n",
    "                                X = X_train_ihm_ov, y = y_train_ihm_ov, \n",
    "                                param_name = 'min_samples_leaf', \n",
    "                                param_range = min_samples_leaf, cv = 3)"
   ]
  },
  {
   "cell_type": "code",
   "execution_count": null,
   "id": "960f1283",
   "metadata": {},
   "outputs": [],
   "source": [
    "train_scoreNum"
   ]
  },
  {
   "cell_type": "code",
   "execution_count": null,
   "id": "aecf1fda",
   "metadata": {},
   "outputs": [],
   "source": [
    "test_scoreNum"
   ]
  },
  {
   "cell_type": "code",
   "execution_count": null,
   "id": "b72d6489",
   "metadata": {},
   "outputs": [],
   "source": [
    "avg_train_scoreNum = np.average(train_scoreNum, axis=1)"
   ]
  },
  {
   "cell_type": "code",
   "execution_count": null,
   "id": "0aab245e",
   "metadata": {},
   "outputs": [],
   "source": [
    "avg_test_scoreNum = np.average(test_scoreNum, axis=1)"
   ]
  },
  {
   "cell_type": "code",
   "execution_count": null,
   "id": "5d3e9819",
   "metadata": {},
   "outputs": [],
   "source": [
    "fig, ax = plt.subplots(figsize=(15,6))\n",
    "\n",
    "ax.plot(min_samples_leaf,avg_train_scoreNum, 'o:', label='accuracy train')\n",
    "ax.plot(min_samples_leaf,avg_test_scoreNum, 'o:', label='accuracy test')\n",
    "ax.set_ylabel('accuracy')\n",
    "ax.set_xlabel('min_samples_leaf')\n",
    "ax.grid()\n",
    "ax.legend()"
   ]
  },
  {
   "cell_type": "code",
   "execution_count": null,
   "id": "cbe1bf4d",
   "metadata": {},
   "outputs": [],
   "source": []
  },
  {
   "cell_type": "markdown",
   "id": "1a192bea",
   "metadata": {},
   "source": [
    "### Logistic Regressor"
   ]
  },
  {
   "cell_type": "markdown",
   "id": "006c7fee",
   "metadata": {},
   "source": [
    "#### tuning del tol (default = 0.0001)"
   ]
  },
  {
   "cell_type": "code",
   "execution_count": null,
   "id": "0f3f7392",
   "metadata": {},
   "outputs": [],
   "source": [
    "tol = [0.000001, 0.00001, 0.0001, 0.001, 0.01]"
   ]
  },
  {
   "cell_type": "code",
   "execution_count": null,
   "id": "f0524293",
   "metadata": {},
   "outputs": [],
   "source": [
    "train_scoreNum, test_scoreNum = validation_curve(\n",
    "                                LogisticRegression(),\n",
    "                                X = X_train_ihm_ov, y = y_train_ihm_ov, \n",
    "                                param_name = 'tol', \n",
    "                                param_range = tol, cv = 3)"
   ]
  },
  {
   "cell_type": "code",
   "execution_count": null,
   "id": "9abdd196",
   "metadata": {
    "scrolled": true
   },
   "outputs": [],
   "source": [
    "train_scoreNum"
   ]
  },
  {
   "cell_type": "code",
   "execution_count": null,
   "id": "fee3826e",
   "metadata": {},
   "outputs": [],
   "source": [
    "test_scoreNum"
   ]
  },
  {
   "cell_type": "code",
   "execution_count": null,
   "id": "7b5ea906",
   "metadata": {},
   "outputs": [],
   "source": [
    "avg_train_scoreNum = np.average(train_scoreNum, axis=1)"
   ]
  },
  {
   "cell_type": "code",
   "execution_count": null,
   "id": "8ce68121",
   "metadata": {},
   "outputs": [],
   "source": [
    "avg_test_scoreNum = np.average(test_scoreNum, axis=1)"
   ]
  },
  {
   "cell_type": "code",
   "execution_count": null,
   "id": "3494bbd7",
   "metadata": {},
   "outputs": [],
   "source": [
    "fig, ax = plt.subplots(figsize=(15,6))\n",
    "\n",
    "ax.plot(tol,avg_train_scoreNum, 'o:', label='accuracy train')\n",
    "ax.plot(tol,avg_test_scoreNum, 'o:', label='accuracy test')\n",
    "ax.set_ylabel('accuracy')\n",
    "ax.set_xlabel('tolleranza')\n",
    "ax.grid()\n",
    "ax.legend()"
   ]
  },
  {
   "cell_type": "code",
   "execution_count": null,
   "id": "50f0da7e",
   "metadata": {},
   "outputs": [],
   "source": []
  },
  {
   "cell_type": "markdown",
   "id": "365af16c",
   "metadata": {},
   "source": [
    "### Logistic Regressor"
   ]
  },
  {
   "cell_type": "markdown",
   "id": "b14939f2",
   "metadata": {},
   "source": [
    "#### tuning del C (default = 1)"
   ]
  },
  {
   "cell_type": "code",
   "execution_count": null,
   "id": "8468b001",
   "metadata": {},
   "outputs": [],
   "source": [
    "C = [0.8, 0.9, 1.0, 1.1, 1.2, 1.5, 2.0]"
   ]
  },
  {
   "cell_type": "code",
   "execution_count": null,
   "id": "d33e1412",
   "metadata": {},
   "outputs": [],
   "source": [
    "train_scoreNum, test_scoreNum = validation_curve(\n",
    "                                LogisticRegression(),\n",
    "                                X = X_train_ihm_ov, y = y_train_ihm_ov, \n",
    "                                param_name = 'C', \n",
    "                                param_range = C, cv = 3)"
   ]
  },
  {
   "cell_type": "code",
   "execution_count": null,
   "id": "5d27facf",
   "metadata": {
    "scrolled": true
   },
   "outputs": [],
   "source": [
    "train_scoreNum"
   ]
  },
  {
   "cell_type": "code",
   "execution_count": null,
   "id": "b3a2c97d",
   "metadata": {},
   "outputs": [],
   "source": [
    "test_scoreNum"
   ]
  },
  {
   "cell_type": "code",
   "execution_count": null,
   "id": "c8c5c0dd",
   "metadata": {},
   "outputs": [],
   "source": [
    "avg_train_scoreNum = np.average(train_scoreNum, axis=1)"
   ]
  },
  {
   "cell_type": "code",
   "execution_count": null,
   "id": "e0ab66c8",
   "metadata": {},
   "outputs": [],
   "source": [
    "avg_test_scoreNum = np.average(test_scoreNum, axis=1)"
   ]
  },
  {
   "cell_type": "code",
   "execution_count": null,
   "id": "06fa88a3",
   "metadata": {},
   "outputs": [],
   "source": [
    "fig, ax = plt.subplots(figsize=(15,6))\n",
    "\n",
    "ax.plot(C,avg_train_scoreNum, 'o:', label='accuracy train')\n",
    "ax.plot(C,avg_test_scoreNum, 'o:', label='accuracy test')\n",
    "ax.set_ylabel('accuracy')\n",
    "ax.set_xlabel('C')\n",
    "ax.grid()\n",
    "ax.legend()"
   ]
  },
  {
   "cell_type": "markdown",
   "id": "ad76dc3f",
   "metadata": {},
   "source": [
    "apparentemente non sembra necessario modificare gli iperparametri in modo significativo e spesso risulta in perdite di performance"
   ]
  },
  {
   "cell_type": "markdown",
   "id": "54b2eb1b",
   "metadata": {},
   "source": [
    "## MLP"
   ]
  },
  {
   "cell_type": "code",
   "execution_count": 154,
   "id": "7ffb6d38",
   "metadata": {},
   "outputs": [
    {
     "data": {
      "text/plain": [
       "GridSearchCV(cv=5, estimator=MLPClassifier(max_iter=100), n_jobs=-1,\n",
       "             param_grid={'activation': ['tanh', 'relu'],\n",
       "                         'alpha': [0.0001, 0.05],\n",
       "                         'hidden_layer_sizes': [(10, 30, 10), (20,)],\n",
       "                         'learning_rate': ['constant', 'adaptive'],\n",
       "                         'solver': ['sgd', 'adam']})"
      ]
     },
     "execution_count": 154,
     "metadata": {},
     "output_type": "execute_result"
    }
   ],
   "source": [
    "mlp_gs = MLPClassifier(max_iter=100)\n",
    "parameter_space = {\n",
    "    'hidden_layer_sizes': [(10,30,10),(20,)],\n",
    "    'activation': ['tanh', 'relu'],\n",
    "    'solver': ['sgd', 'adam'],\n",
    "    'alpha': [0.0001, 0.05],\n",
    "    'learning_rate': ['constant','adaptive'],\n",
    "}\n",
    "from sklearn.model_selection import GridSearchCV\n",
    "clf = GridSearchCV(mlp_gs, parameter_space, n_jobs=-1, cv=5)\n",
    "clf.fit(X_train_ihm_ov, y_train_ihm_ov) # X is train samples and y is the corresponding labels"
   ]
  },
  {
   "cell_type": "code",
   "execution_count": 155,
   "id": "15840fb3",
   "metadata": {},
   "outputs": [
    {
     "name": "stdout",
     "output_type": "stream",
     "text": [
      "Best parameters found:\n",
      " {'activation': 'tanh', 'alpha': 0.0001, 'hidden_layer_sizes': (20,), 'learning_rate': 'constant', 'solver': 'adam'}\n"
     ]
    }
   ],
   "source": [
    "print('Best parameters found:\\n', clf.best_params_)"
   ]
  },
  {
   "cell_type": "markdown",
   "id": "1eab2404",
   "metadata": {},
   "source": [
    "## Predizioni sul validation set\n",
    "siccome le prestazioni appaiono troppo elevate per il tipo di problema che stiamo valutando provo ad effettuare le predizioni con i modelli più promettenti al validation set mai somministrato ai modelli"
   ]
  },
  {
   "cell_type": "code",
   "execution_count": 157,
   "id": "6b734778",
   "metadata": {},
   "outputs": [
    {
     "data": {
      "text/html": [
       "<div>\n",
       "<style scoped>\n",
       "    .dataframe tbody tr th:only-of-type {\n",
       "        vertical-align: middle;\n",
       "    }\n",
       "\n",
       "    .dataframe tbody tr th {\n",
       "        vertical-align: top;\n",
       "    }\n",
       "\n",
       "    .dataframe thead th {\n",
       "        text-align: right;\n",
       "    }\n",
       "</style>\n",
       "<table border=\"1\" class=\"dataframe\">\n",
       "  <thead>\n",
       "    <tr style=\"text-align: right;\">\n",
       "      <th></th>\n",
       "      <th>gender</th>\n",
       "      <th>age</th>\n",
       "      <th>icd_D_blood</th>\n",
       "      <th>icd_D_health_status</th>\n",
       "      <th>icd_D_pregnancy</th>\n",
       "      <th>icd_D_abnormal</th>\n",
       "      <th>icd_D_chromosomal</th>\n",
       "      <th>icd_D_infectious_parasitic</th>\n",
       "      <th>icd_D_musculoskeletal</th>\n",
       "      <th>icd_D_nervous_system</th>\n",
       "      <th>...</th>\n",
       "      <th>ethn__BLACK/AFRICAN AMERICAN</th>\n",
       "      <th>ethn__HISPANIC/LATINO</th>\n",
       "      <th>ethn__OTHER</th>\n",
       "      <th>ethn__UNKNOWN</th>\n",
       "      <th>ethn__WHITE</th>\n",
       "      <th>ins__Medicare</th>\n",
       "      <th>ins__Other</th>\n",
       "      <th>maritalS__MARRIED</th>\n",
       "      <th>maritalS__SINGLE</th>\n",
       "      <th>maritalS__WIDOWED</th>\n",
       "    </tr>\n",
       "  </thead>\n",
       "  <tbody>\n",
       "    <tr>\n",
       "      <th>302306</th>\n",
       "      <td>0</td>\n",
       "      <td>0</td>\n",
       "      <td>0.0</td>\n",
       "      <td>2.0</td>\n",
       "      <td>0.0</td>\n",
       "      <td>0.0</td>\n",
       "      <td>0.0</td>\n",
       "      <td>0.0</td>\n",
       "      <td>0.0</td>\n",
       "      <td>0.0</td>\n",
       "      <td>...</td>\n",
       "      <td>0</td>\n",
       "      <td>0</td>\n",
       "      <td>0</td>\n",
       "      <td>0</td>\n",
       "      <td>1</td>\n",
       "      <td>0</td>\n",
       "      <td>1</td>\n",
       "      <td>1</td>\n",
       "      <td>0</td>\n",
       "      <td>0</td>\n",
       "    </tr>\n",
       "    <tr>\n",
       "      <th>275698</th>\n",
       "      <td>0</td>\n",
       "      <td>55</td>\n",
       "      <td>0.0</td>\n",
       "      <td>1.0</td>\n",
       "      <td>0.0</td>\n",
       "      <td>0.0</td>\n",
       "      <td>0.0</td>\n",
       "      <td>0.0</td>\n",
       "      <td>0.0</td>\n",
       "      <td>1.0</td>\n",
       "      <td>...</td>\n",
       "      <td>0</td>\n",
       "      <td>0</td>\n",
       "      <td>0</td>\n",
       "      <td>0</td>\n",
       "      <td>1</td>\n",
       "      <td>0</td>\n",
       "      <td>1</td>\n",
       "      <td>1</td>\n",
       "      <td>0</td>\n",
       "      <td>0</td>\n",
       "    </tr>\n",
       "    <tr>\n",
       "      <th>186702</th>\n",
       "      <td>0</td>\n",
       "      <td>63</td>\n",
       "      <td>0.0</td>\n",
       "      <td>2.0</td>\n",
       "      <td>0.0</td>\n",
       "      <td>0.0</td>\n",
       "      <td>0.0</td>\n",
       "      <td>0.0</td>\n",
       "      <td>0.0</td>\n",
       "      <td>0.0</td>\n",
       "      <td>...</td>\n",
       "      <td>0</td>\n",
       "      <td>0</td>\n",
       "      <td>0</td>\n",
       "      <td>0</td>\n",
       "      <td>1</td>\n",
       "      <td>0</td>\n",
       "      <td>0</td>\n",
       "      <td>0</td>\n",
       "      <td>1</td>\n",
       "      <td>0</td>\n",
       "    </tr>\n",
       "    <tr>\n",
       "      <th>117603</th>\n",
       "      <td>1</td>\n",
       "      <td>53</td>\n",
       "      <td>0.0</td>\n",
       "      <td>3.0</td>\n",
       "      <td>0.0</td>\n",
       "      <td>1.0</td>\n",
       "      <td>0.0</td>\n",
       "      <td>0.0</td>\n",
       "      <td>0.0</td>\n",
       "      <td>0.0</td>\n",
       "      <td>...</td>\n",
       "      <td>0</td>\n",
       "      <td>0</td>\n",
       "      <td>0</td>\n",
       "      <td>0</td>\n",
       "      <td>1</td>\n",
       "      <td>0</td>\n",
       "      <td>1</td>\n",
       "      <td>1</td>\n",
       "      <td>0</td>\n",
       "      <td>0</td>\n",
       "    </tr>\n",
       "    <tr>\n",
       "      <th>292367</th>\n",
       "      <td>0</td>\n",
       "      <td>29</td>\n",
       "      <td>1.0</td>\n",
       "      <td>5.0</td>\n",
       "      <td>0.0</td>\n",
       "      <td>1.0</td>\n",
       "      <td>0.0</td>\n",
       "      <td>1.0</td>\n",
       "      <td>1.0</td>\n",
       "      <td>0.0</td>\n",
       "      <td>...</td>\n",
       "      <td>0</td>\n",
       "      <td>0</td>\n",
       "      <td>0</td>\n",
       "      <td>0</td>\n",
       "      <td>1</td>\n",
       "      <td>0</td>\n",
       "      <td>1</td>\n",
       "      <td>0</td>\n",
       "      <td>1</td>\n",
       "      <td>0</td>\n",
       "    </tr>\n",
       "    <tr>\n",
       "      <th>...</th>\n",
       "      <td>...</td>\n",
       "      <td>...</td>\n",
       "      <td>...</td>\n",
       "      <td>...</td>\n",
       "      <td>...</td>\n",
       "      <td>...</td>\n",
       "      <td>...</td>\n",
       "      <td>...</td>\n",
       "      <td>...</td>\n",
       "      <td>...</td>\n",
       "      <td>...</td>\n",
       "      <td>...</td>\n",
       "      <td>...</td>\n",
       "      <td>...</td>\n",
       "      <td>...</td>\n",
       "      <td>...</td>\n",
       "      <td>...</td>\n",
       "      <td>...</td>\n",
       "      <td>...</td>\n",
       "      <td>...</td>\n",
       "      <td>...</td>\n",
       "    </tr>\n",
       "    <tr>\n",
       "      <th>108799</th>\n",
       "      <td>1</td>\n",
       "      <td>39</td>\n",
       "      <td>0.0</td>\n",
       "      <td>3.0</td>\n",
       "      <td>0.0</td>\n",
       "      <td>0.0</td>\n",
       "      <td>0.0</td>\n",
       "      <td>0.0</td>\n",
       "      <td>1.0</td>\n",
       "      <td>1.0</td>\n",
       "      <td>...</td>\n",
       "      <td>0</td>\n",
       "      <td>0</td>\n",
       "      <td>0</td>\n",
       "      <td>0</td>\n",
       "      <td>1</td>\n",
       "      <td>0</td>\n",
       "      <td>0</td>\n",
       "      <td>0</td>\n",
       "      <td>1</td>\n",
       "      <td>0</td>\n",
       "    </tr>\n",
       "    <tr>\n",
       "      <th>128047</th>\n",
       "      <td>1</td>\n",
       "      <td>63</td>\n",
       "      <td>0.0</td>\n",
       "      <td>0.0</td>\n",
       "      <td>0.0</td>\n",
       "      <td>0.0</td>\n",
       "      <td>0.0</td>\n",
       "      <td>0.0</td>\n",
       "      <td>0.0</td>\n",
       "      <td>0.0</td>\n",
       "      <td>...</td>\n",
       "      <td>0</td>\n",
       "      <td>0</td>\n",
       "      <td>0</td>\n",
       "      <td>0</td>\n",
       "      <td>1</td>\n",
       "      <td>0</td>\n",
       "      <td>1</td>\n",
       "      <td>1</td>\n",
       "      <td>0</td>\n",
       "      <td>0</td>\n",
       "    </tr>\n",
       "    <tr>\n",
       "      <th>197945</th>\n",
       "      <td>1</td>\n",
       "      <td>0</td>\n",
       "      <td>0.0</td>\n",
       "      <td>2.0</td>\n",
       "      <td>0.0</td>\n",
       "      <td>0.0</td>\n",
       "      <td>0.0</td>\n",
       "      <td>0.0</td>\n",
       "      <td>0.0</td>\n",
       "      <td>0.0</td>\n",
       "      <td>...</td>\n",
       "      <td>0</td>\n",
       "      <td>0</td>\n",
       "      <td>0</td>\n",
       "      <td>0</td>\n",
       "      <td>0</td>\n",
       "      <td>0</td>\n",
       "      <td>1</td>\n",
       "      <td>0</td>\n",
       "      <td>1</td>\n",
       "      <td>0</td>\n",
       "    </tr>\n",
       "    <tr>\n",
       "      <th>246543</th>\n",
       "      <td>0</td>\n",
       "      <td>61</td>\n",
       "      <td>0.0</td>\n",
       "      <td>1.0</td>\n",
       "      <td>0.0</td>\n",
       "      <td>2.0</td>\n",
       "      <td>0.0</td>\n",
       "      <td>0.0</td>\n",
       "      <td>1.0</td>\n",
       "      <td>0.0</td>\n",
       "      <td>...</td>\n",
       "      <td>0</td>\n",
       "      <td>0</td>\n",
       "      <td>0</td>\n",
       "      <td>0</td>\n",
       "      <td>1</td>\n",
       "      <td>0</td>\n",
       "      <td>1</td>\n",
       "      <td>1</td>\n",
       "      <td>0</td>\n",
       "      <td>0</td>\n",
       "    </tr>\n",
       "    <tr>\n",
       "      <th>467760</th>\n",
       "      <td>0</td>\n",
       "      <td>74</td>\n",
       "      <td>0.0</td>\n",
       "      <td>4.0</td>\n",
       "      <td>0.0</td>\n",
       "      <td>2.0</td>\n",
       "      <td>0.0</td>\n",
       "      <td>0.0</td>\n",
       "      <td>1.0</td>\n",
       "      <td>0.0</td>\n",
       "      <td>...</td>\n",
       "      <td>1</td>\n",
       "      <td>0</td>\n",
       "      <td>0</td>\n",
       "      <td>0</td>\n",
       "      <td>0</td>\n",
       "      <td>0</td>\n",
       "      <td>1</td>\n",
       "      <td>0</td>\n",
       "      <td>1</td>\n",
       "      <td>0</td>\n",
       "    </tr>\n",
       "  </tbody>\n",
       "</table>\n",
       "<p>52111 rows × 56 columns</p>\n",
       "</div>"
      ],
      "text/plain": [
       "        gender  age  icd_D_blood  icd_D_health_status  icd_D_pregnancy  \\\n",
       "302306       0    0          0.0                  2.0              0.0   \n",
       "275698       0   55          0.0                  1.0              0.0   \n",
       "186702       0   63          0.0                  2.0              0.0   \n",
       "117603       1   53          0.0                  3.0              0.0   \n",
       "292367       0   29          1.0                  5.0              0.0   \n",
       "...        ...  ...          ...                  ...              ...   \n",
       "108799       1   39          0.0                  3.0              0.0   \n",
       "128047       1   63          0.0                  0.0              0.0   \n",
       "197945       1    0          0.0                  2.0              0.0   \n",
       "246543       0   61          0.0                  1.0              0.0   \n",
       "467760       0   74          0.0                  4.0              0.0   \n",
       "\n",
       "        icd_D_abnormal  icd_D_chromosomal  icd_D_infectious_parasitic  \\\n",
       "302306             0.0                0.0                         0.0   \n",
       "275698             0.0                0.0                         0.0   \n",
       "186702             0.0                0.0                         0.0   \n",
       "117603             1.0                0.0                         0.0   \n",
       "292367             1.0                0.0                         1.0   \n",
       "...                ...                ...                         ...   \n",
       "108799             0.0                0.0                         0.0   \n",
       "128047             0.0                0.0                         0.0   \n",
       "197945             0.0                0.0                         0.0   \n",
       "246543             2.0                0.0                         0.0   \n",
       "467760             2.0                0.0                         0.0   \n",
       "\n",
       "        icd_D_musculoskeletal  icd_D_nervous_system  ...  \\\n",
       "302306                    0.0                   0.0  ...   \n",
       "275698                    0.0                   1.0  ...   \n",
       "186702                    0.0                   0.0  ...   \n",
       "117603                    0.0                   0.0  ...   \n",
       "292367                    1.0                   0.0  ...   \n",
       "...                       ...                   ...  ...   \n",
       "108799                    1.0                   1.0  ...   \n",
       "128047                    0.0                   0.0  ...   \n",
       "197945                    0.0                   0.0  ...   \n",
       "246543                    1.0                   0.0  ...   \n",
       "467760                    1.0                   0.0  ...   \n",
       "\n",
       "        ethn__BLACK/AFRICAN AMERICAN  ethn__HISPANIC/LATINO  ethn__OTHER  \\\n",
       "302306                             0                      0            0   \n",
       "275698                             0                      0            0   \n",
       "186702                             0                      0            0   \n",
       "117603                             0                      0            0   \n",
       "292367                             0                      0            0   \n",
       "...                              ...                    ...          ...   \n",
       "108799                             0                      0            0   \n",
       "128047                             0                      0            0   \n",
       "197945                             0                      0            0   \n",
       "246543                             0                      0            0   \n",
       "467760                             1                      0            0   \n",
       "\n",
       "        ethn__UNKNOWN  ethn__WHITE  ins__Medicare  ins__Other  \\\n",
       "302306              0            1              0           1   \n",
       "275698              0            1              0           1   \n",
       "186702              0            1              0           0   \n",
       "117603              0            1              0           1   \n",
       "292367              0            1              0           1   \n",
       "...               ...          ...            ...         ...   \n",
       "108799              0            1              0           0   \n",
       "128047              0            1              0           1   \n",
       "197945              0            0              0           1   \n",
       "246543              0            1              0           1   \n",
       "467760              0            0              0           1   \n",
       "\n",
       "        maritalS__MARRIED  maritalS__SINGLE  maritalS__WIDOWED  \n",
       "302306                  1                 0                  0  \n",
       "275698                  1                 0                  0  \n",
       "186702                  0                 1                  0  \n",
       "117603                  1                 0                  0  \n",
       "292367                  0                 1                  0  \n",
       "...                   ...               ...                ...  \n",
       "108799                  0                 1                  0  \n",
       "128047                  1                 0                  0  \n",
       "197945                  0                 1                  0  \n",
       "246543                  1                 0                  0  \n",
       "467760                  0                 1                  0  \n",
       "\n",
       "[52111 rows x 56 columns]"
      ]
     },
     "execution_count": 157,
     "metadata": {},
     "output_type": "execute_result"
    }
   ],
   "source": [
    "X_validate_ihm  # il validation set mai visto dal modello, che bisogna però scalare"
   ]
  },
  {
   "cell_type": "code",
   "execution_count": 158,
   "id": "ff6ca8b6",
   "metadata": {},
   "outputs": [
    {
     "data": {
      "text/plain": [
       "302306    0\n",
       "275698    0\n",
       "186702    0\n",
       "117603    0\n",
       "292367    0\n",
       "         ..\n",
       "108799    0\n",
       "128047    0\n",
       "197945    0\n",
       "246543    0\n",
       "467760    0\n",
       "Name: death, Length: 52111, dtype: int64"
      ]
     },
     "execution_count": 158,
     "metadata": {},
     "output_type": "execute_result"
    }
   ],
   "source": [
    "y_validate_ihm  # questi sono i dati su cui verrà calcolato l'accuracy score di validazione"
   ]
  },
  {
   "cell_type": "markdown",
   "id": "924ba779",
   "metadata": {},
   "source": [
    "**NOTA**: vado a scalare il testing set utilizzando lo *Scaler* precedentemente addestrato, applicando\n",
    "questa volta esclusivamente il metodo *transform* (sul training set veniva applicato *fit_transform*)"
   ]
  },
  {
   "cell_type": "code",
   "execution_count": 159,
   "id": "9cc45a9e",
   "metadata": {},
   "outputs": [
    {
     "data": {
      "text/plain": [
       "array([[-0.96512577, -1.9805177 , -0.51700569, ...,  1.14142082,\n",
       "        -0.82999981, -0.32124958],\n",
       "       [-0.96512577,  0.12262879, -0.51700569, ...,  1.14142082,\n",
       "        -0.82999981, -0.32124958],\n",
       "       [-0.96512577,  0.428541  , -0.51700569, ..., -0.87610107,\n",
       "         1.20481955, -0.32124958],\n",
       "       ...,\n",
       "       [ 1.03613439, -1.9805177 , -0.51700569, ..., -0.87610107,\n",
       "         1.20481955, -0.32124958],\n",
       "       [-0.96512577,  0.35206295, -0.51700569, ...,  1.14142082,\n",
       "        -0.82999981, -0.32124958],\n",
       "       [-0.96512577,  0.8491703 , -0.51700569, ..., -0.87610107,\n",
       "         1.20481955, -0.32124958]])"
      ]
     },
     "execution_count": 159,
     "metadata": {},
     "output_type": "execute_result"
    }
   ],
   "source": [
    "X_validate_ihm_scaled = scaler.transform(X_validate_ihm)  # fitting and transforming training set\n",
    "X_validate_ihm_scaled"
   ]
  },
  {
   "cell_type": "markdown",
   "id": "bd7881ba",
   "metadata": {},
   "source": [
    "### Random Forest"
   ]
  },
  {
   "cell_type": "code",
   "execution_count": 157,
   "id": "0de93a2d",
   "metadata": {},
   "outputs": [
    {
     "data": {
      "text/plain": [
       "RandomForestClassifier(random_state=42)"
      ]
     },
     "execution_count": 157,
     "metadata": {},
     "output_type": "execute_result"
    }
   ],
   "source": [
    "rf = RandomForestClassifier(random_state=42)\n",
    "rf.fit(X_train_ihm_ov, y_train_ihm_ov)"
   ]
  },
  {
   "cell_type": "code",
   "execution_count": 158,
   "id": "bf940702",
   "metadata": {},
   "outputs": [
    {
     "data": {
      "text/plain": [
       "array([0, 0, 0, ..., 0, 0, 0], dtype=int64)"
      ]
     },
     "execution_count": 158,
     "metadata": {},
     "output_type": "execute_result"
    }
   ],
   "source": [
    "validation_pred_rf = rf.predict(X_validate_ihm_scaled)\n",
    "validation_pred_rf"
   ]
  },
  {
   "cell_type": "code",
   "execution_count": 159,
   "id": "f4432715",
   "metadata": {},
   "outputs": [
    {
     "data": {
      "text/plain": [
       "0.9817504941375141"
      ]
     },
     "execution_count": 159,
     "metadata": {},
     "output_type": "execute_result"
    }
   ],
   "source": [
    "acc_rf = accuracy_score(y_validate_ihm, validation_pred_rf)\n",
    "acc_rf"
   ]
  },
  {
   "cell_type": "code",
   "execution_count": 160,
   "id": "b7fb77fb",
   "metadata": {},
   "outputs": [],
   "source": [
    "cm_rf_validation = confusion_matrix(y_validate_ihm, validation_pred_rf)\n",
    "ps_rf_validation = precision_score(y_validate_ihm, validation_pred_rf)\n",
    "rs_rf_validation = recall_score(y_validate_ihm, validation_pred_rf)\n",
    "f1_rf_validation = f1_score(y_validate_ihm, validation_pred_rf)"
   ]
  },
  {
   "cell_type": "code",
   "execution_count": 161,
   "id": "8dfcd61d",
   "metadata": {},
   "outputs": [],
   "source": [
    "perf_rf_validation = {\n",
    "           'Metric': ['precision','recall','f1'],\n",
    "           'validation': [ps_rf_validation, rs_rf_validation, f1_rf_validation]\n",
    "          }"
   ]
  },
  {
   "cell_type": "code",
   "execution_count": 162,
   "id": "df67f98e",
   "metadata": {
    "scrolled": true
   },
   "outputs": [
    {
     "data": {
      "text/html": [
       "<style  type=\"text/css\" >\n",
       "</style><table id=\"T_31185_\" style='display:inline'><caption>RANDOM FOREST VALIDATION PERFORMANCES</caption><thead>    <tr>        <th class=\"blank level0\" ></th>        <th class=\"col_heading level0 col0\" >Metric</th>        <th class=\"col_heading level0 col1\" >validation</th>    </tr></thead><tbody>\n",
       "                <tr>\n",
       "                        <th id=\"T_31185_level0_row0\" class=\"row_heading level0 row0\" >0</th>\n",
       "                        <td id=\"T_31185_row0_col0\" class=\"data row0 col0\" >precision</td>\n",
       "                        <td id=\"T_31185_row0_col1\" class=\"data row0 col1\" >0.443750</td>\n",
       "            </tr>\n",
       "            <tr>\n",
       "                        <th id=\"T_31185_level0_row1\" class=\"row_heading level0 row1\" >1</th>\n",
       "                        <td id=\"T_31185_row1_col0\" class=\"data row1 col0\" >recall</td>\n",
       "                        <td id=\"T_31185_row1_col1\" class=\"data row1 col1\" >0.076099</td>\n",
       "            </tr>\n",
       "            <tr>\n",
       "                        <th id=\"T_31185_level0_row2\" class=\"row_heading level0 row2\" >2</th>\n",
       "                        <td id=\"T_31185_row2_col0\" class=\"data row2 col0\" >f1</td>\n",
       "                        <td id=\"T_31185_row2_col1\" class=\"data row2 col1\" >0.129918</td>\n",
       "            </tr>\n",
       "    </tbody></table>"
      ],
      "text/plain": [
       "<pandas.io.formats.style.Styler at 0x132a698fbe0>"
      ]
     },
     "execution_count": 162,
     "metadata": {},
     "output_type": "execute_result"
    }
   ],
   "source": [
    "table_rf_validation = pd.DataFrame(perf_rf_validation, columns = ['Metric', 'validation'])\n",
    "table_rf_validation.style.set_table_attributes(\"style='display:inline'\").set_caption('RANDOM FOREST VALIDATION PERFORMANCES')"
   ]
  },
  {
   "cell_type": "code",
   "execution_count": 163,
   "id": "574a6dc8",
   "metadata": {},
   "outputs": [
    {
     "name": "stdout",
     "output_type": "stream",
     "text": [
      "71 veri positivi\n",
      "51089 veri negativi\n",
      "89 falsi positivi\n",
      "862 falsi negativi\n"
     ]
    }
   ],
   "source": [
    "print(\"{} veri positivi\".format(cm_rf_validation[1,1]))\n",
    "print(\"{} veri negativi\".format(cm_rf_validation[0,0]))\n",
    "print(\"{} falsi positivi\".format(cm_rf_validation[0,1]))\n",
    "print(\"{} falsi negativi\".format(cm_rf_validation[1,0]))"
   ]
  },
  {
   "cell_type": "markdown",
   "id": "7e3d66b3",
   "metadata": {},
   "source": [
    "### Logistic Regressor"
   ]
  },
  {
   "cell_type": "code",
   "execution_count": 164,
   "id": "cc5402fc",
   "metadata": {},
   "outputs": [
    {
     "data": {
      "text/plain": [
       "LogisticRegression(random_state=42)"
      ]
     },
     "execution_count": 164,
     "metadata": {},
     "output_type": "execute_result"
    }
   ],
   "source": [
    "lr = LogisticRegression(random_state=42)\n",
    "lr.fit(X_train_ihm_ov, y_train_ihm_ov)"
   ]
  },
  {
   "cell_type": "code",
   "execution_count": 165,
   "id": "e2757b5a",
   "metadata": {},
   "outputs": [
    {
     "data": {
      "text/plain": [
       "array([0, 0, 0, ..., 0, 0, 0], dtype=int64)"
      ]
     },
     "execution_count": 165,
     "metadata": {},
     "output_type": "execute_result"
    }
   ],
   "source": [
    "validation_pred_lr = lr.predict(X_validate_ihm_scaled)\n",
    "validation_pred_lr"
   ]
  },
  {
   "cell_type": "code",
   "execution_count": 166,
   "id": "2888dbd1",
   "metadata": {},
   "outputs": [
    {
     "data": {
      "text/plain": [
       "0.8356201185930034"
      ]
     },
     "execution_count": 166,
     "metadata": {},
     "output_type": "execute_result"
    }
   ],
   "source": [
    "acc_lr = accuracy_score(y_validate_ihm, validation_pred_lr)\n",
    "acc_lr"
   ]
  },
  {
   "cell_type": "code",
   "execution_count": 167,
   "id": "fb33e95c",
   "metadata": {},
   "outputs": [],
   "source": [
    "cm_lr_validation = confusion_matrix(y_validate_ihm, validation_pred_lr)\n",
    "ps_lr_validation = precision_score(y_validate_ihm, validation_pred_lr)\n",
    "rs_lr_validation = recall_score(y_validate_ihm, validation_pred_lr)\n",
    "f1_lr_validation = f1_score(y_validate_ihm, validation_pred_lr)"
   ]
  },
  {
   "cell_type": "code",
   "execution_count": 168,
   "id": "25b83106",
   "metadata": {},
   "outputs": [],
   "source": [
    "perf_lr_validation = {\n",
    "                   'Metric': ['precision','recall','f1'],\n",
    "                   'validation': [ps_lr_validation, rs_lr_validation, f1_lr_validation]\n",
    "                 }"
   ]
  },
  {
   "cell_type": "code",
   "execution_count": 169,
   "id": "de80edf3",
   "metadata": {
    "scrolled": false
   },
   "outputs": [
    {
     "data": {
      "text/html": [
       "<style  type=\"text/css\" >\n",
       "</style><table id=\"T_a4f7b_\" style='display:inline'><caption>LOGISTIC REGRESSOR VALIDATION PERFORMANCES</caption><thead>    <tr>        <th class=\"blank level0\" ></th>        <th class=\"col_heading level0 col0\" >Metric</th>        <th class=\"col_heading level0 col1\" >validation</th>    </tr></thead><tbody>\n",
       "                <tr>\n",
       "                        <th id=\"T_a4f7b_level0_row0\" class=\"row_heading level0 row0\" >0</th>\n",
       "                        <td id=\"T_a4f7b_row0_col0\" class=\"data row0 col0\" >precision</td>\n",
       "                        <td id=\"T_a4f7b_row0_col1\" class=\"data row0 col1\" >0.085658</td>\n",
       "            </tr>\n",
       "            <tr>\n",
       "                        <th id=\"T_a4f7b_level0_row1\" class=\"row_heading level0 row1\" >1</th>\n",
       "                        <td id=\"T_a4f7b_row1_col0\" class=\"data row1 col0\" >recall</td>\n",
       "                        <td id=\"T_a4f7b_row1_col1\" class=\"data row1 col1\" >0.845659</td>\n",
       "            </tr>\n",
       "            <tr>\n",
       "                        <th id=\"T_a4f7b_level0_row2\" class=\"row_heading level0 row2\" >2</th>\n",
       "                        <td id=\"T_a4f7b_row2_col0\" class=\"data row2 col0\" >f1</td>\n",
       "                        <td id=\"T_a4f7b_row2_col1\" class=\"data row2 col1\" >0.155560</td>\n",
       "            </tr>\n",
       "    </tbody></table>"
      ],
      "text/plain": [
       "<pandas.io.formats.style.Styler at 0x132a3041880>"
      ]
     },
     "execution_count": 169,
     "metadata": {},
     "output_type": "execute_result"
    }
   ],
   "source": [
    "table_lr_validation = pd.DataFrame(perf_lr_validation, columns = ['Metric', 'validation'])\n",
    "table_lr_validation.style.set_table_attributes(\"style='display:inline'\").set_caption('LOGISTIC REGRESSOR VALIDATION PERFORMANCES')"
   ]
  },
  {
   "cell_type": "code",
   "execution_count": 170,
   "id": "9d145717",
   "metadata": {},
   "outputs": [
    {
     "name": "stdout",
     "output_type": "stream",
     "text": [
      "789 veri positivi\n",
      "42756 veri negativi\n",
      "8422 falsi positivi\n",
      "144 falsi negativi\n"
     ]
    }
   ],
   "source": [
    "print(\"{} veri positivi\".format(cm_lr_validation[1,1]))\n",
    "print(\"{} veri negativi\".format(cm_lr_validation[0,0]))\n",
    "print(\"{} falsi positivi\".format(cm_lr_validation[0,1]))\n",
    "print(\"{} falsi negativi\".format(cm_lr_validation[1,0]))"
   ]
  },
  {
   "cell_type": "markdown",
   "id": "ed6362b1",
   "metadata": {},
   "source": [
    "### Multilayer Perceptron"
   ]
  },
  {
   "cell_type": "code",
   "execution_count": 171,
   "id": "d49052f6",
   "metadata": {},
   "outputs": [
    {
     "data": {
      "text/plain": [
       "MLPClassifier(random_state=42)"
      ]
     },
     "execution_count": 171,
     "metadata": {},
     "output_type": "execute_result"
    }
   ],
   "source": [
    "mlp = MLPClassifier(random_state=42)\n",
    "mlp.fit(X_train_ihm_ov, y_train_ihm_ov)"
   ]
  },
  {
   "cell_type": "code",
   "execution_count": 172,
   "id": "c431e500",
   "metadata": {},
   "outputs": [
    {
     "data": {
      "text/plain": [
       "array([0, 0, 0, ..., 0, 0, 0], dtype=int64)"
      ]
     },
     "execution_count": 172,
     "metadata": {},
     "output_type": "execute_result"
    }
   ],
   "source": [
    "validation_pred_mlp = mlp.predict(X_validate_ihm_scaled)\n",
    "validation_pred_mlp"
   ]
  },
  {
   "cell_type": "code",
   "execution_count": 173,
   "id": "c49545d8",
   "metadata": {},
   "outputs": [
    {
     "data": {
      "text/plain": [
       "0.9549423346318435"
      ]
     },
     "execution_count": 173,
     "metadata": {},
     "output_type": "execute_result"
    }
   ],
   "source": [
    "acc_mlp = accuracy_score(y_validate_ihm, validation_pred_mlp)\n",
    "acc_mlp"
   ]
  },
  {
   "cell_type": "code",
   "execution_count": 174,
   "id": "28d19dec",
   "metadata": {},
   "outputs": [],
   "source": [
    "cm_mlp_validation = confusion_matrix(y_validate_ihm, validation_pred_mlp)\n",
    "ps_mlp_validation = precision_score(y_validate_ihm, validation_pred_mlp)\n",
    "rs_mlp_validation = recall_score(y_validate_ihm, validation_pred_mlp)\n",
    "f1_mlp_validation = f1_score(y_validate_ihm, validation_pred_mlp)"
   ]
  },
  {
   "cell_type": "code",
   "execution_count": 175,
   "id": "d336cda8",
   "metadata": {},
   "outputs": [],
   "source": [
    "perf_mlp_validation = {\n",
    "                   'Metric': ['precision','recall','f1'],\n",
    "                   'validation': [ps_mlp_validation, rs_mlp_validation, f1_mlp_validation]\n",
    "                 }"
   ]
  },
  {
   "cell_type": "code",
   "execution_count": 176,
   "id": "bf2d713e",
   "metadata": {
    "scrolled": true
   },
   "outputs": [
    {
     "data": {
      "text/html": [
       "<style  type=\"text/css\" >\n",
       "</style><table id=\"T_37620_\" style='display:inline'><caption>MULTILAYER PERCEPTRON VALIDATION PERFORMANCES</caption><thead>    <tr>        <th class=\"blank level0\" ></th>        <th class=\"col_heading level0 col0\" >Metric</th>        <th class=\"col_heading level0 col1\" >validation</th>    </tr></thead><tbody>\n",
       "                <tr>\n",
       "                        <th id=\"T_37620_level0_row0\" class=\"row_heading level0 row0\" >0</th>\n",
       "                        <td id=\"T_37620_row0_col0\" class=\"data row0 col0\" >precision</td>\n",
       "                        <td id=\"T_37620_row0_col1\" class=\"data row0 col1\" >0.177677</td>\n",
       "            </tr>\n",
       "            <tr>\n",
       "                        <th id=\"T_37620_level0_row1\" class=\"row_heading level0 row1\" >1</th>\n",
       "                        <td id=\"T_37620_row1_col0\" class=\"data row1 col0\" >recall</td>\n",
       "                        <td id=\"T_37620_row1_col1\" class=\"data row1 col1\" >0.418006</td>\n",
       "            </tr>\n",
       "            <tr>\n",
       "                        <th id=\"T_37620_level0_row2\" class=\"row_heading level0 row2\" >2</th>\n",
       "                        <td id=\"T_37620_row2_col0\" class=\"data row2 col0\" >f1</td>\n",
       "                        <td id=\"T_37620_row2_col1\" class=\"data row2 col1\" >0.249361</td>\n",
       "            </tr>\n",
       "    </tbody></table>"
      ],
      "text/plain": [
       "<pandas.io.formats.style.Styler at 0x132a3041460>"
      ]
     },
     "execution_count": 176,
     "metadata": {},
     "output_type": "execute_result"
    }
   ],
   "source": [
    "table_mlp_validation = pd.DataFrame(perf_mlp_validation, columns = ['Metric', 'validation'])\n",
    "table_mlp_validation.style.set_table_attributes(\"style='display:inline'\").set_caption('MULTILAYER PERCEPTRON VALIDATION PERFORMANCES')"
   ]
  },
  {
   "cell_type": "code",
   "execution_count": 177,
   "id": "a1b3d71f",
   "metadata": {},
   "outputs": [
    {
     "name": "stdout",
     "output_type": "stream",
     "text": [
      "390 veri positivi\n",
      "49373 veri negativi\n",
      "1805 falsi positivi\n",
      "543 falsi negativi\n"
     ]
    }
   ],
   "source": [
    "print(\"{} veri positivi\".format(cm_mlp_validation[1,1]))\n",
    "print(\"{} veri negativi\".format(cm_mlp_validation[0,0]))\n",
    "print(\"{} falsi positivi\".format(cm_mlp_validation[0,1]))\n",
    "print(\"{} falsi negativi\".format(cm_mlp_validation[1,0]))"
   ]
  },
  {
   "cell_type": "markdown",
   "id": "6bca002d",
   "metadata": {},
   "source": [
    "### Multilayer Perceptron post tuning"
   ]
  },
  {
   "cell_type": "markdown",
   "id": "14872b35",
   "metadata": {},
   "source": [
    "provo ad affettuare le predizioni utilizzando il multilayer perceptron ottenuto con il tuning degli iperparametri"
   ]
  },
  {
   "cell_type": "code",
   "execution_count": 160,
   "id": "5f1a5303",
   "metadata": {},
   "outputs": [
    {
     "name": "stdout",
     "output_type": "stream",
     "text": [
      "Results on the test set:\n",
      "              precision    recall  f1-score   support\n",
      "\n",
      "           0       0.99      0.91      0.95     51178\n",
      "           1       0.12      0.70      0.20       933\n",
      "\n",
      "    accuracy                           0.90     52111\n",
      "   macro avg       0.56      0.80      0.58     52111\n",
      "weighted avg       0.98      0.90      0.93     52111\n",
      "\n"
     ]
    }
   ],
   "source": [
    "y_true, y_pred = y_validate_ihm , clf.predict(X_validate_ihm_scaled)\n",
    "from sklearn.metrics import classification_report\n",
    "print('Results on the test set:')\n",
    "print(classification_report(y_true, y_pred))"
   ]
  },
  {
   "cell_type": "code",
   "execution_count": 161,
   "id": "0100509d",
   "metadata": {},
   "outputs": [
    {
     "data": {
      "text/plain": [
       "array([0, 0, 0, ..., 0, 0, 0], dtype=int64)"
      ]
     },
     "execution_count": 161,
     "metadata": {},
     "output_type": "execute_result"
    }
   ],
   "source": [
    "validation_pred_mlp = clf.predict(X_validate_ihm_scaled)\n",
    "validation_pred_mlp"
   ]
  },
  {
   "cell_type": "code",
   "execution_count": 162,
   "id": "1603c8b7",
   "metadata": {},
   "outputs": [
    {
     "data": {
      "text/plain": [
       "0.9024582141966188"
      ]
     },
     "execution_count": 162,
     "metadata": {},
     "output_type": "execute_result"
    }
   ],
   "source": [
    "acc_mlp = accuracy_score(y_validate_ihm, validation_pred_mlp)\n",
    "acc_mlp"
   ]
  },
  {
   "cell_type": "code",
   "execution_count": 163,
   "id": "2761e395",
   "metadata": {},
   "outputs": [],
   "source": [
    "cm_mlp_validation = confusion_matrix(y_validate_ihm, validation_pred_mlp)\n",
    "ps_mlp_validation = precision_score(y_validate_ihm, validation_pred_mlp)\n",
    "rs_mlp_validation = recall_score(y_validate_ihm, validation_pred_mlp)\n",
    "f1_mlp_validation = f1_score(y_validate_ihm, validation_pred_mlp)"
   ]
  },
  {
   "cell_type": "code",
   "execution_count": 164,
   "id": "35e2b7c5",
   "metadata": {},
   "outputs": [],
   "source": [
    "perf_mlp_validation = {\n",
    "                   'Metric': ['precision','recall','f1'],\n",
    "                   'validation': [ps_mlp_validation, rs_mlp_validation, f1_mlp_validation]\n",
    "                 }"
   ]
  },
  {
   "cell_type": "code",
   "execution_count": 165,
   "id": "d7a8d464",
   "metadata": {
    "scrolled": false
   },
   "outputs": [
    {
     "data": {
      "text/html": [
       "<style  type=\"text/css\" >\n",
       "</style><table id=\"T_05ff6_\" style='display:inline'><caption>MULTILAYER PERCEPTRON VALIDATION PERFORMANCES</caption><thead>    <tr>        <th class=\"blank level0\" ></th>        <th class=\"col_heading level0 col0\" >Metric</th>        <th class=\"col_heading level0 col1\" >validation</th>    </tr></thead><tbody>\n",
       "                <tr>\n",
       "                        <th id=\"T_05ff6_level0_row0\" class=\"row_heading level0 row0\" >0</th>\n",
       "                        <td id=\"T_05ff6_row0_col0\" class=\"data row0 col0\" >precision</td>\n",
       "                        <td id=\"T_05ff6_row0_col1\" class=\"data row0 col1\" >0.119963</td>\n",
       "            </tr>\n",
       "            <tr>\n",
       "                        <th id=\"T_05ff6_level0_row1\" class=\"row_heading level0 row1\" >1</th>\n",
       "                        <td id=\"T_05ff6_row1_col0\" class=\"data row1 col0\" >recall</td>\n",
       "                        <td id=\"T_05ff6_row1_col1\" class=\"data row1 col1\" >0.702036</td>\n",
       "            </tr>\n",
       "            <tr>\n",
       "                        <th id=\"T_05ff6_level0_row2\" class=\"row_heading level0 row2\" >2</th>\n",
       "                        <td id=\"T_05ff6_row2_col0\" class=\"data row2 col0\" >f1</td>\n",
       "                        <td id=\"T_05ff6_row2_col1\" class=\"data row2 col1\" >0.204912</td>\n",
       "            </tr>\n",
       "    </tbody></table>"
      ],
      "text/plain": [
       "<pandas.io.formats.style.Styler at 0x22b24a73550>"
      ]
     },
     "execution_count": 165,
     "metadata": {},
     "output_type": "execute_result"
    }
   ],
   "source": [
    "table_mlp_validation = pd.DataFrame(perf_mlp_validation, columns = ['Metric', 'validation'])\n",
    "table_mlp_validation.style.set_table_attributes(\"style='display:inline'\").set_caption('MULTILAYER PERCEPTRON VALIDATION PERFORMANCES')"
   ]
  },
  {
   "cell_type": "code",
   "execution_count": 166,
   "id": "89500420",
   "metadata": {},
   "outputs": [
    {
     "name": "stdout",
     "output_type": "stream",
     "text": [
      "655 veri positivi\n",
      "46373 veri negativi\n",
      "4805 falsi positivi\n",
      "278 falsi negativi\n"
     ]
    }
   ],
   "source": [
    "print(\"{} veri positivi\".format(cm_mlp_validation[1,1]))\n",
    "print(\"{} veri negativi\".format(cm_mlp_validation[0,0]))\n",
    "print(\"{} falsi positivi\".format(cm_mlp_validation[0,1]))\n",
    "print(\"{} falsi negativi\".format(cm_mlp_validation[1,0]))"
   ]
  },
  {
   "cell_type": "markdown",
   "id": "c431067e",
   "metadata": {},
   "source": [
    "# commenti post validazione"
   ]
  },
  {
   "cell_type": "markdown",
   "id": "4d487f23",
   "metadata": {},
   "source": [
    "nonostante risulti evidente che le prestazioni sul training non sono molto rappresentative delle prestazioni finali possiamo dire che confrontando le metriche di precision e recall relative a random forest e logistic regressor notiamo che il primo modello\n",
    "performa meglio in termini di precision mentre il secondo performa meglio in termini di recall\n",
    "e per quanto riguarda l'f1 score il loistic regressor ottiene risultati leggermente migliori\n",
    "\n",
    "nonostante la precisione del logistic regressor non sia elevata (in quanto predice una quantità significativa di falsi positivi) esso garantisce di individuare gran parte delle morti ospedaliere, questa caratteristica lo rende il modello preferibile in quanto risulta essere più in linea con il contesto ospedaliero dove probabilmente valutare un falso positivo è meglio che un falso negativo (in altre parole predire una morte che poi non si verifica è relativamente meno grave rispetto a predire erroneamente che una persona sopravviverà)\n",
    "\n",
    "il multilayer perceptron dopo il tuning restituisce un risultato più interessante rispetto alla sua versione non ottimizzata e tale risultato è più simile a quello del logistic regressor, tuttavia non porta a risultati significamente migliori "
   ]
  },
  {
   "cell_type": "markdown",
   "id": "27b51d2c",
   "metadata": {},
   "source": [
    "## Predizioni finali sul test ( modello scelto logistic regressor)\n",
    "applico il modello scelto al test set"
   ]
  },
  {
   "cell_type": "code",
   "execution_count": 254,
   "id": "87edd87a",
   "metadata": {},
   "outputs": [
    {
     "data": {
      "text/html": [
       "<div>\n",
       "<style scoped>\n",
       "    .dataframe tbody tr th:only-of-type {\n",
       "        vertical-align: middle;\n",
       "    }\n",
       "\n",
       "    .dataframe tbody tr th {\n",
       "        vertical-align: top;\n",
       "    }\n",
       "\n",
       "    .dataframe thead th {\n",
       "        text-align: right;\n",
       "    }\n",
       "</style>\n",
       "<table border=\"1\" class=\"dataframe\">\n",
       "  <thead>\n",
       "    <tr style=\"text-align: right;\">\n",
       "      <th></th>\n",
       "      <th>gender</th>\n",
       "      <th>age</th>\n",
       "      <th>icd_D_blood</th>\n",
       "      <th>icd_D_health_status</th>\n",
       "      <th>icd_D_pregnancy</th>\n",
       "      <th>icd_D_abnormal</th>\n",
       "      <th>icd_D_chromosomal</th>\n",
       "      <th>icd_D_infectious_parasitic</th>\n",
       "      <th>icd_D_musculoskeletal</th>\n",
       "      <th>icd_D_nervous_system</th>\n",
       "      <th>...</th>\n",
       "      <th>ethn__BLACK/AFRICAN AMERICAN</th>\n",
       "      <th>ethn__HISPANIC/LATINO</th>\n",
       "      <th>ethn__OTHER</th>\n",
       "      <th>ethn__UNKNOWN</th>\n",
       "      <th>ethn__WHITE</th>\n",
       "      <th>ins__Medicare</th>\n",
       "      <th>ins__Other</th>\n",
       "      <th>maritalS__MARRIED</th>\n",
       "      <th>maritalS__SINGLE</th>\n",
       "      <th>maritalS__WIDOWED</th>\n",
       "    </tr>\n",
       "  </thead>\n",
       "  <tbody>\n",
       "    <tr>\n",
       "      <th>468222</th>\n",
       "      <td>0</td>\n",
       "      <td>46</td>\n",
       "      <td>0.0</td>\n",
       "      <td>2.0</td>\n",
       "      <td>0.0</td>\n",
       "      <td>1.0</td>\n",
       "      <td>0.0</td>\n",
       "      <td>0.0</td>\n",
       "      <td>0.0</td>\n",
       "      <td>0.0</td>\n",
       "      <td>...</td>\n",
       "      <td>0</td>\n",
       "      <td>0</td>\n",
       "      <td>0</td>\n",
       "      <td>0</td>\n",
       "      <td>1</td>\n",
       "      <td>0</td>\n",
       "      <td>1</td>\n",
       "      <td>0</td>\n",
       "      <td>1</td>\n",
       "      <td>0</td>\n",
       "    </tr>\n",
       "    <tr>\n",
       "      <th>418385</th>\n",
       "      <td>0</td>\n",
       "      <td>48</td>\n",
       "      <td>1.0</td>\n",
       "      <td>1.0</td>\n",
       "      <td>0.0</td>\n",
       "      <td>2.0</td>\n",
       "      <td>0.0</td>\n",
       "      <td>0.0</td>\n",
       "      <td>0.0</td>\n",
       "      <td>0.0</td>\n",
       "      <td>...</td>\n",
       "      <td>1</td>\n",
       "      <td>0</td>\n",
       "      <td>0</td>\n",
       "      <td>0</td>\n",
       "      <td>0</td>\n",
       "      <td>0</td>\n",
       "      <td>1</td>\n",
       "      <td>0</td>\n",
       "      <td>0</td>\n",
       "      <td>0</td>\n",
       "    </tr>\n",
       "    <tr>\n",
       "      <th>99453</th>\n",
       "      <td>0</td>\n",
       "      <td>60</td>\n",
       "      <td>0.0</td>\n",
       "      <td>1.0</td>\n",
       "      <td>0.0</td>\n",
       "      <td>0.0</td>\n",
       "      <td>0.0</td>\n",
       "      <td>0.0</td>\n",
       "      <td>1.0</td>\n",
       "      <td>0.0</td>\n",
       "      <td>...</td>\n",
       "      <td>0</td>\n",
       "      <td>0</td>\n",
       "      <td>0</td>\n",
       "      <td>0</td>\n",
       "      <td>0</td>\n",
       "      <td>0</td>\n",
       "      <td>1</td>\n",
       "      <td>1</td>\n",
       "      <td>0</td>\n",
       "      <td>0</td>\n",
       "    </tr>\n",
       "    <tr>\n",
       "      <th>255459</th>\n",
       "      <td>0</td>\n",
       "      <td>0</td>\n",
       "      <td>0.0</td>\n",
       "      <td>2.0</td>\n",
       "      <td>0.0</td>\n",
       "      <td>0.0</td>\n",
       "      <td>0.0</td>\n",
       "      <td>0.0</td>\n",
       "      <td>0.0</td>\n",
       "      <td>0.0</td>\n",
       "      <td>...</td>\n",
       "      <td>0</td>\n",
       "      <td>0</td>\n",
       "      <td>0</td>\n",
       "      <td>0</td>\n",
       "      <td>1</td>\n",
       "      <td>0</td>\n",
       "      <td>1</td>\n",
       "      <td>0</td>\n",
       "      <td>1</td>\n",
       "      <td>0</td>\n",
       "    </tr>\n",
       "    <tr>\n",
       "      <th>4275</th>\n",
       "      <td>0</td>\n",
       "      <td>43</td>\n",
       "      <td>0.0</td>\n",
       "      <td>1.0</td>\n",
       "      <td>0.0</td>\n",
       "      <td>1.0</td>\n",
       "      <td>0.0</td>\n",
       "      <td>0.0</td>\n",
       "      <td>0.0</td>\n",
       "      <td>0.0</td>\n",
       "      <td>...</td>\n",
       "      <td>0</td>\n",
       "      <td>0</td>\n",
       "      <td>0</td>\n",
       "      <td>0</td>\n",
       "      <td>1</td>\n",
       "      <td>0</td>\n",
       "      <td>1</td>\n",
       "      <td>1</td>\n",
       "      <td>0</td>\n",
       "      <td>0</td>\n",
       "    </tr>\n",
       "    <tr>\n",
       "      <th>...</th>\n",
       "      <td>...</td>\n",
       "      <td>...</td>\n",
       "      <td>...</td>\n",
       "      <td>...</td>\n",
       "      <td>...</td>\n",
       "      <td>...</td>\n",
       "      <td>...</td>\n",
       "      <td>...</td>\n",
       "      <td>...</td>\n",
       "      <td>...</td>\n",
       "      <td>...</td>\n",
       "      <td>...</td>\n",
       "      <td>...</td>\n",
       "      <td>...</td>\n",
       "      <td>...</td>\n",
       "      <td>...</td>\n",
       "      <td>...</td>\n",
       "      <td>...</td>\n",
       "      <td>...</td>\n",
       "      <td>...</td>\n",
       "      <td>...</td>\n",
       "    </tr>\n",
       "    <tr>\n",
       "      <th>260452</th>\n",
       "      <td>1</td>\n",
       "      <td>84</td>\n",
       "      <td>0.0</td>\n",
       "      <td>0.0</td>\n",
       "      <td>0.0</td>\n",
       "      <td>1.0</td>\n",
       "      <td>0.0</td>\n",
       "      <td>0.0</td>\n",
       "      <td>0.0</td>\n",
       "      <td>0.0</td>\n",
       "      <td>...</td>\n",
       "      <td>1</td>\n",
       "      <td>0</td>\n",
       "      <td>0</td>\n",
       "      <td>0</td>\n",
       "      <td>0</td>\n",
       "      <td>0</td>\n",
       "      <td>1</td>\n",
       "      <td>0</td>\n",
       "      <td>1</td>\n",
       "      <td>0</td>\n",
       "    </tr>\n",
       "    <tr>\n",
       "      <th>367654</th>\n",
       "      <td>1</td>\n",
       "      <td>59</td>\n",
       "      <td>0.0</td>\n",
       "      <td>0.0</td>\n",
       "      <td>0.0</td>\n",
       "      <td>1.0</td>\n",
       "      <td>0.0</td>\n",
       "      <td>0.0</td>\n",
       "      <td>0.0</td>\n",
       "      <td>0.0</td>\n",
       "      <td>...</td>\n",
       "      <td>0</td>\n",
       "      <td>0</td>\n",
       "      <td>0</td>\n",
       "      <td>0</td>\n",
       "      <td>1</td>\n",
       "      <td>1</td>\n",
       "      <td>0</td>\n",
       "      <td>0</td>\n",
       "      <td>0</td>\n",
       "      <td>0</td>\n",
       "    </tr>\n",
       "    <tr>\n",
       "      <th>132587</th>\n",
       "      <td>1</td>\n",
       "      <td>57</td>\n",
       "      <td>0.0</td>\n",
       "      <td>4.0</td>\n",
       "      <td>0.0</td>\n",
       "      <td>4.0</td>\n",
       "      <td>0.0</td>\n",
       "      <td>0.0</td>\n",
       "      <td>0.0</td>\n",
       "      <td>0.0</td>\n",
       "      <td>...</td>\n",
       "      <td>0</td>\n",
       "      <td>0</td>\n",
       "      <td>0</td>\n",
       "      <td>0</td>\n",
       "      <td>1</td>\n",
       "      <td>1</td>\n",
       "      <td>0</td>\n",
       "      <td>0</td>\n",
       "      <td>1</td>\n",
       "      <td>0</td>\n",
       "    </tr>\n",
       "    <tr>\n",
       "      <th>147595</th>\n",
       "      <td>1</td>\n",
       "      <td>33</td>\n",
       "      <td>0.0</td>\n",
       "      <td>2.0</td>\n",
       "      <td>0.0</td>\n",
       "      <td>0.0</td>\n",
       "      <td>0.0</td>\n",
       "      <td>0.0</td>\n",
       "      <td>0.0</td>\n",
       "      <td>0.0</td>\n",
       "      <td>...</td>\n",
       "      <td>0</td>\n",
       "      <td>0</td>\n",
       "      <td>0</td>\n",
       "      <td>0</td>\n",
       "      <td>1</td>\n",
       "      <td>0</td>\n",
       "      <td>1</td>\n",
       "      <td>0</td>\n",
       "      <td>1</td>\n",
       "      <td>0</td>\n",
       "    </tr>\n",
       "    <tr>\n",
       "      <th>122553</th>\n",
       "      <td>1</td>\n",
       "      <td>82</td>\n",
       "      <td>3.0</td>\n",
       "      <td>7.0</td>\n",
       "      <td>0.0</td>\n",
       "      <td>1.0</td>\n",
       "      <td>0.0</td>\n",
       "      <td>1.0</td>\n",
       "      <td>3.0</td>\n",
       "      <td>0.0</td>\n",
       "      <td>...</td>\n",
       "      <td>0</td>\n",
       "      <td>0</td>\n",
       "      <td>0</td>\n",
       "      <td>0</td>\n",
       "      <td>1</td>\n",
       "      <td>1</td>\n",
       "      <td>0</td>\n",
       "      <td>0</td>\n",
       "      <td>0</td>\n",
       "      <td>1</td>\n",
       "    </tr>\n",
       "  </tbody>\n",
       "</table>\n",
       "<p>156333 rows × 56 columns</p>\n",
       "</div>"
      ],
      "text/plain": [
       "        gender  age  icd_D_blood  icd_D_health_status  icd_D_pregnancy  \\\n",
       "468222       0   46          0.0                  2.0              0.0   \n",
       "418385       0   48          1.0                  1.0              0.0   \n",
       "99453        0   60          0.0                  1.0              0.0   \n",
       "255459       0    0          0.0                  2.0              0.0   \n",
       "4275         0   43          0.0                  1.0              0.0   \n",
       "...        ...  ...          ...                  ...              ...   \n",
       "260452       1   84          0.0                  0.0              0.0   \n",
       "367654       1   59          0.0                  0.0              0.0   \n",
       "132587       1   57          0.0                  4.0              0.0   \n",
       "147595       1   33          0.0                  2.0              0.0   \n",
       "122553       1   82          3.0                  7.0              0.0   \n",
       "\n",
       "        icd_D_abnormal  icd_D_chromosomal  icd_D_infectious_parasitic  \\\n",
       "468222             1.0                0.0                         0.0   \n",
       "418385             2.0                0.0                         0.0   \n",
       "99453              0.0                0.0                         0.0   \n",
       "255459             0.0                0.0                         0.0   \n",
       "4275               1.0                0.0                         0.0   \n",
       "...                ...                ...                         ...   \n",
       "260452             1.0                0.0                         0.0   \n",
       "367654             1.0                0.0                         0.0   \n",
       "132587             4.0                0.0                         0.0   \n",
       "147595             0.0                0.0                         0.0   \n",
       "122553             1.0                0.0                         1.0   \n",
       "\n",
       "        icd_D_musculoskeletal  icd_D_nervous_system  ...  \\\n",
       "468222                    0.0                   0.0  ...   \n",
       "418385                    0.0                   0.0  ...   \n",
       "99453                     1.0                   0.0  ...   \n",
       "255459                    0.0                   0.0  ...   \n",
       "4275                      0.0                   0.0  ...   \n",
       "...                       ...                   ...  ...   \n",
       "260452                    0.0                   0.0  ...   \n",
       "367654                    0.0                   0.0  ...   \n",
       "132587                    0.0                   0.0  ...   \n",
       "147595                    0.0                   0.0  ...   \n",
       "122553                    3.0                   0.0  ...   \n",
       "\n",
       "        ethn__BLACK/AFRICAN AMERICAN  ethn__HISPANIC/LATINO  ethn__OTHER  \\\n",
       "468222                             0                      0            0   \n",
       "418385                             1                      0            0   \n",
       "99453                              0                      0            0   \n",
       "255459                             0                      0            0   \n",
       "4275                               0                      0            0   \n",
       "...                              ...                    ...          ...   \n",
       "260452                             1                      0            0   \n",
       "367654                             0                      0            0   \n",
       "132587                             0                      0            0   \n",
       "147595                             0                      0            0   \n",
       "122553                             0                      0            0   \n",
       "\n",
       "        ethn__UNKNOWN  ethn__WHITE  ins__Medicare  ins__Other  \\\n",
       "468222              0            1              0           1   \n",
       "418385              0            0              0           1   \n",
       "99453               0            0              0           1   \n",
       "255459              0            1              0           1   \n",
       "4275                0            1              0           1   \n",
       "...               ...          ...            ...         ...   \n",
       "260452              0            0              0           1   \n",
       "367654              0            1              1           0   \n",
       "132587              0            1              1           0   \n",
       "147595              0            1              0           1   \n",
       "122553              0            1              1           0   \n",
       "\n",
       "        maritalS__MARRIED  maritalS__SINGLE  maritalS__WIDOWED  \n",
       "468222                  0                 1                  0  \n",
       "418385                  0                 0                  0  \n",
       "99453                   1                 0                  0  \n",
       "255459                  0                 1                  0  \n",
       "4275                    1                 0                  0  \n",
       "...                   ...               ...                ...  \n",
       "260452                  0                 1                  0  \n",
       "367654                  0                 0                  0  \n",
       "132587                  0                 1                  0  \n",
       "147595                  0                 1                  0  \n",
       "122553                  0                 0                  1  \n",
       "\n",
       "[156333 rows x 56 columns]"
      ]
     },
     "execution_count": 254,
     "metadata": {},
     "output_type": "execute_result"
    }
   ],
   "source": [
    "X_test_ihm  # il test set mai visto dal modello, che bisogna però scalare"
   ]
  },
  {
   "cell_type": "code",
   "execution_count": 255,
   "id": "04a99bc9",
   "metadata": {},
   "outputs": [
    {
     "data": {
      "text/plain": [
       "468222    0\n",
       "418385    0\n",
       "99453     0\n",
       "255459    0\n",
       "4275      0\n",
       "         ..\n",
       "260452    0\n",
       "367654    0\n",
       "132587    0\n",
       "147595    0\n",
       "122553    0\n",
       "Name: death, Length: 156333, dtype: int64"
      ]
     },
     "execution_count": 255,
     "metadata": {},
     "output_type": "execute_result"
    }
   ],
   "source": [
    "y_test_ihm  # questi sono i dati su cui verrà calcolato l'accuracy score finale"
   ]
  },
  {
   "cell_type": "markdown",
   "id": "fa19ef8d",
   "metadata": {},
   "source": [
    "**NOTA**: vado a scalare il testing set utilizzando lo *Scaler* precedentemente addestrato, applicando\n",
    "questa volta esclusivamente il metodo *transform* (sul training set veniva applicato *fit_transform*)"
   ]
  },
  {
   "cell_type": "code",
   "execution_count": 256,
   "id": "89c8adbd",
   "metadata": {},
   "outputs": [
    {
     "data": {
      "text/plain": [
       "array([[-0.96512577, -0.22152246, -0.51700569, ..., -0.87639765,\n",
       "         1.20523447, -0.32124958],\n",
       "       [-0.96512577, -0.1450444 ,  0.96630854, ..., -0.87639765,\n",
       "        -0.82971407, -0.32124958],\n",
       "       [-0.96512577,  0.31382392, -0.51700569, ...,  1.14103456,\n",
       "        -0.82971407, -0.32124958],\n",
       "       ...,\n",
       "       [ 1.03613439,  0.19910684, -0.51700569, ..., -0.87639765,\n",
       "         1.20523447, -0.32124958],\n",
       "       [ 1.03613439, -0.71862981, -0.51700569, ..., -0.87639765,\n",
       "         1.20523447, -0.32124958],\n",
       "       [ 1.03613439,  1.15508251,  3.93293702, ..., -0.87639765,\n",
       "        -0.82971407,  3.11284458]])"
      ]
     },
     "execution_count": 256,
     "metadata": {},
     "output_type": "execute_result"
    }
   ],
   "source": [
    "X_test_ihm_scaled = scaler.transform(X_test_ihm)  # fitting and transforming training set\n",
    "X_test_ihm_scaled"
   ]
  },
  {
   "cell_type": "markdown",
   "id": "66e2e851",
   "metadata": {},
   "source": [
    "### Logistic Regressor"
   ]
  },
  {
   "cell_type": "code",
   "execution_count": null,
   "id": "8f42dc8c",
   "metadata": {},
   "outputs": [],
   "source": [
    "lr = LogisticRegression(random_state=42)\n",
    "lr.fit(X_train_ihm_ov, y_train_ihm_ov)"
   ]
  },
  {
   "cell_type": "code",
   "execution_count": null,
   "id": "8e851243",
   "metadata": {},
   "outputs": [],
   "source": [
    "final_pred_lr = lr.predict(X_test_ihm_scaled)\n",
    "final_pred_lr"
   ]
  },
  {
   "cell_type": "code",
   "execution_count": null,
   "id": "578119e5",
   "metadata": {},
   "outputs": [],
   "source": [
    "acc_lr = accuracy_score(y_test_ihm, final_pred_lr)\n",
    "acc_lr"
   ]
  },
  {
   "cell_type": "code",
   "execution_count": null,
   "id": "daea04df",
   "metadata": {},
   "outputs": [],
   "source": [
    "cm_lr_final = confusion_matrix(y_test_ihm, final_pred_lr)\n",
    "ps_lr_final = precision_score(y_test_ihm, final_pred_lr)\n",
    "rs_lr_final = recall_score(y_test_ihm, final_pred_lr)\n",
    "f1_lr_final = f1_score(y_test_ihm, final_pred_lr)"
   ]
  },
  {
   "cell_type": "code",
   "execution_count": null,
   "id": "bc375f78",
   "metadata": {},
   "outputs": [],
   "source": [
    "perf_lr_final = {\n",
    "                   'Metric': ['precision','recall','f1'],\n",
    "                   'final': [ps_lr_final, rs_lr_final, f1_lr_final]\n",
    "                 }"
   ]
  },
  {
   "cell_type": "code",
   "execution_count": null,
   "id": "9116aef7",
   "metadata": {
    "scrolled": false
   },
   "outputs": [],
   "source": [
    "table_lr_final = pd.DataFrame(perf_lr_final, columns = ['Metric', 'final'])\n",
    "table_lr_final.style.set_table_attributes(\"style='display:inline'\").set_caption('LOGISTIC REGRESSOR FINAL PERFORMANCES')"
   ]
  },
  {
   "cell_type": "code",
   "execution_count": null,
   "id": "45d42ef5",
   "metadata": {},
   "outputs": [],
   "source": [
    "print(\"{} veri positivi\".format(cm_lr_final[1,1]))\n",
    "print(\"{} veri negativi\".format(cm_lr_final[0,0]))\n",
    "print(\"{} falsi positivi\".format(cm_lr_final[0,1]))\n",
    "print(\"{} falsi negativi\".format(cm_lr_final[1,0]))"
   ]
  },
  {
   "cell_type": "markdown",
   "id": "aa8f39a2",
   "metadata": {},
   "source": [
    "### Multilayer Perceptron"
   ]
  },
  {
   "cell_type": "code",
   "execution_count": 257,
   "id": "1acae43b",
   "metadata": {},
   "outputs": [
    {
     "data": {
      "text/plain": [
       "array([0, 0, 0, ..., 0, 0, 0], dtype=int64)"
      ]
     },
     "execution_count": 257,
     "metadata": {},
     "output_type": "execute_result"
    }
   ],
   "source": [
    "final_pred_mlp = clf.predict(X_test_ihm_scaled)\n",
    "final_pred_mlp"
   ]
  },
  {
   "cell_type": "code",
   "execution_count": 258,
   "id": "16be1ffe",
   "metadata": {},
   "outputs": [
    {
     "data": {
      "text/plain": [
       "0.9034113079132365"
      ]
     },
     "execution_count": 258,
     "metadata": {},
     "output_type": "execute_result"
    }
   ],
   "source": [
    "acc_mlp = accuracy_score(y_test_ihm, final_pred_mlp)\n",
    "acc_mlp"
   ]
  },
  {
   "cell_type": "code",
   "execution_count": 259,
   "id": "b247df72",
   "metadata": {},
   "outputs": [],
   "source": [
    "cm_mlp_final = confusion_matrix(y_test_ihm, final_pred_mlp)\n",
    "ps_mlp_final = precision_score(y_test_ihm, final_pred_mlp)\n",
    "rs_mlp_final = recall_score(y_test_ihm, final_pred_mlp)\n",
    "f1_mlp_final = f1_score(y_test_ihm, final_pred_mlp)"
   ]
  },
  {
   "cell_type": "code",
   "execution_count": 260,
   "id": "741b5f6a",
   "metadata": {},
   "outputs": [],
   "source": [
    "perf_mlp_final = {\n",
    "                   'Metric': ['precision','recall','f1'],\n",
    "                   'final': [ps_mlp_final, rs_mlp_final, f1_mlp_final]\n",
    "                 }"
   ]
  },
  {
   "cell_type": "code",
   "execution_count": 261,
   "id": "8354af2d",
   "metadata": {
    "scrolled": false
   },
   "outputs": [
    {
     "data": {
      "text/html": [
       "<style  type=\"text/css\" >\n",
       "</style><table id=\"T_c62f7_\" style='display:inline'><caption>MULTILAYER PERCEPTRON FINAL PERFORMANCES</caption><thead>    <tr>        <th class=\"blank level0\" ></th>        <th class=\"col_heading level0 col0\" >Metric</th>        <th class=\"col_heading level0 col1\" >final</th>    </tr></thead><tbody>\n",
       "                <tr>\n",
       "                        <th id=\"T_c62f7_level0_row0\" class=\"row_heading level0 row0\" >0</th>\n",
       "                        <td id=\"T_c62f7_row0_col0\" class=\"data row0 col0\" >precision</td>\n",
       "                        <td id=\"T_c62f7_row0_col1\" class=\"data row0 col1\" >0.121900</td>\n",
       "            </tr>\n",
       "            <tr>\n",
       "                        <th id=\"T_c62f7_level0_row1\" class=\"row_heading level0 row1\" >1</th>\n",
       "                        <td id=\"T_c62f7_row1_col0\" class=\"data row1 col0\" >recall</td>\n",
       "                        <td id=\"T_c62f7_row1_col1\" class=\"data row1 col1\" >0.714388</td>\n",
       "            </tr>\n",
       "            <tr>\n",
       "                        <th id=\"T_c62f7_level0_row2\" class=\"row_heading level0 row2\" >2</th>\n",
       "                        <td id=\"T_c62f7_row2_col0\" class=\"data row2 col0\" >f1</td>\n",
       "                        <td id=\"T_c62f7_row2_col1\" class=\"data row2 col1\" >0.208263</td>\n",
       "            </tr>\n",
       "    </tbody></table>"
      ],
      "text/plain": [
       "<pandas.io.formats.style.Styler at 0x22b00c95ca0>"
      ]
     },
     "execution_count": 261,
     "metadata": {},
     "output_type": "execute_result"
    }
   ],
   "source": [
    "table_mlp_final = pd.DataFrame(perf_mlp_final, columns = ['Metric', 'final'])\n",
    "table_mlp_final.style.set_table_attributes(\"style='display:inline'\").set_caption('MULTILAYER PERCEPTRON FINAL PERFORMANCES')"
   ]
  },
  {
   "cell_type": "code",
   "execution_count": 263,
   "id": "d19ae61e",
   "metadata": {},
   "outputs": [
    {
     "name": "stdout",
     "output_type": "stream",
     "text": [
      "1986 veri positivi\n",
      "139247 veri negativi\n",
      "14306 falsi positivi\n",
      "794 falsi negativi\n"
     ]
    }
   ],
   "source": [
    "print(\"{} veri positivi\".format(cm_mlp_final[1,1]))\n",
    "print(\"{} veri negativi\".format(cm_mlp_final[0,0]))\n",
    "print(\"{} falsi positivi\".format(cm_mlp_final[0,1]))\n",
    "print(\"{} falsi negativi\".format(cm_mlp_final[1,0]))"
   ]
  },
  {
   "cell_type": "markdown",
   "id": "8b7c9f8c",
   "metadata": {},
   "source": [
    "come possiamo vedere le predizioni finali rispecchiano le performance ottenute nella fase di validazione\n",
    "non sorpende la scasa performance in termini di precision data l'assenza di feature fortemente predittive e dato loo sbilanciamento dei dati relativi all'una e all'altra classe (morti ospedaliere e sopravvissuti)\n",
    "detto ciò anche sulle predizioni finali l'elevata performance in termini di recall viene mantenuta e ciò conferma l'adeguatezza del modello scelto per questo tipo di analisi"
   ]
  },
  {
   "cell_type": "code",
   "execution_count": null,
   "id": "558a186c",
   "metadata": {},
   "outputs": [],
   "source": []
  }
 ],
 "metadata": {
  "kernelspec": {
   "display_name": "Python 3",
   "language": "python",
   "name": "python3"
  },
  "language_info": {
   "codemirror_mode": {
    "name": "ipython",
    "version": 3
   },
   "file_extension": ".py",
   "mimetype": "text/x-python",
   "name": "python",
   "nbconvert_exporter": "python",
   "pygments_lexer": "ipython3",
   "version": "3.8.8"
  }
 },
 "nbformat": 4,
 "nbformat_minor": 5
}
