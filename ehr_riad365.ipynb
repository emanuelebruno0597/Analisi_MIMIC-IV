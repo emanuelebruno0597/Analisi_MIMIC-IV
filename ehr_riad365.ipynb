{
 "cells": [
  {
   "cell_type": "code",
   "execution_count": 1,
   "id": "1cfebcf6",
   "metadata": {},
   "outputs": [],
   "source": [
    "import numpy as np\n",
    "import matplotlib.pyplot as plt\n",
    "import pandas as pd\n",
    "import os\n",
    "import seaborn as sns\n",
    "import random\n",
    "\n",
    "import warnings\n",
    "warnings.filterwarnings('ignore')\n",
    "from tqdm import tqdm\n",
    "\n",
    "from sklearn.utils import resample                      # Fare splitting\n",
    "from sklearn.model_selection import validation_curve"
   ]
  },
  {
   "cell_type": "markdown",
   "id": "011add8f",
   "metadata": {},
   "source": [
    "# CLASSIFICAZIONE *RIADMISSION IN 365 DAYS*"
   ]
  },
  {
   "cell_type": "code",
   "execution_count": 3,
   "id": "040eac12",
   "metadata": {},
   "outputs": [],
   "source": [
    "df1 = pd.read_csv(\"df1.csv\")"
   ]
  },
  {
   "cell_type": "markdown",
   "id": "8da41310",
   "metadata": {},
   "source": [
    "dato che bisogna predire la riammissione entro 365 giorni, vado ad eliminare tutte le feature riguardanti\n",
    "riammissioni e e il campo della morte"
   ]
  },
  {
   "cell_type": "code",
   "execution_count": 4,
   "id": "902ea594",
   "metadata": {},
   "outputs": [],
   "source": [
    "remove_for_r365 = [\n",
    "'death',\n",
    "'riad 90d',\n",
    "'riad 30d', \n",
    "'riad +365d',\n",
    "]"
   ]
  },
  {
   "cell_type": "code",
   "execution_count": 5,
   "id": "d97de463",
   "metadata": {},
   "outputs": [
    {
     "data": {
      "text/plain": [
       "['death', 'riad 90d', 'riad 30d', 'riad +365d']"
      ]
     },
     "execution_count": 5,
     "metadata": {},
     "output_type": "execute_result"
    }
   ],
   "source": [
    "remove_for_r365"
   ]
  },
  {
   "cell_type": "code",
   "execution_count": 6,
   "id": "08505fb2",
   "metadata": {},
   "outputs": [],
   "source": [
    "df1.drop(remove_for_r365, axis=1, inplace=True)"
   ]
  },
  {
   "cell_type": "code",
   "execution_count": 7,
   "id": "c75772a9",
   "metadata": {},
   "outputs": [
    {
     "data": {
      "text/html": [
       "<div>\n",
       "<style scoped>\n",
       "    .dataframe tbody tr th:only-of-type {\n",
       "        vertical-align: middle;\n",
       "    }\n",
       "\n",
       "    .dataframe tbody tr th {\n",
       "        vertical-align: top;\n",
       "    }\n",
       "\n",
       "    .dataframe thead th {\n",
       "        text-align: right;\n",
       "    }\n",
       "</style>\n",
       "<table border=\"1\" class=\"dataframe\">\n",
       "  <thead>\n",
       "    <tr style=\"text-align: right;\">\n",
       "      <th></th>\n",
       "      <th>gender</th>\n",
       "      <th>age</th>\n",
       "      <th>riad 365d</th>\n",
       "      <th>icd_D_blood</th>\n",
       "      <th>icd_D_health_status</th>\n",
       "      <th>icd_D_pregnancy</th>\n",
       "      <th>icd_D_abnormal</th>\n",
       "      <th>icd_D_chromosomal</th>\n",
       "      <th>icd_D_infectious_parasitic</th>\n",
       "      <th>icd_D_musculoskeletal</th>\n",
       "      <th>...</th>\n",
       "      <th>ethn__BLACK/AFRICAN AMERICAN</th>\n",
       "      <th>ethn__HISPANIC/LATINO</th>\n",
       "      <th>ethn__OTHER</th>\n",
       "      <th>ethn__UNKNOWN</th>\n",
       "      <th>ethn__WHITE</th>\n",
       "      <th>ins__Medicare</th>\n",
       "      <th>ins__Other</th>\n",
       "      <th>maritalS__MARRIED</th>\n",
       "      <th>maritalS__SINGLE</th>\n",
       "      <th>maritalS__WIDOWED</th>\n",
       "    </tr>\n",
       "  </thead>\n",
       "  <tbody>\n",
       "    <tr>\n",
       "      <th>0</th>\n",
       "      <td>1</td>\n",
       "      <td>0</td>\n",
       "      <td>0</td>\n",
       "      <td>0.0</td>\n",
       "      <td>3.0</td>\n",
       "      <td>0.0</td>\n",
       "      <td>0.0</td>\n",
       "      <td>0.0</td>\n",
       "      <td>0.0</td>\n",
       "      <td>0.0</td>\n",
       "      <td>...</td>\n",
       "      <td>0</td>\n",
       "      <td>0</td>\n",
       "      <td>0</td>\n",
       "      <td>0</td>\n",
       "      <td>1</td>\n",
       "      <td>0</td>\n",
       "      <td>1</td>\n",
       "      <td>1</td>\n",
       "      <td>0</td>\n",
       "      <td>0</td>\n",
       "    </tr>\n",
       "    <tr>\n",
       "      <th>1</th>\n",
       "      <td>0</td>\n",
       "      <td>52</td>\n",
       "      <td>0</td>\n",
       "      <td>0.0</td>\n",
       "      <td>1.0</td>\n",
       "      <td>0.0</td>\n",
       "      <td>1.0</td>\n",
       "      <td>0.0</td>\n",
       "      <td>1.0</td>\n",
       "      <td>0.0</td>\n",
       "      <td>...</td>\n",
       "      <td>0</td>\n",
       "      <td>0</td>\n",
       "      <td>0</td>\n",
       "      <td>0</td>\n",
       "      <td>1</td>\n",
       "      <td>0</td>\n",
       "      <td>1</td>\n",
       "      <td>0</td>\n",
       "      <td>0</td>\n",
       "      <td>1</td>\n",
       "    </tr>\n",
       "    <tr>\n",
       "      <th>2</th>\n",
       "      <td>0</td>\n",
       "      <td>52</td>\n",
       "      <td>0</td>\n",
       "      <td>1.0</td>\n",
       "      <td>1.0</td>\n",
       "      <td>0.0</td>\n",
       "      <td>1.0</td>\n",
       "      <td>0.0</td>\n",
       "      <td>1.0</td>\n",
       "      <td>0.0</td>\n",
       "      <td>...</td>\n",
       "      <td>0</td>\n",
       "      <td>0</td>\n",
       "      <td>0</td>\n",
       "      <td>0</td>\n",
       "      <td>1</td>\n",
       "      <td>0</td>\n",
       "      <td>0</td>\n",
       "      <td>0</td>\n",
       "      <td>0</td>\n",
       "      <td>1</td>\n",
       "    </tr>\n",
       "    <tr>\n",
       "      <th>3</th>\n",
       "      <td>0</td>\n",
       "      <td>52</td>\n",
       "      <td>0</td>\n",
       "      <td>0.0</td>\n",
       "      <td>3.0</td>\n",
       "      <td>0.0</td>\n",
       "      <td>2.0</td>\n",
       "      <td>0.0</td>\n",
       "      <td>1.0</td>\n",
       "      <td>0.0</td>\n",
       "      <td>...</td>\n",
       "      <td>0</td>\n",
       "      <td>0</td>\n",
       "      <td>0</td>\n",
       "      <td>0</td>\n",
       "      <td>1</td>\n",
       "      <td>0</td>\n",
       "      <td>0</td>\n",
       "      <td>0</td>\n",
       "      <td>0</td>\n",
       "      <td>1</td>\n",
       "    </tr>\n",
       "    <tr>\n",
       "      <th>4</th>\n",
       "      <td>0</td>\n",
       "      <td>52</td>\n",
       "      <td>0</td>\n",
       "      <td>0.0</td>\n",
       "      <td>2.0</td>\n",
       "      <td>0.0</td>\n",
       "      <td>2.0</td>\n",
       "      <td>0.0</td>\n",
       "      <td>1.0</td>\n",
       "      <td>0.0</td>\n",
       "      <td>...</td>\n",
       "      <td>0</td>\n",
       "      <td>0</td>\n",
       "      <td>0</td>\n",
       "      <td>0</td>\n",
       "      <td>1</td>\n",
       "      <td>0</td>\n",
       "      <td>0</td>\n",
       "      <td>0</td>\n",
       "      <td>0</td>\n",
       "      <td>1</td>\n",
       "    </tr>\n",
       "    <tr>\n",
       "      <th>...</th>\n",
       "      <td>...</td>\n",
       "      <td>...</td>\n",
       "      <td>...</td>\n",
       "      <td>...</td>\n",
       "      <td>...</td>\n",
       "      <td>...</td>\n",
       "      <td>...</td>\n",
       "      <td>...</td>\n",
       "      <td>...</td>\n",
       "      <td>...</td>\n",
       "      <td>...</td>\n",
       "      <td>...</td>\n",
       "      <td>...</td>\n",
       "      <td>...</td>\n",
       "      <td>...</td>\n",
       "      <td>...</td>\n",
       "      <td>...</td>\n",
       "      <td>...</td>\n",
       "      <td>...</td>\n",
       "      <td>...</td>\n",
       "      <td>...</td>\n",
       "    </tr>\n",
       "    <tr>\n",
       "      <th>521105</th>\n",
       "      <td>0</td>\n",
       "      <td>46</td>\n",
       "      <td>0</td>\n",
       "      <td>1.0</td>\n",
       "      <td>4.0</td>\n",
       "      <td>0.0</td>\n",
       "      <td>0.0</td>\n",
       "      <td>0.0</td>\n",
       "      <td>1.0</td>\n",
       "      <td>2.0</td>\n",
       "      <td>...</td>\n",
       "      <td>0</td>\n",
       "      <td>0</td>\n",
       "      <td>0</td>\n",
       "      <td>0</td>\n",
       "      <td>1</td>\n",
       "      <td>0</td>\n",
       "      <td>1</td>\n",
       "      <td>0</td>\n",
       "      <td>1</td>\n",
       "      <td>0</td>\n",
       "    </tr>\n",
       "    <tr>\n",
       "      <th>521106</th>\n",
       "      <td>0</td>\n",
       "      <td>48</td>\n",
       "      <td>0</td>\n",
       "      <td>1.0</td>\n",
       "      <td>3.0</td>\n",
       "      <td>0.0</td>\n",
       "      <td>1.0</td>\n",
       "      <td>0.0</td>\n",
       "      <td>1.0</td>\n",
       "      <td>0.0</td>\n",
       "      <td>...</td>\n",
       "      <td>0</td>\n",
       "      <td>0</td>\n",
       "      <td>0</td>\n",
       "      <td>0</td>\n",
       "      <td>1</td>\n",
       "      <td>0</td>\n",
       "      <td>1</td>\n",
       "      <td>0</td>\n",
       "      <td>1</td>\n",
       "      <td>0</td>\n",
       "    </tr>\n",
       "    <tr>\n",
       "      <th>521107</th>\n",
       "      <td>1</td>\n",
       "      <td>58</td>\n",
       "      <td>0</td>\n",
       "      <td>0.0</td>\n",
       "      <td>0.0</td>\n",
       "      <td>0.0</td>\n",
       "      <td>0.0</td>\n",
       "      <td>0.0</td>\n",
       "      <td>0.0</td>\n",
       "      <td>0.0</td>\n",
       "      <td>...</td>\n",
       "      <td>0</td>\n",
       "      <td>0</td>\n",
       "      <td>0</td>\n",
       "      <td>0</td>\n",
       "      <td>1</td>\n",
       "      <td>0</td>\n",
       "      <td>1</td>\n",
       "      <td>0</td>\n",
       "      <td>0</td>\n",
       "      <td>1</td>\n",
       "    </tr>\n",
       "    <tr>\n",
       "      <th>521108</th>\n",
       "      <td>1</td>\n",
       "      <td>58</td>\n",
       "      <td>0</td>\n",
       "      <td>0.0</td>\n",
       "      <td>0.0</td>\n",
       "      <td>0.0</td>\n",
       "      <td>0.0</td>\n",
       "      <td>0.0</td>\n",
       "      <td>0.0</td>\n",
       "      <td>0.0</td>\n",
       "      <td>...</td>\n",
       "      <td>0</td>\n",
       "      <td>0</td>\n",
       "      <td>0</td>\n",
       "      <td>0</td>\n",
       "      <td>1</td>\n",
       "      <td>0</td>\n",
       "      <td>1</td>\n",
       "      <td>0</td>\n",
       "      <td>0</td>\n",
       "      <td>1</td>\n",
       "    </tr>\n",
       "    <tr>\n",
       "      <th>521109</th>\n",
       "      <td>0</td>\n",
       "      <td>57</td>\n",
       "      <td>0</td>\n",
       "      <td>0.0</td>\n",
       "      <td>0.0</td>\n",
       "      <td>0.0</td>\n",
       "      <td>2.0</td>\n",
       "      <td>0.0</td>\n",
       "      <td>1.0</td>\n",
       "      <td>0.0</td>\n",
       "      <td>...</td>\n",
       "      <td>0</td>\n",
       "      <td>0</td>\n",
       "      <td>0</td>\n",
       "      <td>1</td>\n",
       "      <td>0</td>\n",
       "      <td>0</td>\n",
       "      <td>1</td>\n",
       "      <td>1</td>\n",
       "      <td>0</td>\n",
       "      <td>0</td>\n",
       "    </tr>\n",
       "  </tbody>\n",
       "</table>\n",
       "<p>521110 rows × 70 columns</p>\n",
       "</div>"
      ],
      "text/plain": [
       "        gender  age  riad 365d  icd_D_blood  icd_D_health_status  \\\n",
       "0            1    0          0          0.0                  3.0   \n",
       "1            0   52          0          0.0                  1.0   \n",
       "2            0   52          0          1.0                  1.0   \n",
       "3            0   52          0          0.0                  3.0   \n",
       "4            0   52          0          0.0                  2.0   \n",
       "...        ...  ...        ...          ...                  ...   \n",
       "521105       0   46          0          1.0                  4.0   \n",
       "521106       0   48          0          1.0                  3.0   \n",
       "521107       1   58          0          0.0                  0.0   \n",
       "521108       1   58          0          0.0                  0.0   \n",
       "521109       0   57          0          0.0                  0.0   \n",
       "\n",
       "        icd_D_pregnancy  icd_D_abnormal  icd_D_chromosomal  \\\n",
       "0                   0.0             0.0                0.0   \n",
       "1                   0.0             1.0                0.0   \n",
       "2                   0.0             1.0                0.0   \n",
       "3                   0.0             2.0                0.0   \n",
       "4                   0.0             2.0                0.0   \n",
       "...                 ...             ...                ...   \n",
       "521105              0.0             0.0                0.0   \n",
       "521106              0.0             1.0                0.0   \n",
       "521107              0.0             0.0                0.0   \n",
       "521108              0.0             0.0                0.0   \n",
       "521109              0.0             2.0                0.0   \n",
       "\n",
       "        icd_D_infectious_parasitic  icd_D_musculoskeletal  ...  \\\n",
       "0                              0.0                    0.0  ...   \n",
       "1                              1.0                    0.0  ...   \n",
       "2                              1.0                    0.0  ...   \n",
       "3                              1.0                    0.0  ...   \n",
       "4                              1.0                    0.0  ...   \n",
       "...                            ...                    ...  ...   \n",
       "521105                         1.0                    2.0  ...   \n",
       "521106                         1.0                    0.0  ...   \n",
       "521107                         0.0                    0.0  ...   \n",
       "521108                         0.0                    0.0  ...   \n",
       "521109                         1.0                    0.0  ...   \n",
       "\n",
       "        ethn__BLACK/AFRICAN AMERICAN  ethn__HISPANIC/LATINO  ethn__OTHER  \\\n",
       "0                                  0                      0            0   \n",
       "1                                  0                      0            0   \n",
       "2                                  0                      0            0   \n",
       "3                                  0                      0            0   \n",
       "4                                  0                      0            0   \n",
       "...                              ...                    ...          ...   \n",
       "521105                             0                      0            0   \n",
       "521106                             0                      0            0   \n",
       "521107                             0                      0            0   \n",
       "521108                             0                      0            0   \n",
       "521109                             0                      0            0   \n",
       "\n",
       "        ethn__UNKNOWN  ethn__WHITE  ins__Medicare  ins__Other  \\\n",
       "0                   0            1              0           1   \n",
       "1                   0            1              0           1   \n",
       "2                   0            1              0           0   \n",
       "3                   0            1              0           0   \n",
       "4                   0            1              0           0   \n",
       "...               ...          ...            ...         ...   \n",
       "521105              0            1              0           1   \n",
       "521106              0            1              0           1   \n",
       "521107              0            1              0           1   \n",
       "521108              0            1              0           1   \n",
       "521109              1            0              0           1   \n",
       "\n",
       "        maritalS__MARRIED  maritalS__SINGLE  maritalS__WIDOWED  \n",
       "0                       1                 0                  0  \n",
       "1                       0                 0                  1  \n",
       "2                       0                 0                  1  \n",
       "3                       0                 0                  1  \n",
       "4                       0                 0                  1  \n",
       "...                   ...               ...                ...  \n",
       "521105                  0                 1                  0  \n",
       "521106                  0                 1                  0  \n",
       "521107                  0                 0                  1  \n",
       "521108                  0                 0                  1  \n",
       "521109                  1                 0                  0  \n",
       "\n",
       "[521110 rows x 70 columns]"
      ]
     },
     "execution_count": 7,
     "metadata": {},
     "output_type": "execute_result"
    }
   ],
   "source": [
    "df1"
   ]
  },
  {
   "cell_type": "markdown",
   "id": "88c35de7",
   "metadata": {},
   "source": [
    "## creo training set, validation set, test set"
   ]
  },
  {
   "cell_type": "code",
   "execution_count": 8,
   "id": "7fa88243",
   "metadata": {},
   "outputs": [],
   "source": [
    "train, validate, test = np.split(df1.sample(frac=1, random_state=42), [int(.6*len(df1)), int(.7*len(df1))])"
   ]
  },
  {
   "cell_type": "markdown",
   "id": "41429169",
   "metadata": {},
   "source": [
    "## separo le label dai predittori"
   ]
  },
  {
   "cell_type": "code",
   "execution_count": 9,
   "id": "933b6ae3",
   "metadata": {},
   "outputs": [],
   "source": [
    "X_train_r365 = train.drop([\"riad 365d\"], axis=1)"
   ]
  },
  {
   "cell_type": "code",
   "execution_count": 10,
   "id": "4fb1b6dd",
   "metadata": {},
   "outputs": [],
   "source": [
    "y_train_r365 = train[\"riad 365d\"]"
   ]
  },
  {
   "cell_type": "code",
   "execution_count": 11,
   "id": "2553a3d7",
   "metadata": {},
   "outputs": [],
   "source": [
    "X_validate_r365 = validate.drop([\"riad 365d\"], axis=1)"
   ]
  },
  {
   "cell_type": "code",
   "execution_count": 12,
   "id": "adb8ab45",
   "metadata": {},
   "outputs": [],
   "source": [
    "y_validate_r365 = validate[\"riad 365d\"]"
   ]
  },
  {
   "cell_type": "code",
   "execution_count": 13,
   "id": "ac903cdf",
   "metadata": {},
   "outputs": [],
   "source": [
    "X_test_r365 = test.drop([\"riad 365d\"], axis=1)"
   ]
  },
  {
   "cell_type": "code",
   "execution_count": 14,
   "id": "393108e5",
   "metadata": {},
   "outputs": [],
   "source": [
    "y_test_r365 = test[\"riad 365d\"]"
   ]
  },
  {
   "cell_type": "markdown",
   "id": "75d3fb55",
   "metadata": {},
   "source": [
    "controllo che la stratificazione in base alla label sia andata a buon fine:"
   ]
  },
  {
   "cell_type": "code",
   "execution_count": 15,
   "id": "0fd356f5",
   "metadata": {},
   "outputs": [
    {
     "name": "stdout",
     "output_type": "stream",
     "text": [
      "11.520920087249653 % di riammessi entro 365 giorni nel training set\n",
      "88.47907991275035 % di non riammessi entro 365 giorni nel training set\n",
      "\n",
      "11.414096831762969 % di riammessi entro 365 giorni nel validate set\n",
      "88.58590316823702 % non di riammessi entro 365 giorni nel validate set\n",
      "\n",
      "11.429448676862851 % di riammessi entro 365 giorni ospedaliere nel testing set\n",
      "88.57055132313715 % di non riammessi entro 365 giorni nel testing set\n"
     ]
    }
   ],
   "source": [
    "# proporzione di classi positive (death 1) nel training set\n",
    "tot_pos_train = len(y_train_r365[y_train_r365 == 1])\n",
    "prop_pos_train = tot_pos_train / len(y_train_r365) * 100\n",
    "\n",
    "print('{} % di riammessi entro 365 giorni nel training set'.format(prop_pos_train))\n",
    "print('{} % di non riammessi entro 365 giorni nel training set'.format(100 - prop_pos_train))\n",
    "\n",
    "print()\n",
    "\n",
    "# proporzione di classi negative (death 0) nel validate set\n",
    "tot_pos_validate = len(y_validate_r365[y_validate_r365 == 1])\n",
    "prop_pos_validate = tot_pos_validate / len(y_validate_r365) * 100\n",
    "\n",
    "print('{} % di riammessi entro 365 giorni nel validate set'.format(prop_pos_validate))\n",
    "print('{} % non di riammessi entro 365 giorni nel validate set'.format(100 - prop_pos_validate))\n",
    "\n",
    "print()\n",
    "\n",
    "# proporzione di classi negative (death 0) nel testing set\n",
    "tot_pos_test = len(y_test_r365[y_test_r365 == 1])\n",
    "prop_pos_test = tot_pos_test / len(y_test_r365) * 100\n",
    "\n",
    "print('{} % di riammessi entro 365 giorni ospedaliere nel testing set'.format(prop_pos_test))\n",
    "print('{} % di non riammessi entro 365 giorni nel testing set'.format(100 - prop_pos_test))"
   ]
  },
  {
   "cell_type": "markdown",
   "id": "7f78cd1e",
   "metadata": {},
   "source": [
    "### standardizzo le features che hanno diverse scale di valori"
   ]
  },
  {
   "cell_type": "code",
   "execution_count": 16,
   "id": "1b8e21c9",
   "metadata": {},
   "outputs": [
    {
     "data": {
      "text/plain": [
       "array([[-0.96512577, -0.75686884,  0.96630854, ..., -0.87579316,\n",
       "         1.20438887, -0.32124958],\n",
       "       [-0.96512577,  0.69621419, -0.51700569, ..., -0.87579316,\n",
       "         1.20438887, -0.32124958],\n",
       "       [ 1.03613439,  1.04036543, -0.51700569, ...,  1.14182211,\n",
       "        -0.83029661, -0.32124958],\n",
       "       ...,\n",
       "       [-0.96512577, -0.5656737 , -0.51700569, ...,  1.14182211,\n",
       "        -0.83029661, -0.32124958],\n",
       "       [ 1.03613439,  0.35206295, -0.51700569, ...,  1.14182211,\n",
       "        -0.83029661, -0.32124958],\n",
       "       [-0.96512577, -1.17749813,  2.44962278, ..., -0.87579316,\n",
       "         1.20438887, -0.32124958]])"
      ]
     },
     "execution_count": 16,
     "metadata": {},
     "output_type": "execute_result"
    }
   ],
   "source": [
    "from sklearn.preprocessing import StandardScaler\n",
    "\n",
    "scaler = StandardScaler()\n",
    "X_train_r365_scaled = scaler.fit_transform(X_train_r365)  # fitting and transforming training set\n",
    "X_train_r365_scaled"
   ]
  },
  {
   "cell_type": "markdown",
   "id": "ae82a4f9",
   "metadata": {},
   "source": [
    "## Modelli di classificazione"
   ]
  },
  {
   "cell_type": "code",
   "execution_count": 17,
   "id": "6574cf74",
   "metadata": {},
   "outputs": [],
   "source": [
    "from sklearn.linear_model import SGDClassifier\n",
    "from sklearn.ensemble import RandomForestClassifier\n",
    "from sklearn.naive_bayes import GaussianNB\n",
    "from sklearn.tree import DecisionTreeClassifier\n",
    "from sklearn.linear_model import LogisticRegression\n",
    "from sklearn.svm import SVC"
   ]
  },
  {
   "cell_type": "code",
   "execution_count": 18,
   "id": "1ed4539d",
   "metadata": {},
   "outputs": [],
   "source": [
    "models = [SGDClassifier, DecisionTreeClassifier, RandomForestClassifier, LogisticRegression]\n",
    "names = ['SGD Classifier', 'Decision Tree Classifier', 'RandomForestClassifier', 'Logistic Regressor']"
   ]
  },
  {
   "cell_type": "code",
   "execution_count": 19,
   "id": "f309104f",
   "metadata": {},
   "outputs": [
    {
     "name": "stdout",
     "output_type": "stream",
     "text": [
      "accuracy of SGD Classifier:  0.8847907991275035\n",
      "accuracy of Decision Tree Classifier:  0.9978539399870788\n",
      "accuracy of RandomForestClassifier:  0.997834750180704\n",
      "accuracy of Logistic Regressor:  0.8847907991275035\n"
     ]
    }
   ],
   "source": [
    "from sklearn.metrics import accuracy_score\n",
    "\n",
    "for i in range(len(models)):\n",
    "    model = models[i](random_state=42)  # inizializzo il modello qui (non ancora addestrato)\n",
    "    name = names[i] \n",
    "    model.fit(X_train_r365_scaled, y_train_r365) # qui addestro il modello sui dati\n",
    "    y_pred_r365 = model.predict(X_train_r365_scaled)\n",
    "    print(f'accuracy of {name}: ',accuracy_score(y_pred_r365, y_train_r365))"
   ]
  },
  {
   "cell_type": "markdown",
   "id": "04fa1307",
   "metadata": {},
   "source": [
    "anche nella predizione delle riammissioni entro 365 giorni otteniamo apparentemente delle prestazioni elevate ma siamo sempre di fronte  aun dataset sbilanciato"
   ]
  },
  {
   "cell_type": "markdown",
   "id": "3b0f66c0",
   "metadata": {},
   "source": [
    "## cross validation"
   ]
  },
  {
   "cell_type": "code",
   "execution_count": 20,
   "id": "3f7f8571",
   "metadata": {},
   "outputs": [
    {
     "name": "stdout",
     "output_type": "stream",
     "text": [
      "accuracy of SGD Classifier:  0.8847907991275035\n",
      "accuracy of Decision Tree Classifier:  0.7947330378103151\n",
      "accuracy of RandomForestClassifier:  0.882689515329457\n",
      "accuracy of Logistic Regressor:  0.8847907991275035\n"
     ]
    }
   ],
   "source": [
    "from sklearn.metrics import accuracy_score\n",
    "from sklearn.model_selection import cross_val_score\n",
    "\n",
    "\n",
    "names_cv = ['sgd_cv', 'dt_cv', 'rf_cv', 'lr_cv']\n",
    "\n",
    "for i in range(len(models)):\n",
    "    avg_acc_models = []\n",
    "    model = models[i](random_state=42)  # inizializzo il modello qui (non ancora addestrato)\n",
    "    name = names[i] \n",
    "    acc_model = cross_val_score(model, X_train_r365_scaled, y_train_r365, cv=3, scoring='accuracy')\n",
    "    avg_acc_model = acc_model.mean()\n",
    "    avg_acc_models.append(avg_acc_model)\n",
    "    print(f'accuracy of {name}: ', avg_acc_model)"
   ]
  },
  {
   "cell_type": "markdown",
   "id": "e24e288e",
   "metadata": {},
   "source": [
    "## analisi sui singoli modelli: SGD, DT, RF, LR\n",
    "procedo ad analizzarli uno per uno esaminando le predizioni fatte tramite cross validation\\\n",
    "questa volta utilizzo *5-fold cross validation* per ogni modello"
   ]
  },
  {
   "cell_type": "code",
   "execution_count": 21,
   "id": "88bb1b1a",
   "metadata": {},
   "outputs": [],
   "source": [
    "from sklearn.model_selection import cross_val_predict\n",
    "from sklearn.metrics import accuracy_score\n",
    "from sklearn.metrics import confusion_matrix\n",
    "from sklearn.metrics import precision_score, recall_score, f1_score"
   ]
  },
  {
   "cell_type": "markdown",
   "id": "f8991d06",
   "metadata": {},
   "source": [
    "### analisi specifica su SGD Classifier"
   ]
  },
  {
   "cell_type": "code",
   "execution_count": 22,
   "id": "73cc4379",
   "metadata": {},
   "outputs": [],
   "source": [
    "sgd_cv = SGDClassifier(random_state=42)\n",
    "y_pred_sgd_cv = cross_val_predict(sgd_cv, X_train_r365_scaled, y_train_r365, cv=5)\n",
    "score_sgd_cv = accuracy_score(y_train_r365, y_pred_sgd_cv)"
   ]
  },
  {
   "cell_type": "code",
   "execution_count": 23,
   "id": "ef70d363",
   "metadata": {},
   "outputs": [
    {
     "data": {
      "text/plain": [
       "0"
      ]
     },
     "execution_count": 23,
     "metadata": {},
     "output_type": "execute_result"
    }
   ],
   "source": [
    "list(y_pred_sgd_cv).count(1)  # numero di predizioni di riammissioni entro 365 giorni"
   ]
  },
  {
   "cell_type": "code",
   "execution_count": 24,
   "id": "c4ca9430",
   "metadata": {},
   "outputs": [
    {
     "data": {
      "text/plain": [
       "0.8847907991275035"
      ]
     },
     "execution_count": 24,
     "metadata": {},
     "output_type": "execute_result"
    }
   ],
   "source": [
    "score_sgd_cv"
   ]
  },
  {
   "cell_type": "markdown",
   "id": "50bb88ab",
   "metadata": {},
   "source": [
    "### confusion matrix SGD"
   ]
  },
  {
   "cell_type": "code",
   "execution_count": 25,
   "id": "15848a79",
   "metadata": {},
   "outputs": [
    {
     "data": {
      "text/plain": [
       "array([[276644,      0],\n",
       "       [ 36022,      0]], dtype=int64)"
      ]
     },
     "execution_count": 25,
     "metadata": {},
     "output_type": "execute_result"
    }
   ],
   "source": [
    "cm_r365_sgd = confusion_matrix(y_train_r365, y_pred_sgd_cv)\n",
    "cm_r365_sgd"
   ]
  },
  {
   "cell_type": "code",
   "execution_count": 26,
   "id": "e0c1304d",
   "metadata": {},
   "outputs": [
    {
     "name": "stdout",
     "output_type": "stream",
     "text": [
      "PREDIZIONI STOCHASTIC GRADIENT DESCENT CON CROSS VALIDATION\n",
      "0 veri positivi\n",
      "276644 veri negativi\n",
      "0 falsi positivi\n",
      "36022 falsi negativi\n"
     ]
    }
   ],
   "source": [
    "print(\"PREDIZIONI STOCHASTIC GRADIENT DESCENT CON CROSS VALIDATION\")\n",
    "print(\"{} veri positivi\".format(cm_r365_sgd[1,1]))\n",
    "print(\"{} veri negativi\".format(cm_r365_sgd[0,0]))\n",
    "print(\"{} falsi positivi\".format(cm_r365_sgd[0,1]))\n",
    "print(\"{} falsi negativi\".format(cm_r365_sgd[1,0]))"
   ]
  },
  {
   "cell_type": "code",
   "execution_count": 27,
   "id": "604919b3",
   "metadata": {},
   "outputs": [],
   "source": [
    "ps_sgd = precision_score(y_train_r365, y_pred_sgd_cv)\n",
    "rs_sgd = recall_score(y_train_r365, y_pred_sgd_cv)\n",
    "f1_sgd = f1_score(y_train_r365, y_pred_sgd_cv)"
   ]
  },
  {
   "cell_type": "markdown",
   "id": "4ac3b9aa",
   "metadata": {},
   "source": [
    "### analisi più specifica sul Random Forest Classifier"
   ]
  },
  {
   "cell_type": "code",
   "execution_count": 28,
   "id": "b7314950",
   "metadata": {},
   "outputs": [],
   "source": [
    " rf_cv = RandomForestClassifier(random_state=42)\n",
    " y_pred_rf_cv = cross_val_predict(rf_cv, X_train_r365_scaled, y_train_r365, cv=5)\n",
    " score_rf_cv = accuracy_score(y_train_r365, y_pred_rf_cv)"
   ]
  },
  {
   "cell_type": "code",
   "execution_count": 29,
   "id": "2b68f33d",
   "metadata": {},
   "outputs": [
    {
     "data": {
      "text/plain": [
       "986"
      ]
     },
     "execution_count": 29,
     "metadata": {},
     "output_type": "execute_result"
    }
   ],
   "source": [
    " list(y_pred_rf_cv).count(1)  # numero di predizioni di morti ospedaliere"
   ]
  },
  {
   "cell_type": "code",
   "execution_count": 30,
   "id": "5325fe6d",
   "metadata": {},
   "outputs": [
    {
     "data": {
      "text/plain": [
       "0.882488022362521"
      ]
     },
     "execution_count": 30,
     "metadata": {},
     "output_type": "execute_result"
    }
   ],
   "source": [
    " score_rf_cv"
   ]
  },
  {
   "cell_type": "markdown",
   "id": "e957acbe",
   "metadata": {},
   "source": [
    "### confusion matrix RF"
   ]
  },
  {
   "cell_type": "code",
   "execution_count": 31,
   "id": "94cdcfea",
   "metadata": {},
   "outputs": [
    {
     "data": {
      "text/plain": [
       "array([[275791,    853],\n",
       "       [ 35889,    133]], dtype=int64)"
      ]
     },
     "execution_count": 31,
     "metadata": {},
     "output_type": "execute_result"
    }
   ],
   "source": [
    " cm_r365_rf = confusion_matrix(y_train_r365, y_pred_rf_cv)\n",
    " cm_r365_rf"
   ]
  },
  {
   "cell_type": "code",
   "execution_count": 32,
   "id": "9ee3d1d0",
   "metadata": {},
   "outputs": [
    {
     "name": "stdout",
     "output_type": "stream",
     "text": [
      "PREDIZIONI RANDOM FOREST CLASSIFIER CON CROSS VALIDATION\n",
      "133 veri positivi\n",
      "275791 veri negativi\n",
      "853 falsi positivi\n",
      "35889 falsi negativi\n"
     ]
    }
   ],
   "source": [
    " print(\"PREDIZIONI RANDOM FOREST CLASSIFIER CON CROSS VALIDATION\")\n",
    " print(\"{} veri positivi\".format(cm_r365_rf[1,1]))\n",
    " print(\"{} veri negativi\".format(cm_r365_rf[0,0]))\n",
    " print(\"{} falsi positivi\".format(cm_r365_rf[0,1]))\n",
    " print(\"{} falsi negativi\".format(cm_r365_rf[1,0]))"
   ]
  },
  {
   "cell_type": "code",
   "execution_count": 33,
   "id": "08f777e3",
   "metadata": {},
   "outputs": [],
   "source": [
    "ps_rf = precision_score(y_train_r365, y_pred_rf_cv)\n",
    "rs_rf = recall_score(y_train_r365, y_pred_rf_cv)\n",
    "f1_rf = f1_score(y_train_r365, y_pred_rf_cv)"
   ]
  },
  {
   "cell_type": "markdown",
   "id": "3420841a",
   "metadata": {},
   "source": [
    "Rispetto al Stochastic gradient Descent, il Random Forest predice piu riammissioni, ma comunque\n",
    "molto poche"
   ]
  },
  {
   "cell_type": "markdown",
   "id": "8ac29759",
   "metadata": {},
   "source": [
    "### analisi più specifica sul Logistic Regressor"
   ]
  },
  {
   "cell_type": "code",
   "execution_count": 34,
   "id": "66362c7d",
   "metadata": {},
   "outputs": [],
   "source": [
    "lr_cv = LogisticRegression(random_state=42)\n",
    "y_pred_lr_cv = cross_val_predict(lr_cv, X_train_r365_scaled, y_train_r365, cv=5)\n",
    "score_lr_cv = accuracy_score(y_train_r365, y_pred_lr_cv)"
   ]
  },
  {
   "cell_type": "code",
   "execution_count": 35,
   "id": "fb0beeab",
   "metadata": {},
   "outputs": [
    {
     "data": {
      "text/plain": [
       "0"
      ]
     },
     "execution_count": 35,
     "metadata": {},
     "output_type": "execute_result"
    }
   ],
   "source": [
    "list(y_pred_lr_cv).count(1)  # numero di predizioni di morti ospedaliere"
   ]
  },
  {
   "cell_type": "code",
   "execution_count": 36,
   "id": "695929c8",
   "metadata": {},
   "outputs": [
    {
     "data": {
      "text/plain": [
       "0.8847907991275035"
      ]
     },
     "execution_count": 36,
     "metadata": {},
     "output_type": "execute_result"
    }
   ],
   "source": [
    "score_lr_cv"
   ]
  },
  {
   "cell_type": "markdown",
   "id": "42f716d7",
   "metadata": {},
   "source": [
    "### confusion matrix LR"
   ]
  },
  {
   "cell_type": "code",
   "execution_count": 37,
   "id": "3912a473",
   "metadata": {},
   "outputs": [
    {
     "data": {
      "text/plain": [
       "array([[276644,      0],\n",
       "       [ 36022,      0]], dtype=int64)"
      ]
     },
     "execution_count": 37,
     "metadata": {},
     "output_type": "execute_result"
    }
   ],
   "source": [
    "cm_r365_lr = confusion_matrix(y_train_r365, y_pred_lr_cv)\n",
    "cm_r365_lr"
   ]
  },
  {
   "cell_type": "code",
   "execution_count": 38,
   "id": "4e4064dc",
   "metadata": {},
   "outputs": [
    {
     "name": "stdout",
     "output_type": "stream",
     "text": [
      "PREDIZIONI LOGISTIC REGRESSOR CON CROSS VALIDATION\n",
      "0 veri positivi\n",
      "276644 veri negativi\n",
      "0 falsi positivi\n",
      "36022 falsi negativi\n"
     ]
    }
   ],
   "source": [
    "print(\"PREDIZIONI LOGISTIC REGRESSOR CON CROSS VALIDATION\")\n",
    "print(\"{} veri positivi\".format(cm_r365_lr[1,1]))\n",
    "print(\"{} veri negativi\".format(cm_r365_lr[0,0]))\n",
    "print(\"{} falsi positivi\".format(cm_r365_lr[0,1]))\n",
    "print(\"{} falsi negativi\".format(cm_r365_lr[1,0]))"
   ]
  },
  {
   "cell_type": "code",
   "execution_count": 39,
   "id": "6b380a0c",
   "metadata": {},
   "outputs": [
    {
     "name": "stdout",
     "output_type": "stream",
     "text": [
      "precision score is 0.0\n",
      "recall score is 0.0\n",
      "f1 score is 0.0\n"
     ]
    }
   ],
   "source": [
    "ps_lr = precision_score(y_train_r365, y_pred_lr_cv)\n",
    "rs_lr = recall_score(y_train_r365, y_pred_lr_cv)\n",
    "f1_lr = f1_score(y_train_r365, y_pred_lr_cv)\n",
    "print('precision score is {}'.format(ps_lr))\n",
    "print('recall score is {}'.format(rs_lr))\n",
    "print('f1 score is {}'.format(f1_lr))"
   ]
  },
  {
   "cell_type": "markdown",
   "id": "11d0da12",
   "metadata": {},
   "source": [
    "### precision, recall, f1 del Logistic Regressor"
   ]
  },
  {
   "cell_type": "code",
   "execution_count": 40,
   "id": "574b6593",
   "metadata": {},
   "outputs": [
    {
     "name": "stdout",
     "output_type": "stream",
     "text": [
      "precision score is 0.0\n",
      "recall score is 0.0\n",
      "f1 score is 0.0\n"
     ]
    }
   ],
   "source": [
    "ps_lr = precision_score(y_train_r365, y_pred_lr_cv)\n",
    "rs_lr = recall_score(y_train_r365, y_pred_lr_cv)\n",
    "f1_lr = f1_score(y_train_r365, y_pred_lr_cv)\n",
    "print('precision score is {}'.format(ps_lr))\n",
    "print('recall score is {}'.format(rs_lr))\n",
    "print('f1 score is {}'.format(f1_lr))"
   ]
  },
  {
   "cell_type": "markdown",
   "id": "11ec8e85",
   "metadata": {},
   "source": [
    "### analisi più specifica sul Decision Tree"
   ]
  },
  {
   "cell_type": "code",
   "execution_count": 41,
   "id": "1d527d72",
   "metadata": {},
   "outputs": [],
   "source": [
    "dt_cv = DecisionTreeClassifier(random_state=42)\n",
    "y_pred_dt_cv = cross_val_predict(dt_cv, X_train_r365_scaled, y_train_r365, cv=5)\n",
    "score_dt_cv = accuracy_score(y_train_r365, y_pred_dt_cv)"
   ]
  },
  {
   "cell_type": "code",
   "execution_count": 42,
   "id": "7d0abe03",
   "metadata": {},
   "outputs": [
    {
     "data": {
      "text/plain": [
       "0.7964409305776772"
      ]
     },
     "execution_count": 42,
     "metadata": {},
     "output_type": "execute_result"
    }
   ],
   "source": [
    "score_dt_cv"
   ]
  },
  {
   "cell_type": "markdown",
   "id": "92869336",
   "metadata": {},
   "source": [
    "### confusion matrix DT"
   ]
  },
  {
   "cell_type": "code",
   "execution_count": 43,
   "id": "9a082465",
   "metadata": {},
   "outputs": [
    {
     "data": {
      "text/plain": [
       "array([[242447,  34197],\n",
       "       [ 29449,   6573]], dtype=int64)"
      ]
     },
     "execution_count": 43,
     "metadata": {},
     "output_type": "execute_result"
    }
   ],
   "source": [
    "cm_r365_dt = confusion_matrix(y_train_r365, y_pred_dt_cv)\n",
    "cm_r365_dt"
   ]
  },
  {
   "cell_type": "code",
   "execution_count": 44,
   "id": "de7206a4",
   "metadata": {},
   "outputs": [
    {
     "name": "stdout",
     "output_type": "stream",
     "text": [
      "PREDIZIONI DECISION TREE CON CROSS VALIDATION\n",
      "6573 veri positivi\n",
      "242447 veri negativi\n",
      "34197 falsi positivi\n",
      "29449 falsi negativi\n"
     ]
    }
   ],
   "source": [
    "print(\"PREDIZIONI DECISION TREE CON CROSS VALIDATION\")\n",
    "print(\"{} veri positivi\".format(cm_r365_dt[1,1]))\n",
    "print(\"{} veri negativi\".format(cm_r365_dt[0,0]))\n",
    "print(\"{} falsi positivi\".format(cm_r365_dt[0,1]))\n",
    "print(\"{} falsi negativi\".format(cm_r365_dt[1,0]))"
   ]
  },
  {
   "cell_type": "markdown",
   "id": "1f0ee831",
   "metadata": {},
   "source": [
    "### precision, recall, f1 del Decision Tree"
   ]
  },
  {
   "cell_type": "code",
   "execution_count": 45,
   "id": "b70c9f06",
   "metadata": {},
   "outputs": [
    {
     "name": "stdout",
     "output_type": "stream",
     "text": [
      "precision score is 0.1612214863870493\n",
      "recall score is 0.18247182277497084\n",
      "f1 score is 0.17118970726117305\n"
     ]
    }
   ],
   "source": [
    "ps_dt = precision_score(y_train_r365, y_pred_dt_cv)\n",
    "rs_dt = recall_score(y_train_r365, y_pred_dt_cv)\n",
    "f1_dt = f1_score(y_train_r365, y_pred_dt_cv)\n",
    "print('precision score is {}'.format(ps_dt))\n",
    "print('recall score is {}'.format(rs_dt))\n",
    "print('f1 score is {}'.format(f1_dt))"
   ]
  },
  {
   "cell_type": "markdown",
   "id": "b5ba26b0",
   "metadata": {},
   "source": [
    "# Commenti post crossvalidation\n",
    "\n",
    "il dataset è sempre sbilanciato e i valori di precision, recall e f1 score sono sempre molto bassi, effettuiamo nuovamente l'oversampling per vedere se aumentano anche in questo caso"
   ]
  },
  {
   "cell_type": "markdown",
   "id": "154c9648",
   "metadata": {},
   "source": [
    "## OVERSAMPLING"
   ]
  },
  {
   "cell_type": "code",
   "execution_count": 46,
   "id": "d7e58755",
   "metadata": {},
   "outputs": [],
   "source": [
    "from imblearn.over_sampling import SMOTE"
   ]
  },
  {
   "cell_type": "code",
   "execution_count": 47,
   "id": "27e94fc3",
   "metadata": {},
   "outputs": [],
   "source": [
    "eq = SMOTE()\n",
    "X_train_r365_ov, y_train_r365_ov = eq.fit_resample(X_train_r365_scaled, y_train_r365.ravel())  # reshape 1D flatten"
   ]
  },
  {
   "cell_type": "markdown",
   "id": "832df412",
   "metadata": {},
   "source": [
    "### risultati oversampling"
   ]
  },
  {
   "cell_type": "code",
   "execution_count": 48,
   "id": "1666a887",
   "metadata": {},
   "outputs": [
    {
     "data": {
      "text/plain": [
       "553288"
      ]
     },
     "execution_count": 48,
     "metadata": {},
     "output_type": "execute_result"
    }
   ],
   "source": [
    "len(X_train_r365_ov)  # nuova lunghezza del dataset"
   ]
  },
  {
   "cell_type": "code",
   "execution_count": 49,
   "id": "1ad3f013",
   "metadata": {},
   "outputs": [
    {
     "data": {
      "text/plain": [
       "36022"
      ]
     },
     "execution_count": 49,
     "metadata": {},
     "output_type": "execute_result"
    }
   ],
   "source": [
    "list(y_train_r365).count(1) # numero di morti ospedaliere PRIMA dell'oversampling"
   ]
  },
  {
   "cell_type": "code",
   "execution_count": 50,
   "id": "12b048c7",
   "metadata": {},
   "outputs": [
    {
     "data": {
      "text/plain": [
       "276644"
      ]
     },
     "execution_count": 50,
     "metadata": {},
     "output_type": "execute_result"
    }
   ],
   "source": [
    "list(y_train_r365_ov).count(1) # numero di morti ospedaliere DOPO l'oversampling"
   ]
  },
  {
   "cell_type": "code",
   "execution_count": 51,
   "id": "185ea456",
   "metadata": {},
   "outputs": [
    {
     "data": {
      "text/plain": [
       "276644"
      ]
     },
     "execution_count": 51,
     "metadata": {},
     "output_type": "execute_result"
    }
   ],
   "source": [
    "list(y_train_r365).count(0) # numero di sopravvissuti PRIMA dell'oversampling"
   ]
  },
  {
   "cell_type": "code",
   "execution_count": 52,
   "id": "d1d00245",
   "metadata": {},
   "outputs": [
    {
     "data": {
      "text/plain": [
       "276644"
      ]
     },
     "execution_count": 52,
     "metadata": {},
     "output_type": "execute_result"
    }
   ],
   "source": [
    "list(y_train_r365_ov).count(0) # numero di sopravvissuti DOPO l'oversampling"
   ]
  },
  {
   "cell_type": "markdown",
   "id": "bad9b188",
   "metadata": {},
   "source": [
    "## Nuove Predizioni POST oversampling"
   ]
  },
  {
   "cell_type": "markdown",
   "id": "a96019f9",
   "metadata": {},
   "source": [
    "### Decision Tree"
   ]
  },
  {
   "cell_type": "code",
   "execution_count": 53,
   "id": "bfa728a6",
   "metadata": {},
   "outputs": [],
   "source": [
    "dt = DecisionTreeClassifier(random_state=42)"
   ]
  },
  {
   "cell_type": "code",
   "execution_count": 54,
   "id": "2b6d74f0",
   "metadata": {},
   "outputs": [],
   "source": [
    "y_pred_dt_cv_ov = cross_val_predict(dt, X_train_r365_ov, y_train_r365_ov, cv=3)\n",
    "score_dt_ov = accuracy_score(y_train_r365_ov, y_pred_dt_cv_ov)"
   ]
  },
  {
   "cell_type": "code",
   "execution_count": 55,
   "id": "d00281fd",
   "metadata": {},
   "outputs": [
    {
     "data": {
      "text/plain": [
       "0.8735685574239818"
      ]
     },
     "execution_count": 55,
     "metadata": {},
     "output_type": "execute_result"
    }
   ],
   "source": [
    "score_dt_ov"
   ]
  },
  {
   "cell_type": "code",
   "execution_count": 56,
   "id": "e870b8c4",
   "metadata": {},
   "outputs": [],
   "source": [
    "cm_dt_ov = confusion_matrix(y_train_r365_ov, y_pred_dt_cv_ov)\n",
    "ps_dt_ov = precision_score(y_train_r365_ov, y_pred_dt_cv_ov)\n",
    "rs_dt_ov = recall_score(y_train_r365_ov, y_pred_dt_cv_ov)\n",
    "f1_dt_ov = f1_score(y_train_r365_ov, y_pred_dt_cv_ov)"
   ]
  },
  {
   "cell_type": "code",
   "execution_count": 57,
   "id": "f5e57c1a",
   "metadata": {},
   "outputs": [],
   "source": [
    "perf_dt = {'Metric': ['precision','recall','f1'],\n",
    "        'pre-oversampling': [ps_dt,rs_dt,f1_dt],\n",
    "        'post-oversampling': [ps_dt_ov, rs_dt_ov, f1_dt_ov]\n",
    "        }"
   ]
  },
  {
   "cell_type": "code",
   "execution_count": 58,
   "id": "31986756",
   "metadata": {},
   "outputs": [
    {
     "data": {
      "text/html": [
       "<style  type=\"text/css\" >\n",
       "</style><table id=\"T_e787e_\" style='display:inline'><caption>DECISION TREE PERFORMANCES</caption><thead>    <tr>        <th class=\"blank level0\" ></th>        <th class=\"col_heading level0 col0\" >Metric</th>        <th class=\"col_heading level0 col1\" >pre-oversampling</th>        <th class=\"col_heading level0 col2\" >post-oversampling</th>    </tr></thead><tbody>\n",
       "                <tr>\n",
       "                        <th id=\"T_e787e_level0_row0\" class=\"row_heading level0 row0\" >0</th>\n",
       "                        <td id=\"T_e787e_row0_col0\" class=\"data row0 col0\" >precision</td>\n",
       "                        <td id=\"T_e787e_row0_col1\" class=\"data row0 col1\" >0.161221</td>\n",
       "                        <td id=\"T_e787e_row0_col2\" class=\"data row0 col2\" >0.879529</td>\n",
       "            </tr>\n",
       "            <tr>\n",
       "                        <th id=\"T_e787e_level0_row1\" class=\"row_heading level0 row1\" >1</th>\n",
       "                        <td id=\"T_e787e_row1_col0\" class=\"data row1 col0\" >recall</td>\n",
       "                        <td id=\"T_e787e_row1_col1\" class=\"data row1 col1\" >0.182472</td>\n",
       "                        <td id=\"T_e787e_row1_col2\" class=\"data row1 col2\" >0.865716</td>\n",
       "            </tr>\n",
       "            <tr>\n",
       "                        <th id=\"T_e787e_level0_row2\" class=\"row_heading level0 row2\" >2</th>\n",
       "                        <td id=\"T_e787e_row2_col0\" class=\"data row2 col0\" >f1</td>\n",
       "                        <td id=\"T_e787e_row2_col1\" class=\"data row2 col1\" >0.171190</td>\n",
       "                        <td id=\"T_e787e_row2_col2\" class=\"data row2 col2\" >0.872568</td>\n",
       "            </tr>\n",
       "    </tbody></table>"
      ],
      "text/plain": [
       "<pandas.io.formats.style.Styler at 0x1bb16754700>"
      ]
     },
     "execution_count": 58,
     "metadata": {},
     "output_type": "execute_result"
    }
   ],
   "source": [
    "table_dt = pd.DataFrame(perf_dt, columns = ['Metric', 'pre-oversampling', 'post-oversampling'])\n",
    "table_dt.style.set_table_attributes(\"style='display:inline'\").set_caption('DECISION TREE PERFORMANCES')"
   ]
  },
  {
   "cell_type": "markdown",
   "id": "5689213c",
   "metadata": {},
   "source": [
    "### Logistic Regressor"
   ]
  },
  {
   "cell_type": "code",
   "execution_count": 59,
   "id": "4fcafadf",
   "metadata": {},
   "outputs": [],
   "source": [
    "lr = LogisticRegression(random_state=42)"
   ]
  },
  {
   "cell_type": "code",
   "execution_count": 60,
   "id": "e5a134fd",
   "metadata": {},
   "outputs": [],
   "source": [
    "y_pred_lr_cv_ov = cross_val_predict(lr, X_train_r365_ov, y_train_r365_ov, cv=3)\n",
    "score_lr_ov = accuracy_score(y_train_r365_ov, y_pred_lr_cv_ov)"
   ]
  },
  {
   "cell_type": "code",
   "execution_count": 61,
   "id": "9e9c084c",
   "metadata": {},
   "outputs": [
    {
     "data": {
      "text/plain": [
       "0.631286057170949"
      ]
     },
     "execution_count": 61,
     "metadata": {},
     "output_type": "execute_result"
    }
   ],
   "source": [
    "score_lr_ov"
   ]
  },
  {
   "cell_type": "code",
   "execution_count": 62,
   "id": "073d16b5",
   "metadata": {},
   "outputs": [],
   "source": [
    "cm_lr_ov = confusion_matrix(y_train_r365_ov, y_pred_lr_cv_ov)\n",
    "ps_lr_ov = precision_score(y_train_r365_ov, y_pred_lr_cv_ov)\n",
    "rs_lr_ov = recall_score(y_train_r365_ov, y_pred_lr_cv_ov)\n",
    "f1_lr_ov = f1_score(y_train_r365_ov, y_pred_lr_cv_ov)"
   ]
  },
  {
   "cell_type": "code",
   "execution_count": 63,
   "id": "82784db4",
   "metadata": {},
   "outputs": [],
   "source": [
    "perf_lr = {'Metric': ['precision','recall','f1'],\n",
    "        'pre-oversampling': [ps_lr,rs_lr,f1_lr],\n",
    "        'post-oversampling': [ps_lr_ov, rs_lr_ov, f1_lr_ov]\n",
    "        }"
   ]
  },
  {
   "cell_type": "code",
   "execution_count": 64,
   "id": "94e4b3e9",
   "metadata": {},
   "outputs": [
    {
     "data": {
      "text/html": [
       "<style  type=\"text/css\" >\n",
       "</style><table id=\"T_e603f_\" style='display:inline'><caption>LOGISTIC REGRESSION PERFORMANCES</caption><thead>    <tr>        <th class=\"blank level0\" ></th>        <th class=\"col_heading level0 col0\" >Metric</th>        <th class=\"col_heading level0 col1\" >pre-oversampling</th>        <th class=\"col_heading level0 col2\" >post-oversampling</th>    </tr></thead><tbody>\n",
       "                <tr>\n",
       "                        <th id=\"T_e603f_level0_row0\" class=\"row_heading level0 row0\" >0</th>\n",
       "                        <td id=\"T_e603f_row0_col0\" class=\"data row0 col0\" >precision</td>\n",
       "                        <td id=\"T_e603f_row0_col1\" class=\"data row0 col1\" >0.000000</td>\n",
       "                        <td id=\"T_e603f_row0_col2\" class=\"data row0 col2\" >0.603002</td>\n",
       "            </tr>\n",
       "            <tr>\n",
       "                        <th id=\"T_e603f_level0_row1\" class=\"row_heading level0 row1\" >1</th>\n",
       "                        <td id=\"T_e603f_row1_col0\" class=\"data row1 col0\" >recall</td>\n",
       "                        <td id=\"T_e603f_row1_col1\" class=\"data row1 col1\" >0.000000</td>\n",
       "                        <td id=\"T_e603f_row1_col2\" class=\"data row1 col2\" >0.768583</td>\n",
       "            </tr>\n",
       "            <tr>\n",
       "                        <th id=\"T_e603f_level0_row2\" class=\"row_heading level0 row2\" >2</th>\n",
       "                        <td id=\"T_e603f_row2_col0\" class=\"data row2 col0\" >f1</td>\n",
       "                        <td id=\"T_e603f_row2_col1\" class=\"data row2 col1\" >0.000000</td>\n",
       "                        <td id=\"T_e603f_row2_col2\" class=\"data row2 col2\" >0.675798</td>\n",
       "            </tr>\n",
       "    </tbody></table>"
      ],
      "text/plain": [
       "<pandas.io.formats.style.Styler at 0x1bb167f2a60>"
      ]
     },
     "execution_count": 64,
     "metadata": {},
     "output_type": "execute_result"
    }
   ],
   "source": [
    "table_lr = pd.DataFrame(perf_lr, columns = ['Metric', 'pre-oversampling', 'post-oversampling'])\n",
    "table_lr.style.set_table_attributes(\"style='display:inline'\").set_caption('LOGISTIC REGRESSION PERFORMANCES')"
   ]
  },
  {
   "cell_type": "markdown",
   "id": "15b436d5",
   "metadata": {},
   "source": [
    "### Random Forest"
   ]
  },
  {
   "cell_type": "code",
   "execution_count": 65,
   "id": "c0619d22",
   "metadata": {},
   "outputs": [],
   "source": [
    "rf = RandomForestClassifier(random_state=42)"
   ]
  },
  {
   "cell_type": "code",
   "execution_count": 66,
   "id": "e64b2975",
   "metadata": {},
   "outputs": [],
   "source": [
    "y_pred_rf_cv_ov = cross_val_predict(rf, X_train_r365_ov, y_train_r365_ov, cv=3)\n",
    "score_rf_ov = accuracy_score(y_train_r365_ov, y_pred_rf_cv_ov)"
   ]
  },
  {
   "cell_type": "code",
   "execution_count": 67,
   "id": "6ea030fd",
   "metadata": {},
   "outputs": [
    {
     "data": {
      "text/plain": [
       "0.9292393834675612"
      ]
     },
     "execution_count": 67,
     "metadata": {},
     "output_type": "execute_result"
    }
   ],
   "source": [
    "score_rf_ov"
   ]
  },
  {
   "cell_type": "code",
   "execution_count": 68,
   "id": "873eaa83",
   "metadata": {},
   "outputs": [],
   "source": [
    "cm_rf_ov = confusion_matrix(y_train_r365_ov, y_pred_rf_cv_ov)\n",
    "ps_rf_ov = precision_score(y_train_r365_ov, y_pred_rf_cv_ov)\n",
    "rs_rf_ov = recall_score(y_train_r365_ov, y_pred_rf_cv_ov)\n",
    "f1_rf_ov = f1_score(y_train_r365_ov, y_pred_rf_cv_ov)"
   ]
  },
  {
   "cell_type": "code",
   "execution_count": 69,
   "id": "b5d04858",
   "metadata": {},
   "outputs": [],
   "source": [
    "perf_rf = {'Metric': ['precision','recall','f1'],\n",
    "        'pre-oversampling': [ps_rf,rs_rf,f1_rf],\n",
    "        'post-oversampling': [ps_rf_ov, rs_rf_ov, f1_rf_ov]\n",
    "        }"
   ]
  },
  {
   "cell_type": "code",
   "execution_count": 70,
   "id": "7214cb48",
   "metadata": {
    "scrolled": true
   },
   "outputs": [
    {
     "data": {
      "text/html": [
       "<style  type=\"text/css\" >\n",
       "</style><table id=\"T_85300_\" style='display:inline'><caption>RANDOM FOREST PERFORMANCES</caption><thead>    <tr>        <th class=\"blank level0\" ></th>        <th class=\"col_heading level0 col0\" >Metric</th>        <th class=\"col_heading level0 col1\" >pre-oversampling</th>        <th class=\"col_heading level0 col2\" >post-oversampling</th>    </tr></thead><tbody>\n",
       "                <tr>\n",
       "                        <th id=\"T_85300_level0_row0\" class=\"row_heading level0 row0\" >0</th>\n",
       "                        <td id=\"T_85300_row0_col0\" class=\"data row0 col0\" >precision</td>\n",
       "                        <td id=\"T_85300_row0_col1\" class=\"data row0 col1\" >0.134888</td>\n",
       "                        <td id=\"T_85300_row0_col2\" class=\"data row0 col2\" >0.990236</td>\n",
       "            </tr>\n",
       "            <tr>\n",
       "                        <th id=\"T_85300_level0_row1\" class=\"row_heading level0 row1\" >1</th>\n",
       "                        <td id=\"T_85300_row1_col0\" class=\"data row1 col0\" >recall</td>\n",
       "                        <td id=\"T_85300_row1_col1\" class=\"data row1 col1\" >0.003692</td>\n",
       "                        <td id=\"T_85300_row1_col2\" class=\"data row1 col2\" >0.867028</td>\n",
       "            </tr>\n",
       "            <tr>\n",
       "                        <th id=\"T_85300_level0_row2\" class=\"row_heading level0 row2\" >2</th>\n",
       "                        <td id=\"T_85300_row2_col0\" class=\"data row2 col0\" >f1</td>\n",
       "                        <td id=\"T_85300_row2_col1\" class=\"data row2 col1\" >0.007188</td>\n",
       "                        <td id=\"T_85300_row2_col2\" class=\"data row2 col2\" >0.924545</td>\n",
       "            </tr>\n",
       "    </tbody></table>"
      ],
      "text/plain": [
       "<pandas.io.formats.style.Styler at 0x1bb51c7ae80>"
      ]
     },
     "execution_count": 70,
     "metadata": {},
     "output_type": "execute_result"
    }
   ],
   "source": [
    "table_rf = pd.DataFrame(perf_rf, columns = ['Metric', 'pre-oversampling', 'post-oversampling'])\n",
    "table_rf.style.set_table_attributes(\"style='display:inline'\").set_caption('RANDOM FOREST PERFORMANCES')"
   ]
  },
  {
   "cell_type": "markdown",
   "id": "8c5df037",
   "metadata": {},
   "source": [
    "# Considerazioni post oversampling\n",
    "anche questa volta dopo l'oversampling si può notare un netto miglioramento almeno apparentemente dei valori di precision, recall e f1 score"
   ]
  },
  {
   "cell_type": "markdown",
   "id": "87a554e4",
   "metadata": {},
   "source": [
    "## Predizioni sul validation set\n",
    "andiamo nuovamente a verificare le prestazioni sul validation set"
   ]
  },
  {
   "cell_type": "code",
   "execution_count": 71,
   "id": "4307f98f",
   "metadata": {},
   "outputs": [
    {
     "data": {
      "text/html": [
       "<div>\n",
       "<style scoped>\n",
       "    .dataframe tbody tr th:only-of-type {\n",
       "        vertical-align: middle;\n",
       "    }\n",
       "\n",
       "    .dataframe tbody tr th {\n",
       "        vertical-align: top;\n",
       "    }\n",
       "\n",
       "    .dataframe thead th {\n",
       "        text-align: right;\n",
       "    }\n",
       "</style>\n",
       "<table border=\"1\" class=\"dataframe\">\n",
       "  <thead>\n",
       "    <tr style=\"text-align: right;\">\n",
       "      <th></th>\n",
       "      <th>gender</th>\n",
       "      <th>age</th>\n",
       "      <th>icd_D_blood</th>\n",
       "      <th>icd_D_health_status</th>\n",
       "      <th>icd_D_pregnancy</th>\n",
       "      <th>icd_D_abnormal</th>\n",
       "      <th>icd_D_chromosomal</th>\n",
       "      <th>icd_D_infectious_parasitic</th>\n",
       "      <th>icd_D_musculoskeletal</th>\n",
       "      <th>icd_D_nervous_system</th>\n",
       "      <th>...</th>\n",
       "      <th>ethn__BLACK/AFRICAN AMERICAN</th>\n",
       "      <th>ethn__HISPANIC/LATINO</th>\n",
       "      <th>ethn__OTHER</th>\n",
       "      <th>ethn__UNKNOWN</th>\n",
       "      <th>ethn__WHITE</th>\n",
       "      <th>ins__Medicare</th>\n",
       "      <th>ins__Other</th>\n",
       "      <th>maritalS__MARRIED</th>\n",
       "      <th>maritalS__SINGLE</th>\n",
       "      <th>maritalS__WIDOWED</th>\n",
       "    </tr>\n",
       "  </thead>\n",
       "  <tbody>\n",
       "    <tr>\n",
       "      <th>300792</th>\n",
       "      <td>0</td>\n",
       "      <td>0</td>\n",
       "      <td>0.0</td>\n",
       "      <td>2.0</td>\n",
       "      <td>0.0</td>\n",
       "      <td>0.0</td>\n",
       "      <td>0.0</td>\n",
       "      <td>0.0</td>\n",
       "      <td>0.0</td>\n",
       "      <td>0.0</td>\n",
       "      <td>...</td>\n",
       "      <td>0</td>\n",
       "      <td>0</td>\n",
       "      <td>0</td>\n",
       "      <td>0</td>\n",
       "      <td>1</td>\n",
       "      <td>0</td>\n",
       "      <td>1</td>\n",
       "      <td>1</td>\n",
       "      <td>0</td>\n",
       "      <td>0</td>\n",
       "    </tr>\n",
       "    <tr>\n",
       "      <th>274325</th>\n",
       "      <td>0</td>\n",
       "      <td>55</td>\n",
       "      <td>0.0</td>\n",
       "      <td>1.0</td>\n",
       "      <td>0.0</td>\n",
       "      <td>0.0</td>\n",
       "      <td>0.0</td>\n",
       "      <td>0.0</td>\n",
       "      <td>0.0</td>\n",
       "      <td>1.0</td>\n",
       "      <td>...</td>\n",
       "      <td>0</td>\n",
       "      <td>0</td>\n",
       "      <td>0</td>\n",
       "      <td>0</td>\n",
       "      <td>1</td>\n",
       "      <td>0</td>\n",
       "      <td>1</td>\n",
       "      <td>1</td>\n",
       "      <td>0</td>\n",
       "      <td>0</td>\n",
       "    </tr>\n",
       "    <tr>\n",
       "      <th>185779</th>\n",
       "      <td>0</td>\n",
       "      <td>63</td>\n",
       "      <td>0.0</td>\n",
       "      <td>2.0</td>\n",
       "      <td>0.0</td>\n",
       "      <td>0.0</td>\n",
       "      <td>0.0</td>\n",
       "      <td>0.0</td>\n",
       "      <td>0.0</td>\n",
       "      <td>0.0</td>\n",
       "      <td>...</td>\n",
       "      <td>0</td>\n",
       "      <td>0</td>\n",
       "      <td>0</td>\n",
       "      <td>0</td>\n",
       "      <td>1</td>\n",
       "      <td>0</td>\n",
       "      <td>0</td>\n",
       "      <td>0</td>\n",
       "      <td>1</td>\n",
       "      <td>0</td>\n",
       "    </tr>\n",
       "    <tr>\n",
       "      <th>117038</th>\n",
       "      <td>1</td>\n",
       "      <td>53</td>\n",
       "      <td>0.0</td>\n",
       "      <td>3.0</td>\n",
       "      <td>0.0</td>\n",
       "      <td>1.0</td>\n",
       "      <td>0.0</td>\n",
       "      <td>0.0</td>\n",
       "      <td>0.0</td>\n",
       "      <td>0.0</td>\n",
       "      <td>...</td>\n",
       "      <td>0</td>\n",
       "      <td>0</td>\n",
       "      <td>0</td>\n",
       "      <td>0</td>\n",
       "      <td>1</td>\n",
       "      <td>0</td>\n",
       "      <td>1</td>\n",
       "      <td>1</td>\n",
       "      <td>0</td>\n",
       "      <td>0</td>\n",
       "    </tr>\n",
       "    <tr>\n",
       "      <th>290892</th>\n",
       "      <td>0</td>\n",
       "      <td>29</td>\n",
       "      <td>1.0</td>\n",
       "      <td>5.0</td>\n",
       "      <td>0.0</td>\n",
       "      <td>1.0</td>\n",
       "      <td>0.0</td>\n",
       "      <td>1.0</td>\n",
       "      <td>1.0</td>\n",
       "      <td>0.0</td>\n",
       "      <td>...</td>\n",
       "      <td>0</td>\n",
       "      <td>0</td>\n",
       "      <td>0</td>\n",
       "      <td>0</td>\n",
       "      <td>1</td>\n",
       "      <td>0</td>\n",
       "      <td>1</td>\n",
       "      <td>0</td>\n",
       "      <td>1</td>\n",
       "      <td>0</td>\n",
       "    </tr>\n",
       "    <tr>\n",
       "      <th>...</th>\n",
       "      <td>...</td>\n",
       "      <td>...</td>\n",
       "      <td>...</td>\n",
       "      <td>...</td>\n",
       "      <td>...</td>\n",
       "      <td>...</td>\n",
       "      <td>...</td>\n",
       "      <td>...</td>\n",
       "      <td>...</td>\n",
       "      <td>...</td>\n",
       "      <td>...</td>\n",
       "      <td>...</td>\n",
       "      <td>...</td>\n",
       "      <td>...</td>\n",
       "      <td>...</td>\n",
       "      <td>...</td>\n",
       "      <td>...</td>\n",
       "      <td>...</td>\n",
       "      <td>...</td>\n",
       "      <td>...</td>\n",
       "      <td>...</td>\n",
       "    </tr>\n",
       "    <tr>\n",
       "      <th>108278</th>\n",
       "      <td>1</td>\n",
       "      <td>39</td>\n",
       "      <td>0.0</td>\n",
       "      <td>3.0</td>\n",
       "      <td>0.0</td>\n",
       "      <td>0.0</td>\n",
       "      <td>0.0</td>\n",
       "      <td>0.0</td>\n",
       "      <td>1.0</td>\n",
       "      <td>1.0</td>\n",
       "      <td>...</td>\n",
       "      <td>0</td>\n",
       "      <td>0</td>\n",
       "      <td>0</td>\n",
       "      <td>0</td>\n",
       "      <td>1</td>\n",
       "      <td>0</td>\n",
       "      <td>0</td>\n",
       "      <td>0</td>\n",
       "      <td>1</td>\n",
       "      <td>0</td>\n",
       "    </tr>\n",
       "    <tr>\n",
       "      <th>127414</th>\n",
       "      <td>1</td>\n",
       "      <td>63</td>\n",
       "      <td>0.0</td>\n",
       "      <td>0.0</td>\n",
       "      <td>0.0</td>\n",
       "      <td>0.0</td>\n",
       "      <td>0.0</td>\n",
       "      <td>0.0</td>\n",
       "      <td>0.0</td>\n",
       "      <td>0.0</td>\n",
       "      <td>...</td>\n",
       "      <td>0</td>\n",
       "      <td>0</td>\n",
       "      <td>0</td>\n",
       "      <td>0</td>\n",
       "      <td>1</td>\n",
       "      <td>0</td>\n",
       "      <td>1</td>\n",
       "      <td>1</td>\n",
       "      <td>0</td>\n",
       "      <td>0</td>\n",
       "    </tr>\n",
       "    <tr>\n",
       "      <th>196974</th>\n",
       "      <td>1</td>\n",
       "      <td>0</td>\n",
       "      <td>0.0</td>\n",
       "      <td>2.0</td>\n",
       "      <td>0.0</td>\n",
       "      <td>0.0</td>\n",
       "      <td>0.0</td>\n",
       "      <td>0.0</td>\n",
       "      <td>0.0</td>\n",
       "      <td>0.0</td>\n",
       "      <td>...</td>\n",
       "      <td>0</td>\n",
       "      <td>0</td>\n",
       "      <td>0</td>\n",
       "      <td>0</td>\n",
       "      <td>0</td>\n",
       "      <td>0</td>\n",
       "      <td>1</td>\n",
       "      <td>0</td>\n",
       "      <td>1</td>\n",
       "      <td>0</td>\n",
       "    </tr>\n",
       "    <tr>\n",
       "      <th>245347</th>\n",
       "      <td>0</td>\n",
       "      <td>61</td>\n",
       "      <td>0.0</td>\n",
       "      <td>1.0</td>\n",
       "      <td>0.0</td>\n",
       "      <td>2.0</td>\n",
       "      <td>0.0</td>\n",
       "      <td>0.0</td>\n",
       "      <td>1.0</td>\n",
       "      <td>0.0</td>\n",
       "      <td>...</td>\n",
       "      <td>0</td>\n",
       "      <td>0</td>\n",
       "      <td>0</td>\n",
       "      <td>0</td>\n",
       "      <td>1</td>\n",
       "      <td>0</td>\n",
       "      <td>1</td>\n",
       "      <td>1</td>\n",
       "      <td>0</td>\n",
       "      <td>0</td>\n",
       "    </tr>\n",
       "    <tr>\n",
       "      <th>465409</th>\n",
       "      <td>0</td>\n",
       "      <td>74</td>\n",
       "      <td>0.0</td>\n",
       "      <td>4.0</td>\n",
       "      <td>0.0</td>\n",
       "      <td>2.0</td>\n",
       "      <td>0.0</td>\n",
       "      <td>0.0</td>\n",
       "      <td>1.0</td>\n",
       "      <td>0.0</td>\n",
       "      <td>...</td>\n",
       "      <td>1</td>\n",
       "      <td>0</td>\n",
       "      <td>0</td>\n",
       "      <td>0</td>\n",
       "      <td>0</td>\n",
       "      <td>0</td>\n",
       "      <td>1</td>\n",
       "      <td>0</td>\n",
       "      <td>1</td>\n",
       "      <td>0</td>\n",
       "    </tr>\n",
       "  </tbody>\n",
       "</table>\n",
       "<p>52111 rows × 69 columns</p>\n",
       "</div>"
      ],
      "text/plain": [
       "        gender  age  icd_D_blood  icd_D_health_status  icd_D_pregnancy  \\\n",
       "300792       0    0          0.0                  2.0              0.0   \n",
       "274325       0   55          0.0                  1.0              0.0   \n",
       "185779       0   63          0.0                  2.0              0.0   \n",
       "117038       1   53          0.0                  3.0              0.0   \n",
       "290892       0   29          1.0                  5.0              0.0   \n",
       "...        ...  ...          ...                  ...              ...   \n",
       "108278       1   39          0.0                  3.0              0.0   \n",
       "127414       1   63          0.0                  0.0              0.0   \n",
       "196974       1    0          0.0                  2.0              0.0   \n",
       "245347       0   61          0.0                  1.0              0.0   \n",
       "465409       0   74          0.0                  4.0              0.0   \n",
       "\n",
       "        icd_D_abnormal  icd_D_chromosomal  icd_D_infectious_parasitic  \\\n",
       "300792             0.0                0.0                         0.0   \n",
       "274325             0.0                0.0                         0.0   \n",
       "185779             0.0                0.0                         0.0   \n",
       "117038             1.0                0.0                         0.0   \n",
       "290892             1.0                0.0                         1.0   \n",
       "...                ...                ...                         ...   \n",
       "108278             0.0                0.0                         0.0   \n",
       "127414             0.0                0.0                         0.0   \n",
       "196974             0.0                0.0                         0.0   \n",
       "245347             2.0                0.0                         0.0   \n",
       "465409             2.0                0.0                         0.0   \n",
       "\n",
       "        icd_D_musculoskeletal  icd_D_nervous_system  ...  \\\n",
       "300792                    0.0                   0.0  ...   \n",
       "274325                    0.0                   1.0  ...   \n",
       "185779                    0.0                   0.0  ...   \n",
       "117038                    0.0                   0.0  ...   \n",
       "290892                    1.0                   0.0  ...   \n",
       "...                       ...                   ...  ...   \n",
       "108278                    1.0                   1.0  ...   \n",
       "127414                    0.0                   0.0  ...   \n",
       "196974                    0.0                   0.0  ...   \n",
       "245347                    1.0                   0.0  ...   \n",
       "465409                    1.0                   0.0  ...   \n",
       "\n",
       "        ethn__BLACK/AFRICAN AMERICAN  ethn__HISPANIC/LATINO  ethn__OTHER  \\\n",
       "300792                             0                      0            0   \n",
       "274325                             0                      0            0   \n",
       "185779                             0                      0            0   \n",
       "117038                             0                      0            0   \n",
       "290892                             0                      0            0   \n",
       "...                              ...                    ...          ...   \n",
       "108278                             0                      0            0   \n",
       "127414                             0                      0            0   \n",
       "196974                             0                      0            0   \n",
       "245347                             0                      0            0   \n",
       "465409                             1                      0            0   \n",
       "\n",
       "        ethn__UNKNOWN  ethn__WHITE  ins__Medicare  ins__Other  \\\n",
       "300792              0            1              0           1   \n",
       "274325              0            1              0           1   \n",
       "185779              0            1              0           0   \n",
       "117038              0            1              0           1   \n",
       "290892              0            1              0           1   \n",
       "...               ...          ...            ...         ...   \n",
       "108278              0            1              0           0   \n",
       "127414              0            1              0           1   \n",
       "196974              0            0              0           1   \n",
       "245347              0            1              0           1   \n",
       "465409              0            0              0           1   \n",
       "\n",
       "        maritalS__MARRIED  maritalS__SINGLE  maritalS__WIDOWED  \n",
       "300792                  1                 0                  0  \n",
       "274325                  1                 0                  0  \n",
       "185779                  0                 1                  0  \n",
       "117038                  1                 0                  0  \n",
       "290892                  0                 1                  0  \n",
       "...                   ...               ...                ...  \n",
       "108278                  0                 1                  0  \n",
       "127414                  1                 0                  0  \n",
       "196974                  0                 1                  0  \n",
       "245347                  1                 0                  0  \n",
       "465409                  0                 1                  0  \n",
       "\n",
       "[52111 rows x 69 columns]"
      ]
     },
     "execution_count": 71,
     "metadata": {},
     "output_type": "execute_result"
    }
   ],
   "source": [
    "X_validate_r365  # il validation set mai visto dal modello, che bisogna però scalare"
   ]
  },
  {
   "cell_type": "code",
   "execution_count": 72,
   "id": "062ff5ca",
   "metadata": {},
   "outputs": [
    {
     "data": {
      "text/plain": [
       "300792    0\n",
       "274325    0\n",
       "185779    1\n",
       "117038    0\n",
       "290892    1\n",
       "         ..\n",
       "108278    0\n",
       "127414    0\n",
       "196974    0\n",
       "245347    0\n",
       "465409    0\n",
       "Name: riad 365d, Length: 52111, dtype: int64"
      ]
     },
     "execution_count": 72,
     "metadata": {},
     "output_type": "execute_result"
    }
   ],
   "source": [
    "y_validate_r365  # questi sono i dati su cui verrà calcolato l'accuracy score finale"
   ]
  },
  {
   "cell_type": "code",
   "execution_count": 73,
   "id": "c29fefcf",
   "metadata": {},
   "outputs": [
    {
     "data": {
      "text/plain": [
       "array([[-0.96512577, -1.9805177 , -0.51700569, ...,  1.14182211,\n",
       "        -0.83029661, -0.32124958],\n",
       "       [-0.96512577,  0.12262879, -0.51700569, ...,  1.14182211,\n",
       "        -0.83029661, -0.32124958],\n",
       "       [-0.96512577,  0.428541  , -0.51700569, ..., -0.87579316,\n",
       "         1.20438887, -0.32124958],\n",
       "       ...,\n",
       "       [ 1.03613439, -1.9805177 , -0.51700569, ..., -0.87579316,\n",
       "         1.20438887, -0.32124958],\n",
       "       [-0.96512577,  0.35206295, -0.51700569, ...,  1.14182211,\n",
       "        -0.83029661, -0.32124958],\n",
       "       [-0.96512577,  0.8491703 , -0.51700569, ..., -0.87579316,\n",
       "         1.20438887, -0.32124958]])"
      ]
     },
     "execution_count": 73,
     "metadata": {},
     "output_type": "execute_result"
    }
   ],
   "source": [
    "X_validate_r365_scaled = scaler.transform(X_validate_r365)  # fitting and transforming validation set\n",
    "X_validate_r365_scaled"
   ]
  },
  {
   "cell_type": "markdown",
   "id": "81308139",
   "metadata": {},
   "source": [
    "### Random Forest"
   ]
  },
  {
   "cell_type": "code",
   "execution_count": 74,
   "id": "8746ac8d",
   "metadata": {},
   "outputs": [
    {
     "data": {
      "text/plain": [
       "RandomForestClassifier(random_state=42)"
      ]
     },
     "execution_count": 74,
     "metadata": {},
     "output_type": "execute_result"
    }
   ],
   "source": [
    "rf = RandomForestClassifier(random_state=42)\n",
    "rf.fit(X_train_r365_ov, y_train_r365_ov)"
   ]
  },
  {
   "cell_type": "code",
   "execution_count": 75,
   "id": "50aff82e",
   "metadata": {},
   "outputs": [
    {
     "data": {
      "text/plain": [
       "array([0, 0, 0, ..., 0, 0, 0], dtype=int64)"
      ]
     },
     "execution_count": 75,
     "metadata": {},
     "output_type": "execute_result"
    }
   ],
   "source": [
    "validation_pred_rf = rf.predict(X_validate_r365_scaled)\n",
    "validation_pred_rf"
   ]
  },
  {
   "cell_type": "code",
   "execution_count": 76,
   "id": "6e217255",
   "metadata": {},
   "outputs": [
    {
     "data": {
      "text/plain": [
       "0.8800828999635394"
      ]
     },
     "execution_count": 76,
     "metadata": {},
     "output_type": "execute_result"
    }
   ],
   "source": [
    "acc_rf = accuracy_score(y_validate_r365, validation_pred_rf)\n",
    "acc_rf"
   ]
  },
  {
   "cell_type": "code",
   "execution_count": 77,
   "id": "0a64779c",
   "metadata": {},
   "outputs": [],
   "source": [
    "cm_rf_validation = confusion_matrix(y_validate_r365, validation_pred_rf)\n",
    "ps_rf_validation = precision_score(y_validate_r365, validation_pred_rf)\n",
    "rs_rf_validation = recall_score(y_validate_r365, validation_pred_rf)\n",
    "f1_rf_validation = f1_score(y_validate_r365, validation_pred_rf)"
   ]
  },
  {
   "cell_type": "code",
   "execution_count": 78,
   "id": "2d8db48c",
   "metadata": {},
   "outputs": [],
   "source": [
    "perf_rf_validation = {\n",
    "           'Metric': ['precision','recall','f1'],\n",
    "           'validation': [ps_rf_validation, rs_rf_validation, f1_rf_validation]\n",
    "          }"
   ]
  },
  {
   "cell_type": "code",
   "execution_count": 79,
   "id": "39138576",
   "metadata": {
    "scrolled": true
   },
   "outputs": [
    {
     "data": {
      "text/html": [
       "<style  type=\"text/css\" >\n",
       "</style><table id=\"T_59412_\" style='display:inline'><caption>RANDOM FOREST VALIDATION PERFORMANCES</caption><thead>    <tr>        <th class=\"blank level0\" ></th>        <th class=\"col_heading level0 col0\" >Metric</th>        <th class=\"col_heading level0 col1\" >validation</th>    </tr></thead><tbody>\n",
       "                <tr>\n",
       "                        <th id=\"T_59412_level0_row0\" class=\"row_heading level0 row0\" >0</th>\n",
       "                        <td id=\"T_59412_row0_col0\" class=\"data row0 col0\" >precision</td>\n",
       "                        <td id=\"T_59412_row0_col1\" class=\"data row0 col1\" >0.111111</td>\n",
       "            </tr>\n",
       "            <tr>\n",
       "                        <th id=\"T_59412_level0_row1\" class=\"row_heading level0 row1\" >1</th>\n",
       "                        <td id=\"T_59412_row1_col0\" class=\"data row1 col0\" >recall</td>\n",
       "                        <td id=\"T_59412_row1_col1\" class=\"data row1 col1\" >0.007229</td>\n",
       "            </tr>\n",
       "            <tr>\n",
       "                        <th id=\"T_59412_level0_row2\" class=\"row_heading level0 row2\" >2</th>\n",
       "                        <td id=\"T_59412_row2_col0\" class=\"data row2 col0\" >f1</td>\n",
       "                        <td id=\"T_59412_row2_col1\" class=\"data row2 col1\" >0.013575</td>\n",
       "            </tr>\n",
       "    </tbody></table>"
      ],
      "text/plain": [
       "<pandas.io.formats.style.Styler at 0x1bb165c0370>"
      ]
     },
     "execution_count": 79,
     "metadata": {},
     "output_type": "execute_result"
    }
   ],
   "source": [
    "table_rf_validation = pd.DataFrame(perf_rf_validation, columns = ['Metric', 'validation'])\n",
    "table_rf_validation.style.set_table_attributes(\"style='display:inline'\").set_caption('RANDOM FOREST VALIDATION PERFORMANCES')"
   ]
  },
  {
   "cell_type": "code",
   "execution_count": 80,
   "id": "6ab86700",
   "metadata": {},
   "outputs": [
    {
     "name": "stdout",
     "output_type": "stream",
     "text": [
      "43 veri positivi\n",
      "45819 veri negativi\n",
      "344 falsi positivi\n",
      "5905 falsi negativi\n"
     ]
    }
   ],
   "source": [
    "print(\"{} veri positivi\".format(cm_rf_validation[1,1]))\n",
    "print(\"{} veri negativi\".format(cm_rf_validation[0,0]))\n",
    "print(\"{} falsi positivi\".format(cm_rf_validation[0,1]))\n",
    "print(\"{} falsi negativi\".format(cm_rf_validation[1,0]))"
   ]
  },
  {
   "cell_type": "markdown",
   "id": "2cadb472",
   "metadata": {},
   "source": [
    "### Logistic Regressor"
   ]
  },
  {
   "cell_type": "code",
   "execution_count": 81,
   "id": "0ebf68a6",
   "metadata": {},
   "outputs": [
    {
     "data": {
      "text/plain": [
       "LogisticRegression(random_state=42)"
      ]
     },
     "execution_count": 81,
     "metadata": {},
     "output_type": "execute_result"
    }
   ],
   "source": [
    "lr = LogisticRegression(random_state=42)\n",
    "lr.fit(X_train_r365_ov, y_train_r365_ov)"
   ]
  },
  {
   "cell_type": "code",
   "execution_count": 82,
   "id": "0f3bb5ce",
   "metadata": {},
   "outputs": [
    {
     "data": {
      "text/plain": [
       "array([0, 1, 1, ..., 0, 1, 1], dtype=int64)"
      ]
     },
     "execution_count": 82,
     "metadata": {},
     "output_type": "execute_result"
    }
   ],
   "source": [
    "validation_pred_lr = lr.predict(X_validate_r365_scaled)\n",
    "validation_pred_lr"
   ]
  },
  {
   "cell_type": "code",
   "execution_count": 83,
   "id": "7719a6e7",
   "metadata": {},
   "outputs": [
    {
     "data": {
      "text/plain": [
       "0.5242079407418779"
      ]
     },
     "execution_count": 83,
     "metadata": {},
     "output_type": "execute_result"
    }
   ],
   "source": [
    "acc_lr = accuracy_score(y_validate_r365, validation_pred_lr)\n",
    "acc_lr"
   ]
  },
  {
   "cell_type": "code",
   "execution_count": 84,
   "id": "2eb56cce",
   "metadata": {},
   "outputs": [],
   "source": [
    "cm_lr_validation = confusion_matrix(y_validate_r365, validation_pred_lr)\n",
    "ps_lr_validation = precision_score(y_validate_r365, validation_pred_lr)\n",
    "rs_lr_validation = recall_score(y_validate_r365, validation_pred_lr)\n",
    "f1_lr_validation = f1_score(y_validate_r365, validation_pred_lr)"
   ]
  },
  {
   "cell_type": "code",
   "execution_count": 85,
   "id": "2035b816",
   "metadata": {},
   "outputs": [],
   "source": [
    "perf_lr_validation = {\n",
    "                   'Metric': ['precision','recall','f1'],\n",
    "                   'validation': [ps_lr_validation, rs_lr_validation, f1_lr_validation]\n",
    "                 }"
   ]
  },
  {
   "cell_type": "code",
   "execution_count": 86,
   "id": "8d89190f",
   "metadata": {
    "scrolled": false
   },
   "outputs": [
    {
     "data": {
      "text/html": [
       "<style  type=\"text/css\" >\n",
       "</style><table id=\"T_276c7_\" style='display:inline'><caption>LOGISTIC REGRESSOR VALIDATION PERFORMANCES</caption><thead>    <tr>        <th class=\"blank level0\" ></th>        <th class=\"col_heading level0 col0\" >Metric</th>        <th class=\"col_heading level0 col1\" >validation</th>    </tr></thead><tbody>\n",
       "                <tr>\n",
       "                        <th id=\"T_276c7_level0_row0\" class=\"row_heading level0 row0\" >0</th>\n",
       "                        <td id=\"T_276c7_row0_col0\" class=\"data row0 col0\" >precision</td>\n",
       "                        <td id=\"T_276c7_row0_col1\" class=\"data row0 col1\" >0.159672</td>\n",
       "            </tr>\n",
       "            <tr>\n",
       "                        <th id=\"T_276c7_level0_row1\" class=\"row_heading level0 row1\" >1</th>\n",
       "                        <td id=\"T_276c7_row1_col0\" class=\"data row1 col0\" >recall</td>\n",
       "                        <td id=\"T_276c7_row1_col1\" class=\"data row1 col1\" >0.743275</td>\n",
       "            </tr>\n",
       "            <tr>\n",
       "                        <th id=\"T_276c7_level0_row2\" class=\"row_heading level0 row2\" >2</th>\n",
       "                        <td id=\"T_276c7_row2_col0\" class=\"data row2 col0\" >f1</td>\n",
       "                        <td id=\"T_276c7_row2_col1\" class=\"data row2 col1\" >0.262873</td>\n",
       "            </tr>\n",
       "    </tbody></table>"
      ],
      "text/plain": [
       "<pandas.io.formats.style.Styler at 0x1bb51cfdcd0>"
      ]
     },
     "execution_count": 86,
     "metadata": {},
     "output_type": "execute_result"
    }
   ],
   "source": [
    "table_lr_validation = pd.DataFrame(perf_lr_validation, columns = ['Metric', 'validation'])\n",
    "table_lr_validation.style.set_table_attributes(\"style='display:inline'\").set_caption('LOGISTIC REGRESSOR VALIDATION PERFORMANCES')"
   ]
  },
  {
   "cell_type": "code",
   "execution_count": 87,
   "id": "78f8dfa1",
   "metadata": {},
   "outputs": [
    {
     "name": "stdout",
     "output_type": "stream",
     "text": [
      "4421 veri positivi\n",
      "22896 veri negativi\n",
      "23267 falsi positivi\n",
      "1527 falsi negativi\n"
     ]
    }
   ],
   "source": [
    "print(\"{} veri positivi\".format(cm_lr_validation[1,1]))\n",
    "print(\"{} veri negativi\".format(cm_lr_validation[0,0]))\n",
    "print(\"{} falsi positivi\".format(cm_lr_validation[0,1]))\n",
    "print(\"{} falsi negativi\".format(cm_lr_validation[1,0]))"
   ]
  },
  {
   "cell_type": "markdown",
   "id": "f861b02d",
   "metadata": {},
   "source": [
    "### Decision Tree"
   ]
  },
  {
   "cell_type": "code",
   "execution_count": 88,
   "id": "25a6cdad",
   "metadata": {},
   "outputs": [
    {
     "data": {
      "text/plain": [
       "DecisionTreeClassifier(random_state=42)"
      ]
     },
     "execution_count": 88,
     "metadata": {},
     "output_type": "execute_result"
    }
   ],
   "source": [
    "dt = DecisionTreeClassifier(random_state=42)\n",
    "dt.fit(X_train_r365_ov, y_train_r365_ov)"
   ]
  },
  {
   "cell_type": "code",
   "execution_count": 89,
   "id": "90b4bd56",
   "metadata": {},
   "outputs": [
    {
     "data": {
      "text/plain": [
       "array([0, 0, 1, ..., 0, 0, 0], dtype=int64)"
      ]
     },
     "execution_count": 89,
     "metadata": {},
     "output_type": "execute_result"
    }
   ],
   "source": [
    "validation_pred_dt = dt.predict(X_validate_r365_scaled)\n",
    "validation_pred_dt"
   ]
  },
  {
   "cell_type": "code",
   "execution_count": 90,
   "id": "9ff81ec9",
   "metadata": {},
   "outputs": [
    {
     "data": {
      "text/plain": [
       "0.7925965727005815"
      ]
     },
     "execution_count": 90,
     "metadata": {},
     "output_type": "execute_result"
    }
   ],
   "source": [
    "acc_dt = accuracy_score(y_validate_r365, validation_pred_dt)\n",
    "acc_dt"
   ]
  },
  {
   "cell_type": "code",
   "execution_count": 91,
   "id": "a21b948f",
   "metadata": {},
   "outputs": [],
   "source": [
    "cm_dt_validation = confusion_matrix(y_validate_r365, validation_pred_dt)\n",
    "ps_dt_validation = precision_score(y_validate_r365, validation_pred_dt)\n",
    "rs_dt_validation = recall_score(y_validate_r365, validation_pred_dt)\n",
    "f1_dt_validation = f1_score(y_validate_r365, validation_pred_dt)"
   ]
  },
  {
   "cell_type": "code",
   "execution_count": 92,
   "id": "8beeb65b",
   "metadata": {},
   "outputs": [],
   "source": [
    "perf_dt_validation = {\n",
    "                   'Metric': ['precision','recall','f1'],\n",
    "                   'validation': [ps_dt_validation, rs_dt_validation, f1_dt_validation]\n",
    "                 }"
   ]
  },
  {
   "cell_type": "code",
   "execution_count": 93,
   "id": "dd264f89",
   "metadata": {
    "scrolled": false
   },
   "outputs": [
    {
     "data": {
      "text/html": [
       "<style  type=\"text/css\" >\n",
       "</style><table id=\"T_5a277_\" style='display:inline'><caption>DECISION TREE VALIDATION PERFORMANCES</caption><thead>    <tr>        <th class=\"blank level0\" ></th>        <th class=\"col_heading level0 col0\" >Metric</th>        <th class=\"col_heading level0 col1\" >validation</th>    </tr></thead><tbody>\n",
       "                <tr>\n",
       "                        <th id=\"T_5a277_level0_row0\" class=\"row_heading level0 row0\" >0</th>\n",
       "                        <td id=\"T_5a277_row0_col0\" class=\"data row0 col0\" >precision</td>\n",
       "                        <td id=\"T_5a277_row0_col1\" class=\"data row0 col1\" >0.149957</td>\n",
       "            </tr>\n",
       "            <tr>\n",
       "                        <th id=\"T_5a277_level0_row1\" class=\"row_heading level0 row1\" >1</th>\n",
       "                        <td id=\"T_5a277_row1_col0\" class=\"data row1 col0\" >recall</td>\n",
       "                        <td id=\"T_5a277_row1_col1\" class=\"data row1 col1\" >0.175017</td>\n",
       "            </tr>\n",
       "            <tr>\n",
       "                        <th id=\"T_5a277_level0_row2\" class=\"row_heading level0 row2\" >2</th>\n",
       "                        <td id=\"T_5a277_row2_col0\" class=\"data row2 col0\" >f1</td>\n",
       "                        <td id=\"T_5a277_row2_col1\" class=\"data row2 col1\" >0.161521</td>\n",
       "            </tr>\n",
       "    </tbody></table>"
      ],
      "text/plain": [
       "<pandas.io.formats.style.Styler at 0x1bb16816eb0>"
      ]
     },
     "execution_count": 93,
     "metadata": {},
     "output_type": "execute_result"
    }
   ],
   "source": [
    "table_dt_validation = pd.DataFrame(perf_dt_validation, columns = ['Metric', 'validation'])\n",
    "table_dt_validation.style.set_table_attributes(\"style='display:inline'\").set_caption('DECISION TREE VALIDATION PERFORMANCES')"
   ]
  },
  {
   "cell_type": "code",
   "execution_count": 94,
   "id": "d08d958c",
   "metadata": {},
   "outputs": [
    {
     "name": "stdout",
     "output_type": "stream",
     "text": [
      "1041 veri positivi\n",
      "40262 veri negativi\n",
      "5901 falsi positivi\n",
      "4907 falsi negativi\n"
     ]
    }
   ],
   "source": [
    "print(\"{} veri positivi\".format(cm_dt_validation[1,1]))\n",
    "print(\"{} veri negativi\".format(cm_dt_validation[0,0]))\n",
    "print(\"{} falsi positivi\".format(cm_dt_validation[0,1]))\n",
    "print(\"{} falsi negativi\".format(cm_dt_validation[1,0]))"
   ]
  },
  {
   "cell_type": "markdown",
   "id": "27aab734",
   "metadata": {},
   "source": [
    "# considerazioni post validation\n",
    "\n",
    "il modello che pare essere più bilanciato tra precision e recall è decision tre mentre quello che in generale ha un f1 score maggiore il logistic regressor "
   ]
  },
  {
   "cell_type": "markdown",
   "id": "665fb4c3",
   "metadata": {},
   "source": [
    "## HYPERPARAMETERS TUNING\n",
    "\n",
    "vediamo se questa volta è possibile migliorare le predizioni con il tuning per la random forest e il logistic regressor"
   ]
  },
  {
   "cell_type": "markdown",
   "id": "891104f7",
   "metadata": {},
   "source": [
    "### Random Forest"
   ]
  },
  {
   "cell_type": "markdown",
   "id": "ff111b3b",
   "metadata": {},
   "source": [
    "#### tuning del n_estimators (default = 100)"
   ]
  },
  {
   "cell_type": "code",
   "execution_count": 95,
   "id": "7fcbc425",
   "metadata": {},
   "outputs": [],
   "source": [
    "num_est = [1, 10, 50, 100]"
   ]
  },
  {
   "cell_type": "code",
   "execution_count": 96,
   "id": "0f67383d",
   "metadata": {},
   "outputs": [],
   "source": [
    "train_scoreNum, test_scoreNum = validation_curve(\n",
    "                                RandomForestClassifier(),\n",
    "                                X = X_train_r365_ov, y = y_train_r365_ov, \n",
    "                                param_name = 'n_estimators', \n",
    "                                param_range = num_est, cv = 3)"
   ]
  },
  {
   "cell_type": "code",
   "execution_count": 97,
   "id": "8ac472bb",
   "metadata": {
    "scrolled": true
   },
   "outputs": [
    {
     "data": {
      "text/plain": [
       "array([[0.97516931, 0.93420521, 0.93220987],\n",
       "       [0.99902401, 0.98917201, 0.9891693 ],\n",
       "       [0.9997316 , 0.99842758, 0.99834083],\n",
       "       [0.99977227, 0.99850892, 0.99846012]])"
      ]
     },
     "execution_count": 97,
     "metadata": {},
     "output_type": "execute_result"
    }
   ],
   "source": [
    "train_scoreNum"
   ]
  },
  {
   "cell_type": "code",
   "execution_count": 98,
   "id": "5d4dbfb1",
   "metadata": {},
   "outputs": [
    {
     "data": {
      "text/plain": [
       "array([[0.78376078, 0.88451925, 0.88146116],\n",
       "       [0.80138806, 0.98120144, 0.9820256 ],\n",
       "       [0.80386597, 0.99102636, 0.99112938],\n",
       "       [0.80408827, 0.99148182, 0.99182341]])"
      ]
     },
     "execution_count": 98,
     "metadata": {},
     "output_type": "execute_result"
    }
   ],
   "source": [
    "test_scoreNum"
   ]
  },
  {
   "cell_type": "code",
   "execution_count": 99,
   "id": "395aab0e",
   "metadata": {},
   "outputs": [],
   "source": [
    "avg_train_scoreNum = np.average(train_scoreNum, axis=1)"
   ]
  },
  {
   "cell_type": "code",
   "execution_count": 100,
   "id": "a5047307",
   "metadata": {},
   "outputs": [],
   "source": [
    "avg_test_scoreNum = np.average(test_scoreNum, axis=1)"
   ]
  },
  {
   "cell_type": "code",
   "execution_count": 101,
   "id": "8b2b4cab",
   "metadata": {},
   "outputs": [
    {
     "data": {
      "text/plain": [
       "<matplotlib.legend.Legend at 0x1bb16f2ab20>"
      ]
     },
     "execution_count": 101,
     "metadata": {},
     "output_type": "execute_result"
    },
    {
     "data": {
      "image/png": "[encoded data removed]",
      "text/plain": [
       "<Figure size 1080x432 with 1 Axes>"
      ]
     },
     "metadata": {
      "needs_background": "light"
     },
     "output_type": "display_data"
    }
   ],
   "source": [
    "fig, ax = plt.subplots(figsize=(15,6))\n",
    "\n",
    "ax.plot(num_est,avg_train_scoreNum, 'o:', label='accuracy train')\n",
    "ax.plot(num_est,avg_test_scoreNum, 'o:', label='accuracy test')\n",
    "ax.set_ylabel('accuracy')\n",
    "ax.set_xlabel('n_estimatori')\n",
    "ax.grid()\n",
    "ax.legend()"
   ]
  },
  {
   "cell_type": "markdown",
   "id": "3ae717ee",
   "metadata": {},
   "source": [
    "#### tuning max_depth (deault none)"
   ]
  },
  {
   "cell_type": "code",
   "execution_count": 102,
   "id": "b8439f4c",
   "metadata": {},
   "outputs": [],
   "source": [
    "max_depth = [1, 10, 25, 50, 100, 200]"
   ]
  },
  {
   "cell_type": "code",
   "execution_count": 103,
   "id": "430d71bf",
   "metadata": {},
   "outputs": [],
   "source": [
    "train_scoreNum, test_scoreNum = validation_curve(\n",
    "                                RandomForestClassifier(),\n",
    "                                X = X_train_r365_ov, y = y_train_r365_ov, \n",
    "                                param_name = 'max_depth', \n",
    "                                param_range = max_depth, cv = 3)"
   ]
  },
  {
   "cell_type": "code",
   "execution_count": 104,
   "id": "9d8e0caf",
   "metadata": {},
   "outputs": [
    {
     "data": {
      "text/plain": [
       "array([[0.66467855, 0.63695342, 0.64438444],\n",
       "       [0.95423984, 0.85000502, 0.85567114],\n",
       "       [0.99459413, 0.96682201, 0.9660358 ],\n",
       "       [0.99976143, 0.99850892, 0.99845469],\n",
       "       [0.99977227, 0.99850892, 0.99846283],\n",
       "       [0.99976956, 0.99850078, 0.99846012]])"
      ]
     },
     "execution_count": 104,
     "metadata": {},
     "output_type": "execute_result"
    }
   ],
   "source": [
    "train_scoreNum"
   ]
  },
  {
   "cell_type": "code",
   "execution_count": 105,
   "id": "5331fcca",
   "metadata": {},
   "outputs": [
    {
     "data": {
      "text/plain": [
       "array([[0.63523288, 0.64631918, 0.65727733],\n",
       "       [0.78005747, 0.92340684, 0.93085686],\n",
       "       [0.80084043, 0.9925066 , 0.99216501],\n",
       "       [0.8040449 , 0.99160653, 0.99172581],\n",
       "       [0.80413165, 0.99159026, 0.99187221],\n",
       "       [0.80403405, 0.99154688, 0.99172581]])"
      ]
     },
     "execution_count": 105,
     "metadata": {},
     "output_type": "execute_result"
    }
   ],
   "source": [
    "test_scoreNum"
   ]
  },
  {
   "cell_type": "code",
   "execution_count": 106,
   "id": "d810a783",
   "metadata": {},
   "outputs": [],
   "source": [
    "avg_train_scoreNum = np.average(train_scoreNum, axis=1)"
   ]
  },
  {
   "cell_type": "code",
   "execution_count": 107,
   "id": "7dde7de9",
   "metadata": {},
   "outputs": [],
   "source": [
    "avg_test_scoreNum = np.average(test_scoreNum, axis=1)"
   ]
  },
  {
   "cell_type": "code",
   "execution_count": 108,
   "id": "01d0725f",
   "metadata": {},
   "outputs": [
    {
     "data": {
      "text/plain": [
       "<matplotlib.legend.Legend at 0x1bb171dd1c0>"
      ]
     },
     "execution_count": 108,
     "metadata": {},
     "output_type": "execute_result"
    },
    {
     "data": {
      "image/png": "[encoded data removed]",
      "text/plain": [
       "<Figure size 1080x432 with 1 Axes>"
      ]
     },
     "metadata": {
      "needs_background": "light"
     },
     "output_type": "display_data"
    }
   ],
   "source": [
    "fig, ax = plt.subplots(figsize=(15,6))\n",
    "\n",
    "ax.plot(max_depth,avg_train_scoreNum, 'o:', label='accuracy train')\n",
    "ax.plot(max_depth,avg_test_scoreNum, 'o:', label='accuracy test')\n",
    "ax.set_ylabel('accuracy')\n",
    "ax.set_xlabel('max_depth')\n",
    "ax.grid()\n",
    "ax.legend()"
   ]
  },
  {
   "cell_type": "markdown",
   "id": "d5024c06",
   "metadata": {},
   "source": [
    "#### tuning min_samples_split (default = 2)"
   ]
  },
  {
   "cell_type": "code",
   "execution_count": 109,
   "id": "1967fb27",
   "metadata": {},
   "outputs": [],
   "source": [
    "min_samples_split = [1, 2, 3, 4, 5]"
   ]
  },
  {
   "cell_type": "code",
   "execution_count": 110,
   "id": "5a289934",
   "metadata": {},
   "outputs": [],
   "source": [
    "train_scoreNum, test_scoreNum = validation_curve(\n",
    "                                RandomForestClassifier(),\n",
    "                                X = X_train_r365_ov, y = y_train_r365_ov, \n",
    "                                param_name = 'min_samples_split', \n",
    "                                param_range = min_samples_split, cv = 3)"
   ]
  },
  {
   "cell_type": "code",
   "execution_count": 111,
   "id": "8217e3cc",
   "metadata": {},
   "outputs": [
    {
     "data": {
      "text/plain": [
       "array([[       nan,        nan,        nan],\n",
       "       [0.99977227, 0.99850349, 0.99846283],\n",
       "       [0.99955267, 0.99705036, 0.99696361],\n",
       "       [0.99891286, 0.99307866, 0.99281026],\n",
       "       [0.99844927, 0.98737729, 0.98729867]])"
      ]
     },
     "execution_count": 111,
     "metadata": {},
     "output_type": "execute_result"
    }
   ],
   "source": [
    "train_scoreNum"
   ]
  },
  {
   "cell_type": "code",
   "execution_count": 112,
   "id": "612a6084",
   "metadata": {},
   "outputs": [
    {
     "data": {
      "text/plain": [
       "array([[       nan,        nan,        nan],\n",
       "       [0.80415334, 0.99154146, 0.99187221],\n",
       "       [0.80374668, 0.99242527, 0.99268553],\n",
       "       [0.80325869, 0.9930217 , 0.99304882],\n",
       "       [0.80280323, 0.9932657 , 0.99328197]])"
      ]
     },
     "execution_count": 112,
     "metadata": {},
     "output_type": "execute_result"
    }
   ],
   "source": [
    "test_scoreNum"
   ]
  },
  {
   "cell_type": "code",
   "execution_count": 113,
   "id": "b3c7a2dc",
   "metadata": {},
   "outputs": [],
   "source": [
    "avg_train_scoreNum = np.average(train_scoreNum, axis=1)"
   ]
  },
  {
   "cell_type": "code",
   "execution_count": 114,
   "id": "dfd8f436",
   "metadata": {},
   "outputs": [],
   "source": [
    "avg_test_scoreNum = np.average(test_scoreNum, axis=1)"
   ]
  },
  {
   "cell_type": "code",
   "execution_count": 115,
   "id": "47987349",
   "metadata": {},
   "outputs": [
    {
     "data": {
      "text/plain": [
       "<matplotlib.legend.Legend at 0x1bb4c8e0430>"
      ]
     },
     "execution_count": 115,
     "metadata": {},
     "output_type": "execute_result"
    },
    {
     "data": {
      "image/png": "[encoded data removed]",
      "text/plain": [
       "<Figure size 1080x432 with 1 Axes>"
      ]
     },
     "metadata": {
      "needs_background": "light"
     },
     "output_type": "display_data"
    }
   ],
   "source": [
    "fig, ax = plt.subplots(figsize=(15,6))\n",
    "\n",
    "ax.plot(min_samples_split,avg_train_scoreNum, 'o:', label='accuracy train')\n",
    "ax.plot(min_samples_split,avg_test_scoreNum, 'o:', label='accuracy test')\n",
    "ax.set_ylabel('accuracy')\n",
    "ax.set_xlabel('min_samples_split')\n",
    "ax.grid()\n",
    "ax.legend()"
   ]
  },
  {
   "cell_type": "markdown",
   "id": "8db06e0d",
   "metadata": {},
   "source": [
    "#### tuning min_samples_leaf (default = 1)"
   ]
  },
  {
   "cell_type": "code",
   "execution_count": 116,
   "id": "d4e82805",
   "metadata": {},
   "outputs": [],
   "source": [
    "min_samples_leaf = [1, 2, 3, 4, 5]"
   ]
  },
  {
   "cell_type": "code",
   "execution_count": 117,
   "id": "3d6810c4",
   "metadata": {},
   "outputs": [],
   "source": [
    "train_scoreNum, test_scoreNum = validation_curve(\n",
    "                                RandomForestClassifier(),\n",
    "                                X = X_train_r365_ov, y = y_train_r365_ov, \n",
    "                                param_name = 'min_samples_leaf', \n",
    "                                param_range = min_samples_leaf, cv = 3)"
   ]
  },
  {
   "cell_type": "code",
   "execution_count": 118,
   "id": "960f1283",
   "metadata": {},
   "outputs": [
    {
     "data": {
      "text/plain": [
       "array([[0.99976685, 0.99849536, 0.99846283],\n",
       "       [0.99610148, 0.96545021, 0.96550715],\n",
       "       [0.9940736 , 0.93037448, 0.92972382],\n",
       "       [0.99288344, 0.91458525, 0.91405117],\n",
       "       [0.99224905, 0.90756359, 0.90756088]])"
      ]
     },
     "execution_count": 118,
     "metadata": {},
     "output_type": "execute_result"
    }
   ],
   "source": [
    "train_scoreNum"
   ]
  },
  {
   "cell_type": "code",
   "execution_count": 119,
   "id": "aecf1fda",
   "metadata": {},
   "outputs": [
    {
     "data": {
      "text/plain": [
       "array([[0.80393103, 0.9914276 , 0.99192101],\n",
       "       [0.80147481, 0.99310846, 0.99309761],\n",
       "       [0.80001084, 0.99246322, 0.99211079],\n",
       "       [0.79928428, 0.99189932, 0.99139506],\n",
       "       [0.79860652, 0.99144928, 0.99091791]])"
      ]
     },
     "execution_count": 119,
     "metadata": {},
     "output_type": "execute_result"
    }
   ],
   "source": [
    "test_scoreNum"
   ]
  },
  {
   "cell_type": "code",
   "execution_count": 120,
   "id": "b72d6489",
   "metadata": {},
   "outputs": [],
   "source": [
    "avg_train_scoreNum = np.average(train_scoreNum, axis=1)"
   ]
  },
  {
   "cell_type": "code",
   "execution_count": 121,
   "id": "0aab245e",
   "metadata": {},
   "outputs": [],
   "source": [
    "avg_test_scoreNum = np.average(test_scoreNum, axis=1)"
   ]
  },
  {
   "cell_type": "code",
   "execution_count": 122,
   "id": "5d3e9819",
   "metadata": {},
   "outputs": [
    {
     "data": {
      "text/plain": [
       "<matplotlib.legend.Legend at 0x1bb17803d00>"
      ]
     },
     "execution_count": 122,
     "metadata": {},
     "output_type": "execute_result"
    },
    {
     "data": {
      "image/png": "[encoded data removed]",
      "text/plain": [
       "<Figure size 1080x432 with 1 Axes>"
      ]
     },
     "metadata": {
      "needs_background": "light"
     },
     "output_type": "display_data"
    }
   ],
   "source": [
    "fig, ax = plt.subplots(figsize=(15,6))\n",
    "\n",
    "ax.plot(min_samples_leaf,avg_train_scoreNum, 'o:', label='accuracy train')\n",
    "ax.plot(min_samples_leaf,avg_test_scoreNum, 'o:', label='accuracy test')\n",
    "ax.set_ylabel('accuracy')\n",
    "ax.set_xlabel('min_samples_leaf')\n",
    "ax.grid()\n",
    "ax.legend()"
   ]
  },
  {
   "cell_type": "code",
   "execution_count": null,
   "id": "cbe1bf4d",
   "metadata": {},
   "outputs": [],
   "source": []
  },
  {
   "cell_type": "markdown",
   "id": "1a192bea",
   "metadata": {},
   "source": [
    "### Logistic Regressor"
   ]
  },
  {
   "cell_type": "markdown",
   "id": "006c7fee",
   "metadata": {},
   "source": [
    "#### tuning del tol (default = 100)"
   ]
  },
  {
   "cell_type": "code",
   "execution_count": 123,
   "id": "0f3f7392",
   "metadata": {},
   "outputs": [],
   "source": [
    "tol = [0.000001, 0.00001, 0.0001, 0.001, 0.01]"
   ]
  },
  {
   "cell_type": "code",
   "execution_count": 124,
   "id": "f0524293",
   "metadata": {},
   "outputs": [],
   "source": [
    "train_scoreNum, test_scoreNum = validation_curve(\n",
    "                                LogisticRegression(),\n",
    "                                X = X_train_r365_ov, y = y_train_r365_ov, \n",
    "                                param_name = 'tol', \n",
    "                                param_range = tol, cv = 3)"
   ]
  },
  {
   "cell_type": "code",
   "execution_count": 125,
   "id": "9abdd196",
   "metadata": {
    "scrolled": true
   },
   "outputs": [
    {
     "data": {
      "text/plain": [
       "array([[0.63330875, 0.63196506, 0.63035198],\n",
       "       [0.63330875, 0.63196506, 0.63035198],\n",
       "       [0.63330875, 0.63196506, 0.63035198],\n",
       "       [0.63330875, 0.63196506, 0.63035198],\n",
       "       [0.63330875, 0.63196506, 0.63035198]])"
      ]
     },
     "execution_count": 125,
     "metadata": {},
     "output_type": "execute_result"
    }
   ],
   "source": [
    "train_scoreNum"
   ]
  },
  {
   "cell_type": "code",
   "execution_count": 126,
   "id": "fee3826e",
   "metadata": {},
   "outputs": [
    {
     "data": {
      "text/plain": [
       "array([[0.628298  , 0.63099621, 0.63456398],\n",
       "       [0.628298  , 0.63099621, 0.63456398],\n",
       "       [0.628298  , 0.63099621, 0.63456398],\n",
       "       [0.628298  , 0.63099621, 0.63456398],\n",
       "       [0.628298  , 0.63099621, 0.63456398]])"
      ]
     },
     "execution_count": 126,
     "metadata": {},
     "output_type": "execute_result"
    }
   ],
   "source": [
    "test_scoreNum"
   ]
  },
  {
   "cell_type": "code",
   "execution_count": 127,
   "id": "7b5ea906",
   "metadata": {},
   "outputs": [],
   "source": [
    "avg_train_scoreNum = np.average(train_scoreNum, axis=1)"
   ]
  },
  {
   "cell_type": "code",
   "execution_count": 128,
   "id": "8ce68121",
   "metadata": {},
   "outputs": [],
   "source": [
    "avg_test_scoreNum = np.average(test_scoreNum, axis=1)"
   ]
  },
  {
   "cell_type": "code",
   "execution_count": 129,
   "id": "3494bbd7",
   "metadata": {},
   "outputs": [
    {
     "data": {
      "text/plain": [
       "<matplotlib.legend.Legend at 0x1bb1787c820>"
      ]
     },
     "execution_count": 129,
     "metadata": {},
     "output_type": "execute_result"
    },
    {
     "data": {
      "image/png": "[encoded data removed]",
      "text/plain": [
       "<Figure size 1080x432 with 1 Axes>"
      ]
     },
     "metadata": {
      "needs_background": "light"
     },
     "output_type": "display_data"
    }
   ],
   "source": [
    "fig, ax = plt.subplots(figsize=(15,6))\n",
    "\n",
    "ax.plot(tol,avg_train_scoreNum, 'o:', label='accuracy train')\n",
    "ax.plot(tol,avg_test_scoreNum, 'o:', label='accuracy test')\n",
    "ax.set_ylabel('accuracy')\n",
    "ax.set_xlabel('tolleranza')\n",
    "ax.grid()\n",
    "ax.legend()"
   ]
  },
  {
   "cell_type": "code",
   "execution_count": null,
   "id": "50f0da7e",
   "metadata": {},
   "outputs": [],
   "source": []
  },
  {
   "cell_type": "markdown",
   "id": "365af16c",
   "metadata": {},
   "source": [
    "### Logistic Regressor"
   ]
  },
  {
   "cell_type": "markdown",
   "id": "b14939f2",
   "metadata": {},
   "source": [
    "#### tuning del C (default = 100)"
   ]
  },
  {
   "cell_type": "code",
   "execution_count": 130,
   "id": "8468b001",
   "metadata": {},
   "outputs": [],
   "source": [
    "C = [0.8, 0.9, 1.0, 1.1, 1.2, 1.5, 2.0]"
   ]
  },
  {
   "cell_type": "code",
   "execution_count": 131,
   "id": "d33e1412",
   "metadata": {},
   "outputs": [],
   "source": [
    "train_scoreNum, test_scoreNum = validation_curve(\n",
    "                                LogisticRegression(),\n",
    "                                X = X_train_r365_ov, y = y_train_r365_ov, \n",
    "                                param_name = 'C', \n",
    "                                param_range = C, cv = 3)"
   ]
  },
  {
   "cell_type": "code",
   "execution_count": 132,
   "id": "5d27facf",
   "metadata": {
    "scrolled": true
   },
   "outputs": [
    {
     "data": {
      "text/plain": [
       "array([[0.63330333, 0.63200573, 0.63030318],\n",
       "       [0.63330062, 0.63201386, 0.63035469],\n",
       "       [0.63330875, 0.63196506, 0.63035198],\n",
       "       [0.63330062, 0.63203013, 0.6302842 ],\n",
       "       [0.63326809, 0.63202741, 0.63026251],\n",
       "       [0.63334129, 0.63201386, 0.63028149],\n",
       "       [0.63328164, 0.63199759, 0.63030047]])"
      ]
     },
     "execution_count": 132,
     "metadata": {},
     "output_type": "execute_result"
    }
   ],
   "source": [
    "train_scoreNum"
   ]
  },
  {
   "cell_type": "code",
   "execution_count": 133,
   "id": "b3a2c97d",
   "metadata": {},
   "outputs": [
    {
     "data": {
      "text/plain": [
       "array([[0.62825462, 0.63088777, 0.63448265],\n",
       "       [0.628298  , 0.63102332, 0.63460193],\n",
       "       [0.628298  , 0.63099621, 0.63456398],\n",
       "       [0.62827631, 0.63095283, 0.63460736],\n",
       "       [0.62831969, 0.63104501, 0.63454771],\n",
       "       [0.62833595, 0.63107212, 0.6345694 ],\n",
       "       [0.62832511, 0.63107754, 0.63454229]])"
      ]
     },
     "execution_count": 133,
     "metadata": {},
     "output_type": "execute_result"
    }
   ],
   "source": [
    "test_scoreNum"
   ]
  },
  {
   "cell_type": "code",
   "execution_count": 134,
   "id": "c8c5c0dd",
   "metadata": {},
   "outputs": [],
   "source": [
    "avg_train_scoreNum = np.average(train_scoreNum, axis=1)"
   ]
  },
  {
   "cell_type": "code",
   "execution_count": 135,
   "id": "e0ab66c8",
   "metadata": {},
   "outputs": [],
   "source": [
    "avg_test_scoreNum = np.average(test_scoreNum, axis=1)"
   ]
  },
  {
   "cell_type": "code",
   "execution_count": 136,
   "id": "06fa88a3",
   "metadata": {},
   "outputs": [
    {
     "data": {
      "text/plain": [
       "<matplotlib.legend.Legend at 0x1bb17cf1910>"
      ]
     },
     "execution_count": 136,
     "metadata": {},
     "output_type": "execute_result"
    },
    {
     "data": {
      "image/png": "[encoded data removed]",
      "text/plain": [
       "<Figure size 1080x432 with 1 Axes>"
      ]
     },
     "metadata": {
      "needs_background": "light"
     },
     "output_type": "display_data"
    }
   ],
   "source": [
    "fig, ax = plt.subplots(figsize=(15,6))\n",
    "\n",
    "ax.plot(C,avg_train_scoreNum, 'o:', label='accuracy train')\n",
    "ax.plot(C,avg_test_scoreNum, 'o:', label='accuracy test')\n",
    "ax.set_ylabel('accuracy')\n",
    "ax.set_xlabel('C')\n",
    "ax.grid()\n",
    "ax.legend()"
   ]
  },
  {
   "cell_type": "code",
   "execution_count": null,
   "id": "684600b2",
   "metadata": {},
   "outputs": [],
   "source": []
  },
  {
   "cell_type": "markdown",
   "id": "7bcbc6a9",
   "metadata": {},
   "source": [
    "# Predizioni finali sul test ( modello scelto logistic regressor)\n",
    "applico il modello scelto al test set"
   ]
  },
  {
   "cell_type": "code",
   "execution_count": 137,
   "id": "c24bcf7d",
   "metadata": {},
   "outputs": [
    {
     "data": {
      "text/html": [
       "<div>\n",
       "<style scoped>\n",
       "    .dataframe tbody tr th:only-of-type {\n",
       "        vertical-align: middle;\n",
       "    }\n",
       "\n",
       "    .dataframe tbody tr th {\n",
       "        vertical-align: top;\n",
       "    }\n",
       "\n",
       "    .dataframe thead th {\n",
       "        text-align: right;\n",
       "    }\n",
       "</style>\n",
       "<table border=\"1\" class=\"dataframe\">\n",
       "  <thead>\n",
       "    <tr style=\"text-align: right;\">\n",
       "      <th></th>\n",
       "      <th>gender</th>\n",
       "      <th>age</th>\n",
       "      <th>icd_D_blood</th>\n",
       "      <th>icd_D_health_status</th>\n",
       "      <th>icd_D_pregnancy</th>\n",
       "      <th>icd_D_abnormal</th>\n",
       "      <th>icd_D_chromosomal</th>\n",
       "      <th>icd_D_infectious_parasitic</th>\n",
       "      <th>icd_D_musculoskeletal</th>\n",
       "      <th>icd_D_nervous_system</th>\n",
       "      <th>...</th>\n",
       "      <th>ethn__BLACK/AFRICAN AMERICAN</th>\n",
       "      <th>ethn__HISPANIC/LATINO</th>\n",
       "      <th>ethn__OTHER</th>\n",
       "      <th>ethn__UNKNOWN</th>\n",
       "      <th>ethn__WHITE</th>\n",
       "      <th>ins__Medicare</th>\n",
       "      <th>ins__Other</th>\n",
       "      <th>maritalS__MARRIED</th>\n",
       "      <th>maritalS__SINGLE</th>\n",
       "      <th>maritalS__WIDOWED</th>\n",
       "    </tr>\n",
       "  </thead>\n",
       "  <tbody>\n",
       "    <tr>\n",
       "      <th>465869</th>\n",
       "      <td>0</td>\n",
       "      <td>46</td>\n",
       "      <td>0.0</td>\n",
       "      <td>2.0</td>\n",
       "      <td>0.0</td>\n",
       "      <td>1.0</td>\n",
       "      <td>0.0</td>\n",
       "      <td>0.0</td>\n",
       "      <td>0.0</td>\n",
       "      <td>0.0</td>\n",
       "      <td>...</td>\n",
       "      <td>0</td>\n",
       "      <td>0</td>\n",
       "      <td>0</td>\n",
       "      <td>0</td>\n",
       "      <td>1</td>\n",
       "      <td>0</td>\n",
       "      <td>1</td>\n",
       "      <td>0</td>\n",
       "      <td>1</td>\n",
       "      <td>0</td>\n",
       "    </tr>\n",
       "    <tr>\n",
       "      <th>416293</th>\n",
       "      <td>0</td>\n",
       "      <td>48</td>\n",
       "      <td>1.0</td>\n",
       "      <td>1.0</td>\n",
       "      <td>0.0</td>\n",
       "      <td>2.0</td>\n",
       "      <td>0.0</td>\n",
       "      <td>0.0</td>\n",
       "      <td>0.0</td>\n",
       "      <td>0.0</td>\n",
       "      <td>...</td>\n",
       "      <td>1</td>\n",
       "      <td>0</td>\n",
       "      <td>0</td>\n",
       "      <td>0</td>\n",
       "      <td>0</td>\n",
       "      <td>0</td>\n",
       "      <td>1</td>\n",
       "      <td>0</td>\n",
       "      <td>0</td>\n",
       "      <td>0</td>\n",
       "    </tr>\n",
       "    <tr>\n",
       "      <th>98968</th>\n",
       "      <td>0</td>\n",
       "      <td>60</td>\n",
       "      <td>0.0</td>\n",
       "      <td>1.0</td>\n",
       "      <td>0.0</td>\n",
       "      <td>0.0</td>\n",
       "      <td>0.0</td>\n",
       "      <td>0.0</td>\n",
       "      <td>1.0</td>\n",
       "      <td>0.0</td>\n",
       "      <td>...</td>\n",
       "      <td>0</td>\n",
       "      <td>0</td>\n",
       "      <td>0</td>\n",
       "      <td>0</td>\n",
       "      <td>0</td>\n",
       "      <td>0</td>\n",
       "      <td>1</td>\n",
       "      <td>1</td>\n",
       "      <td>0</td>\n",
       "      <td>0</td>\n",
       "    </tr>\n",
       "    <tr>\n",
       "      <th>254219</th>\n",
       "      <td>0</td>\n",
       "      <td>0</td>\n",
       "      <td>0.0</td>\n",
       "      <td>2.0</td>\n",
       "      <td>0.0</td>\n",
       "      <td>0.0</td>\n",
       "      <td>0.0</td>\n",
       "      <td>0.0</td>\n",
       "      <td>0.0</td>\n",
       "      <td>0.0</td>\n",
       "      <td>...</td>\n",
       "      <td>0</td>\n",
       "      <td>0</td>\n",
       "      <td>0</td>\n",
       "      <td>0</td>\n",
       "      <td>1</td>\n",
       "      <td>0</td>\n",
       "      <td>1</td>\n",
       "      <td>0</td>\n",
       "      <td>1</td>\n",
       "      <td>0</td>\n",
       "    </tr>\n",
       "    <tr>\n",
       "      <th>4251</th>\n",
       "      <td>0</td>\n",
       "      <td>43</td>\n",
       "      <td>0.0</td>\n",
       "      <td>1.0</td>\n",
       "      <td>0.0</td>\n",
       "      <td>1.0</td>\n",
       "      <td>0.0</td>\n",
       "      <td>0.0</td>\n",
       "      <td>0.0</td>\n",
       "      <td>0.0</td>\n",
       "      <td>...</td>\n",
       "      <td>0</td>\n",
       "      <td>0</td>\n",
       "      <td>0</td>\n",
       "      <td>0</td>\n",
       "      <td>1</td>\n",
       "      <td>0</td>\n",
       "      <td>1</td>\n",
       "      <td>1</td>\n",
       "      <td>0</td>\n",
       "      <td>0</td>\n",
       "    </tr>\n",
       "    <tr>\n",
       "      <th>...</th>\n",
       "      <td>...</td>\n",
       "      <td>...</td>\n",
       "      <td>...</td>\n",
       "      <td>...</td>\n",
       "      <td>...</td>\n",
       "      <td>...</td>\n",
       "      <td>...</td>\n",
       "      <td>...</td>\n",
       "      <td>...</td>\n",
       "      <td>...</td>\n",
       "      <td>...</td>\n",
       "      <td>...</td>\n",
       "      <td>...</td>\n",
       "      <td>...</td>\n",
       "      <td>...</td>\n",
       "      <td>...</td>\n",
       "      <td>...</td>\n",
       "      <td>...</td>\n",
       "      <td>...</td>\n",
       "      <td>...</td>\n",
       "      <td>...</td>\n",
       "    </tr>\n",
       "    <tr>\n",
       "      <th>259178</th>\n",
       "      <td>1</td>\n",
       "      <td>84</td>\n",
       "      <td>0.0</td>\n",
       "      <td>0.0</td>\n",
       "      <td>0.0</td>\n",
       "      <td>1.0</td>\n",
       "      <td>0.0</td>\n",
       "      <td>0.0</td>\n",
       "      <td>0.0</td>\n",
       "      <td>0.0</td>\n",
       "      <td>...</td>\n",
       "      <td>1</td>\n",
       "      <td>0</td>\n",
       "      <td>0</td>\n",
       "      <td>0</td>\n",
       "      <td>0</td>\n",
       "      <td>0</td>\n",
       "      <td>1</td>\n",
       "      <td>0</td>\n",
       "      <td>1</td>\n",
       "      <td>0</td>\n",
       "    </tr>\n",
       "    <tr>\n",
       "      <th>365838</th>\n",
       "      <td>1</td>\n",
       "      <td>59</td>\n",
       "      <td>0.0</td>\n",
       "      <td>0.0</td>\n",
       "      <td>0.0</td>\n",
       "      <td>1.0</td>\n",
       "      <td>0.0</td>\n",
       "      <td>0.0</td>\n",
       "      <td>0.0</td>\n",
       "      <td>0.0</td>\n",
       "      <td>...</td>\n",
       "      <td>0</td>\n",
       "      <td>0</td>\n",
       "      <td>0</td>\n",
       "      <td>0</td>\n",
       "      <td>1</td>\n",
       "      <td>1</td>\n",
       "      <td>0</td>\n",
       "      <td>0</td>\n",
       "      <td>0</td>\n",
       "      <td>0</td>\n",
       "    </tr>\n",
       "    <tr>\n",
       "      <th>131932</th>\n",
       "      <td>1</td>\n",
       "      <td>57</td>\n",
       "      <td>0.0</td>\n",
       "      <td>4.0</td>\n",
       "      <td>0.0</td>\n",
       "      <td>4.0</td>\n",
       "      <td>0.0</td>\n",
       "      <td>0.0</td>\n",
       "      <td>0.0</td>\n",
       "      <td>0.0</td>\n",
       "      <td>...</td>\n",
       "      <td>0</td>\n",
       "      <td>0</td>\n",
       "      <td>0</td>\n",
       "      <td>0</td>\n",
       "      <td>1</td>\n",
       "      <td>1</td>\n",
       "      <td>0</td>\n",
       "      <td>0</td>\n",
       "      <td>1</td>\n",
       "      <td>0</td>\n",
       "    </tr>\n",
       "    <tr>\n",
       "      <th>146867</th>\n",
       "      <td>1</td>\n",
       "      <td>33</td>\n",
       "      <td>0.0</td>\n",
       "      <td>2.0</td>\n",
       "      <td>0.0</td>\n",
       "      <td>0.0</td>\n",
       "      <td>0.0</td>\n",
       "      <td>0.0</td>\n",
       "      <td>0.0</td>\n",
       "      <td>0.0</td>\n",
       "      <td>...</td>\n",
       "      <td>0</td>\n",
       "      <td>0</td>\n",
       "      <td>0</td>\n",
       "      <td>0</td>\n",
       "      <td>1</td>\n",
       "      <td>0</td>\n",
       "      <td>1</td>\n",
       "      <td>0</td>\n",
       "      <td>1</td>\n",
       "      <td>0</td>\n",
       "    </tr>\n",
       "    <tr>\n",
       "      <th>121958</th>\n",
       "      <td>1</td>\n",
       "      <td>82</td>\n",
       "      <td>3.0</td>\n",
       "      <td>7.0</td>\n",
       "      <td>0.0</td>\n",
       "      <td>1.0</td>\n",
       "      <td>0.0</td>\n",
       "      <td>1.0</td>\n",
       "      <td>3.0</td>\n",
       "      <td>0.0</td>\n",
       "      <td>...</td>\n",
       "      <td>0</td>\n",
       "      <td>0</td>\n",
       "      <td>0</td>\n",
       "      <td>0</td>\n",
       "      <td>1</td>\n",
       "      <td>1</td>\n",
       "      <td>0</td>\n",
       "      <td>0</td>\n",
       "      <td>0</td>\n",
       "      <td>1</td>\n",
       "    </tr>\n",
       "  </tbody>\n",
       "</table>\n",
       "<p>156333 rows × 69 columns</p>\n",
       "</div>"
      ],
      "text/plain": [
       "        gender  age  icd_D_blood  icd_D_health_status  icd_D_pregnancy  \\\n",
       "465869       0   46          0.0                  2.0              0.0   \n",
       "416293       0   48          1.0                  1.0              0.0   \n",
       "98968        0   60          0.0                  1.0              0.0   \n",
       "254219       0    0          0.0                  2.0              0.0   \n",
       "4251         0   43          0.0                  1.0              0.0   \n",
       "...        ...  ...          ...                  ...              ...   \n",
       "259178       1   84          0.0                  0.0              0.0   \n",
       "365838       1   59          0.0                  0.0              0.0   \n",
       "131932       1   57          0.0                  4.0              0.0   \n",
       "146867       1   33          0.0                  2.0              0.0   \n",
       "121958       1   82          3.0                  7.0              0.0   \n",
       "\n",
       "        icd_D_abnormal  icd_D_chromosomal  icd_D_infectious_parasitic  \\\n",
       "465869             1.0                0.0                         0.0   \n",
       "416293             2.0                0.0                         0.0   \n",
       "98968              0.0                0.0                         0.0   \n",
       "254219             0.0                0.0                         0.0   \n",
       "4251               1.0                0.0                         0.0   \n",
       "...                ...                ...                         ...   \n",
       "259178             1.0                0.0                         0.0   \n",
       "365838             1.0                0.0                         0.0   \n",
       "131932             4.0                0.0                         0.0   \n",
       "146867             0.0                0.0                         0.0   \n",
       "121958             1.0                0.0                         1.0   \n",
       "\n",
       "        icd_D_musculoskeletal  icd_D_nervous_system  ...  \\\n",
       "465869                    0.0                   0.0  ...   \n",
       "416293                    0.0                   0.0  ...   \n",
       "98968                     1.0                   0.0  ...   \n",
       "254219                    0.0                   0.0  ...   \n",
       "4251                      0.0                   0.0  ...   \n",
       "...                       ...                   ...  ...   \n",
       "259178                    0.0                   0.0  ...   \n",
       "365838                    0.0                   0.0  ...   \n",
       "131932                    0.0                   0.0  ...   \n",
       "146867                    0.0                   0.0  ...   \n",
       "121958                    3.0                   0.0  ...   \n",
       "\n",
       "        ethn__BLACK/AFRICAN AMERICAN  ethn__HISPANIC/LATINO  ethn__OTHER  \\\n",
       "465869                             0                      0            0   \n",
       "416293                             1                      0            0   \n",
       "98968                              0                      0            0   \n",
       "254219                             0                      0            0   \n",
       "4251                               0                      0            0   \n",
       "...                              ...                    ...          ...   \n",
       "259178                             1                      0            0   \n",
       "365838                             0                      0            0   \n",
       "131932                             0                      0            0   \n",
       "146867                             0                      0            0   \n",
       "121958                             0                      0            0   \n",
       "\n",
       "        ethn__UNKNOWN  ethn__WHITE  ins__Medicare  ins__Other  \\\n",
       "465869              0            1              0           1   \n",
       "416293              0            0              0           1   \n",
       "98968               0            0              0           1   \n",
       "254219              0            1              0           1   \n",
       "4251                0            1              0           1   \n",
       "...               ...          ...            ...         ...   \n",
       "259178              0            0              0           1   \n",
       "365838              0            1              1           0   \n",
       "131932              0            1              1           0   \n",
       "146867              0            1              0           1   \n",
       "121958              0            1              1           0   \n",
       "\n",
       "        maritalS__MARRIED  maritalS__SINGLE  maritalS__WIDOWED  \n",
       "465869                  0                 1                  0  \n",
       "416293                  0                 0                  0  \n",
       "98968                   1                 0                  0  \n",
       "254219                  0                 1                  0  \n",
       "4251                    1                 0                  0  \n",
       "...                   ...               ...                ...  \n",
       "259178                  0                 1                  0  \n",
       "365838                  0                 0                  0  \n",
       "131932                  0                 1                  0  \n",
       "146867                  0                 1                  0  \n",
       "121958                  0                 0                  1  \n",
       "\n",
       "[156333 rows x 69 columns]"
      ]
     },
     "execution_count": 137,
     "metadata": {},
     "output_type": "execute_result"
    }
   ],
   "source": [
    "X_test_r365  # il test set mai visto dal modello, che bisogna però scalare"
   ]
  },
  {
   "cell_type": "code",
   "execution_count": 138,
   "id": "bd762d3e",
   "metadata": {},
   "outputs": [
    {
     "data": {
      "text/plain": [
       "465869    0\n",
       "416293    0\n",
       "98968     0\n",
       "254219    0\n",
       "4251      0\n",
       "         ..\n",
       "259178    0\n",
       "365838    0\n",
       "131932    1\n",
       "146867    0\n",
       "121958    0\n",
       "Name: riad 365d, Length: 156333, dtype: int64"
      ]
     },
     "execution_count": 138,
     "metadata": {},
     "output_type": "execute_result"
    }
   ],
   "source": [
    "y_test_r365  # questi sono i dati su cui verrà calcolato l'accuracy score finale"
   ]
  },
  {
   "cell_type": "code",
   "execution_count": 139,
   "id": "e5221cc6",
   "metadata": {},
   "outputs": [
    {
     "data": {
      "text/plain": [
       "array([[-0.96512577, -0.22152246, -0.51700569, ..., -0.87579316,\n",
       "         1.20438887, -0.32124958],\n",
       "       [-0.96512577, -0.1450444 ,  0.96630854, ..., -0.87579316,\n",
       "        -0.83029661, -0.32124958],\n",
       "       [-0.96512577,  0.31382392, -0.51700569, ...,  1.14182211,\n",
       "        -0.83029661, -0.32124958],\n",
       "       ...,\n",
       "       [ 1.03613439,  0.19910684, -0.51700569, ..., -0.87579316,\n",
       "         1.20438887, -0.32124958],\n",
       "       [ 1.03613439, -0.71862981, -0.51700569, ..., -0.87579316,\n",
       "         1.20438887, -0.32124958],\n",
       "       [ 1.03613439,  1.15508251,  3.93293702, ..., -0.87579316,\n",
       "        -0.83029661,  3.11284458]])"
      ]
     },
     "execution_count": 139,
     "metadata": {},
     "output_type": "execute_result"
    }
   ],
   "source": [
    "X_test_r365_scaled = scaler.transform(X_test_r365)  # fitting and transforming training set\n",
    "X_test_r365_scaled"
   ]
  },
  {
   "cell_type": "code",
   "execution_count": 140,
   "id": "14e1dd1a",
   "metadata": {},
   "outputs": [
    {
     "data": {
      "text/plain": [
       "LogisticRegression(random_state=42)"
      ]
     },
     "execution_count": 140,
     "metadata": {},
     "output_type": "execute_result"
    }
   ],
   "source": [
    "lr = LogisticRegression(random_state=42)\n",
    "lr.fit(X_train_r365_ov, y_train_r365_ov)"
   ]
  },
  {
   "cell_type": "code",
   "execution_count": 141,
   "id": "e940e159",
   "metadata": {},
   "outputs": [
    {
     "data": {
      "text/plain": [
       "array([1, 1, 0, ..., 1, 0, 1], dtype=int64)"
      ]
     },
     "execution_count": 141,
     "metadata": {},
     "output_type": "execute_result"
    }
   ],
   "source": [
    "final_pred_lr = lr.predict(X_test_r365_scaled)\n",
    "final_pred_lr"
   ]
  },
  {
   "cell_type": "code",
   "execution_count": 142,
   "id": "6f33304e",
   "metadata": {},
   "outputs": [
    {
     "data": {
      "text/plain": [
       "0.5200309595542848"
      ]
     },
     "execution_count": 142,
     "metadata": {},
     "output_type": "execute_result"
    }
   ],
   "source": [
    "acc_lr = accuracy_score(y_test_r365, final_pred_lr)\n",
    "acc_lr"
   ]
  },
  {
   "cell_type": "code",
   "execution_count": 143,
   "id": "1e812120",
   "metadata": {},
   "outputs": [],
   "source": [
    "cm_lr_final = confusion_matrix(y_test_r365, final_pred_lr)\n",
    "ps_lr_final = precision_score(y_test_r365, final_pred_lr)\n",
    "rs_lr_final = recall_score(y_test_r365, final_pred_lr)\n",
    "f1_lr_final = f1_score(y_test_r365, final_pred_lr)"
   ]
  },
  {
   "cell_type": "code",
   "execution_count": 144,
   "id": "641a60b4",
   "metadata": {},
   "outputs": [],
   "source": [
    "perf_lr_final = {\n",
    "                   'Metric': ['precision','recall','f1'],\n",
    "                   'final': [ps_lr_final, rs_lr_final, f1_lr_final]\n",
    "                 }"
   ]
  },
  {
   "cell_type": "code",
   "execution_count": 145,
   "id": "4ef9b393",
   "metadata": {},
   "outputs": [
    {
     "data": {
      "text/html": [
       "<style  type=\"text/css\" >\n",
       "</style><table id=\"T_d21e1_\" style='display:inline'><caption>LOGISTIC REGRESSOR FINAL PERFORMANCES</caption><thead>    <tr>        <th class=\"blank level0\" ></th>        <th class=\"col_heading level0 col0\" >Metric</th>        <th class=\"col_heading level0 col1\" >final</th>    </tr></thead><tbody>\n",
       "                <tr>\n",
       "                        <th id=\"T_d21e1_level0_row0\" class=\"row_heading level0 row0\" >0</th>\n",
       "                        <td id=\"T_d21e1_row0_col0\" class=\"data row0 col0\" >precision</td>\n",
       "                        <td id=\"T_d21e1_row0_col1\" class=\"data row0 col1\" >0.157982</td>\n",
       "            </tr>\n",
       "            <tr>\n",
       "                        <th id=\"T_d21e1_level0_row1\" class=\"row_heading level0 row1\" >1</th>\n",
       "                        <td id=\"T_d21e1_row1_col0\" class=\"data row1 col0\" >recall</td>\n",
       "                        <td id=\"T_d21e1_row1_col1\" class=\"data row1 col1\" >0.738919</td>\n",
       "            </tr>\n",
       "            <tr>\n",
       "                        <th id=\"T_d21e1_level0_row2\" class=\"row_heading level0 row2\" >2</th>\n",
       "                        <td id=\"T_d21e1_row2_col0\" class=\"data row2 col0\" >f1</td>\n",
       "                        <td id=\"T_d21e1_row2_col1\" class=\"data row2 col1\" >0.260309</td>\n",
       "            </tr>\n",
       "    </tbody></table>"
      ],
      "text/plain": [
       "<pandas.io.formats.style.Styler at 0x1bb1933e310>"
      ]
     },
     "execution_count": 145,
     "metadata": {},
     "output_type": "execute_result"
    }
   ],
   "source": [
    "table_lr_final = pd.DataFrame(perf_lr_final, columns = ['Metric', 'final'])\n",
    "table_lr_final.style.set_table_attributes(\"style='display:inline'\").set_caption('LOGISTIC REGRESSOR FINAL PERFORMANCES')"
   ]
  },
  {
   "cell_type": "code",
   "execution_count": 146,
   "id": "7b1986bf",
   "metadata": {},
   "outputs": [
    {
     "name": "stdout",
     "output_type": "stream",
     "text": [
      "13203 veri positivi\n",
      "68095 veri negativi\n",
      "70370 falsi positivi\n",
      "4665 falsi negativi\n"
     ]
    }
   ],
   "source": [
    "print(\"{} veri positivi\".format(cm_lr_final[1,1]))\n",
    "print(\"{} veri negativi\".format(cm_lr_final[0,0]))\n",
    "print(\"{} falsi positivi\".format(cm_lr_final[0,1]))\n",
    "print(\"{} falsi negativi\".format(cm_lr_final[1,0]))"
   ]
  },
  {
   "cell_type": "markdown",
   "id": "23863ec9",
   "metadata": {},
   "source": [
    "ancora una volta tra i vari modelli il logistic regressor tende a massimizzare la recall anche se in questo caso è più difficile definire se è preferibile massimizzare la recall e accontentarci su precision e accuracy "
   ]
  }
 ],
 "metadata": {
  "kernelspec": {
   "display_name": "Python 3",
   "language": "python",
   "name": "python3"
  },
  "language_info": {
   "codemirror_mode": {
    "name": "ipython",
    "version": 3
   },
   "file_extension": ".py",
   "mimetype": "text/x-python",
   "name": "python",
   "nbconvert_exporter": "python",
   "pygments_lexer": "ipython3",
   "version": "3.8.8"
  }
 },
 "nbformat": 4,
 "nbformat_minor": 5
}
